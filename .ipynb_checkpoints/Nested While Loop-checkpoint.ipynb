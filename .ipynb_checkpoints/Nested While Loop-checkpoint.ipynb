{
 "cells": [
  {
   "cell_type": "markdown",
   "id": "658248c1",
   "metadata": {},
   "source": [
    "# Nested While Loop"
   ]
  },
  {
   "cell_type": "code",
   "execution_count": 4,
   "id": "8683aca9",
   "metadata": {},
   "outputs": [],
   "source": [
    "# SYNTAX:\n",
    "\n",
    "#while expression:\n",
    "#    while expression:\n",
    "#        statement(s)\n",
    "#statement(s)        \n",
    "# first outer loop will execute once then go inside inner loop check all conditions, when false exit inner loop go back to\n",
    "# outer loop check again enter inner loop............ untill the false condition arises for outer loop."
   ]
  },
  {
   "cell_type": "code",
   "execution_count": 1,
   "id": "c6ac2646",
   "metadata": {},
   "outputs": [
    {
     "name": "stdout",
     "output_type": "stream",
     "text": [
      "Hello\n",
      "Priyanka\n",
      "Priyanka\n",
      "Priyanka\n",
      "Hello\n",
      "Priyanka\n",
      "Priyanka\n",
      "Priyanka\n",
      "Hello\n",
      "Priyanka\n",
      "Priyanka\n",
      "Priyanka\n"
     ]
    }
   ],
   "source": [
    "i=1\n",
    "while i<=3:\n",
    "    print('Hello')\n",
    "    j=1\n",
    "    while j<=3:\n",
    "        print(\"Priyanka\")\n",
    "        j=j+1\n",
    "    i=i+1   "
   ]
  },
  {
   "cell_type": "code",
   "execution_count": 2,
   "id": "05ba46b0",
   "metadata": {},
   "outputs": [
    {
     "name": "stdout",
     "output_type": "stream",
     "text": [
      "i is  1\n",
      "j is  1\n",
      "j is  2\n",
      "j is  3\n",
      "i is  2\n",
      "j is  1\n",
      "j is  2\n",
      "j is  3\n",
      "i is  3\n",
      "j is  1\n",
      "j is  2\n",
      "j is  3\n"
     ]
    }
   ],
   "source": [
    "i=1\n",
    "while i<=3:\n",
    "    print(\"i is \",i)\n",
    "    j=1\n",
    "    while j<=3:\n",
    "        print(\"j is \",j)\n",
    "        j=j+1\n",
    "    i=i+1    "
   ]
  },
  {
   "cell_type": "code",
   "execution_count": 3,
   "id": "25c8e5fc",
   "metadata": {},
   "outputs": [
    {
     "name": "stdout",
     "output_type": "stream",
     "text": [
      "i is    1\n",
      "j is  1\n",
      "j is  2\n",
      "j is  3\n",
      "i is    2\n",
      "j is  1\n",
      "j is  2\n",
      "j is  3\n",
      "i is    3\n",
      "j is  1\n",
      "j is  2\n",
      "j is  3\n"
     ]
    }
   ],
   "source": [
    "i=1\n",
    "while i<=3:\n",
    "    print(\"i is   \",i)\n",
    "    j=1\n",
    "    while j<=3:\n",
    "        print(\"j is \",j)\n",
    "        j=j+1\n",
    "    i=i+1    "
   ]
  },
  {
   "cell_type": "code",
   "execution_count": 6,
   "id": "72d97f6b",
   "metadata": {},
   "outputs": [
    {
     "name": "stdout",
     "output_type": "stream",
     "text": [
      "i is     1\n",
      "j is  1\n",
      "j is  2\n",
      "j is  3\n",
      "i is     2\n",
      "j is  1\n",
      "j is  2\n",
      "j is  3\n",
      "i is     3\n",
      "j is  1\n",
      "j is  2\n",
      "j is  3\n",
      "i is     4\n",
      "j is  1\n",
      "j is  2\n",
      "j is  3\n",
      "i is     5\n",
      "j is  1\n",
      "j is  2\n",
      "j is  3\n"
     ]
    }
   ],
   "source": [
    "i=1\n",
    "while i<=5:\n",
    "    print(\"i is    \",i)\n",
    "    j=1\n",
    "    while j<=3:\n",
    "        print(\"j is \",j)\n",
    "        j=j+1\n",
    "    i=i+1    "
   ]
  },
  {
   "cell_type": "code",
   "execution_count": 8,
   "id": "a54aec50",
   "metadata": {},
   "outputs": [
    {
     "name": "stdout",
     "output_type": "stream",
     "text": [
      "i is     1\n",
      "j is  1\n",
      "j is  2\n",
      "j is  3\n",
      "j is  4\n",
      "j is  5\n",
      "i is     2\n",
      "j is  1\n",
      "j is  2\n",
      "j is  3\n",
      "j is  4\n",
      "j is  5\n",
      "i is     3\n",
      "j is  1\n",
      "j is  2\n",
      "j is  3\n",
      "j is  4\n",
      "j is  5\n",
      "i is     4\n",
      "j is  1\n",
      "j is  2\n",
      "j is  3\n",
      "j is  4\n",
      "j is  5\n",
      "i is     5\n",
      "j is  1\n",
      "j is  2\n",
      "j is  3\n",
      "j is  4\n",
      "j is  5\n"
     ]
    }
   ],
   "source": [
    "i=1\n",
    "while i<=5:\n",
    "    print(\"i is    \",i)            # outer loop executes 5 times and inner loop 50 times\n",
    "    \n",
    "    j=1\n",
    "    while j<=5:\n",
    "        print(\"j is \",j)\n",
    "        j=j+1\n",
    "    i=i+1    "
   ]
  },
  {
   "cell_type": "code",
   "execution_count": 9,
   "id": "8cd4e3b9",
   "metadata": {},
   "outputs": [
    {
     "name": "stdout",
     "output_type": "stream",
     "text": [
      "i is     1\n",
      "j is  1\n",
      "j is  2\n",
      "j is  3\n",
      "j is  4\n",
      "j is  5\n",
      "j is  6\n",
      "j is  7\n",
      "j is  8\n",
      "j is  9\n",
      "j is  10\n",
      "i is     2\n",
      "j is  1\n",
      "j is  2\n",
      "j is  3\n",
      "j is  4\n",
      "j is  5\n",
      "j is  6\n",
      "j is  7\n",
      "j is  8\n",
      "j is  9\n",
      "j is  10\n",
      "i is     3\n",
      "j is  1\n",
      "j is  2\n",
      "j is  3\n",
      "j is  4\n",
      "j is  5\n",
      "j is  6\n",
      "j is  7\n",
      "j is  8\n",
      "j is  9\n",
      "j is  10\n",
      "i is     4\n",
      "j is  1\n",
      "j is  2\n",
      "j is  3\n",
      "j is  4\n",
      "j is  5\n",
      "j is  6\n",
      "j is  7\n",
      "j is  8\n",
      "j is  9\n",
      "j is  10\n",
      "i is     5\n",
      "j is  1\n",
      "j is  2\n",
      "j is  3\n",
      "j is  4\n",
      "j is  5\n",
      "j is  6\n",
      "j is  7\n",
      "j is  8\n",
      "j is  9\n",
      "j is  10\n"
     ]
    }
   ],
   "source": [
    "i=1\n",
    "while i<=5:\n",
    "    print(\"i is    \",i)\n",
    "    j=1\n",
    "    while j<=10:\n",
    "        print(\"j is \",j)\n",
    "        j=j+1\n",
    "    i=i+1    "
   ]
  },
  {
   "cell_type": "code",
   "execution_count": null,
   "id": "ca081d2b",
   "metadata": {},
   "outputs": [],
   "source": []
  },
  {
   "cell_type": "code",
   "execution_count": null,
   "id": "de17d22a",
   "metadata": {},
   "outputs": [],
   "source": [
    " "
   ]
  },
  {
   "cell_type": "code",
   "execution_count": null,
   "id": "d712abbb",
   "metadata": {},
   "outputs": [],
   "source": []
  }
 ],
 "metadata": {
  "kernelspec": {
   "display_name": "Python 3 (ipykernel)",
   "language": "python",
   "name": "python3"
  },
  "language_info": {
   "codemirror_mode": {
    "name": "ipython",
    "version": 3
   },
   "file_extension": ".py",
   "mimetype": "text/x-python",
   "name": "python",
   "nbconvert_exporter": "python",
   "pygments_lexer": "ipython3",
   "version": "3.9.12"
  }
 },
 "nbformat": 4,
 "nbformat_minor": 5
}
