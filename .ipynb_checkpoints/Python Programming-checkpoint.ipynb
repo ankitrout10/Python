{
 "cells": [
  {
   "cell_type": "code",
   "execution_count": 3,
   "id": "f3c428ac",
   "metadata": {},
   "outputs": [
    {
     "name": "stdout",
     "output_type": "stream",
     "text": [
      "60\n"
     ]
    }
   ],
   "source": [
    "#addition of three numbers\n",
    "a=10\n",
    "b=20\n",
    "c=30\n",
    "\n",
    "sum = a+b+c\n",
    "print(sum)"
   ]
  },
  {
   "cell_type": "code",
   "execution_count": 16,
   "id": "9b93b0e7",
   "metadata": {},
   "outputs": [
    {
     "name": "stdout",
     "output_type": "stream",
     "text": [
      "totalmarks = 493\n",
      "avgmarks = 82.16666666666667\n"
     ]
    }
   ],
   "source": [
    "#take 6 subject mark of a student and find out total and avg mark\n",
    "p=78\n",
    "c=90\n",
    "m=79\n",
    "b=90\n",
    "i=67\n",
    "s=89\n",
    "\n",
    "totalmarks = p+c+m+b+i+s\n",
    "print(\"totalmarks =\",totalmarks)\n",
    "\n",
    "avgmarks=totalmarks/6\n",
    "print(\"avgmarks =\",avgmarks)\n",
    "\n"
   ]
  },
  {
   "cell_type": "code",
   "execution_count": 14,
   "id": "9616b3a6",
   "metadata": {},
   "outputs": [
    {
     "name": "stdout",
     "output_type": "stream",
     "text": [
      "totalmarks =  493 avgmarks = 82.16666666666667\n"
     ]
    }
   ],
   "source": [
    "#take 6 subject mark of a student and find out total and avg mark\n",
    "p=78\n",
    "c=90\n",
    "m=79\n",
    "b=90\n",
    "i=67\n",
    "s=89\n",
    "\n",
    "totalmarks = p+c+m+b+i+s\n",
    "avgmarks=totalmarks/6\n",
    "print(f\"totalmarks =  {totalmarks} avgmarks = {avgmarks}\")\n",
    "\n"
   ]
  },
  {
   "cell_type": "code",
   "execution_count": 21,
   "id": "39b0e6c7",
   "metadata": {},
   "outputs": [
    {
     "name": "stdout",
     "output_type": "stream",
     "text": [
      "phy marks is 86 chem marks is 90 math marks is 79 bio marks is 92 it marks is 76 sanskrit marks is 88\n",
      "totalmarks =  511 avgmarks = 85.16666666666667\n"
     ]
    }
   ],
   "source": [
    "#take 6 subject mark of a student and find out the total marks and avg marks\n",
    "p=86\n",
    "c=90\n",
    "m=79\n",
    "b=92\n",
    "i=76\n",
    "s=88\n",
    "\n",
    "totalmarks=p+c+m+b+i+s\n",
    "avgmarks=totalmarks/6\n",
    "print(f\"phy marks is {p} chem marks is {c} math marks is {m} bio marks is {b} it marks is {i} sanskrit marks is {s}\")\n",
    "print(f\"totalmarks =  {totalmarks} avgmarks = {avgmarks}\")\n",
    "\n",
    "     "
   ]
  },
  {
   "cell_type": "code",
   "execution_count": 22,
   "id": "ca2c6978",
   "metadata": {},
   "outputs": [
    {
     "name": "stdout",
     "output_type": "stream",
     "text": [
      "21.226400000000005\n"
     ]
    }
   ],
   "source": [
    "#find out the area of a circle\n",
    "#data required r\n",
    "\n",
    "r=2.6\n",
    "area =3.14*r*r\n",
    "print(area)"
   ]
  },
  {
   "cell_type": "code",
   "execution_count": 23,
   "id": "94ab4652",
   "metadata": {},
   "outputs": [
    {
     "name": "stdout",
     "output_type": "stream",
     "text": [
      "area of the circle is 21.226400000000005\n"
     ]
    }
   ],
   "source": [
    "#find out the area of a circle\n",
    "#data required r\n",
    "\n",
    "r=2.6\n",
    "area =3.14*r*r\n",
    "print(f\"area of the circle is {area}\")"
   ]
  },
  {
   "cell_type": "code",
   "execution_count": 24,
   "id": "a8253950",
   "metadata": {},
   "outputs": [
    {
     "name": "stdout",
     "output_type": "stream",
     "text": [
      "area of the circle is 24.6176\n"
     ]
    }
   ],
   "source": [
    "#find out the area of a circle\n",
    "\n",
    "print(f\"area of the circle is {3.14*2.8*2.8}\")"
   ]
  },
  {
   "cell_type": "code",
   "execution_count": 26,
   "id": "344ffe2b",
   "metadata": {},
   "outputs": [
    {
     "name": "stdout",
     "output_type": "stream",
     "text": [
      "30\n"
     ]
    }
   ],
   "source": [
    "#find out the area of rectangle\n",
    "#data required length and breadth\n",
    "\n",
    "l=5\n",
    "b=6\n",
    "area=l*b\n",
    "print(area)"
   ]
  },
  {
   "cell_type": "code",
   "execution_count": 27,
   "id": "39dab8a0",
   "metadata": {},
   "outputs": [
    {
     "name": "stdout",
     "output_type": "stream",
     "text": [
      "area of rectangle is 30\n"
     ]
    }
   ],
   "source": [
    "l=5\n",
    "b=6\n",
    "area=l*b\n",
    "print(f\"area of rectangle is {area}\")\n"
   ]
  },
  {
   "cell_type": "code",
   "execution_count": 29,
   "id": "365eaa88",
   "metadata": {},
   "outputs": [
    {
     "name": "stdout",
     "output_type": "stream",
     "text": [
      "area of triangle is 18.4\n"
     ]
    }
   ],
   "source": [
    "#find out the area of triangle\n",
    "#data required is base and height\n",
    "\n",
    "b=8\n",
    "h=4.6\n",
    "area= 0.5*b*h\n",
    "print(f\"area of triangle is {area}\")"
   ]
  },
  {
   "cell_type": "code",
   "execution_count": 34,
   "id": "cfb54c11",
   "metadata": {},
   "outputs": [
    {
     "name": "stdout",
     "output_type": "stream",
     "text": [
      "area of triangle is 24.0\n"
     ]
    }
   ],
   "source": [
    "print(f\"area of triangle is {0.5*6*8}\")"
   ]
  },
  {
   "cell_type": "code",
   "execution_count": 38,
   "id": "4191817d",
   "metadata": {},
   "outputs": [
    {
     "name": "stdout",
     "output_type": "stream",
     "text": [
      "The final si is [16320.0]\n"
     ]
    }
   ],
   "source": [
    "#find out the simple intrest \n",
    "#data required is principle amount , rate of interest and time\n",
    "\n",
    "p=40000\n",
    "r=6.8\n",
    "t=6\n",
    "si=[(p*r*t)/100]\n",
    "print(f\"The final si is {si}\")"
   ]
  },
  {
   "cell_type": "code",
   "execution_count": 1,
   "id": "147ef431",
   "metadata": {},
   "outputs": [
    {
     "name": "stdout",
     "output_type": "stream",
     "text": [
      "10\n"
     ]
    }
   ],
   "source": [
    "###variable\n",
    "a=10\n",
    "print(a)"
   ]
  },
  {
   "cell_type": "code",
   "execution_count": 2,
   "id": "abff4670",
   "metadata": {},
   "outputs": [
    {
     "name": "stdout",
     "output_type": "stream",
     "text": [
      "10\n"
     ]
    }
   ],
   "source": [
    "aaa=10\n",
    "print(aaa)"
   ]
  },
  {
   "cell_type": "code",
   "execution_count": 4,
   "id": "3e341f82",
   "metadata": {},
   "outputs": [
    {
     "name": "stdout",
     "output_type": "stream",
     "text": [
      "10\n"
     ]
    }
   ],
   "source": [
    "If=10\n",
    "print(If)\n",
    "#python is case sensitive lang.(uppercase != lowercase)"
   ]
  },
  {
   "cell_type": "code",
   "execution_count": 5,
   "id": "ad3a499e",
   "metadata": {},
   "outputs": [
    {
     "ename": "SyntaxError",
     "evalue": "invalid syntax (2430702992.py, line 1)",
     "output_type": "error",
     "traceback": [
      "\u001b[1;36m  Input \u001b[1;32mIn [5]\u001b[1;36m\u001b[0m\n\u001b[1;33m    if=10\u001b[0m\n\u001b[1;37m      ^\u001b[0m\n\u001b[1;31mSyntaxError\u001b[0m\u001b[1;31m:\u001b[0m invalid syntax\n"
     ]
    }
   ],
   "source": [
    "if=10\n",
    "print(if)\n",
    "# this if is a keyword thats why we are getting error"
   ]
  },
  {
   "cell_type": "code",
   "execution_count": 6,
   "id": "958589e8",
   "metadata": {},
   "outputs": [
    {
     "name": "stdout",
     "output_type": "stream",
     "text": [
      "100\n"
     ]
    }
   ],
   "source": [
    "abc_abc=100\n",
    "print(abc_abc)"
   ]
  },
  {
   "cell_type": "code",
   "execution_count": 7,
   "id": "62f6f6d3",
   "metadata": {},
   "outputs": [
    {
     "name": "stdout",
     "output_type": "stream",
     "text": [
      "100\n"
     ]
    }
   ],
   "source": [
    "_abc_abc=100\n",
    "print(_abc_abc)"
   ]
  },
  {
   "cell_type": "code",
   "execution_count": 8,
   "id": "2f6885cd",
   "metadata": {},
   "outputs": [
    {
     "name": "stdout",
     "output_type": "stream",
     "text": [
      "100\n"
     ]
    }
   ],
   "source": [
    "Abc_abc=100\n",
    "print(Abc_abc)"
   ]
  },
  {
   "cell_type": "code",
   "execution_count": 9,
   "id": "1b56b0f0",
   "metadata": {},
   "outputs": [
    {
     "ename": "NameError",
     "evalue": "name 'ABC1243' is not defined",
     "output_type": "error",
     "traceback": [
      "\u001b[1;31m---------------------------------------------------------------------------\u001b[0m",
      "\u001b[1;31mNameError\u001b[0m                                 Traceback (most recent call last)",
      "Input \u001b[1;32mIn [9]\u001b[0m, in \u001b[0;36m<cell line: 1>\u001b[1;34m()\u001b[0m\n\u001b[1;32m----> 1\u001b[0m \u001b[43mABC1243\u001b[49m\n\u001b[0;32m      2\u001b[0m \u001b[38;5;28mprint\u001b[39m(ABC1243)\n",
      "\u001b[1;31mNameError\u001b[0m: name 'ABC1243' is not defined"
     ]
    }
   ],
   "source": [
    "ABC1243\n",
    "print(ABC1243)"
   ]
  },
  {
   "cell_type": "code",
   "execution_count": 10,
   "id": "0fe8c89f",
   "metadata": {},
   "outputs": [
    {
     "ename": "NameError",
     "evalue": "name 'ABC123' is not defined",
     "output_type": "error",
     "traceback": [
      "\u001b[1;31m---------------------------------------------------------------------------\u001b[0m",
      "\u001b[1;31mNameError\u001b[0m                                 Traceback (most recent call last)",
      "Input \u001b[1;32mIn [10]\u001b[0m, in \u001b[0;36m<cell line: 1>\u001b[1;34m()\u001b[0m\n\u001b[1;32m----> 1\u001b[0m \u001b[43mABC123\u001b[49m\n\u001b[0;32m      2\u001b[0m \u001b[38;5;28mprint\u001b[39m(ABC123)\n",
      "\u001b[1;31mNameError\u001b[0m: name 'ABC123' is not defined"
     ]
    }
   ],
   "source": [
    "ABC123\n",
    "print(ABC123)"
   ]
  },
  {
   "cell_type": "code",
   "execution_count": 11,
   "id": "5a31f3b5",
   "metadata": {},
   "outputs": [
    {
     "name": "stdout",
     "output_type": "stream",
     "text": [
      "100\n"
     ]
    }
   ],
   "source": [
    "_A_B_C_1_2_3=100\n",
    "print(_A_B_C_1_2_3)"
   ]
  },
  {
   "cell_type": "code",
   "execution_count": 12,
   "id": "c8672545",
   "metadata": {},
   "outputs": [
    {
     "name": "stdout",
     "output_type": "stream",
     "text": [
      "10\n"
     ]
    }
   ],
   "source": [
    "a123=10\n",
    "print(a123)"
   ]
  },
  {
   "cell_type": "code",
   "execution_count": 13,
   "id": "7dda29cb",
   "metadata": {},
   "outputs": [
    {
     "ename": "SyntaxError",
     "evalue": "cannot assign to literal (1818216523.py, line 1)",
     "output_type": "error",
     "traceback": [
      "\u001b[1;36m  Input \u001b[1;32mIn [13]\u001b[1;36m\u001b[0m\n\u001b[1;33m    123=100\u001b[0m\n\u001b[1;37m    ^\u001b[0m\n\u001b[1;31mSyntaxError\u001b[0m\u001b[1;31m:\u001b[0m cannot assign to literal\n"
     ]
    }
   ],
   "source": [
    "123=100\n",
    "print(123)"
   ]
  },
  {
   "cell_type": "code",
   "execution_count": 14,
   "id": "53c53f88",
   "metadata": {},
   "outputs": [
    {
     "ename": "SyntaxError",
     "evalue": "invalid syntax (99388185.py, line 1)",
     "output_type": "error",
     "traceback": [
      "\u001b[1;36m  Input \u001b[1;32mIn [14]\u001b[1;36m\u001b[0m\n\u001b[1;33m    123abc=100\u001b[0m\n\u001b[1;37m       ^\u001b[0m\n\u001b[1;31mSyntaxError\u001b[0m\u001b[1;31m:\u001b[0m invalid syntax\n"
     ]
    }
   ],
   "source": [
    "123abc=100\n",
    "print(123abc)"
   ]
  },
  {
   "cell_type": "code",
   "execution_count": 15,
   "id": "434e9669",
   "metadata": {},
   "outputs": [
    {
     "name": "stdout",
     "output_type": "stream",
     "text": [
      "100\n"
     ]
    }
   ],
   "source": [
    "cash=100\n",
    "print(cash)"
   ]
  },
  {
   "cell_type": "code",
   "execution_count": 16,
   "id": "2f2cb5e7",
   "metadata": {},
   "outputs": [
    {
     "name": "stdout",
     "output_type": "stream",
     "text": [
      "23\n"
     ]
    }
   ],
   "source": [
    "ram=23\n",
    "print(ram)"
   ]
  },
  {
   "cell_type": "code",
   "execution_count": 17,
   "id": "77c138df",
   "metadata": {},
   "outputs": [
    {
     "ename": "SyntaxError",
     "evalue": "invalid syntax (1876226970.py, line 1)",
     "output_type": "error",
     "traceback": [
      "\u001b[1;36m  Input \u001b[1;32mIn [17]\u001b[1;36m\u001b[0m\n\u001b[1;33m    ca$h=100\u001b[0m\n\u001b[1;37m      ^\u001b[0m\n\u001b[1;31mSyntaxError\u001b[0m\u001b[1;31m:\u001b[0m invalid syntax\n"
     ]
    }
   ],
   "source": [
    "ca$h=100\n",
    "print(ca$h)\n",
    "#no special symbols other than underscore(_) are allowed"
   ]
  },
  {
   "cell_type": "code",
   "execution_count": 18,
   "id": "5c12474f",
   "metadata": {},
   "outputs": [
    {
     "name": "stdout",
     "output_type": "stream",
     "text": [
      "10\n"
     ]
    }
   ],
   "source": [
    "aaaaaaaaaaaaaaaaaaaaaaaaaaaaaaaaaaaaaaaaa=10\n",
    "print(aaaaaaaaaaaaaaaaaaaaaaaaaaaaaaaaaaaaaaaaa)\n",
    "#variable name length can be any size\n",
    "#it is not recommended to use, always try to use valid variable name "
   ]
  },
  {
   "cell_type": "code",
   "execution_count": 22,
   "id": "d0101db6",
   "metadata": {},
   "outputs": [
    {
     "name": "stdout",
     "output_type": "stream",
     "text": [
      "100\n",
      "2858583676368\n",
      "200\n",
      "2858583679632\n",
      "300\n",
      "2858698572944\n"
     ]
    }
   ],
   "source": [
    "#variables are changable or not\n",
    "a=100\n",
    "print(a)\n",
    "print(id(a))\n",
    "\n",
    "a=200\n",
    "print(a)\n",
    "print(id(a))\n",
    "\n",
    "a=300\n",
    "print(a)\n",
    "print(id(a))"
   ]
  },
  {
   "cell_type": "code",
   "execution_count": 21,
   "id": "6a7226b9",
   "metadata": {},
   "outputs": [
    {
     "name": "stdout",
     "output_type": "stream",
     "text": [
      "2858583676368\n",
      "2858583679632\n",
      "2858698573328\n"
     ]
    }
   ],
   "source": [
    "a=100\n",
    "print(id(a))\n",
    "\n",
    "a=200\n",
    "print(id(a))\n",
    "\n",
    "a=300\n",
    "print(id(a))"
   ]
  },
  {
   "cell_type": "code",
   "execution_count": null,
   "id": "61d8fffa",
   "metadata": {},
   "outputs": [],
   "source": [
    "###Keywords"
   ]
  },
  {
   "cell_type": "code",
   "execution_count": 23,
   "id": "df44f1c8",
   "metadata": {},
   "outputs": [
    {
     "name": "stdout",
     "output_type": "stream",
     "text": [
      "['False', 'None', 'True', '__peg_parser__', 'and', 'as', 'assert', 'async', 'await', 'break', 'class', 'continue', 'def', 'del', 'elif', 'else', 'except', 'finally', 'for', 'from', 'global', 'if', 'import', 'in', 'is', 'lambda', 'nonlocal', 'not', 'or', 'pass', 'raise', 'return', 'try', 'while', 'with', 'yield']\n"
     ]
    }
   ],
   "source": [
    "import keyword\n",
    "print(keyword.kwlist)"
   ]
  },
  {
   "cell_type": "code",
   "execution_count": 24,
   "id": "10571412",
   "metadata": {},
   "outputs": [
    {
     "data": {
      "text/plain": [
       "36"
      ]
     },
     "execution_count": 24,
     "metadata": {},
     "output_type": "execute_result"
    }
   ],
   "source": [
    "len(keyword.kwlist)"
   ]
  },
  {
   "cell_type": "markdown",
   "id": "b30ab051",
   "metadata": {},
   "source": [
    "# Datatype"
   ]
  },
  {
   "cell_type": "code",
   "execution_count": 25,
   "id": "84470adc",
   "metadata": {},
   "outputs": [
    {
     "name": "stdout",
     "output_type": "stream",
     "text": [
      "23999999999999999999\n"
     ]
    }
   ],
   "source": [
    "a=23999999999999999999\n",
    "print(a)"
   ]
  },
  {
   "cell_type": "code",
   "execution_count": 26,
   "id": "b5b0d3ec",
   "metadata": {},
   "outputs": [
    {
     "name": "stdout",
     "output_type": "stream",
     "text": [
      "<class 'float'>\n"
     ]
    }
   ],
   "source": [
    "a=23.45\n",
    "print(type(a))"
   ]
  },
  {
   "cell_type": "code",
   "execution_count": 28,
   "id": "88606768",
   "metadata": {},
   "outputs": [
    {
     "name": "stdout",
     "output_type": "stream",
     "text": [
      "surendra\n",
      "<class 'str'>\n"
     ]
    }
   ],
   "source": [
    "name=\"surendra\"\n",
    "print(name)\n",
    "print(type(name))"
   ]
  },
  {
   "cell_type": "code",
   "execution_count": 29,
   "id": "1f3ff187",
   "metadata": {},
   "outputs": [
    {
     "name": "stdout",
     "output_type": "stream",
     "text": [
      "0b10100\n"
     ]
    }
   ],
   "source": [
    "print(bin(20))"
   ]
  },
  {
   "cell_type": "code",
   "execution_count": 30,
   "id": "e5f3402f",
   "metadata": {},
   "outputs": [
    {
     "name": "stdout",
     "output_type": "stream",
     "text": [
      "0b1010011\n"
     ]
    }
   ],
   "source": [
    "print(bin(0o123))"
   ]
  },
  {
   "cell_type": "code",
   "execution_count": 31,
   "id": "b62f12dd",
   "metadata": {},
   "outputs": [
    {
     "name": "stdout",
     "output_type": "stream",
     "text": [
      "0x53\n"
     ]
    }
   ],
   "source": [
    "print(hex(0o123))"
   ]
  },
  {
   "cell_type": "code",
   "execution_count": 32,
   "id": "5706da2b",
   "metadata": {},
   "outputs": [
    {
     "name": "stdout",
     "output_type": "stream",
     "text": [
      "0b101010111100\n"
     ]
    }
   ],
   "source": [
    "print(bin(0xABC))"
   ]
  },
  {
   "cell_type": "code",
   "execution_count": 33,
   "id": "3f2aad2c",
   "metadata": {},
   "outputs": [
    {
     "name": "stdout",
     "output_type": "stream",
     "text": [
      "0o125\n"
     ]
    }
   ],
   "source": [
    "print(oct(0b1010101))"
   ]
  },
  {
   "cell_type": "code",
   "execution_count": 34,
   "id": "1e8d3013",
   "metadata": {},
   "outputs": [
    {
     "name": "stdout",
     "output_type": "stream",
     "text": [
      "15\n"
     ]
    }
   ],
   "source": [
    "print(0b1111)"
   ]
  },
  {
   "cell_type": "code",
   "execution_count": 35,
   "id": "9f0ceb79",
   "metadata": {},
   "outputs": [
    {
     "name": "stdout",
     "output_type": "stream",
     "text": [
      "10000\n"
     ]
    }
   ],
   "source": [
    "a=10000\n",
    "print(a)"
   ]
  },
  {
   "cell_type": "code",
   "execution_count": 36,
   "id": "f8a81704",
   "metadata": {},
   "outputs": [
    {
     "name": "stdout",
     "output_type": "stream",
     "text": [
      "10000\n"
     ]
    }
   ],
   "source": [
    "a=10_000\n",
    "print(a)"
   ]
  },
  {
   "cell_type": "code",
   "execution_count": 37,
   "id": "bca1d781",
   "metadata": {},
   "outputs": [],
   "source": [
    "###COMPLEX NUMBERS"
   ]
  },
  {
   "cell_type": "code",
   "execution_count": 38,
   "id": "fb5c0f7b",
   "metadata": {},
   "outputs": [
    {
     "name": "stdout",
     "output_type": "stream",
     "text": [
      "(10+15j)\n",
      "<class 'complex'>\n"
     ]
    }
   ],
   "source": [
    "data=10+15j\n",
    "print(data)\n",
    "print(type(data))"
   ]
  },
  {
   "cell_type": "code",
   "execution_count": 42,
   "id": "867a3598",
   "metadata": {},
   "outputs": [
    {
     "ename": "SyntaxError",
     "evalue": "invalid syntax (3314731193.py, line 1)",
     "output_type": "error",
     "traceback": [
      "\u001b[1;36m  Input \u001b[1;32mIn [42]\u001b[1;36m\u001b[0m\n\u001b[1;33m    data=10+15i #j has to be used\u001b[0m\n\u001b[1;37m              ^\u001b[0m\n\u001b[1;31mSyntaxError\u001b[0m\u001b[1;31m:\u001b[0m invalid syntax\n"
     ]
    }
   ],
   "source": [
    "data=10+15i #j has to be used\n",
    "print(data)\n",
    "print(type(data))"
   ]
  },
  {
   "cell_type": "code",
   "execution_count": 41,
   "id": "03e04e67",
   "metadata": {},
   "outputs": [
    {
     "name": "stdout",
     "output_type": "stream",
     "text": [
      "(10.52+15.89j)\n",
      "<class 'complex'>\n"
     ]
    }
   ],
   "source": [
    "data=10.52+15.89j\n",
    "print(data)\n",
    "print(type(data))"
   ]
  },
  {
   "cell_type": "code",
   "execution_count": 44,
   "id": "de98e1a2",
   "metadata": {},
   "outputs": [
    {
     "name": "stdout",
     "output_type": "stream",
     "text": [
      "(10+15.23j)\n",
      "<class 'complex'>\n"
     ]
    }
   ],
   "source": [
    "data=10+15.23j\n",
    "print(data)\n",
    "print(type(data))"
   ]
  },
  {
   "cell_type": "code",
   "execution_count": 45,
   "id": "a517e378",
   "metadata": {},
   "outputs": [
    {
     "name": "stdout",
     "output_type": "stream",
     "text": [
      "(10.23+15j)\n",
      "<class 'complex'>\n"
     ]
    }
   ],
   "source": [
    "data=10.23+15j\n",
    "print(data)\n",
    "print(type(data))"
   ]
  },
  {
   "cell_type": "code",
   "execution_count": 46,
   "id": "19f49b01",
   "metadata": {},
   "outputs": [
    {
     "name": "stdout",
     "output_type": "stream",
     "text": [
      "0j\n",
      "<class 'complex'>\n"
     ]
    }
   ],
   "source": [
    "data=0+0j\n",
    "print(data)\n",
    "print(type(data))"
   ]
  },
  {
   "cell_type": "code",
   "execution_count": 48,
   "id": "1a6f81ec",
   "metadata": {},
   "outputs": [
    {
     "name": "stdout",
     "output_type": "stream",
     "text": [
      "(1+0j)\n",
      "<class 'complex'>\n"
     ]
    }
   ],
   "source": [
    "data=1+0j\n",
    "print(data)\n",
    "print(type(data))"
   ]
  },
  {
   "cell_type": "code",
   "execution_count": 49,
   "id": "8f3353df",
   "metadata": {},
   "outputs": [
    {
     "name": "stdout",
     "output_type": "stream",
     "text": [
      "10.0\n",
      "15.0\n"
     ]
    }
   ],
   "source": [
    "data=10+15j\n",
    "print(data.real)\n",
    "print(data.imag)"
   ]
  },
  {
   "cell_type": "code",
   "execution_count": 50,
   "id": "fa0a4a31",
   "metadata": {},
   "outputs": [
    {
     "name": "stdout",
     "output_type": "stream",
     "text": [
      "True\n"
     ]
    }
   ],
   "source": [
    "#bool datatype\n",
    "\n",
    "a=True\n",
    "print(a)"
   ]
  },
  {
   "cell_type": "code",
   "execution_count": 51,
   "id": "205d599c",
   "metadata": {},
   "outputs": [
    {
     "name": "stdout",
     "output_type": "stream",
     "text": [
      "True\n"
     ]
    },
    {
     "ename": "NameError",
     "evalue": "name 'true' is not defined",
     "output_type": "error",
     "traceback": [
      "\u001b[1;31m---------------------------------------------------------------------------\u001b[0m",
      "\u001b[1;31mNameError\u001b[0m                                 Traceback (most recent call last)",
      "Input \u001b[1;32mIn [51]\u001b[0m, in \u001b[0;36m<cell line: 3>\u001b[1;34m()\u001b[0m\n\u001b[0;32m      1\u001b[0m a\u001b[38;5;241m=\u001b[39m\u001b[38;5;28;01mTrue\u001b[39;00m\n\u001b[0;32m      2\u001b[0m \u001b[38;5;28mprint\u001b[39m(a)\n\u001b[1;32m----> 3\u001b[0m b\u001b[38;5;241m=\u001b[39m\u001b[43mtrue\u001b[49m\n\u001b[0;32m      4\u001b[0m \u001b[38;5;28mprint\u001b[39m(b)\n",
      "\u001b[1;31mNameError\u001b[0m: name 'true' is not defined"
     ]
    }
   ],
   "source": [
    "a=True\n",
    "print(a)\n",
    "b=true\n",
    "print(b)"
   ]
  },
  {
   "cell_type": "code",
   "execution_count": 53,
   "id": "4dbec11e",
   "metadata": {},
   "outputs": [
    {
     "name": "stdout",
     "output_type": "stream",
     "text": [
      "False\n",
      "<class 'bool'>\n"
     ]
    }
   ],
   "source": [
    "b=False\n",
    "print(b)\n",
    "print(type(b))"
   ]
  },
  {
   "cell_type": "code",
   "execution_count": 54,
   "id": "16091b2f",
   "metadata": {},
   "outputs": [
    {
     "name": "stdout",
     "output_type": "stream",
     "text": [
      "1\n"
     ]
    }
   ],
   "source": [
    "x=True\n",
    "y=False\n",
    "print(x+y)"
   ]
  },
  {
   "cell_type": "code",
   "execution_count": 55,
   "id": "970a309c",
   "metadata": {},
   "outputs": [
    {
     "name": "stdout",
     "output_type": "stream",
     "text": [
      "5\n"
     ]
    }
   ],
   "source": [
    "x=True\n",
    "y=False\n",
    "print(x+x+x+x+x)"
   ]
  },
  {
   "cell_type": "code",
   "execution_count": 56,
   "id": "4a9a4160",
   "metadata": {},
   "outputs": [
    {
     "name": "stdout",
     "output_type": "stream",
     "text": [
      "2\n"
     ]
    }
   ],
   "source": [
    "x=True\n",
    "y=True\n",
    "print(x+y)"
   ]
  },
  {
   "cell_type": "code",
   "execution_count": 57,
   "id": "1ce570e6",
   "metadata": {},
   "outputs": [
    {
     "name": "stdout",
     "output_type": "stream",
     "text": [
      "(1+10j)\n"
     ]
    }
   ],
   "source": [
    "c=True+10j\n",
    "print(c)"
   ]
  },
  {
   "cell_type": "code",
   "execution_count": 58,
   "id": "f558a3f8",
   "metadata": {},
   "outputs": [
    {
     "ename": "NameError",
     "evalue": "name 'Truej' is not defined",
     "output_type": "error",
     "traceback": [
      "\u001b[1;31m---------------------------------------------------------------------------\u001b[0m",
      "\u001b[1;31mNameError\u001b[0m                                 Traceback (most recent call last)",
      "Input \u001b[1;32mIn [58]\u001b[0m, in \u001b[0;36m<cell line: 1>\u001b[1;34m()\u001b[0m\n\u001b[1;32m----> 1\u001b[0m c\u001b[38;5;241m=\u001b[39m\u001b[38;5;28;01mTrue\u001b[39;00m\u001b[38;5;241m+\u001b[39m\u001b[43mTruej\u001b[49m\n\u001b[0;32m      2\u001b[0m \u001b[38;5;28mprint\u001b[39m(c)\n",
      "\u001b[1;31mNameError\u001b[0m: name 'Truej' is not defined"
     ]
    }
   ],
   "source": [
    "c=True+Truej\n",
    "print(c)\n"
   ]
  },
  {
   "cell_type": "markdown",
   "id": "4aa47ef3",
   "metadata": {},
   "source": [
    "# #Variable programs as per notes"
   ]
  },
  {
   "cell_type": "code",
   "execution_count": 1,
   "id": "5fe2bef8",
   "metadata": {},
   "outputs": [
    {
     "name": "stdout",
     "output_type": "stream",
     "text": [
      "90\n",
      "180\n",
      "45.0\n"
     ]
    }
   ],
   "source": [
    "a=90\n",
    "print(a)\n",
    "print(a*2)\n",
    "print(a/2)"
   ]
  },
  {
   "cell_type": "code",
   "execution_count": 3,
   "id": "23c3c1fb",
   "metadata": {},
   "outputs": [
    {
     "name": "stdout",
     "output_type": "stream",
     "text": [
      "118\n"
     ]
    }
   ],
   "source": [
    "#Program to add two numbers\n",
    "num1=50\n",
    "num2=68\n",
    "result=num1+ num2\n",
    "print(result)"
   ]
  },
  {
   "cell_type": "code",
   "execution_count": 4,
   "id": "84d06325",
   "metadata": {},
   "outputs": [
    {
     "name": "stdout",
     "output_type": "stream",
     "text": [
      "90\n",
      "100\n",
      "150\n"
     ]
    }
   ],
   "source": [
    "a=90\n",
    "print(a)\n",
    "\n",
    "a=100\n",
    "print(a)\n",
    "\n",
    "a=150\n",
    "print(a)"
   ]
  },
  {
   "cell_type": "code",
   "execution_count": 8,
   "id": "91c3a4f3",
   "metadata": {},
   "outputs": [
    {
     "name": "stdout",
     "output_type": "stream",
     "text": [
      "90\n",
      "50\n"
     ]
    }
   ],
   "source": [
    "abc190=90\n",
    "print(abc190)\n",
    "\n",
    "abc_190=50\n",
    "print(abc_190)\n"
   ]
  },
  {
   "cell_type": "code",
   "execution_count": 9,
   "id": "536a40c1",
   "metadata": {},
   "outputs": [
    {
     "ename": "SyntaxError",
     "evalue": "cannot assign to operator (313706499.py, line 1)",
     "output_type": "error",
     "traceback": [
      "\u001b[1;36m  Input \u001b[1;32mIn [9]\u001b[1;36m\u001b[0m\n\u001b[1;33m    abc@123=40\u001b[0m\n\u001b[1;37m    ^\u001b[0m\n\u001b[1;31mSyntaxError\u001b[0m\u001b[1;31m:\u001b[0m cannot assign to operator\n"
     ]
    }
   ],
   "source": [
    "abc@123=40\n",
    "print(abc@123)"
   ]
  },
  {
   "cell_type": "code",
   "execution_count": 10,
   "id": "0f9697da",
   "metadata": {},
   "outputs": [
    {
     "name": "stdout",
     "output_type": "stream",
     "text": [
      "80\n",
      "90\n"
     ]
    }
   ],
   "source": [
    "_abc=80\n",
    "print(_abc)\n",
    "\n",
    "abc=90\n",
    "print(abc)"
   ]
  },
  {
   "cell_type": "code",
   "execution_count": 11,
   "id": "f8198c10",
   "metadata": {},
   "outputs": [
    {
     "ename": "SyntaxError",
     "evalue": "invalid decimal literal (2402397736.py, line 1)",
     "output_type": "error",
     "traceback": [
      "\u001b[1;36m  Input \u001b[1;32mIn [11]\u001b[1;36m\u001b[0m\n\u001b[1;33m    6_abc=90\u001b[0m\n\u001b[1;37m     ^\u001b[0m\n\u001b[1;31mSyntaxError\u001b[0m\u001b[1;31m:\u001b[0m invalid decimal literal\n"
     ]
    }
   ],
   "source": [
    "6_abc=90\n",
    "print(6_abc)"
   ]
  },
  {
   "cell_type": "code",
   "execution_count": 12,
   "id": "b803d890",
   "metadata": {},
   "outputs": [
    {
     "name": "stdout",
     "output_type": "stream",
     "text": [
      "90\n",
      "100\n"
     ]
    }
   ],
   "source": [
    "a=90\n",
    "print(a)\n",
    "\n",
    "A=100\n",
    "print(A)"
   ]
  },
  {
   "cell_type": "code",
   "execution_count": 15,
   "id": "68a1c047",
   "metadata": {},
   "outputs": [
    {
     "ename": "SyntaxError",
     "evalue": "cannot assign to True (736464718.py, line 1)",
     "output_type": "error",
     "traceback": [
      "\u001b[1;36m  Input \u001b[1;32mIn [15]\u001b[1;36m\u001b[0m\n\u001b[1;33m    True=12\u001b[0m\n\u001b[1;37m    ^\u001b[0m\n\u001b[1;31mSyntaxError\u001b[0m\u001b[1;31m:\u001b[0m cannot assign to True\n"
     ]
    }
   ],
   "source": [
    "True=12\n",
    "print(True)"
   ]
  },
  {
   "cell_type": "code",
   "execution_count": 14,
   "id": "8c825bfc",
   "metadata": {},
   "outputs": [
    {
     "name": "stdout",
     "output_type": "stream",
     "text": [
      "12\n"
     ]
    }
   ],
   "source": [
    "true=12\n",
    "print(true)"
   ]
  },
  {
   "cell_type": "code",
   "execution_count": 16,
   "id": "708779ed",
   "metadata": {},
   "outputs": [
    {
     "name": "stdout",
     "output_type": "stream",
     "text": [
      "6\n"
     ]
    }
   ],
   "source": [
    "If=6\n",
    "print(If)"
   ]
  },
  {
   "cell_type": "code",
   "execution_count": 17,
   "id": "e7151697",
   "metadata": {},
   "outputs": [
    {
     "ename": "SyntaxError",
     "evalue": "invalid syntax (2602892800.py, line 1)",
     "output_type": "error",
     "traceback": [
      "\u001b[1;36m  Input \u001b[1;32mIn [17]\u001b[1;36m\u001b[0m\n\u001b[1;33m    if=6\u001b[0m\n\u001b[1;37m      ^\u001b[0m\n\u001b[1;31mSyntaxError\u001b[0m\u001b[1;31m:\u001b[0m invalid syntax\n"
     ]
    }
   ],
   "source": [
    "if=6\n",
    "print(if)"
   ]
  },
  {
   "cell_type": "code",
   "execution_count": 18,
   "id": "a342361f",
   "metadata": {},
   "outputs": [
    {
     "name": "stdout",
     "output_type": "stream",
     "text": [
      "<class 'int'>\n",
      "<class 'int'>\n"
     ]
    }
   ],
   "source": [
    "a=90\n",
    "print(type(a))\n",
    "a=-20\n",
    "print(type(a))"
   ]
  },
  {
   "cell_type": "code",
   "execution_count": 19,
   "id": "7283c51d",
   "metadata": {},
   "outputs": [
    {
     "name": "stdout",
     "output_type": "stream",
     "text": [
      "0b1111\n"
     ]
    }
   ],
   "source": [
    "print(bin(15))"
   ]
  },
  {
   "cell_type": "code",
   "execution_count": 20,
   "id": "9d7f1844",
   "metadata": {},
   "outputs": [
    {
     "name": "stdout",
     "output_type": "stream",
     "text": [
      "0b1101000\n"
     ]
    }
   ],
   "source": [
    "print(bin(0o150))"
   ]
  },
  {
   "cell_type": "code",
   "execution_count": 21,
   "id": "6e5f62a0",
   "metadata": {},
   "outputs": [
    {
     "name": "stdout",
     "output_type": "stream",
     "text": [
      "0o22\n"
     ]
    }
   ],
   "source": [
    "print(oct(0b10010))"
   ]
  },
  {
   "cell_type": "code",
   "execution_count": 22,
   "id": "d07c7d7b",
   "metadata": {},
   "outputs": [
    {
     "name": "stdout",
     "output_type": "stream",
     "text": [
      "0x40\n"
     ]
    }
   ],
   "source": [
    "print(hex(64))"
   ]
  },
  {
   "cell_type": "code",
   "execution_count": 24,
   "id": "b89896c8",
   "metadata": {},
   "outputs": [
    {
     "name": "stdout",
     "output_type": "stream",
     "text": [
      "9.56\n",
      "<class 'float'>\n"
     ]
    }
   ],
   "source": [
    "cgpa=9.56\n",
    "print(cgpa)\n",
    "print(type(cgpa))"
   ]
  },
  {
   "cell_type": "code",
   "execution_count": 25,
   "id": "e4f82438",
   "metadata": {},
   "outputs": [
    {
     "name": "stdout",
     "output_type": "stream",
     "text": [
      "22000.0\n"
     ]
    }
   ],
   "source": [
    "emp_sal=2.2e4\n",
    "print(emp_sal)"
   ]
  },
  {
   "cell_type": "code",
   "execution_count": 26,
   "id": "a70afb0c",
   "metadata": {},
   "outputs": [
    {
     "name": "stdout",
     "output_type": "stream",
     "text": [
      "12345685.8976324\n"
     ]
    }
   ],
   "source": [
    "f=123_456_85.8976_324\n",
    "print(f) #we can store any integer float values but cannot store any octal,hexadecimal etc _ with float values like 0022.456,0x40 etc."
   ]
  },
  {
   "cell_type": "raw",
   "id": "1ec948db",
   "metadata": {},
   "source": [
    "##Complex Data Types"
   ]
  },
  {
   "cell_type": "code",
   "execution_count": 28,
   "id": "27fc042f",
   "metadata": {},
   "outputs": [
    {
     "name": "stdout",
     "output_type": "stream",
     "text": [
      "<class 'complex'>\n",
      "<class 'complex'>\n",
      "<class 'complex'>\n"
     ]
    }
   ],
   "source": [
    "c=50+60j\n",
    "print(type(c))\n",
    "\n",
    "d=45.7+56j\n",
    "print(type(d))\n",
    "\n",
    "e=67.9+45.32j\n",
    "print(type(e))"
   ]
  },
  {
   "cell_type": "code",
   "execution_count": 32,
   "id": "50df54cc",
   "metadata": {},
   "outputs": [
    {
     "name": "stdout",
     "output_type": "stream",
     "text": [
      "<class 'complex'>\n",
      "<class 'complex'>\n",
      "<class 'complex'>\n"
     ]
    }
   ],
   "source": [
    "c=0b100011+60j\n",
    "print(type(c))\n",
    "\n",
    "d=0o2346+56j\n",
    "print(type(d))\n",
    "\n",
    "e=0x564+45.32j\n",
    "print(type(e))"
   ]
  },
  {
   "cell_type": "code",
   "execution_count": 33,
   "id": "426d71e3",
   "metadata": {},
   "outputs": [
    {
     "ename": "SyntaxError",
     "evalue": "invalid syntax (2713037045.py, line 1)",
     "output_type": "error",
     "traceback": [
      "\u001b[1;36m  Input \u001b[1;32mIn [33]\u001b[1;36m\u001b[0m\n\u001b[1;33m    f=67+0o46j\u001b[0m\n\u001b[1;37m             ^\u001b[0m\n\u001b[1;31mSyntaxError\u001b[0m\u001b[1;31m:\u001b[0m invalid syntax\n"
     ]
    }
   ],
   "source": [
    "f=67+0o46j\n",
    "print(type(f)) "
   ]
  },
  {
   "cell_type": "code",
   "execution_count": 34,
   "id": "9b39dc41",
   "metadata": {},
   "outputs": [
    {
     "name": "stdout",
     "output_type": "stream",
     "text": [
      "(13+15j)\n"
     ]
    }
   ],
   "source": [
    "a=5+6j\n",
    "b=8+9j\n",
    "c=a+b\n",
    "print(c)"
   ]
  },
  {
   "cell_type": "code",
   "execution_count": 37,
   "id": "f775e0f6",
   "metadata": {},
   "outputs": [
    {
     "name": "stdout",
     "output_type": "stream",
     "text": [
      "5.0\n",
      "9.0\n"
     ]
    }
   ],
   "source": [
    "a=5+7j\n",
    "print(a.real)\n",
    "print(b.imag)"
   ]
  },
  {
   "cell_type": "markdown",
   "id": "e8e7c294",
   "metadata": {},
   "source": [
    "## Bool Datatype"
   ]
  },
  {
   "cell_type": "code",
   "execution_count": 40,
   "id": "fd2883f4",
   "metadata": {},
   "outputs": [
    {
     "name": "stdout",
     "output_type": "stream",
     "text": [
      "<class 'bool'>\n",
      "<class 'bool'>\n"
     ]
    }
   ],
   "source": [
    "a=True\n",
    "print(type(a))\n",
    "\n",
    "b=False\n",
    "print(type(b))"
   ]
  },
  {
   "cell_type": "code",
   "execution_count": 41,
   "id": "b31da872",
   "metadata": {},
   "outputs": [
    {
     "name": "stdout",
     "output_type": "stream",
     "text": [
      "False\n"
     ]
    }
   ],
   "source": [
    "a=9\n",
    "b=8\n",
    "result=a<b\n",
    "print(result)"
   ]
  },
  {
   "cell_type": "code",
   "execution_count": 42,
   "id": "c240c397",
   "metadata": {},
   "outputs": [
    {
     "name": "stdout",
     "output_type": "stream",
     "text": [
      "<class 'bool'>\n",
      "<class 'int'>\n"
     ]
    }
   ],
   "source": [
    "a=True\n",
    "print(type(a))\n",
    "\n",
    "a=true\n",
    "print(type(a))"
   ]
  },
  {
   "cell_type": "code",
   "execution_count": 43,
   "id": "85ff23d0",
   "metadata": {},
   "outputs": [
    {
     "name": "stdout",
     "output_type": "stream",
     "text": [
      "3\n",
      "2\n",
      "0\n",
      "1\n",
      "1.0\n"
     ]
    }
   ],
   "source": [
    "print(True+True+True)\n",
    "print(True+True+False)\n",
    "print(True-True)\n",
    "print(True*True)\n",
    "print(True/True)"
   ]
  },
  {
   "cell_type": "markdown",
   "id": "d647cf17",
   "metadata": {},
   "source": [
    "# String Datatype"
   ]
  },
  {
   "cell_type": "code",
   "execution_count": 2,
   "id": "3659b21a",
   "metadata": {},
   "outputs": [
    {
     "name": "stdout",
     "output_type": "stream",
     "text": [
      "<class 'str'>\n",
      "<class 'str'>\n",
      "<class 'str'>\n"
     ]
    }
   ],
   "source": [
    "a='Jake'\n",
    "print(type(a))\n",
    "a='Jammy'\n",
    "print(type(a))  #we can print '' inside \"\" but not \"\" inside \"\" and the case is same with \"\" and  \"''\"\n",
    "b=\"James\"\n",
    "print(type(b))\n"
   ]
  },
  {
   "cell_type": "code",
   "execution_count": 4,
   "id": "93172c77",
   "metadata": {},
   "outputs": [
    {
     "name": "stdout",
     "output_type": "stream",
     "text": [
      "Welcome to \"python\"\n"
     ]
    }
   ],
   "source": [
    "a='Welcome to \"python\"'\n",
    "print(a)"
   ]
  },
  {
   "cell_type": "code",
   "execution_count": 5,
   "id": "4e3dfc12",
   "metadata": {},
   "outputs": [
    {
     "ename": "SyntaxError",
     "evalue": "invalid syntax (1045630216.py, line 1)",
     "output_type": "error",
     "traceback": [
      "\u001b[1;36m  Input \u001b[1;32mIn [5]\u001b[1;36m\u001b[0m\n\u001b[1;33m    a = 'Welcome to 'python''\u001b[0m\n\u001b[1;37m                     ^\u001b[0m\n\u001b[1;31mSyntaxError\u001b[0m\u001b[1;31m:\u001b[0m invalid syntax\n"
     ]
    }
   ],
   "source": [
    "a = 'Welcome to 'python''"
   ]
  },
  {
   "cell_type": "markdown",
   "id": "4c2649c1",
   "metadata": {},
   "source": [
    "# index"
   ]
  },
  {
   "cell_type": "markdown",
   "id": "b4d4ae8a",
   "metadata": {},
   "source": [
    "msg='Welcome to Python'\n",
    "print(msg[3])\n"
   ]
  },
  {
   "cell_type": "code",
   "execution_count": 7,
   "id": "c6e45e9e",
   "metadata": {},
   "outputs": [
    {
     "name": "stdout",
     "output_type": "stream",
     "text": [
      "c\n",
      "e\n",
      "n\n",
      "t\n",
      "c\n"
     ]
    }
   ],
   "source": [
    "msg='Welcome to Python' \n",
    "print(msg[3])\n",
    "print(msg[6])   #if we exceed the range in both the cases i.e. Positive or Negative , we get an error\n",
    "print(msg[16])\n",
    "print(msg[-4])\n",
    "print(msg[-14])"
   ]
  },
  {
   "cell_type": "code",
   "execution_count": 9,
   "id": "47a45bc6",
   "metadata": {},
   "outputs": [
    {
     "ename": "IndexError",
     "evalue": "string index out of range",
     "output_type": "error",
     "traceback": [
      "\u001b[1;31m---------------------------------------------------------------------------\u001b[0m",
      "\u001b[1;31mIndexError\u001b[0m                                Traceback (most recent call last)",
      "Input \u001b[1;32mIn [9]\u001b[0m, in \u001b[0;36m<cell line: 2>\u001b[1;34m()\u001b[0m\n\u001b[0;32m      1\u001b[0m msg\u001b[38;5;241m=\u001b[39m\u001b[38;5;124m'\u001b[39m\u001b[38;5;124mWelcome to Python\u001b[39m\u001b[38;5;124m'\u001b[39m\n\u001b[1;32m----> 2\u001b[0m \u001b[38;5;28mprint\u001b[39m(\u001b[43mmsg\u001b[49m\u001b[43m[\u001b[49m\u001b[38;5;241;43m19\u001b[39;49m\u001b[43m]\u001b[49m)\n\u001b[0;32m      4\u001b[0m msg\u001b[38;5;241m=\u001b[39m\u001b[38;5;124m'\u001b[39m\u001b[38;5;124mWelcome to Python\u001b[39m\u001b[38;5;124m'\u001b[39m\n\u001b[0;32m      5\u001b[0m \u001b[38;5;28mprint\u001b[39m(msg[\u001b[38;5;241m-\u001b[39m\u001b[38;5;241m19\u001b[39m])\n",
      "\u001b[1;31mIndexError\u001b[0m: string index out of range"
     ]
    }
   ],
   "source": [
    "msg='Welcome to Python'\n",
    "print(msg[19])\n",
    "\n",
    "msg='Welcome to Python'\n",
    "print(msg[-19])"
   ]
  },
  {
   "cell_type": "markdown",
   "id": "893aeb01",
   "metadata": {},
   "source": [
    "# Sting Slicing\n",
    "Index:[Start index: Stop index : Step size]"
   ]
  },
  {
   "cell_type": "code",
   "execution_count": 13,
   "id": "149b1ac2",
   "metadata": {},
   "outputs": [
    {
     "name": "stdout",
     "output_type": "stream",
     "text": [
      "ecm oP\n",
      "cm oPt\n",
      "Welcome to Python\n",
      "Wloet yhn\n",
      "Wloet yhn\n"
     ]
    }
   ],
   "source": [
    "msg=\"Welcome to Python\"\n",
    "print(msg[1:12:2])\n",
    "print(msg[3:15:2])\n",
    "print(msg[::])\n",
    "print(msg[::2])\n",
    "print(msg[:5000:2])\n"
   ]
  },
  {
   "cell_type": "code",
   "execution_count": 14,
   "id": "2eee60cb",
   "metadata": {},
   "outputs": [
    {
     "name": "stdout",
     "output_type": "stream",
     "text": [
      "\n",
      "nohtyP ot emocleW\n",
      "nhy teolW\n",
      "\n",
      "\n",
      "nohtyP ot emoc\n"
     ]
    }
   ],
   "source": [
    "print(msg[100:12:2])\n",
    "print(msg[::-1])\n",
    "print(msg[::-2])\n",
    "print(msg[-15:-14:-1])\n",
    "print(msg[8:15:-1])\n",
    "print(msg[5000:2:-1])"
   ]
  },
  {
   "cell_type": "code",
   "execution_count": 15,
   "id": "01d3a175",
   "metadata": {},
   "outputs": [
    {
     "name": "stdout",
     "output_type": "stream",
     "text": [
      "Python\n",
      "noh\n",
      "Welcome to Py\n",
      "tho\n",
      "lcome t\n",
      "lcome to Python\n",
      "nohtyP ot emocleW\n"
     ]
    }
   ],
   "source": [
    "print(msg[-6::1])\n",
    "print(msg[-1:-4:-1])\n",
    "print(msg[:-4:])\n",
    "print(msg[-4:-1:])\n",
    "print(msg[2:9])\n",
    "print(msg[2:])\n",
    "print(msg[::-+1])"
   ]
  },
  {
   "cell_type": "code",
   "execution_count": 16,
   "id": "04954129",
   "metadata": {},
   "outputs": [
    {
     "name": "stdout",
     "output_type": "stream",
     "text": [
      "elcome to P\n",
      "\n",
      "elcome to Pytho\n",
      " ot emocle\n"
     ]
    }
   ],
   "source": [
    "print(msg[1:12:])\n",
    "print(msg[-2:-12])\n",
    "print(msg[True:-1:1])\n",
    "print(msg[False+10:(True-True):-1])"
   ]
  },
  {
   "cell_type": "markdown",
   "id": "6aa2bc6b",
   "metadata": {},
   "source": [
    "# Typecasting in Python"
   ]
  },
  {
   "cell_type": "code",
   "execution_count": 17,
   "id": "66d3cd48",
   "metadata": {},
   "outputs": [
    {
     "name": "stdout",
     "output_type": "stream",
     "text": [
      "2.5\n",
      "<class 'float'>\n"
     ]
    }
   ],
   "source": [
    "#Implict Typecasting\n",
    "a=10\n",
    "b=4\n",
    "c=a/b\n",
    "print(c)\n",
    "print(type(c))"
   ]
  },
  {
   "cell_type": "code",
   "execution_count": null,
   "id": "a2a2f736",
   "metadata": {},
   "outputs": [],
   "source": [
    "#implicit typecasting\n",
    "1.Int()\n",
    "2.Float()\n",
    "3.Complex()\n",
    "4.Bool()\n",
    "5.Str()"
   ]
  },
  {
   "cell_type": "code",
   "execution_count": 1,
   "id": "58cdd7e5",
   "metadata": {},
   "outputs": [
    {
     "name": "stdout",
     "output_type": "stream",
     "text": [
      "True\n"
     ]
    }
   ],
   "source": [
    "a= bool(' ') \n",
    "print(a) "
   ]
  },
  {
   "cell_type": "code",
   "execution_count": null,
   "id": "3ccb8016",
   "metadata": {},
   "outputs": [],
   "source": []
  },
  {
   "cell_type": "code",
   "execution_count": null,
   "id": "433e8924",
   "metadata": {},
   "outputs": [],
   "source": []
  },
  {
   "cell_type": "code",
   "execution_count": null,
   "id": "b280b7ed",
   "metadata": {},
   "outputs": [],
   "source": []
  },
  {
   "cell_type": "code",
   "execution_count": null,
   "id": "aa012799",
   "metadata": {},
   "outputs": [],
   "source": []
  }
 ],
 "metadata": {
  "kernelspec": {
   "display_name": "Python 3 (ipykernel)",
   "language": "python",
   "name": "python3"
  },
  "language_info": {
   "codemirror_mode": {
    "name": "ipython",
    "version": 3
   },
   "file_extension": ".py",
   "mimetype": "text/x-python",
   "name": "python",
   "nbconvert_exporter": "python",
   "pygments_lexer": "ipython3",
   "version": "3.9.12"
  }
 },
 "nbformat": 4,
 "nbformat_minor": 5
}
