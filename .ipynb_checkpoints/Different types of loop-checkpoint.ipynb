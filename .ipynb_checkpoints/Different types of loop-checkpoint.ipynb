{
 "cells": [
  {
   "cell_type": "markdown",
   "id": "2e8de2cf",
   "metadata": {},
   "source": [
    "## LOOPING"
   ]
  },
  {
   "cell_type": "markdown",
   "id": "b1e879d7",
   "metadata": {},
   "source": [
    "### While loop"
   ]
  },
  {
   "cell_type": "code",
   "execution_count": 3,
   "id": "0eed3882",
   "metadata": {},
   "outputs": [
    {
     "name": "stdout",
     "output_type": "stream",
     "text": [
      "Surendra\n",
      "Surendra\n",
      "Surendra\n",
      "Surendra\n",
      "Surendra\n"
     ]
    }
   ],
   "source": [
    "i=1\n",
    "while i<=5:\n",
    "    print('Surendra')\n",
    "    i=i+1"
   ]
  },
  {
   "cell_type": "code",
   "execution_count": 2,
   "id": "d6836d08",
   "metadata": {},
   "outputs": [
    {
     "name": "stdout",
     "output_type": "stream",
     "text": [
      "Ankit\n",
      "Ankit\n",
      "Ankit\n",
      "Ankit\n",
      "Ankit\n",
      "Ankit\n",
      "Ankit\n",
      "Ankit\n",
      "Ankit\n",
      "Ankit\n",
      "Ankit\n",
      "Ankit\n",
      "Ankit\n",
      "Ankit\n",
      "Ankit\n",
      "Ankit\n",
      "Ankit\n",
      "Ankit\n",
      "Ankit\n",
      "Ankit\n"
     ]
    }
   ],
   "source": [
    "i=1\n",
    "while i<=20:\n",
    "    print(\"Ankit\")\n",
    "    i=i+1"
   ]
  },
  {
   "cell_type": "code",
   "execution_count": 6,
   "id": "7a5107c6",
   "metadata": {},
   "outputs": [
    {
     "name": "stdout",
     "output_type": "stream",
     "text": [
      "Surendra\n",
      "Surendra\n",
      "Surendra\n",
      "Surendra\n"
     ]
    }
   ],
   "source": [
    "a=10\n",
    "while a<=20:\n",
    "        print('Surendra')\n",
    "        a=a+3"
   ]
  },
  {
   "cell_type": "code",
   "execution_count": 4,
   "id": "8189d463",
   "metadata": {},
   "outputs": [
    {
     "name": "stdout",
     "output_type": "stream",
     "text": [
      "1\n",
      "2\n",
      "3\n",
      "4\n",
      "5\n",
      "6\n"
     ]
    }
   ],
   "source": [
    "i=1\n",
    "while i<=6:\n",
    "    print(i)\n",
    "    i=i+1 "
   ]
  },
  {
   "cell_type": "markdown",
   "id": "3d304978",
   "metadata": {},
   "source": [
    "##### i gives the value when not in a string but incase of a sting the entered string in print statement is executed"
   ]
  },
  {
   "cell_type": "code",
   "execution_count": 8,
   "id": "4553232d",
   "metadata": {},
   "outputs": [
    {
     "name": "stdout",
     "output_type": "stream",
     "text": [
      "i\n",
      "i\n",
      "i\n",
      "i\n",
      "i\n",
      "i\n"
     ]
    }
   ],
   "source": [
    "i=1\n",
    "while i<=6:\n",
    "    print('i')\n",
    "    i=i+1"
   ]
  },
  {
   "cell_type": "code",
   "execution_count": 9,
   "id": "8a2daba9",
   "metadata": {},
   "outputs": [
    {
     "name": "stdout",
     "output_type": "stream",
     "text": [
      "100\n",
      "83\n",
      "66\n",
      "49\n",
      "32\n",
      "15\n"
     ]
    }
   ],
   "source": [
    "i=100\n",
    "while i>=10:\n",
    "    print(i)\n",
    "    i=i-17"
   ]
  },
  {
   "cell_type": "code",
   "execution_count": 10,
   "id": "ed58590b",
   "metadata": {},
   "outputs": [
    {
     "name": "stdout",
     "output_type": "stream",
     "text": [
      "2\n",
      "4\n",
      "6\n",
      "8\n",
      "10\n",
      "12\n"
     ]
    }
   ],
   "source": [
    "i=1\n",
    "while i<=6:\n",
    "    print(i*2)\n",
    "    i=i+1"
   ]
  },
  {
   "cell_type": "code",
   "execution_count": 12,
   "id": "a2d3d959",
   "metadata": {},
   "outputs": [
    {
     "name": "stdout",
     "output_type": "stream",
     "text": [
      "111\n",
      "222\n",
      "333\n",
      "444\n",
      "555\n"
     ]
    }
   ],
   "source": [
    "i=111\n",
    "while i<=555:\n",
    "    print(i)\n",
    "    i=i+111"
   ]
  },
  {
   "cell_type": "code",
   "execution_count": 2,
   "id": "a66897b9",
   "metadata": {},
   "outputs": [
    {
     "name": "stdout",
     "output_type": "stream",
     "text": [
      "1\n",
      "4\n",
      "9\n",
      "16\n",
      "25\n"
     ]
    }
   ],
   "source": [
    "# to print: 1 4 9 16 25\n",
    "i=1\n",
    "while i<=5:\n",
    "    print(i**2)\n",
    "    i=i+1"
   ]
  },
  {
   "cell_type": "code",
   "execution_count": 2,
   "id": "92dd268c",
   "metadata": {},
   "outputs": [
    {
     "name": "stdout",
     "output_type": "stream",
     "text": [
      "1\n",
      "4\n",
      "9\n",
      "16\n",
      "25\n"
     ]
    }
   ],
   "source": [
    "i=1\n",
    "while i<=5:\n",
    "    print(i*i)\n",
    "    i=i+1"
   ]
  },
  {
   "cell_type": "code",
   "execution_count": 2,
   "id": "a38f15f7",
   "metadata": {},
   "outputs": [
    {
     "name": "stdout",
     "output_type": "stream",
     "text": [
      "101...101\n",
      "201...201\n",
      "301...301\n"
     ]
    }
   ],
   "source": [
    "#101...101\n",
    "#201...201\n",
    "#301...301\n",
    "\n",
    "i=101\n",
    "while i<=301:\n",
    "    print(f'{i}...{i}')\n",
    "    i=i+100"
   ]
  },
  {
   "cell_type": "code",
   "execution_count": 1,
   "id": "4829c9a4",
   "metadata": {},
   "outputs": [
    {
     "name": "stdout",
     "output_type": "stream",
     "text": [
      "2\n",
      "4\n",
      "6\n",
      "8\n",
      "10\n"
     ]
    }
   ],
   "source": [
    "#print all the even numbers between 1 to 10\n",
    "i=1\n",
    "while i<=10:\n",
    "    if i%2==0:\n",
    "        print(i)\n",
    "    i=i+1"
   ]
  },
  {
   "cell_type": "code",
   "execution_count": 1,
   "id": "e41de110",
   "metadata": {},
   "outputs": [
    {
     "name": "stdout",
     "output_type": "stream",
     "text": [
      "3\n",
      "5\n",
      "7\n",
      "9\n",
      "11\n",
      "13\n",
      "15\n",
      "17\n",
      "19\n",
      "21\n",
      "23\n",
      "25\n",
      "27\n",
      "29\n",
      "31\n",
      "33\n",
      "35\n",
      "37\n",
      "39\n",
      "41\n",
      "43\n",
      "45\n",
      "47\n",
      "49\n",
      "51\n",
      "53\n",
      "55\n",
      "57\n",
      "59\n",
      "61\n",
      "63\n",
      "65\n",
      "67\n",
      "69\n",
      "71\n",
      "73\n",
      "75\n",
      "77\n",
      "79\n",
      "81\n",
      "83\n",
      "85\n",
      "87\n",
      "89\n",
      "91\n",
      "93\n",
      "95\n",
      "97\n",
      "99\n",
      "101\n",
      "103\n",
      "105\n",
      "107\n",
      "109\n",
      "111\n",
      "113\n",
      "115\n",
      "117\n",
      "119\n",
      "121\n",
      "123\n",
      "125\n",
      "127\n",
      "129\n",
      "131\n",
      "133\n",
      "135\n",
      "137\n",
      "139\n",
      "141\n",
      "143\n",
      "145\n",
      "147\n",
      "149\n",
      "151\n",
      "153\n",
      "155\n",
      "157\n",
      "159\n",
      "161\n",
      "163\n",
      "165\n",
      "167\n",
      "169\n",
      "171\n",
      "173\n",
      "175\n",
      "177\n",
      "179\n",
      "181\n",
      "183\n",
      "185\n",
      "187\n",
      "189\n",
      "191\n",
      "193\n",
      "195\n",
      "197\n",
      "199\n",
      "201\n",
      "203\n",
      "205\n",
      "207\n",
      "209\n",
      "211\n",
      "213\n",
      "215\n",
      "217\n",
      "219\n",
      "221\n",
      "223\n",
      "225\n",
      "227\n",
      "229\n",
      "231\n",
      "233\n",
      "235\n",
      "237\n",
      "239\n",
      "241\n",
      "243\n",
      "245\n",
      "247\n",
      "249\n",
      "251\n",
      "253\n",
      "255\n",
      "257\n",
      "259\n",
      "261\n",
      "263\n",
      "265\n",
      "267\n",
      "269\n",
      "271\n",
      "273\n",
      "275\n",
      "277\n",
      "279\n",
      "281\n",
      "283\n",
      "285\n",
      "287\n",
      "289\n",
      "291\n",
      "293\n",
      "295\n",
      "297\n",
      "299\n",
      "301\n",
      "303\n",
      "305\n",
      "307\n",
      "309\n",
      "311\n",
      "313\n",
      "315\n",
      "317\n",
      "319\n",
      "321\n",
      "323\n",
      "325\n",
      "327\n",
      "329\n",
      "331\n",
      "333\n",
      "335\n",
      "337\n",
      "339\n",
      "341\n",
      "343\n",
      "345\n",
      "347\n",
      "349\n",
      "351\n",
      "353\n",
      "355\n",
      "357\n",
      "359\n",
      "361\n",
      "363\n",
      "365\n",
      "367\n",
      "369\n",
      "371\n",
      "373\n",
      "375\n",
      "377\n",
      "379\n",
      "381\n",
      "383\n",
      "385\n",
      "387\n",
      "389\n",
      "391\n",
      "393\n",
      "395\n",
      "397\n",
      "399\n",
      "401\n",
      "403\n",
      "405\n",
      "407\n",
      "409\n",
      "411\n",
      "413\n",
      "415\n",
      "417\n",
      "419\n",
      "421\n",
      "423\n",
      "425\n",
      "427\n",
      "429\n",
      "431\n",
      "433\n",
      "435\n",
      "437\n",
      "439\n",
      "441\n",
      "443\n",
      "445\n",
      "447\n",
      "449\n",
      "451\n",
      "453\n",
      "455\n",
      "457\n",
      "459\n",
      "461\n",
      "463\n",
      "465\n",
      "467\n",
      "469\n",
      "471\n",
      "473\n",
      "475\n",
      "477\n",
      "479\n",
      "481\n",
      "483\n",
      "485\n",
      "487\n",
      "489\n",
      "491\n",
      "493\n",
      "495\n",
      "497\n",
      "499\n"
     ]
    }
   ],
   "source": [
    "#print all the odd numbers between 2 to 499\n",
    "i=2\n",
    "while i<=499:\n",
    "    if i%2!=0:\n",
    "        print(i)\n",
    "    i=i+1"
   ]
  },
  {
   "cell_type": "code",
   "execution_count": 1,
   "id": "afb71d1f",
   "metadata": {},
   "outputs": [
    {
     "name": "stdout",
     "output_type": "stream",
     "text": [
      "560\n",
      "570\n",
      "580\n",
      "590\n",
      "600\n",
      "610\n",
      "620\n",
      "630\n",
      "640\n",
      "650\n",
      "660\n",
      "670\n",
      "680\n",
      "690\n",
      "700\n",
      "710\n",
      "720\n",
      "730\n",
      "740\n",
      "750\n",
      "760\n",
      "770\n",
      "780\n",
      "790\n",
      "800\n",
      "810\n",
      "820\n",
      "830\n",
      "840\n",
      "850\n",
      "860\n",
      "870\n",
      "880\n",
      "890\n",
      "900\n",
      "910\n",
      "920\n",
      "930\n",
      "940\n",
      "950\n",
      "960\n",
      "970\n",
      "980\n",
      "990\n"
     ]
    }
   ],
   "source": [
    "#print all the numbers divisible by 10 in between 555 to 999\n",
    "\n",
    "i=555\n",
    "while i<=999:\n",
    "    if i%10==0:\n",
    "        print(i)\n",
    "    i=i+1"
   ]
  },
  {
   "cell_type": "code",
   "execution_count": null,
   "id": "b445253d",
   "metadata": {},
   "outputs": [],
   "source": []
  },
  {
   "cell_type": "code",
   "execution_count": null,
   "id": "50d4a55b",
   "metadata": {},
   "outputs": [],
   "source": []
  },
  {
   "cell_type": "code",
   "execution_count": null,
   "id": "d70b2a59",
   "metadata": {},
   "outputs": [],
   "source": []
  },
  {
   "cell_type": "code",
   "execution_count": null,
   "id": "67312f5b",
   "metadata": {},
   "outputs": [],
   "source": []
  },
  {
   "cell_type": "code",
   "execution_count": null,
   "id": "07e3f874",
   "metadata": {},
   "outputs": [],
   "source": []
  }
 ],
 "metadata": {
  "kernelspec": {
   "display_name": "Python 3 (ipykernel)",
   "language": "python",
   "name": "python3"
  },
  "language_info": {
   "codemirror_mode": {
    "name": "ipython",
    "version": 3
   },
   "file_extension": ".py",
   "mimetype": "text/x-python",
   "name": "python",
   "nbconvert_exporter": "python",
   "pygments_lexer": "ipython3",
   "version": "3.9.12"
  }
 },
 "nbformat": 4,
 "nbformat_minor": 5
}
