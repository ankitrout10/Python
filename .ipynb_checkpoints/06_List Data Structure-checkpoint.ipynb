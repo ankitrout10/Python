{
 "cells": [
  {
   "cell_type": "markdown",
   "id": "bf404ec8",
   "metadata": {},
   "source": [
    "## LIST DATA STRUCTURE"
   ]
  },
  {
   "cell_type": "markdown",
   "id": "79f44c53",
   "metadata": {},
   "source": [
    "### Creation Of List In Different Ways"
   ]
  },
  {
   "cell_type": "code",
   "execution_count": 1,
   "id": "82f19a57",
   "metadata": {},
   "outputs": [
    {
     "name": "stdout",
     "output_type": "stream",
     "text": [
      "[]\n",
      "<class 'list'>\n"
     ]
    }
   ],
   "source": [
    "#1. Creation Of empty list\n",
    "l=[]\n",
    "print(l)\n",
    "print(type(l))"
   ]
  },
  {
   "cell_type": "code",
   "execution_count": 3,
   "id": "72a97e68",
   "metadata": {},
   "outputs": [
    {
     "name": "stdout",
     "output_type": "stream",
     "text": [
      "Enter a List: [10,20,30,40,50]\n",
      "[10, 20, 30, 40, 50]\n"
     ]
    }
   ],
   "source": [
    "#2.Creation Of list using eval function\n",
    "l=eval(input(\"Enter a List: \"))\n",
    "print(l)"
   ]
  },
  {
   "cell_type": "code",
   "execution_count": 4,
   "id": "45f4feb5",
   "metadata": {},
   "outputs": [
    {
     "name": "stdout",
     "output_type": "stream",
     "text": [
      "[10, 12, 14, 16, 18, 20]\n"
     ]
    }
   ],
   "source": [
    "#3.Creation Of List Using List Function\n",
    "l=list((10,12,14,16,18,20))\n",
    "print(l)"
   ]
  },
  {
   "cell_type": "code",
   "execution_count": 5,
   "id": "f0021f1a",
   "metadata": {},
   "outputs": [
    {
     "name": "stdout",
     "output_type": "stream",
     "text": [
      "[0, 1, 2, 3, 4, 5, 6, 7, 8, 9]\n"
     ]
    }
   ],
   "source": [
    "# ex creation of list using List function with range\n",
    "l=list(range(10))\n",
    "print(l)"
   ]
  },
  {
   "cell_type": "code",
   "execution_count": 6,
   "id": "031d27f3",
   "metadata": {},
   "outputs": [
    {
     "name": "stdout",
     "output_type": "stream",
     "text": [
      "[40, 38, 36, 34, 32]\n"
     ]
    }
   ],
   "source": [
    "l=list(range(40,30,-2))\n",
    "print(l)"
   ]
  },
  {
   "cell_type": "code",
   "execution_count": 7,
   "id": "cd89edb2",
   "metadata": {},
   "outputs": [
    {
     "name": "stdout",
     "output_type": "stream",
     "text": [
      "[23, 33, 49, 'surendra', True, 9.9]\n"
     ]
    }
   ],
   "source": [
    "#4.Creation Of List Directly\n",
    "l=[23,33,49,'surendra',True,9.9]\n",
    "print(l)"
   ]
  },
  {
   "cell_type": "code",
   "execution_count": 9,
   "id": "133face1",
   "metadata": {},
   "outputs": [
    {
     "name": "stdout",
     "output_type": "stream",
     "text": [
      "['Hello', 'Surendra', 'Kumar', 'Panda']\n"
     ]
    }
   ],
   "source": [
    "msg=\"Hello Surendra Kumar Panda\"\n",
    "print(msg.split())"
   ]
  },
  {
   "cell_type": "code",
   "execution_count": 11,
   "id": "09f0469b",
   "metadata": {
    "scrolled": true
   },
   "outputs": [
    {
     "name": "stdout",
     "output_type": "stream",
     "text": [
      "['10', '5', '1997']\n"
     ]
    }
   ],
   "source": [
    "msg=\"10.5.1997\"\n",
    "print(msg.split('.'))"
   ]
  },
  {
   "cell_type": "code",
   "execution_count": 12,
   "id": "8921114b",
   "metadata": {},
   "outputs": [
    {
     "name": "stdout",
     "output_type": "stream",
     "text": [
      "['10', '5', '1997']\n"
     ]
    }
   ],
   "source": [
    "msg=\"10-5-1997\"\n",
    "print(msg.split('-'))"
   ]
  },
  {
   "cell_type": "code",
   "execution_count": 5,
   "id": "d23ce378",
   "metadata": {},
   "outputs": [
    {
     "name": "stdout",
     "output_type": "stream",
     "text": [
      "['hello', 'ythonlanguage']\n"
     ]
    }
   ],
   "source": [
    "msg=\"hellopythonlanguage\"\n",
    "print(msg.split('p'))"
   ]
  },
  {
   "cell_type": "code",
   "execution_count": 1,
   "id": "ffa3ca81",
   "metadata": {},
   "outputs": [
    {
     "name": "stdout",
     "output_type": "stream",
     "text": [
      "Enter Your First and Last name by using space: Surendra Kumar Panda\n",
      "['Surendra', 'Kumar', 'Panda']\n",
      "<class 'list'>\n"
     ]
    }
   ],
   "source": [
    "#5. Creation of list using split() function\n",
    "\n",
    "name=input('Enter Your First and Last name by using space: ')\n",
    "l=name.split()\n",
    "print(l)\n",
    "print(type(l))"
   ]
  },
  {
   "cell_type": "code",
   "execution_count": 2,
   "id": "0d262632",
   "metadata": {},
   "outputs": [
    {
     "name": "stdout",
     "output_type": "stream",
     "text": [
      "enter dob using .(dot) separator10.50.9963\n",
      "['10', '50', '9963']\n"
     ]
    }
   ],
   "source": [
    "# program enter your dob using . separator and converted to list and store data , month\n",
    "\n",
    "dob=input('enter dob using .(dot) separator')\n",
    "l=dob.split('.')\n",
    "print(l)"
   ]
  },
  {
   "cell_type": "code",
   "execution_count": 3,
   "id": "c1a75425",
   "metadata": {},
   "outputs": [
    {
     "name": "stdout",
     "output_type": "stream",
     "text": [
      "enter dob using hipen(-) seperator 08-10-2002\n",
      "['08', '10', '2002']\n"
     ]
    }
   ],
   "source": [
    "# program enter your dob using - seperator and converted to list and store date , month\n",
    "\n",
    "dob=input('enter dob using hipen(-) seperator ')\n",
    "l=dob.split('-')\n",
    "print(l)"
   ]
  },
  {
   "cell_type": "code",
   "execution_count": 4,
   "id": "1ed53db2",
   "metadata": {},
   "outputs": [
    {
     "name": "stdout",
     "output_type": "stream",
     "text": [
      "10\n",
      "455\n",
      "[50, 'surendra', 'priyanka']\n"
     ]
    }
   ],
   "source": [
    "# list elements accessing\n",
    "l=[10,20,50,'surendra','priyanka',455,89,75.59]\n",
    "print(l[0])\n",
    "print(l[-3])\n",
    "print(l[2:5])"
   ]
  },
  {
   "cell_type": "markdown",
   "id": "94c1a519",
   "metadata": {},
   "source": [
    "## List Traversing"
   ]
  },
  {
   "cell_type": "code",
   "execution_count": 1,
   "id": "423dbe20",
   "metadata": {},
   "outputs": [
    {
     "name": "stdout",
     "output_type": "stream",
     "text": [
      "[23, 33, 43, 53, 63]\n"
     ]
    }
   ],
   "source": [
    "l=[23,33,43,53,63]\n",
    "print(l)"
   ]
  },
  {
   "cell_type": "code",
   "execution_count": 4,
   "id": "98265365",
   "metadata": {},
   "outputs": [
    {
     "name": "stdout",
     "output_type": "stream",
     "text": [
      "23\n",
      "33\n",
      "43\n",
      "53\n",
      "63\n"
     ]
    }
   ],
   "source": [
    "#list traversing(forward) using for loop:\n",
    "\n",
    "l=[23,33,43,53,63]\n",
    "for i in l:\n",
    "    print(i)"
   ]
  },
  {
   "cell_type": "code",
   "execution_count": 7,
   "id": "39826f7b",
   "metadata": {},
   "outputs": [
    {
     "name": "stdout",
     "output_type": "stream",
     "text": [
      "63\n",
      "53\n",
      "43\n",
      "33\n",
      "23\n"
     ]
    }
   ],
   "source": [
    "#list Traversing(backward) using for loop:\n",
    "\n",
    "l=[23,33,43,53,63]\n",
    "for i in range(4,-1,-1):\n",
    "    print(l[i])"
   ]
  },
  {
   "cell_type": "code",
   "execution_count": 11,
   "id": "1b8fc3a7",
   "metadata": {},
   "outputs": [
    {
     "name": "stdout",
     "output_type": "stream",
     "text": [
      "123\n",
      "113\n",
      "103\n",
      "93\n",
      "83\n",
      "73\n",
      "63\n",
      "53\n",
      "43\n",
      "33\n",
      "23\n"
     ]
    }
   ],
   "source": [
    "#list traversing(backword) using for loop\n",
    "\n",
    "l=[23,33,43,53,63,73,83,93,103,113,123]\n",
    "\n",
    "for i in range(len(l)-1,-1,-1):\n",
    "    print(l[i])"
   ]
  },
  {
   "cell_type": "code",
   "execution_count": 15,
   "id": "003dc4d8",
   "metadata": {},
   "outputs": [
    {
     "name": "stdout",
     "output_type": "stream",
     "text": [
      "23 is placed at 0 index\n",
      "33 is placed at 1 index\n",
      "43 is placed at 2 index\n",
      "53 is placed at 3 index\n",
      "63 is placed at 4 index\n"
     ]
    }
   ],
   "source": [
    "# Traverse a list to print both value as well as index in forward direction:\n",
    "\n",
    "l=[23,33,43,53,63]\n",
    "for i in range(0,len(l)):\n",
    "    print(f'{l[i]} is placed at {i} index')"
   ]
  },
  {
   "cell_type": "code",
   "execution_count": 19,
   "id": "ba7c535b",
   "metadata": {},
   "outputs": [
    {
     "name": "stdout",
     "output_type": "stream",
     "text": [
      "63 is present at 4 index\n",
      "53 is present at 3 index\n",
      "43 is present at 2 index\n",
      "33 is present at 1 index\n",
      "23 is present at 0 index\n"
     ]
    }
   ],
   "source": [
    "# Traverse a list to print both value as well as index in backward direction:\n",
    "\n",
    "l=[23,33,43,53,63]\n",
    "for i in range(len(l)-1,-1,-1):\n",
    "    print(f'{l[i]} is present at {i} index')"
   ]
  },
  {
   "cell_type": "code",
   "execution_count": 24,
   "id": "2a360cf0",
   "metadata": {},
   "outputs": [
    {
     "name": "stdout",
     "output_type": "stream",
     "text": [
      "23 is present at 0 as well as -8 index\n",
      "33 is present at 1 as well as -7 index\n",
      "43 is present at 2 as well as -6 index\n",
      "53 is present at 3 as well as -5 index\n",
      "63 is present at 4 as well as -4 index\n",
      "73 is present at 5 as well as -3 index\n",
      "83 is present at 6 as well as -2 index\n",
      "93 is present at 7 as well as -1 index\n"
     ]
    }
   ],
   "source": [
    "# Traverse a list to print the value along with index in both forward and backward direction:\n",
    "\n",
    "l=[23,33,43,53,63,73,83,93]\n",
    "for i in range(0,len(l)):\n",
    "    print(f'{l[i]} is present at {i} as well as {i-len(l)} index')"
   ]
  },
  {
   "cell_type": "code",
   "execution_count": 3,
   "id": "d89a6aa3",
   "metadata": {},
   "outputs": [
    {
     "name": "stdout",
     "output_type": "stream",
     "text": [
      "23\n",
      "33\n",
      "43\n",
      "53\n",
      "63\n"
     ]
    }
   ],
   "source": [
    "# Traverse a list  forward by using while loop\n",
    "\n",
    "l=[23,33,43,53,63]\n",
    "i=0\n",
    "while i<=4:\n",
    "    print(l[i])\n",
    "    i=i+1"
   ]
  },
  {
   "cell_type": "code",
   "execution_count": 7,
   "id": "9f193ab5",
   "metadata": {},
   "outputs": [
    {
     "name": "stdout",
     "output_type": "stream",
     "text": [
      "63\n",
      "53\n",
      "43\n",
      "33\n",
      "23\n"
     ]
    }
   ],
   "source": [
    "# Traverse a list backward by using while loop\n",
    "\n",
    "l=[23,33,43,53,63]\n",
    "i=4\n",
    "while i>=0:\n",
    "    print(l[i])\n",
    "    i=i-1\n",
    "    "
   ]
  },
  {
   "cell_type": "code",
   "execution_count": 3,
   "id": "eb8df2cf",
   "metadata": {},
   "outputs": [
    {
     "name": "stdout",
     "output_type": "stream",
     "text": [
      "23 is present at 0 index\n",
      "33 is present at 1 index\n",
      "43 is present at 2 index\n",
      "53 is present at 3 index\n",
      "63 is present at 4 index\n"
     ]
    }
   ],
   "source": [
    "# Traverse a list forward by using while loop and also print the index:\n",
    "l=[23,33,43,53,63]\n",
    "\n",
    "i=0\n",
    "while i<=len(l)-1:\n",
    "    print(f'{l[i]} is present at {i} index')\n",
    "    i=i+1"
   ]
  },
  {
   "cell_type": "code",
   "execution_count": 7,
   "id": "8acfd704",
   "metadata": {},
   "outputs": [
    {
     "name": "stdout",
     "output_type": "stream",
     "text": [
      "63 is prent at 4 index\n",
      "53 is prent at 3 index\n",
      "43 is prent at 2 index\n",
      "33 is prent at 1 index\n",
      "23 is prent at 0 index\n"
     ]
    }
   ],
   "source": [
    "# Traverse a list backward by using while loop and also print the index:\n",
    "l=[23,33,43,53,63]\n",
    "\n",
    "i=len(l)-1\n",
    "while i>=0:\n",
    "    print(f'{l[i]} is prent at {i} index')\n",
    "    i=i-1"
   ]
  },
  {
   "cell_type": "code",
   "execution_count": 9,
   "id": "2a8c710e",
   "metadata": {},
   "outputs": [
    {
     "name": "stdout",
     "output_type": "stream",
     "text": [
      "23 is present at -5 index\n",
      "33 is present at -4 index\n",
      "43 is present at -3 index\n",
      "53 is present at -2 index\n",
      "63 is present at -1 index\n"
     ]
    }
   ],
   "source": [
    "# Traverse a list forward using while loop and also print the negative index:\n",
    "\n",
    "l=[23,33,43,53,63]\n",
    "\n",
    "i=0\n",
    "while i<=len(l)-1:\n",
    "    print(f'{l[i]} is present at {i-len(l)} index')\n",
    "    i=i+1\n",
    "    "
   ]
  },
  {
   "cell_type": "code",
   "execution_count": 11,
   "id": "4f6b8165",
   "metadata": {},
   "outputs": [
    {
     "name": "stdout",
     "output_type": "stream",
     "text": [
      "23 is present at index 0 as well as -5\n",
      "33 is present at index 1 as well as -4\n",
      "43 is present at index 2 as well as -3\n",
      "53 is present at index 3 as well as -2\n",
      "63 is present at index 4 as well as -1\n"
     ]
    }
   ],
   "source": [
    "# Traverse a list forward and print both the index values\n",
    "\n",
    "i=0\n",
    "while i<=len(l)-1:\n",
    "    print(f'{l[i]} is present at index {i} as well as {i-len(l)}')\n",
    "    i=i+1\n"
   ]
  },
  {
   "cell_type": "code",
   "execution_count": 12,
   "id": "cadca515",
   "metadata": {},
   "outputs": [
    {
     "name": "stdout",
     "output_type": "stream",
     "text": [
      "63 is present at both 4 and -1 index\n",
      "53 is present at both 3 and -2 index\n",
      "43 is present at both 2 and -3 index\n",
      "33 is present at both 1 and -4 index\n",
      "23 is present at both 0 and -5 index\n"
     ]
    }
   ],
   "source": [
    "# Traverse a list backward and print both the index values\n",
    "\n",
    "i=len(l)-1\n",
    "while i>=0:\n",
    "    print(f'{l[i]} is present at both {i} and {i-len(l)} index')\n",
    "    i=i-1"
   ]
  },
  {
   "cell_type": "markdown",
   "id": "468a2df5",
   "metadata": {},
   "source": [
    "### Linear/Sequential Search Operation"
   ]
  },
  {
   "cell_type": "code",
   "execution_count": 14,
   "id": "f33d37c3",
   "metadata": {},
   "outputs": [
    {
     "name": "stdout",
     "output_type": "stream",
     "text": [
      "Enter the element to search: 51\n",
      "Element Not Found\n",
      "Element Not Found\n",
      "Element Not Found\n",
      "Element Not Found\n",
      "Element Not Found\n"
     ]
    }
   ],
   "source": [
    "choice=int(input(\"Enter the element to search: \"))\n",
    "for i in l:\n",
    "    if choice==i:\n",
    "        print(\"Element Found\")\n",
    "    else:\n",
    "        print(\"Element Not Found\")"
   ]
  },
  {
   "cell_type": "code",
   "execution_count": 13,
   "id": "556fc857",
   "metadata": {},
   "outputs": [
    {
     "name": "stdout",
     "output_type": "stream",
     "text": [
      "Enter the element to search: 33\n",
      "Element Not Found\n",
      "Element Found\n",
      "Element Not Found\n",
      "Element Not Found\n",
      "Element Not Found\n"
     ]
    }
   ],
   "source": [
    "# case\n",
    "\n",
    "l=[23,33,43,53,63]\n",
    "\n",
    "choice=int(input(\"Enter the element to search: \"))\n",
    "\n",
    "for i in l:\n",
    "    if choice==i:\n",
    "        print(\"Element Found\")\n",
    "    else:\n",
    "        print(\"Element Not Found\")"
   ]
  },
  {
   "cell_type": "code",
   "execution_count": 17,
   "id": "c1df1041",
   "metadata": {},
   "outputs": [
    {
     "name": "stdout",
     "output_type": "stream",
     "text": [
      "Enter the element to be searched: 43\n",
      "Search successful\n"
     ]
    }
   ],
   "source": [
    "# Solution 1:\n",
    "\n",
    "l=[23,33,43,53,63]\n",
    "\n",
    "choice=int(input('Enter the element to be searched: '))\n",
    "Found=False\n",
    "\n",
    "for i in l:\n",
    "    if choice==i:\n",
    "        Found=True\n",
    "    \n",
    "if Found==True:\n",
    "    print(\"Search successful\")\n",
    "else:\n",
    "    print(\"Search Unsucessful\")"
   ]
  },
  {
   "cell_type": "code",
   "execution_count": 19,
   "id": "c5eca214",
   "metadata": {},
   "outputs": [
    {
     "name": "stdout",
     "output_type": "stream",
     "text": [
      "Enter the element to search: 43\n",
      "Element Found\n"
     ]
    }
   ],
   "source": [
    "l=[23,43,53,63,73]\n",
    "\n",
    "choice=int(input('Enter the element to search: '))\n",
    "\n",
    "Found=0\n",
    "\n",
    "for i in l:\n",
    "    if choice==i:\n",
    "        Found=1\n",
    "        \n",
    "if Found==1:\n",
    "    print('Element Found')\n",
    "else:\n",
    "    print('Element not found')"
   ]
  },
  {
   "cell_type": "code",
   "execution_count": 20,
   "id": "7ce46bf8",
   "metadata": {},
   "outputs": [
    {
     "name": "stdout",
     "output_type": "stream",
     "text": [
      "Enter the element to search: 63\n",
      "Element Found\n"
     ]
    }
   ],
   "source": [
    "# solution 2\n",
    "\n",
    "l=[23,33,43,53,63]\n",
    "choice=int(input('Enter the element to search: '))\n",
    "\n",
    "if choice in l:\n",
    "    print(\"Element Found\")\n",
    "else:\n",
    "    print(\"Element not found\")"
   ]
  },
  {
   "cell_type": "code",
   "execution_count": 21,
   "id": "f00491fd",
   "metadata": {},
   "outputs": [
    {
     "name": "stdout",
     "output_type": "stream",
     "text": [
      "Enter an elemenet to search : 77\n",
      "elemenet not found\n"
     ]
    }
   ],
   "source": [
    "# solution 2 in simple way\n",
    "\n",
    "l=[23,33,43,53,63]\n",
    "\n",
    "choice=int(input('Enter an elemenet to search : '))\n",
    "\n",
    "print('element found') if choice in l else print(\"elemenet not found\")"
   ]
  },
  {
   "cell_type": "code",
   "execution_count": 30,
   "id": "f5697f2e",
   "metadata": {},
   "outputs": [
    {
     "ename": "SyntaxError",
     "evalue": "invalid syntax (1074925048.py, line 4)",
     "output_type": "error",
     "traceback": [
      "\u001b[1;36m  Input \u001b[1;32mIn [30]\u001b[1;36m\u001b[0m\n\u001b[1;33m    print('element found') if choice=int(input('Enter a elemenet to search : ')) in l else print('Element not Found')\u001b[0m\n\u001b[1;37m                                    ^\u001b[0m\n\u001b[1;31mSyntaxError\u001b[0m\u001b[1;31m:\u001b[0m invalid syntax\n"
     ]
    }
   ],
   "source": [
    "# solution 2 in simple way\n",
    "l=[23,33,43,53,63]\n",
    "\n",
    "print('element found') if choice=int(input('Enter an elemenet to search : ')) in l else print('Element not Found')"
   ]
  },
  {
   "cell_type": "code",
   "execution_count": 29,
   "id": "af3a4d62",
   "metadata": {},
   "outputs": [
    {
     "name": "stdout",
     "output_type": "stream",
     "text": [
      "Enter a elemenet to search : 44\n",
      "Element not found\n"
     ]
    }
   ],
   "source": [
    "#soultion 3\n",
    "print('element found') if int(input('Enter an elemenet to search : ')) in [23,33,43,53,63] else print('Element not found')"
   ]
  },
  {
   "cell_type": "code",
   "execution_count": 28,
   "id": "e6a581e0",
   "metadata": {},
   "outputs": [
    {
     "name": "stdout",
     "output_type": "stream",
     "text": [
      "7\n"
     ]
    }
   ],
   "source": [
    "#find out the lenegth of a list without using len function\n",
    "l=[23,33,43,53,63,4,3]\n",
    "size=0\n",
    "for i in l:\n",
    "    size=size+1\n",
    "\n",
    "print(size)"
   ]
  },
  {
   "cell_type": "markdown",
   "id": "6899a7fc",
   "metadata": {},
   "source": [
    "## List Methods"
   ]
  },
  {
   "cell_type": "code",
   "execution_count": 2,
   "id": "64113c80",
   "metadata": {},
   "outputs": [
    {
     "name": "stdout",
     "output_type": "stream",
     "text": [
      "[10, 20, 30, 40]\n"
     ]
    }
   ],
   "source": [
    "# Append()\n",
    "# Add at the end\n",
    "l=[10,20,30]\n",
    "l.append(40)\n",
    "print(l)"
   ]
  },
  {
   "cell_type": "code",
   "execution_count": 2,
   "id": "e3457e80",
   "metadata": {},
   "outputs": [
    {
     "name": "stdout",
     "output_type": "stream",
     "text": [
      "['Surendra', 'Rahul', 'Priyanka', 'Jack', 'Zini']\n"
     ]
    }
   ],
   "source": [
    "# appending 5 student names in an empty list\n",
    "\n",
    "names=[]\n",
    "names.append('Surendra')\n",
    "names.append('Rahul')\n",
    "names.append('Priyanka')\n",
    "names.append('Jack')\n",
    "names.append('Zini')\n",
    "\n",
    "print(names)"
   ]
  },
  {
   "cell_type": "code",
   "execution_count": 1,
   "id": "b12878ef",
   "metadata": {},
   "outputs": [
    {
     "name": "stdout",
     "output_type": "stream",
     "text": [
      "Enter the name of the student: Surendra\n",
      "Enter the name of the student: Priyanka\n",
      "Enter the name of the student: Rahul\n",
      "Enter the name of the student: Zini\n",
      "Enter the name of the student: Jack\n",
      "['Surendra', 'Priyanka', 'Rahul', 'Zini', 'Jack']\n"
     ]
    }
   ],
   "source": [
    "# Create an empty list and append 5 students names using loop:\n",
    "names=[]\n",
    "\n",
    "for i in range(5):\n",
    "    n=input('Enter the name of the student: ')\n",
    "    names.append(n)\n",
    "    \n",
    "print(names) # Directly list is being printed"
   ]
  },
  {
   "cell_type": "code",
   "execution_count": 3,
   "id": "486efc6b",
   "metadata": {},
   "outputs": [
    {
     "name": "stdout",
     "output_type": "stream",
     "text": [
      "Enter the name of the Student: Surendra\n",
      "Enter the name of the Student: Priyanka\n",
      "Enter the name of the Student: Rahul\n",
      "Enter the name of the Student: Jack\n",
      "Enter the name of the Student: Zini\n",
      "Surendra\n",
      "Priyanka\n",
      "Rahul\n",
      "Jack\n",
      "Zini\n"
     ]
    }
   ],
   "source": [
    "# Create an empty list and append 5 students names using loop:\n",
    "names=[]\n",
    "\n",
    "for i in range(5):\n",
    "    n=input('Enter the name of the Student: ')\n",
    "    names.append(n)\n",
    "for i in names:\n",
    "    print(i)    #list traversing\n",
    "    "
   ]
  },
  {
   "cell_type": "code",
   "execution_count": 4,
   "id": "bae5fe23",
   "metadata": {},
   "outputs": [
    {
     "name": "stdout",
     "output_type": "stream",
     "text": [
      "Enter the number of students to be added in the list: 6\n",
      "Enter the student name: Surendra\n",
      "Enter the student name: Priyanka\n",
      "Enter the student name: Rahul\n",
      "Enter the student name: Jack\n",
      "Enter the student name: Zini\n",
      "Enter the student name: Rocky\n",
      "['Surendra', 'Priyanka', 'Rahul', 'Jack', 'Zini', 'Rocky']\n"
     ]
    }
   ],
   "source": [
    "# Create an empty list to append n number of students using loop.\n",
    "\n",
    "names=[]\n",
    "\n",
    "no=int(input('Enter the number of students to be added in the list: '))\n",
    "for i in range(no):\n",
    "    n=input('Enter the student name: ')\n",
    "    names.append(n)\n",
    "print(names)    "
   ]
  },
  {
   "cell_type": "code",
   "execution_count": 6,
   "id": "c70db16f",
   "metadata": {},
   "outputs": [
    {
     "name": "stdout",
     "output_type": "stream",
     "text": [
      "[0, 0, 0, 0, 0, 0, 0, 0, 0, 0, 0, 0, 0, 0, 0, 0, 0, 0, 0, 0]\n"
     ]
    }
   ],
   "source": [
    "# Create a list by appending 20 students\n",
    "\n",
    "nums=[]\n",
    "for i in range(20):\n",
    "    nums.append(0)\n",
    "print(nums)    "
   ]
  },
  {
   "cell_type": "code",
   "execution_count": 9,
   "id": "449aeb6f",
   "metadata": {},
   "outputs": [
    {
     "name": "stdout",
     "output_type": "stream",
     "text": [
      "Enter a book name: c language\n",
      "Enter the price of the book: 455\n",
      "Enter a book name: Python\n",
      "Enter the price of the book: 750\n",
      "Enter a book name: Java\\\n",
      "Enter the price of the book: 728\n",
      "['c language', 'Python', 'Java\\\\']\n",
      "[455.0, 750.0, 728.0]\n"
     ]
    }
   ],
   "source": [
    "# Create two list book_list and price_list then add 3 book as well as price then display book and it's price.\n",
    "\n",
    "book_list=[]\n",
    "price_list=[]\n",
    "\n",
    "for i in range(3):\n",
    "    bname=input('Enter a book name: ')\n",
    "    bprice=float(input(\"Enter the price of the book: \"))\n",
    "    book_list.append(bname)\n",
    "    price_list.append(bprice)\n",
    "\n",
    "print(book_list)\n",
    "print(price_list)"
   ]
  },
  {
   "cell_type": "code",
   "execution_count": 10,
   "id": "f9ec57f2",
   "metadata": {},
   "outputs": [
    {
     "name": "stdout",
     "output_type": "stream",
     "text": [
      "Enter Book Name : c language\n",
      "Enter Book Price 455\n",
      "Enter Book Name : Python\n",
      "Enter Book Price 750\n",
      "Enter Book Name : Java\n",
      "Enter Book Price 728\n",
      "c language (455.0/-)\n",
      "Python (750.0/-)\n",
      "Java (728.0/-)\n"
     ]
    }
   ],
   "source": [
    "#create 2 list book_list and price_list then add 3 book as well as price \n",
    "# then display book and its price\n",
    "book_list=[]\n",
    "price_list=[]\n",
    "for i in range(3):\n",
    "    bname=input('Enter Book Name : ')\n",
    "    bprice=float(input('Enter Book Price '))\n",
    "    book_list.append(bname)\n",
    "    price_list.append(bprice)\n",
    "    \n",
    "for i in range(3):\n",
    "    print(f'{book_list[i]} ({price_list[i]}/-)')"
   ]
  },
  {
   "cell_type": "code",
   "execution_count": null,
   "id": "7d516f5e",
   "metadata": {},
   "outputs": [],
   "source": [
    "#create 2 list book_list and price_list then add 3 book as well as price , then enter book name to see the price\n",
    "\n",
    "book_list=[]\n",
    "price_list=[]\n",
    "for i in range(3):\n",
    "    bname=input('Enter Book Name : ')\n",
    "    bprice=float(input('Enter Book Price '))\n",
    "    book_list.append(bname)\n",
    "    price_list.append(bprice)\n",
    "\n",
    "choice=(input('Enter the Book name to know the price: '))\n",
    "\n",
    "if choice in book_list:\n",
    "    print(f'{price_list[i]}')\n",
    "else:\n",
    "    print(\"Book not found\") "
   ]
  },
  {
   "cell_type": "code",
   "execution_count": null,
   "id": "3970df2d",
   "metadata": {},
   "outputs": [],
   "source": [
    "# WAP create a list of indian teams performance in  T20 world cup\n"
   ]
  },
  {
   "cell_type": "code",
   "execution_count": 19,
   "id": "ee1d1111",
   "metadata": {},
   "outputs": [
    {
     "name": "stdout",
     "output_type": "stream",
     "text": [
      "[1, 2, 3, 4, 5, 6, 7, 8, 9, 10, 11, 12, 13, 14, 15, 16, 17, 18, 19, 20]\n",
      "3\n",
      "6\n",
      "9\n",
      "12\n",
      "15\n",
      "18\n"
     ]
    }
   ],
   "source": [
    "# WAP to create a list by adding elements from 1 to 20 and those divisible by 3.\n",
    "l=[]\n",
    "for i in range(1,21):\n",
    "    l.append(i)\n",
    "print(l)\n",
    "\n",
    "for i in l:\n",
    "    if i%3==0:\n",
    "        print(i)   "
   ]
  },
  {
   "cell_type": "code",
   "execution_count": 13,
   "id": "9db6856e",
   "metadata": {
    "scrolled": true
   },
   "outputs": [
    {
     "name": "stdout",
     "output_type": "stream",
     "text": [
      "[1, 2, 3, 4, 5, 6, 7, 8, 9, 10, 11, 12, 13, 14, 15, 16, 17, 18, 19, 20]\n",
      "1\n",
      "4\n",
      "3\n",
      "16\n",
      "5\n",
      "36\n",
      "7\n",
      "64\n",
      "9\n",
      "100\n",
      "11\n",
      "144\n",
      "13\n",
      "196\n",
      "15\n",
      "256\n",
      "17\n",
      "324\n",
      "19\n",
      "400\n"
     ]
    }
   ],
   "source": [
    "# WAP to create a list by adding elements from 1 to 20 if even square it , if odd simply write it.\n",
    "l=[]\n",
    "for i in range(1,21):\n",
    "    l.append(i)\n",
    "print(l)\n",
    "\n",
    "for i in l:\n",
    "    if i%2==0:\n",
    "        print(i*i)\n",
    "    else:\n",
    "        print(i)"
   ]
  },
  {
   "cell_type": "code",
   "execution_count": 16,
   "id": "164120f8",
   "metadata": {},
   "outputs": [
    {
     "name": "stdout",
     "output_type": "stream",
     "text": [
      "[23, 33, 789, 43, 53, 63]\n",
      "[23, 1000, 33, 789, 43, 53, 63]\n"
     ]
    }
   ],
   "source": [
    "# Insert:Add at a particular location\n",
    "\n",
    "l=[23,33,43,53,63]\n",
    "l.insert(2,789)\n",
    "print(l)\n",
    "l.insert(1,1000)\n",
    "print(l)"
   ]
  },
  {
   "cell_type": "code",
   "execution_count": 2,
   "id": "6429323d",
   "metadata": {},
   "outputs": [
    {
     "name": "stdout",
     "output_type": "stream",
     "text": [
      "[23, 33, 789, 43, 53, 63]\n",
      "[23, 1000, 33, 789, 43, 53, 63]\n",
      "[23, 1000, 33, 789, 9999, 43, 53, 63]\n"
     ]
    }
   ],
   "source": [
    "# Insert:Add at a particular location\n",
    "\n",
    "l=[23,33,43,53,63]\n",
    "l.insert(2,789)\n",
    "print(l)\n",
    "l.insert(1,1000)\n",
    "print(l)\n",
    "l.insert(-3,9999)\n",
    "print(l) \n",
    "##Note: If the specified positive index crossed the maximum index, then it will be inserted at the end of the list ."
   ]
  },
  {
   "cell_type": "code",
   "execution_count": 3,
   "id": "43c60464",
   "metadata": {},
   "outputs": [
    {
     "name": "stdout",
     "output_type": "stream",
     "text": [
      "[23, 33, 43, 53, 63, 789]\n"
     ]
    }
   ],
   "source": [
    "l = [23, 33, 43, 53, 63]\n",
    "l.insert(20, 789)\n",
    "print(l)  ##Here in the above code we are trying to insert 789 at index 20 but index 20 is not available so it will be inserted at the end of the list ."
   ]
  },
  {
   "cell_type": "code",
   "execution_count": 4,
   "id": "53a53316",
   "metadata": {},
   "outputs": [
    {
     "name": "stdout",
     "output_type": "stream",
     "text": [
      "[789, 23, 33, 43, 53, 63]\n"
     ]
    }
   ],
   "source": [
    "##Note: If the specified negative index crossed the minimum index, then it will be inserted at the beginning of the list.\n",
    "\n",
    "l = [23, 33, 43, 53, 63]\n",
    "l.insert(-20, 789)\n",
    "print(l) # [789, 23, 33, 43, 53, 63]"
   ]
  },
  {
   "cell_type": "code",
   "execution_count": 5,
   "id": "fbd5569c",
   "metadata": {},
   "outputs": [
    {
     "name": "stdout",
     "output_type": "stream",
     "text": [
      "3\n",
      "2\n",
      "0\n"
     ]
    }
   ],
   "source": [
    "##3. count()\n",
    "##It is used to count the number of times an element appears in the list.\n",
    "\n",
    "l = [23, 33, 23, 43, 53, 23, 63, 33]\n",
    "print(l.count(23)) \n",
    "print(l.count(33)) \n",
    "print(l.count(99)) "
   ]
  },
  {
   "cell_type": "code",
   "execution_count": 6,
   "id": "ca17a752",
   "metadata": {},
   "outputs": [
    {
     "name": "stdout",
     "output_type": "stream",
     "text": [
      "0\n"
     ]
    },
    {
     "ename": "ValueError",
     "evalue": "8785 is not in list",
     "output_type": "error",
     "traceback": [
      "\u001b[1;31m---------------------------------------------------------------------------\u001b[0m",
      "\u001b[1;31mValueError\u001b[0m                                Traceback (most recent call last)",
      "Input \u001b[1;32mIn [6]\u001b[0m, in \u001b[0;36m<cell line: 5>\u001b[1;34m()\u001b[0m\n\u001b[0;32m      3\u001b[0m l\u001b[38;5;241m=\u001b[39m[\u001b[38;5;241m23\u001b[39m,\u001b[38;5;241m33\u001b[39m,\u001b[38;5;241m44\u001b[39m,\u001b[38;5;241m43\u001b[39m,\u001b[38;5;241m23\u001b[39m,\u001b[38;5;241m12\u001b[39m]\n\u001b[0;32m      4\u001b[0m \u001b[38;5;28mprint\u001b[39m(l\u001b[38;5;241m.\u001b[39mindex(\u001b[38;5;241m23\u001b[39m))\n\u001b[1;32m----> 5\u001b[0m \u001b[38;5;28mprint\u001b[39m(\u001b[43ml\u001b[49m\u001b[38;5;241;43m.\u001b[39;49m\u001b[43mindex\u001b[49m\u001b[43m(\u001b[49m\u001b[38;5;241;43m8785\u001b[39;49m\u001b[43m)\u001b[49m)\n",
      "\u001b[1;31mValueError\u001b[0m: 8785 is not in list"
     ]
    }
   ],
   "source": [
    "#4. index()\n",
    "# It is used to return the specified element index.\n",
    "l=[23,33,44,43,23,12]\n",
    "print(l.index(23))\n",
    "print(l.index(8785))"
   ]
  },
  {
   "cell_type": "code",
   "execution_count": 7,
   "id": "4adbd23d",
   "metadata": {},
   "outputs": [
    {
     "name": "stdout",
     "output_type": "stream",
     "text": [
      "[23, 33, 44, 43, 23, 12]\n",
      "[33, 44, 43, 23, 12]\n"
     ]
    },
    {
     "ename": "ValueError",
     "evalue": "list.remove(x): x not in list",
     "output_type": "error",
     "traceback": [
      "\u001b[1;31m---------------------------------------------------------------------------\u001b[0m",
      "\u001b[1;31mValueError\u001b[0m                                Traceback (most recent call last)",
      "Input \u001b[1;32mIn [7]\u001b[0m, in \u001b[0;36m<cell line: 8>\u001b[1;34m()\u001b[0m\n\u001b[0;32m      6\u001b[0m l\u001b[38;5;241m.\u001b[39mremove(\u001b[38;5;241m23\u001b[39m)\n\u001b[0;32m      7\u001b[0m \u001b[38;5;28mprint\u001b[39m(l)\n\u001b[1;32m----> 8\u001b[0m \u001b[43ml\u001b[49m\u001b[38;5;241;43m.\u001b[39;49m\u001b[43mremove\u001b[49m\u001b[43m(\u001b[49m\u001b[38;5;241;43m856\u001b[39;49m\u001b[43m)\u001b[49m\n",
      "\u001b[1;31mValueError\u001b[0m: list.remove(x): x not in list"
     ]
    }
   ],
   "source": [
    "##5. remove()\n",
    "## It is used to remove the specified element from the list.(based on value)\n",
    "# If the specified element prese multiple times, then it will remove the first occurrence.\n",
    "l=[23,33,44,43,23,12]\n",
    "print(l)\n",
    "l.remove(23)\n",
    "print(l)\n",
    "l.remove(856) #ValueError"
   ]
  },
  {
   "cell_type": "code",
   "execution_count": 8,
   "id": "bb23722d",
   "metadata": {},
   "outputs": [
    {
     "name": "stdout",
     "output_type": "stream",
     "text": [
      "[10, 20, 30, 40, 50]\n",
      "50\n",
      "[10, 20, 30, 40]\n"
     ]
    }
   ],
   "source": [
    "#6.Pop:It is used to remove and return the last element of the list, but if you want to remove any specified element then we have to provide that specified element index .\n",
    "\n",
    "l=[10,20,30,40,50]\n",
    "print(l)\n",
    "print(l.pop())\n",
    "print(l)"
   ]
  },
  {
   "cell_type": "code",
   "execution_count": 9,
   "id": "e90ab74f",
   "metadata": {},
   "outputs": [
    {
     "name": "stdout",
     "output_type": "stream",
     "text": [
      "[10, 20, 30, 40, 50]\n",
      "[10, 20, 30, 40]\n"
     ]
    }
   ],
   "source": [
    "l=[10,20,30,40,50]\n",
    "print(l)\n",
    "l.pop()\n",
    "print(l)"
   ]
  },
  {
   "cell_type": "code",
   "execution_count": 11,
   "id": "09d69aa3",
   "metadata": {},
   "outputs": [
    {
     "name": "stdout",
     "output_type": "stream",
     "text": [
      "[10, 20, 30, 40, 50]\n",
      "[10, 20, 30, 40]\n",
      "[10, 20, 30]\n",
      "[10, 20]\n",
      "[10]\n",
      "[]\n"
     ]
    }
   ],
   "source": [
    "l=[10,20,30,40,50]\n",
    "print(l)\n",
    "l.pop()\n",
    "print(l)\n",
    "l.pop()\n",
    "print(l)\n",
    "l.pop()\n",
    "print(l)\n",
    "l.pop()\n",
    "print(l)\n",
    "l.pop()\n",
    "print(l)\n"
   ]
  },
  {
   "cell_type": "code",
   "execution_count": 12,
   "id": "5b44d479",
   "metadata": {},
   "outputs": [
    {
     "name": "stdout",
     "output_type": "stream",
     "text": [
      "30\n",
      "[10, 20]\n"
     ]
    }
   ],
   "source": [
    "l=[10,20,30]\n",
    "print(l.pop())\n",
    "print(l)"
   ]
  },
  {
   "cell_type": "code",
   "execution_count": 14,
   "id": "72f17666",
   "metadata": {},
   "outputs": [
    {
     "name": "stdout",
     "output_type": "stream",
     "text": [
      "None\n",
      "[10, 20]\n"
     ]
    }
   ],
   "source": [
    "l=[10,20,30]\n",
    "print(l.remove(30))\n",
    "print(l)"
   ]
  },
  {
   "cell_type": "code",
   "execution_count": null,
   "id": "ef2e5db8",
   "metadata": {},
   "outputs": [],
   "source": [
    "#pop() will work in 2 ways:\n",
    "#1.if we will not specify the index then it will remove and return the last index. \n",
    "#2. if we will specified index it will remove that index and retun the value. \n",
    "#3. if the index is not avaiable then it will give index error.\n"
   ]
  },
  {
   "cell_type": "code",
   "execution_count": 15,
   "id": "5341a0c6",
   "metadata": {},
   "outputs": [
    {
     "name": "stdout",
     "output_type": "stream",
     "text": [
      "[10, 20, 30, 40, 50, 60]\n",
      "60\n",
      "[10, 20, 30, 40, 50]\n",
      "40\n",
      "[10, 20, 30, 50]\n"
     ]
    },
    {
     "ename": "IndexError",
     "evalue": "pop index out of range",
     "output_type": "error",
     "traceback": [
      "\u001b[1;31m---------------------------------------------------------------------------\u001b[0m",
      "\u001b[1;31mIndexError\u001b[0m                                Traceback (most recent call last)",
      "Input \u001b[1;32mIn [15]\u001b[0m, in \u001b[0;36m<cell line: 7>\u001b[1;34m()\u001b[0m\n\u001b[0;32m      5\u001b[0m \u001b[38;5;28mprint\u001b[39m(l\u001b[38;5;241m.\u001b[39mpop(\u001b[38;5;241m3\u001b[39m)) \u001b[38;5;66;03m# with specified index\u001b[39;00m\n\u001b[0;32m      6\u001b[0m \u001b[38;5;28mprint\u001b[39m(l)\n\u001b[1;32m----> 7\u001b[0m \u001b[38;5;28mprint\u001b[39m(\u001b[43ml\u001b[49m\u001b[38;5;241;43m.\u001b[39;49m\u001b[43mpop\u001b[49m\u001b[43m(\u001b[49m\u001b[38;5;241;43m10\u001b[39;49m\u001b[43m)\u001b[49m)\n",
      "\u001b[1;31mIndexError\u001b[0m: pop index out of range"
     ]
    }
   ],
   "source": [
    "l=[10,20,30,40,50,60]\n",
    "print(l)\n",
    "print(l.pop()) #without specifying index\n",
    "print(l)\n",
    "print(l.pop(3)) # with specified index\n",
    "print(l)\n",
    "print(l.pop(10)) #IndexError"
   ]
  },
  {
   "cell_type": "code",
   "execution_count": 16,
   "id": "878d12ee",
   "metadata": {},
   "outputs": [
    {
     "name": "stdout",
     "output_type": "stream",
     "text": [
      "Enter your name : Surendra\n",
      "Enter your time: 11\n",
      "Enter your name : Rahul\n",
      "Enter your time: 12\n",
      "Enter your name : Zini\n",
      "Enter your time: 13\n",
      "Enter your name : Priyanka\n",
      "Enter your time: 14\n",
      "Enter your name : Dev\n",
      "Enter your time: 15\n"
     ]
    }
   ],
   "source": [
    "#create a students list and time_list then add there names based on the time they\n",
    "#enter into classroom then display last 2 studnets \n",
    "std_list=[]\n",
    "time_list=[]\n",
    "for i in range(5):\n",
    "    name=input(\"Enter your name : \")\n",
    "    time=input(\"Enter your time: \")\n",
    "    std_list.append(name)\n",
    "    time_list.append(time)\n",
    "   "
   ]
  },
  {
   "cell_type": "code",
   "execution_count": 17,
   "id": "5cf28297",
   "metadata": {},
   "outputs": [
    {
     "name": "stdout",
     "output_type": "stream",
     "text": [
      "40\n",
      "30\n",
      "20\n"
     ]
    }
   ],
   "source": [
    "l=[10,20,30,40]\n",
    "for i in range(3):\n",
    "    print(l.pop())"
   ]
  },
  {
   "cell_type": "code",
   "execution_count": 18,
   "id": "822dde47",
   "metadata": {},
   "outputs": [
    {
     "name": "stdout",
     "output_type": "stream",
     "text": [
      "[10, 20, 30, 40, 50, 60]\n",
      "[100, 200, 300]\n",
      "[10, 20, 30, 40, 50, 60, 100, 200, 300]\n",
      "[100, 200, 300]\n",
      "[100, 200, 300, 10, 20, 30, 40, 50, 60, 100, 200, 300]\n"
     ]
    }
   ],
   "source": [
    "#7. extends()\n",
    "#It is used to add all the elements of one list into another list .\n",
    "l1=[10,20,30,40,50,60]\n",
    "l2=[100,200,300]\n",
    "print(l1)\n",
    "print(l2)\n",
    "#after extending\n",
    "l1.extend(l2) # all the elemnets of l2 will be added in l1\n",
    "print(l1)\n",
    "print(l2)\n",
    "l2.extend(l1)\n",
    "print(l2)\n"
   ]
  },
  {
   "cell_type": "code",
   "execution_count": 2,
   "id": "c019a796",
   "metadata": {},
   "outputs": [
    {
     "name": "stdout",
     "output_type": "stream",
     "text": [
      "[10, 20, 30, 40, 50]\n",
      "[100, 200, 300]\n",
      "[10, 20, 30, 40, 50, 100, 200, 300]\n",
      "[100, 200, 300]\n",
      "[100, 200, 300, 10, 20, 30, 40, 50, 100, 200, 300]\n"
     ]
    }
   ],
   "source": [
    "l1=[10,20,30,40,50]\n",
    "l2=[100,200,300]\n",
    "\n",
    "print(l1)\n",
    "print(l2)\n",
    "\n",
    "l1.extend(l2)\n",
    "print(l1)\n",
    "print(l2)\n",
    "\n",
    "l2.extend(l1)\n",
    "print(l2)"
   ]
  },
  {
   "cell_type": "code",
   "execution_count": 19,
   "id": "ba05bd50",
   "metadata": {},
   "outputs": [
    {
     "ename": "TypeError",
     "evalue": "'int' object is not iterable",
     "output_type": "error",
     "traceback": [
      "\u001b[1;31m---------------------------------------------------------------------------\u001b[0m",
      "\u001b[1;31mTypeError\u001b[0m                                 Traceback (most recent call last)",
      "Input \u001b[1;32mIn [19]\u001b[0m, in \u001b[0;36m<cell line: 3>\u001b[1;34m()\u001b[0m\n\u001b[0;32m      1\u001b[0m l1\u001b[38;5;241m=\u001b[39m[\u001b[38;5;241m10\u001b[39m,\u001b[38;5;241m20\u001b[39m,\u001b[38;5;241m30\u001b[39m,\u001b[38;5;241m40\u001b[39m]\n\u001b[0;32m      2\u001b[0m l2\u001b[38;5;241m=\u001b[39m\u001b[38;5;241m1000\u001b[39m \u001b[38;5;66;03m#int' object is not iterable\u001b[39;00m\n\u001b[1;32m----> 3\u001b[0m \u001b[43ml1\u001b[49m\u001b[38;5;241;43m.\u001b[39;49m\u001b[43mextend\u001b[49m\u001b[43m(\u001b[49m\u001b[43ml2\u001b[49m\u001b[43m)\u001b[49m\n\u001b[0;32m      4\u001b[0m \u001b[38;5;28mprint\u001b[39m(l1)\n",
      "\u001b[1;31mTypeError\u001b[0m: 'int' object is not iterable"
     ]
    }
   ],
   "source": [
    "l1=[10,20,30,40]\n",
    "l2=1000 #int' object is not iterable\n",
    "l1.extend(l2)\n",
    "print(l1)"
   ]
  },
  {
   "cell_type": "code",
   "execution_count": 20,
   "id": "9b2816ab",
   "metadata": {},
   "outputs": [
    {
     "name": "stdout",
     "output_type": "stream",
     "text": [
      "[10, 20, 30, 40, 's', 'u', 'r', 'e', 'n', 'd', 'r', 'a']\n"
     ]
    }
   ],
   "source": [
    "l1=[10,20,30,40]\n",
    "l2='surendra'\n",
    "l1.extend(l2)\n",
    "print(l1)"
   ]
  },
  {
   "cell_type": "code",
   "execution_count": 21,
   "id": "c2b90463",
   "metadata": {},
   "outputs": [
    {
     "name": "stdout",
     "output_type": "stream",
     "text": [
      "[10, 20, 30, 40, 'surendra', 'priyanka']\n"
     ]
    }
   ],
   "source": [
    "l1=[10,20,30,40]\n",
    "l2=['surendra','priyanka']\n",
    "l1.extend(l2)\n",
    "print(l1)\n"
   ]
  },
  {
   "cell_type": "code",
   "execution_count": 22,
   "id": "5d3a3244",
   "metadata": {},
   "outputs": [
    {
     "name": "stdout",
     "output_type": "stream",
     "text": [
      "[1, 2, 3, 6, 8, 10, 20]\n"
     ]
    }
   ],
   "source": [
    "#9. sort()\n",
    "# It is used for sorting or arranging elements either in ascending or descending order.\n",
    "l = [10, 2, 20, 3, 6, 1, 8]\n",
    "l.sort()\n",
    "print(l)\n"
   ]
  },
  {
   "cell_type": "code",
   "execution_count": 23,
   "id": "00b81e77",
   "metadata": {},
   "outputs": [
    {
     "name": "stdout",
     "output_type": "stream",
     "text": [
      "[20, 10, 8, 6, 3, 2, 1]\n"
     ]
    }
   ],
   "source": [
    "l = [10, 2, 20, 3, 6, 1, 8]\n",
    "l.sort(reverse=True)  #Descending order\n",
    "print(l)"
   ]
  },
  {
   "cell_type": "code",
   "execution_count": 25,
   "id": "c4135a2a",
   "metadata": {},
   "outputs": [
    {
     "name": "stdout",
     "output_type": "stream",
     "text": [
      "[1, 2, 3, 6, 8, 10, 20]\n"
     ]
    }
   ],
   "source": [
    "l = [10, 2, 20, 3, 6, 1, 8]\n",
    "l.sort(reverse=False) # Default nature of sort() is reverse=False\n",
    "print(l) "
   ]
  },
  {
   "cell_type": "code",
   "execution_count": 26,
   "id": "257d73c5",
   "metadata": {},
   "outputs": [
    {
     "name": "stdout",
     "output_type": "stream",
     "text": [
      "['priyanka', 'rahul', 'surendra', 'zini']\n"
     ]
    }
   ],
   "source": [
    "#Note: If list contain Numbers then it will work based on ascending order , but if the list contain String then it will work in Alphabet order(just like English dictionary)\n",
    "l = ['surendra', 'priyanka', 'rahul', 'zini']\n",
    "l.sort()\n",
    "print(l)"
   ]
  },
  {
   "cell_type": "code",
   "execution_count": 27,
   "id": "94f7942c",
   "metadata": {},
   "outputs": [
    {
     "ename": "TypeError",
     "evalue": "'<' not supported between instances of 'int' and 'str'",
     "output_type": "error",
     "traceback": [
      "\u001b[1;31m---------------------------------------------------------------------------\u001b[0m",
      "\u001b[1;31mTypeError\u001b[0m                                 Traceback (most recent call last)",
      "Input \u001b[1;32mIn [27]\u001b[0m, in \u001b[0;36m<cell line: 2>\u001b[1;34m()\u001b[0m\n\u001b[0;32m      1\u001b[0m l \u001b[38;5;241m=\u001b[39m [\u001b[38;5;124m'\u001b[39m\u001b[38;5;124msurendra\u001b[39m\u001b[38;5;124m'\u001b[39m, \u001b[38;5;124m'\u001b[39m\u001b[38;5;124mpriyanka\u001b[39m\u001b[38;5;124m'\u001b[39m, \u001b[38;5;124m'\u001b[39m\u001b[38;5;124mrahul\u001b[39m\u001b[38;5;124m'\u001b[39m, \u001b[38;5;124m'\u001b[39m\u001b[38;5;124mzini\u001b[39m\u001b[38;5;124m'\u001b[39m, \u001b[38;5;241m23\u001b[39m, \u001b[38;5;241m33\u001b[39m, \u001b[38;5;241m43\u001b[39m, \u001b[38;5;241m53\u001b[39m]\n\u001b[1;32m----> 2\u001b[0m \u001b[43ml\u001b[49m\u001b[38;5;241;43m.\u001b[39;49m\u001b[43msort\u001b[49m\u001b[43m(\u001b[49m\u001b[43m)\u001b[49m\n\u001b[0;32m      3\u001b[0m \u001b[38;5;28mprint\u001b[39m(l)\n",
      "\u001b[1;31mTypeError\u001b[0m: '<' not supported between instances of 'int' and 'str'"
     ]
    }
   ],
   "source": [
    "l = ['surendra', 'priyanka', 'rahul', 'zini', 23, 33, 43, 53]\n",
    "l.sort()\n",
    "print(l) #Note: If list contain heterogenous elements then in this case sort() will not work\n",
    "\n",
    "#Note : But this above code will work in Python 2 version , in Python 2 version it will first sort numbers then it will sort String data .\n",
    "#After Executing same code in Python 2 Version the output is \n",
    "##[23, 33, 43, 53, 'priyanka', 'rahul', 'surendra', 'zini']\n"
   ]
  },
  {
   "cell_type": "code",
   "execution_count": 28,
   "id": "22074517",
   "metadata": {},
   "outputs": [
    {
     "name": "stdout",
     "output_type": "stream",
     "text": [
      "[]\n"
     ]
    }
   ],
   "source": [
    "#10. clear():It is used to clear or remove all the elements of Lists.\n",
    "l=[10,20,30,30,40,50]\n",
    "l.clear()\n",
    "print(l)"
   ]
  },
  {
   "cell_type": "code",
   "execution_count": 29,
   "id": "50382e34",
   "metadata": {},
   "outputs": [
    {
     "ename": "NameError",
     "evalue": "name 'l' is not defined",
     "output_type": "error",
     "traceback": [
      "\u001b[1;31m---------------------------------------------------------------------------\u001b[0m",
      "\u001b[1;31mNameError\u001b[0m                                 Traceback (most recent call last)",
      "Input \u001b[1;32mIn [29]\u001b[0m, in \u001b[0;36m<cell line: 4>\u001b[1;34m()\u001b[0m\n\u001b[0;32m      2\u001b[0m l\u001b[38;5;241m=\u001b[39m[\u001b[38;5;241m10\u001b[39m,\u001b[38;5;241m20\u001b[39m,\u001b[38;5;241m30\u001b[39m,\u001b[38;5;241m30\u001b[39m,\u001b[38;5;241m40\u001b[39m,\u001b[38;5;241m50\u001b[39m]\n\u001b[0;32m      3\u001b[0m \u001b[38;5;28;01mdel\u001b[39;00m l\n\u001b[1;32m----> 4\u001b[0m \u001b[38;5;28mprint\u001b[39m(\u001b[43ml\u001b[49m)\n",
      "\u001b[1;31mNameError\u001b[0m: name 'l' is not defined"
     ]
    }
   ],
   "source": [
    "# del ( delete )\n",
    "l=[10,20,30,30,40,50]\n",
    "del l\n",
    "print(l)"
   ]
  },
  {
   "cell_type": "code",
   "execution_count": 30,
   "id": "fe49e964",
   "metadata": {},
   "outputs": [
    {
     "name": "stdout",
     "output_type": "stream",
     "text": [
      "[10, 30, 30, 40, 50]\n"
     ]
    }
   ],
   "source": [
    "# del ( delete )\n",
    "l=[10,20,30,30,40,50]\n",
    "del l[1]\n",
    "print(l) \n"
   ]
  },
  {
   "cell_type": "code",
   "execution_count": 31,
   "id": "711a0705",
   "metadata": {},
   "outputs": [
    {
     "name": "stdout",
     "output_type": "stream",
     "text": [
      "[10, 20, 30, 40, 50]\n",
      "[10, 20, 30, 40, 50]\n",
      "after modification \n",
      "[10, 20, 30, 40, 50]\n",
      "[10, 20, 999, 40, 50]\n",
      "2269262997120\n",
      "2269262895296\n"
     ]
    }
   ],
   "source": [
    "#11. copy():\n",
    "#It is used for shallow copy of a list, here shallow copy means if we made any modification in the new list won’t be reflected in the original list.\n",
    "#Both list will pointing to different memory location.\n",
    "\n",
    "l1=[10,20,30,40,50]\n",
    "l2=l1.copy() # shallow copy\n",
    "print(l1)\n",
    "print(l2)\n",
    "# perform modification\n",
    "l2[2]=999\n",
    "print('after modification ')\n",
    "print(l1) # no reflection\n",
    "print(l2)\n",
    "print(id(l1))\n",
    "print(id(l2))"
   ]
  },
  {
   "cell_type": "code",
   "execution_count": 32,
   "id": "48914b53",
   "metadata": {},
   "outputs": [
    {
     "name": "stdout",
     "output_type": "stream",
     "text": [
      "[10, 20, 30, 40, 50]\n",
      "[10, 20, 30, 40, 50]\n",
      "after modification \n",
      "[10, 20, 999, 40, 50]\n",
      "[10, 20, 999, 40, 50]\n",
      "2269263399104\n",
      "2269263399104\n"
     ]
    }
   ],
   "source": [
    "#deep cloning\n",
    "l1=[10,20,30,40,50]\n",
    "l2=l1 # deep copy\n",
    "print(l1)\n",
    "print(l2)\n",
    "# perform modification\n",
    "l2[2]=999\n",
    "print('after modification ')\n",
    "print(l1) # reflection\n",
    "print(l2)\n",
    "print(id(l1))\n",
    "print(id(l2))"
   ]
  },
  {
   "cell_type": "markdown",
   "id": "2f725fbf",
   "metadata": {},
   "source": [
    "## Concatenate of Lists:\n",
    "• Jointing of list is known as Concantation of lists .\n",
    "• + Operator Is used for Concatenate list"
   ]
  },
  {
   "cell_type": "code",
   "execution_count": 33,
   "id": "22e97a7a",
   "metadata": {},
   "outputs": [
    {
     "ename": "TypeError",
     "evalue": "can only concatenate list (not \"int\") to list",
     "output_type": "error",
     "traceback": [
      "\u001b[1;31m---------------------------------------------------------------------------\u001b[0m",
      "\u001b[1;31mTypeError\u001b[0m                                 Traceback (most recent call last)",
      "Input \u001b[1;32mIn [33]\u001b[0m, in \u001b[0;36m<cell line: 3>\u001b[1;34m()\u001b[0m\n\u001b[0;32m      1\u001b[0m l\u001b[38;5;241m=\u001b[39m[\u001b[38;5;241m10\u001b[39m,\u001b[38;5;241m20\u001b[39m,\u001b[38;5;241m30\u001b[39m,\u001b[38;5;241m40\u001b[39m]\n\u001b[0;32m      2\u001b[0m s\u001b[38;5;241m=\u001b[39m\u001b[38;5;241m1000\u001b[39m\n\u001b[1;32m----> 3\u001b[0m \u001b[38;5;28mprint\u001b[39m(\u001b[43ml\u001b[49m\u001b[38;5;241;43m+\u001b[39;49m\u001b[43ms\u001b[49m)\n",
      "\u001b[1;31mTypeError\u001b[0m: can only concatenate list (not \"int\") to list"
     ]
    }
   ],
   "source": [
    "l=[10,20,30,40]\n",
    "s=1000\n",
    "print(l+s) #can only concatenate list (not \"int\") to list"
   ]
  },
  {
   "cell_type": "code",
   "execution_count": 34,
   "id": "ce4c5057",
   "metadata": {},
   "outputs": [
    {
     "name": "stdout",
     "output_type": "stream",
     "text": [
      "[10, 20, 30, 40, 1000]\n"
     ]
    }
   ],
   "source": [
    "l=[10,20,30,40]\n",
    "s=1000\n",
    "l.append(s)\n",
    "print(l)"
   ]
  },
  {
   "cell_type": "code",
   "execution_count": 35,
   "id": "0d427d7b",
   "metadata": {},
   "outputs": [
    {
     "name": "stdout",
     "output_type": "stream",
     "text": [
      "[10, 20, 30, 1000]\n"
     ]
    }
   ],
   "source": [
    "l=[10,20,30]\n",
    "s=[1000]\n",
    "print(l+s)"
   ]
  },
  {
   "cell_type": "code",
   "execution_count": 36,
   "id": "df9a0639",
   "metadata": {},
   "outputs": [
    {
     "name": "stdout",
     "output_type": "stream",
     "text": [
      "[10, 20, 30, [1000]]\n"
     ]
    }
   ],
   "source": [
    "l=[10,20,30]\n",
    "s=[1000]\n",
    "l.append(s)\n",
    "print(l)\n"
   ]
  },
  {
   "cell_type": "code",
   "execution_count": 37,
   "id": "0d000abe",
   "metadata": {},
   "outputs": [
    {
     "name": "stdout",
     "output_type": "stream",
     "text": [
      "[10, 20, 30, 1000]\n"
     ]
    }
   ],
   "source": [
    "l=[10,20,30]\n",
    "s=[1000]\n",
    "print(l+s)"
   ]
  },
  {
   "cell_type": "code",
   "execution_count": 39,
   "id": "cc6553ed",
   "metadata": {},
   "outputs": [
    {
     "name": "stdout",
     "output_type": "stream",
     "text": [
      "Enter your lucky number : 4\n",
      "not matched \n",
      "Enter your lucky number : 6\n",
      "not matched \n",
      "Enter your lucky number : 55\n",
      "not matched \n",
      "Enter your lucky number : 56\n",
      "matched\n"
     ]
    }
   ],
   "source": [
    "##WAP USING LIST TO MATCH YOUR LUCKY NUMBER:\n",
    "l=[90,89,76,65,10,2,1,56,77,89,67,45,23]\n",
    "while True:\n",
    "    choice=int(input('Enter your lucky number : '))\n",
    "    if choice in l:\n",
    "        print('matched')\n",
    "        break\n",
    "    else:\n",
    "        print('not matched ')"
   ]
  },
  {
   "cell_type": "code",
   "execution_count": null,
   "id": "55fda189",
   "metadata": {},
   "outputs": [
    {
     "name": "stdout",
     "output_type": "stream",
     "text": [
      "Enter Your Lucky Number: 6\n",
      "Lucky Not Found Till Now\n",
      "Enter Your Lucky Number: 8\n",
      "Lucky Not Found Till Now\n",
      "Enter Your Lucky Number: 56.8\n",
      "Lucky Not Found Till Now\n",
      "Enter Your Lucky Number: 89.3\n",
      "Lucky Not Found Till Now\n",
      "Enter Your Lucky Number: 60.8\n",
      "Lucky No Found\n"
     ]
    }
   ],
   "source": [
    "# WAP to stop the execution when the lucky number is a float value (list contains both int as well as float value)\n",
    "l=[2,2.5,4,8.5,9,15.5,18.5,21.5,26,30.3,40.2,60.8]\n",
    "\n",
    "while True:\n",
    "    ch=float(input('Enter Your Lucky Number: '))\n",
    "    \n",
    "    if ch in l:\n",
    "        print('Lucky No Found')\n",
    "        break\n",
    "    else:\n",
    "        print(\"Lucky Not Found Till Now\")"
   ]
  },
  {
   "cell_type": "code",
   "execution_count": null,
   "id": "5078021f",
   "metadata": {},
   "outputs": [],
   "source": [
    "## Membership in Lists:It is used to check whether the specified element is the member of a particular list or not.\n",
    "There are 2 operator we will use to check membership \n",
    "i. in operator \n",
    "ii. not in operator"
   ]
  },
  {
   "cell_type": "code",
   "execution_count": 40,
   "id": "cf30a45d",
   "metadata": {},
   "outputs": [
    {
     "name": "stdout",
     "output_type": "stream",
     "text": [
      "True\n",
      "False\n",
      "False\n",
      "True\n"
     ]
    }
   ],
   "source": [
    "l = [23, 33, 43, 53, 63]\n",
    "print(23 in l)  \n",
    "print(99 in l) \n",
    "print(23 not in l) \n",
    "print(99 not in l) "
   ]
  },
  {
   "cell_type": "code",
   "execution_count": 42,
   "id": "47305711",
   "metadata": {},
   "outputs": [
    {
     "name": "stdout",
     "output_type": "stream",
     "text": [
      "Enter your choice : 5\n",
      "Yes your lucky number is available\n"
     ]
    }
   ],
   "source": [
    "l = [1, 2, 4, 5, 7, 9, 13, 17, 18, 23, 24, 42, 44, 53, 66, 99]\n",
    "choice = int(input(\"Enter your choice : \"))\n",
    "if choice in l:\n",
    "    print(\"Yes your lucky number is available\")\n",
    "else:\n",
    "    print(\"Sry your lucky number is not available\")\n"
   ]
  },
  {
   "cell_type": "code",
   "execution_count": 44,
   "id": "cf8db430",
   "metadata": {},
   "outputs": [
    {
     "name": "stdout",
     "output_type": "stream",
     "text": [
      " min is 2\n"
     ]
    }
   ],
   "source": [
    "# wap to find out the min value present inside a list\n",
    "l=[10,20,3,4,2,17]\n",
    "min=l[0]\n",
    "for i in l:\n",
    "    if min<i:\n",
    "        pass\n",
    "    else:\n",
    "        min=i\n",
    "\n",
    "print(f' min is {min}')"
   ]
  },
  {
   "cell_type": "code",
   "execution_count": 46,
   "id": "176bfc6e",
   "metadata": {},
   "outputs": [
    {
     "name": "stdout",
     "output_type": "stream",
     "text": [
      " max is 20\n"
     ]
    }
   ],
   "source": [
    " l=[10,20,3,4,2,17]\n",
    "max=l[0]\n",
    "for i in l:\n",
    "    if max>i:\n",
    "        pass\n",
    "    else:\n",
    "        max=i\n",
    "\n",
    "print(f' max is {max}')"
   ]
  },
  {
   "cell_type": "code",
   "execution_count": 48,
   "id": "97ce03ce",
   "metadata": {},
   "outputs": [
    {
     "name": "stdout",
     "output_type": "stream",
     "text": [
      "enter a value : 2\n",
      "enter a value : 4\n",
      "enter a value : 6\n",
      "enter a value : 8\n",
      "enter a value : 12\n",
      "enter a value : 32\n",
      "enter a value : 56\n",
      "enter a value : 41\n",
      "enter a value : 10\n",
      "enter a value : -1\n",
      "[2, 4, 6, 8, 12, 32, 56, 41, 10]\n"
     ]
    }
   ],
   "source": [
    "#create a list dynamically from user value ( stop if the user will press -1 )\n",
    "l=[]\n",
    "while True:\n",
    "    data=int(input('enter a value : '))\n",
    "    if data==-1:\n",
    "         break\n",
    "    else:\n",
    "        l.append(data)\n",
    "print(l)"
   ]
  },
  {
   "cell_type": "code",
   "execution_count": 49,
   "id": "93930176",
   "metadata": {},
   "outputs": [
    {
     "name": "stdout",
     "output_type": "stream",
     "text": [
      "True\n"
     ]
    }
   ],
   "source": [
    "#List Comparision:\n",
    "l1=[10,20,30,40]\n",
    "l2=[10,20,30,40]\n",
    "print(l1==l2)"
   ]
  },
  {
   "cell_type": "code",
   "execution_count": 50,
   "id": "46847ed4",
   "metadata": {},
   "outputs": [
    {
     "name": "stdout",
     "output_type": "stream",
     "text": [
      "False\n"
     ]
    }
   ],
   "source": [
    "l1=[10,20,30,40]\n",
    "l2=[11,20,30,40]\n",
    "print(l1==l2)"
   ]
  },
  {
   "cell_type": "code",
   "execution_count": 51,
   "id": "aef7884b",
   "metadata": {},
   "outputs": [
    {
     "name": "stdout",
     "output_type": "stream",
     "text": [
      "False\n"
     ]
    }
   ],
   "source": [
    "l1=[10,20,30,40]\n",
    "l2=[10,20,30,40]\n",
    "print(l1>l2)"
   ]
  },
  {
   "cell_type": "code",
   "execution_count": 52,
   "id": "2c9b19f9",
   "metadata": {},
   "outputs": [
    {
     "name": "stdout",
     "output_type": "stream",
     "text": [
      "True\n"
     ]
    }
   ],
   "source": [
    "l1=[11,20,30,40]\n",
    "l2=[10,20,30,40]\n",
    "print(l1>l2)"
   ]
  },
  {
   "cell_type": "code",
   "execution_count": 53,
   "id": "94319391",
   "metadata": {},
   "outputs": [
    {
     "name": "stdout",
     "output_type": "stream",
     "text": [
      "False\n"
     ]
    }
   ],
   "source": [
    "l1=[10,20,30,40]\n",
    "l2=[11]\n",
    "print(l1>l2)"
   ]
  },
  {
   "cell_type": "code",
   "execution_count": 54,
   "id": "b5991b95",
   "metadata": {},
   "outputs": [
    {
     "name": "stdout",
     "output_type": "stream",
     "text": [
      "False\n"
     ]
    }
   ],
   "source": [
    "l1=[10,20,30,40]\n",
    "print(l1>l2)"
   ]
  },
  {
   "cell_type": "code",
   "execution_count": null,
   "id": "3b9bb9eb",
   "metadata": {},
   "outputs": [],
   "source": [
    "#Nested List:\n",
    "# if list is present inside another list , then it is called as nested list.\n"
   ]
  },
  {
   "cell_type": "code",
   "execution_count": 63,
   "id": "2027cabd",
   "metadata": {},
   "outputs": [
    {
     "name": "stdout",
     "output_type": "stream",
     "text": [
      "[10, 20, 30, [40, 41, 42], 50, 60, 70]\n",
      "30\n",
      "[40, 41, 42]\n",
      "41\n",
      "40\n",
      "42\n",
      "41\n"
     ]
    }
   ],
   "source": [
    "l=[10,20,30,[40,41,42],50,60,70]\n",
    "print(l)\n",
    "print(l[2])\n",
    "print(l[3])\n",
    "print(l[3][1])\n",
    "print(l[3][0])\n",
    "print(l[3][-1])\n",
    "print(l[-4][-2])"
   ]
  },
  {
   "cell_type": "code",
   "execution_count": 64,
   "id": "c4a7e7c0",
   "metadata": {},
   "outputs": [
    {
     "name": "stdout",
     "output_type": "stream",
     "text": [
      "[51, 52, 53]\n",
      "[30, [40, 41, 42], 50, [51, 52, 53]]\n"
     ]
    }
   ],
   "source": [
    "l=[10,20,30,[40,41,42],50,[51,52,53],60,70]\n",
    "print(l[5])\n",
    "print(l[2:6])"
   ]
  },
  {
   "cell_type": "code",
   "execution_count": 65,
   "id": "ce2a4917",
   "metadata": {},
   "outputs": [
    {
     "name": "stdout",
     "output_type": "stream",
     "text": [
      "[40, 41, [1, 2, 3], 42]\n",
      "42\n",
      "[1, 2, 3]\n",
      "2\n",
      "[40, 41, [1, 2, 3], 42]\n",
      "[1, 2, 3]\n",
      "3\n"
     ]
    }
   ],
   "source": [
    "l=[10,20,30,[40,41,[1,2,3],42],50,60,70]\n",
    "print(l[3])\n",
    "print(l[3][3])\n",
    "print(l[3][2])\n",
    "print(l[3][2][1])\n",
    "print(l[-4])\n",
    "print(l[-4][-2])\n",
    "print(l[-4][-2][-1])"
   ]
  },
  {
   "cell_type": "code",
   "execution_count": 67,
   "id": "c0792a1a",
   "metadata": {},
   "outputs": [
    {
     "name": "stdout",
     "output_type": "stream",
     "text": [
      "[10, 20, 30]\n",
      "[40, 50, 60]\n",
      "[70, 80, 90]\n"
     ]
    }
   ],
   "source": [
    "# Nested List As a Matrix\n",
    "\n",
    "l= [\n",
    "    [10,20,30],\n",
    "    [40,50,60],\n",
    "    [70,80,90]\n",
    "]\n",
    "\n",
    "print(l[0]) # print in row wise manner\n",
    "print(l[1])\n",
    "print(l[2])"
   ]
  },
  {
   "cell_type": "code",
   "execution_count": 69,
   "id": "d94cf4cf",
   "metadata": {},
   "outputs": [
    {
     "name": "stdout",
     "output_type": "stream",
     "text": [
      "[10, 20, 30][40, 50, 60][70, 80, 90]"
     ]
    }
   ],
   "source": [
    "# print row wise using loop\n",
    "l= [\n",
    "    [10,20,30],\n",
    "    [40,50,60],\n",
    "    [70,80,90]\n",
    "]\n",
    "\n",
    "for i in l:\n",
    "    #print(i)\n",
    "    print(i,end='')"
   ]
  },
  {
   "cell_type": "code",
   "execution_count": 2,
   "id": "9ac999a9",
   "metadata": {},
   "outputs": [
    {
     "name": "stdout",
     "output_type": "stream",
     "text": [
      "10 20 30 40 50 60 70 80 90 "
     ]
    }
   ],
   "source": [
    "l= [\n",
    "    [10,20,30],\n",
    "    [40,50,60],\n",
    "    [70,80,90]\n",
    "]\n",
    "\n",
    "for i in l:\n",
    "    for j in i:\n",
    "        print(j,end=' ')\n",
    "        \n",
    "        "
   ]
  },
  {
   "cell_type": "code",
   "execution_count": 4,
   "id": "631ea933",
   "metadata": {},
   "outputs": [
    {
     "name": "stdout",
     "output_type": "stream",
     "text": [
      "10\n",
      "20\n",
      "30\n",
      "\n",
      "40\n",
      "50\n",
      "60\n",
      "\n",
      "70\n",
      "80\n",
      "90\n",
      "\n"
     ]
    }
   ],
   "source": [
    "l= [\n",
    "    [10,20,30],\n",
    "    [40,50,60],\n",
    "    [70,80,90]\n",
    "]\n",
    "\n",
    "for i in l:\n",
    "    for j in i:\n",
    "        print(j)\n",
    "    print('')   "
   ]
  },
  {
   "cell_type": "code",
   "execution_count": 5,
   "id": "ef25c11f",
   "metadata": {},
   "outputs": [
    {
     "name": "stdout",
     "output_type": "stream",
     "text": [
      "10 20 30 \n",
      "40 50 60 \n",
      "70 80 90 \n"
     ]
    }
   ],
   "source": [
    "l= [\n",
    "    [10,20,30],\n",
    "    [40,50,60],\n",
    "    [70,80,90]\n",
    "]\n",
    "\n",
    "for i in l:\n",
    "    for j in i:\n",
    "        print(j, end=' ')\n",
    "    print('')   "
   ]
  },
  {
   "cell_type": "code",
   "execution_count": 5,
   "id": "95f9165b",
   "metadata": {},
   "outputs": [
    {
     "name": "stdout",
     "output_type": "stream",
     "text": [
      "[100, 101, 102, 103, 104, 105, 106, 107, 108, 109, 110, 111, 112, 113, 114, 115, 116, 117, 118, 119, 120]\n",
      "[100, 102, 104, 106, 108, 110, 112, 114, 116, 118, 120]\n"
     ]
    }
   ],
   "source": [
    "l=[i  for i in range(100,121)]\n",
    "l1=[i for i in l if i%2==0]\n",
    "print(l)\n",
    "print(l1)"
   ]
  },
  {
   "cell_type": "code",
   "execution_count": 12,
   "id": "7d85c363",
   "metadata": {},
   "outputs": [
    {
     "name": "stdout",
     "output_type": "stream",
     "text": [
      "['hello', [1, 2, 9, 4, 25], 'hello', [1, 2, 9, 4, 25], 'hello']\n"
     ]
    }
   ],
   "source": [
    "l=[[j if j%2==0  else j*j for j in range(1,6)] if i%2==0 else 'hello' for i in range(1,6)]\n",
    "print(l)"
   ]
  },
  {
   "cell_type": "markdown",
   "id": "abb82a85",
   "metadata": {},
   "source": [
    "## List Comprehension"
   ]
  },
  {
   "cell_type": "code",
   "execution_count": null,
   "id": "cc966925",
   "metadata": {},
   "outputs": [],
   "source": []
  },
  {
   "cell_type": "code",
   "execution_count": null,
   "id": "3efc9abd",
   "metadata": {},
   "outputs": [],
   "source": []
  },
  {
   "cell_type": "code",
   "execution_count": null,
   "id": "a8703d21",
   "metadata": {},
   "outputs": [],
   "source": []
  },
  {
   "cell_type": "code",
   "execution_count": null,
   "id": "4fcef5e9",
   "metadata": {},
   "outputs": [],
   "source": []
  },
  {
   "cell_type": "code",
   "execution_count": null,
   "id": "6d283518",
   "metadata": {},
   "outputs": [],
   "source": []
  },
  {
   "cell_type": "code",
   "execution_count": null,
   "id": "7aa2a66c",
   "metadata": {},
   "outputs": [],
   "source": []
  },
  {
   "cell_type": "code",
   "execution_count": null,
   "id": "ccf7ba34",
   "metadata": {},
   "outputs": [],
   "source": []
  },
  {
   "cell_type": "code",
   "execution_count": null,
   "id": "033c174a",
   "metadata": {},
   "outputs": [],
   "source": []
  },
  {
   "cell_type": "code",
   "execution_count": null,
   "id": "81652bd9",
   "metadata": {},
   "outputs": [],
   "source": []
  },
  {
   "cell_type": "code",
   "execution_count": null,
   "id": "364e994c",
   "metadata": {},
   "outputs": [],
   "source": []
  },
  {
   "cell_type": "code",
   "execution_count": null,
   "id": "85e1aa85",
   "metadata": {},
   "outputs": [],
   "source": []
  },
  {
   "cell_type": "code",
   "execution_count": null,
   "id": "be743779",
   "metadata": {},
   "outputs": [],
   "source": []
  },
  {
   "cell_type": "code",
   "execution_count": null,
   "id": "5f6ed949",
   "metadata": {},
   "outputs": [],
   "source": []
  }
 ],
 "metadata": {
  "kernelspec": {
   "display_name": "Python 3 (ipykernel)",
   "language": "python",
   "name": "python3"
  },
  "language_info": {
   "codemirror_mode": {
    "name": "ipython",
    "version": 3
   },
   "file_extension": ".py",
   "mimetype": "text/x-python",
   "name": "python",
   "nbconvert_exporter": "python",
   "pygments_lexer": "ipython3",
   "version": "3.9.12"
  }
 },
 "nbformat": 4,
 "nbformat_minor": 5
}
