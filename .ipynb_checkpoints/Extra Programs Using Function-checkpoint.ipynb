{
 "cells": [
  {
   "cell_type": "code",
   "execution_count": 3,
   "id": "4822eb47",
   "metadata": {},
   "outputs": [
    {
     "name": "stdout",
     "output_type": "stream",
     "text": [
      "Enter  the number to check: 8\n",
      "Number is greater than 5.\n"
     ]
    }
   ],
   "source": [
    "#1.Define a function to check if a number is greater than 5.\n",
    "\n",
    "def check(num):\n",
    "    if num>5:\n",
    "        print('Number is greater than 5.')\n",
    "        \n",
    "num=int(input('Enter  the number to check: '))\n",
    "check(num)"
   ]
  },
  {
   "cell_type": "code",
   "execution_count": 4,
   "id": "a0fee733",
   "metadata": {},
   "outputs": [
    {
     "name": "stdout",
     "output_type": "stream",
     "text": [
      "Enter  the number to check: 4\n"
     ]
    }
   ],
   "source": [
    "#2.Define a function to check if a number is greater than 5.\n",
    "\n",
    "def check(num):\n",
    "    if num>5:\n",
    "        print('Number is greater than 5.')\n",
    "        \n",
    "num=int(input('Enter  the number to check: '))\n",
    "check(num)"
   ]
  },
  {
   "cell_type": "code",
   "execution_count": 5,
   "id": "11dba510",
   "metadata": {},
   "outputs": [
    {
     "name": "stdout",
     "output_type": "stream",
     "text": [
      "Enter the number to check: 12\n",
      "Number is greater than 10\n"
     ]
    }
   ],
   "source": [
    "#3.define a function to check if the number is greater than 10.\n",
    "\n",
    "def check(num):\n",
    "    if num>10:\n",
    "        print(\"Number is greater than 10\")\n",
    "    else:\n",
    "        print(\"Number is not greater\")\n",
    "        \n",
    "num=int(input('Enter the number to check: '))\n",
    "\n",
    "check(num)"
   ]
  },
  {
   "cell_type": "code",
   "execution_count": 8,
   "id": "0e5529fb",
   "metadata": {},
   "outputs": [
    {
     "name": "stdout",
     "output_type": "stream",
     "text": [
      "Enter a number: 4\n",
      "Number is positive\n"
     ]
    }
   ],
   "source": [
    "#4.define a function to check that a number is positive or negative.\n",
    "\n",
    "def check(num):\n",
    "    if num>0:\n",
    "        print(\"Number is positive\")\n",
    "    else:\n",
    "        print(\"Number is negative\")\n",
    "        \n",
    "num=int(input(\"Enter a number: \"))\n",
    "\n",
    "check(num)\n"
   ]
  },
  {
   "cell_type": "code",
   "execution_count": 10,
   "id": "c1711792",
   "metadata": {},
   "outputs": [
    {
     "name": "stdout",
     "output_type": "stream",
     "text": [
      "Number is even\n",
      "Number is odd\n"
     ]
    }
   ],
   "source": [
    "#5. define a function to check that a number is even or odd.\n",
    "\n",
    "def check(num):\n",
    "    if num%2==0:\n",
    "        print(\"Number is even\")\n",
    "        \n",
    "    else:\n",
    "        print(\"Number is odd\")\n",
    "check(8)\n",
    "check(5)"
   ]
  },
  {
   "cell_type": "code",
   "execution_count": 12,
   "id": "39892f63",
   "metadata": {},
   "outputs": [
    {
     "name": "stdout",
     "output_type": "stream",
     "text": [
      "Yes you are eligible to vote\n",
      "Sorry u are not eligible\n"
     ]
    }
   ],
   "source": [
    "#5. define a function to check if u are eligible for voting or not.\n",
    "\n",
    "def check(age):\n",
    "    if age>=18:\n",
    "        print(\"Yes you are eligible to vote\")\n",
    "    else:\n",
    "        print(\"Sorry u are not eligible\")\n",
    "check(19)\n",
    "check(1)"
   ]
  },
  {
   "cell_type": "code",
   "execution_count": 15,
   "id": "725ac3ae",
   "metadata": {},
   "outputs": [
    {
     "name": "stdout",
     "output_type": "stream",
     "text": [
      "Yes you are eligible to donate blood\n",
      "Sorry you are not eligible\n"
     ]
    }
   ],
   "source": [
    "#6. define a function to check if u are eligible for donating blood or not.\n",
    "\n",
    "def check(age,weight):\n",
    "    if age>=18 and weight>=40:\n",
    "        print(\"Yes you are eligible to donate blood\")\n",
    "        \n",
    "    else:\n",
    "        print(\"Sorry you are not eligible\")\n",
    "check(21,56) \n",
    "check(12,32)"
   ]
  },
  {
   "cell_type": "code",
   "execution_count": 16,
   "id": "31c1ddb3",
   "metadata": {},
   "outputs": [
    {
     "name": "stdout",
     "output_type": "stream",
     "text": [
      "Number is zero\n",
      "Number is positive\n",
      "Number is negative\n"
     ]
    }
   ],
   "source": [
    "#7.define a function to check that a number is positive or negative or zero.\n",
    "\n",
    "def check(num):\n",
    "    if num==0:\n",
    "        print('Number is zero')\n",
    "    elif num>0:\n",
    "        print('Number is positive')\n",
    "    else:\n",
    "        print('Number is negative')\n",
    "check(0)\n",
    "check(89)\n",
    "check(-4)"
   ]
  },
  {
   "cell_type": "code",
   "execution_count": 18,
   "id": "0082e64e",
   "metadata": {},
   "outputs": [
    {
     "name": "stdout",
     "output_type": "stream",
     "text": [
      "7\n",
      "9\n",
      "88\n",
      "11.25\n"
     ]
    }
   ],
   "source": [
    "#8.define a function to input two number then perform add,sub,mul,divbased on first value:\n",
    "\n",
    "def opr(a,b):\n",
    "    if a>=0 and a<=9:\n",
    "        print(a+b)\n",
    "    elif a>=10 and a <=19:\n",
    "        print(a-b)\n",
    "    elif a>=20 and a<=29:\n",
    "        print(a*b)\n",
    "    else:\n",
    "        print(a/b)\n",
    "opr(5,2)\n",
    "opr(12,3)\n",
    "opr(22,4)\n",
    "opr(90,8)"
   ]
  },
  {
   "cell_type": "code",
   "execution_count": 22,
   "id": "5efdd687",
   "metadata": {},
   "outputs": [
    {
     "name": "stdout",
     "output_type": "stream",
     "text": [
      "Enter the first number=4\n",
      "Enter the second number=6\n",
      "Enter your choice: \n",
      " addition \n",
      " subtraction \n",
      " multiplication \n",
      " division \n",
      " invalid\n",
      " addition\n",
      "10\n"
     ]
    }
   ],
   "source": [
    "#9.define a function to input two number then perform add,sub,mul,div based on choice:\n",
    "a=int(input(\"Enter the first number=\"))\n",
    "b=int(input(\"Enter the second number=\"))\n",
    "ch=input(\"Enter your choice: \\n addition \\n subtraction \\n multiplication \\n division \\n invalid\\n \")\\\n",
    "\n",
    "def oper(a,b):\n",
    "    if(ch==\"addition\"):\n",
    "         print(a+b)\n",
    "    elif(ch==\"subtraction\"):\n",
    "          print(a-b)\n",
    "    elif(ch==\"multiplication\"):\n",
    "          print(a*b)\n",
    "    elif(ch==\"division\"):\n",
    "          print(a/b)\n",
    "    else:\n",
    "        print(\"Invalid Option\")\n",
    "        \n",
    "    \n",
    "oper(a,b)"
   ]
  },
  {
   "cell_type": "code",
   "execution_count": 25,
   "id": "ba380a63",
   "metadata": {},
   "outputs": [
    {
     "name": "stdout",
     "output_type": "stream",
     "text": [
      "Eligible\n",
      "Not eliogible because of age\n",
      "Not eliogible because of weight\n"
     ]
    }
   ],
   "source": [
    "# 10. fUNCTION USING NESTED IF:\n",
    "\n",
    "def con(age,weight):\n",
    "    if age>=18:\n",
    "        if weight>=40:\n",
    "            print(\"Eligible\")\n",
    "        else:\n",
    "            print(\"Not eliogible because of weight\")\n",
    "    else:\n",
    "        print(\"Not eliogible because of age\")\n",
    "con(19,56)\n",
    "con(15,63)\n",
    "con(21,39)\n",
    "            \n"
   ]
  },
  {
   "cell_type": "code",
   "execution_count": 3,
   "id": "4a261937",
   "metadata": {},
   "outputs": [
    {
     "name": "stdout",
     "output_type": "stream",
     "text": [
      "Enter Your Age: 88\n"
     ]
    },
    {
     "ename": "NameError",
     "evalue": "name 'weight' is not defined",
     "output_type": "error",
     "traceback": [
      "\u001b[1;31m---------------------------------------------------------------------------\u001b[0m",
      "\u001b[1;31mNameError\u001b[0m                                 Traceback (most recent call last)",
      "Input \u001b[1;32mIn [3]\u001b[0m, in \u001b[0;36m<cell line: 14>\u001b[1;34m()\u001b[0m\n\u001b[0;32m     11\u001b[0m     \u001b[38;5;28;01melse\u001b[39;00m:\n\u001b[0;32m     12\u001b[0m         \u001b[38;5;28mprint\u001b[39m(\u001b[38;5;124m\"\u001b[39m\u001b[38;5;124mNot eligible because of weight\u001b[39m\u001b[38;5;124m\"\u001b[39m)\n\u001b[1;32m---> 14\u001b[0m check(age,\u001b[43mweight\u001b[49m)\n",
      "\u001b[1;31mNameError\u001b[0m: name 'weight' is not defined"
     ]
    }
   ],
   "source": [
    "# 11.\n",
    "age=int(input(\"Enter Your Age: \"))\n",
    "\n",
    "def check(age,weight):\n",
    "    if age>=18:\n",
    "        weight=int(input(\"Enter Your Weight\"))\n",
    "        \n",
    "        if weight>=40:\n",
    "            print(\"U are aligible\")\n",
    "        else:\n",
    "            print(\"Not eligible because of weight\")\n",
    "    else:\n",
    "        print(\"Not eligible because of weight\")\n",
    "\n",
    "check(age,weight)        "
   ]
  },
  {
   "cell_type": "code",
   "execution_count": 3,
   "id": "49da6bfd",
   "metadata": {},
   "outputs": [
    {
     "name": "stdout",
     "output_type": "stream",
     "text": [
      "Enter the value of n:5\n",
      "Weird\n"
     ]
    }
   ],
   "source": [
    "#12.Check on the basis of function.\n",
    "\n",
    "def check(n):\n",
    "    if n%2!=0:\n",
    "        print('Weird')\n",
    "\n",
    "    if n%2==0 and 2<=n<=5:\n",
    "        print(\"Not Weired\")\n",
    "        \n",
    "    \n",
    "    elif n%2==0 and 6<=n<=20:\n",
    "        print(\"Weired\") \n",
    "       \n",
    "    elif n%2==0 and n>20:\n",
    "        print(\"Not Weired\") \n",
    "    \n",
    "n=int(input(\"Enter the value of n:\")) \n",
    "\n",
    "check(n)"
   ]
  },
  {
   "cell_type": "code",
   "execution_count": 3,
   "id": "9eeab707",
   "metadata": {},
   "outputs": [
    {
     "name": "stdout",
     "output_type": "stream",
     "text": [
      "100\n",
      "101\n",
      "102\n",
      "103\n",
      "104\n",
      "105\n",
      "106\n",
      "107\n",
      "108\n",
      "109\n",
      "110\n",
      "111\n"
     ]
    }
   ],
   "source": [
    "#13.Function to print number in between 100 to 111:\n",
    "\n",
    "def pr(m,n):\n",
    "    for i in range(m,n):\n",
    "        print(i)\n",
    "pr(100,112)        "
   ]
  },
  {
   "cell_type": "code",
   "execution_count": 3,
   "id": "72842be0",
   "metadata": {},
   "outputs": [
    {
     "name": "stdout",
     "output_type": "stream",
     "text": [
      "100\n",
      "99\n",
      "98\n",
      "97\n",
      "96\n",
      "95\n",
      "94\n",
      "93\n",
      "92\n",
      "91\n",
      "90\n"
     ]
    }
   ],
   "source": [
    "#14.Function to print number in between 100 to 90:\n",
    "\n",
    "def pr(m,n):\n",
    "    for i in range(m,n-1,-1):\n",
    "        print(i)\n",
    "pr(100,90)"
   ]
  },
  {
   "cell_type": "code",
   "execution_count": 2,
   "id": "046d6bab",
   "metadata": {},
   "outputs": [
    {
     "name": "stdout",
     "output_type": "stream",
     "text": [
      "200\n",
      "400\n",
      "600\n",
      "800\n",
      "1000\n"
     ]
    }
   ],
   "source": [
    "#15. Function to print 200 400 600 800 1000:\n",
    "\n",
    "def pr(m,n,k):\n",
    "    for i in range(m,n,k):\n",
    "        print(i)\n",
    "pr(200,1001,200)"
   ]
  },
  {
   "cell_type": "code",
   "execution_count": 3,
   "id": "92e4beb2",
   "metadata": {},
   "outputs": [
    {
     "name": "stdout",
     "output_type": "stream",
     "text": [
      "999\n",
      "777\n",
      "555\n",
      "333\n",
      "111\n"
     ]
    }
   ],
   "source": [
    "#16. Function to print 999 777 555 333 111;\n",
    "\n",
    "def pr(m,n,k):\n",
    "    for i in range(m,n,k):\n",
    "        print(i)\n",
    "pr(999,110,-222)        "
   ]
  },
  {
   "cell_type": "code",
   "execution_count": 6,
   "id": "5a06636e",
   "metadata": {},
   "outputs": [
    {
     "name": "stdout",
     "output_type": "stream",
     "text": [
      "100\n",
      "102\n",
      "104\n",
      "106\n",
      "108\n",
      "110\n",
      "112\n",
      "114\n",
      "116\n",
      "118\n",
      "120\n"
     ]
    }
   ],
   "source": [
    "#17. To print all even numbers from 100 to 120.\n",
    "\n",
    "def pr(m,n):\n",
    "    for i in range(m,n):\n",
    "        if i%2==0:\n",
    "            print(i)\n",
    "pr(100,121)        \n",
    "        "
   ]
  },
  {
   "cell_type": "code",
   "execution_count": 8,
   "id": "079f3f2c",
   "metadata": {},
   "outputs": [
    {
     "name": "stdout",
     "output_type": "stream",
     "text": [
      "A\n",
      "n\n",
      "k\n",
      "i\n",
      "t\n"
     ]
    }
   ],
   "source": [
    "#18.\n",
    "\n",
    "def pr(name):\n",
    "    for i in name:\n",
    "        print(i)\n",
    "        \n",
    "pr('Ankit')        "
   ]
  },
  {
   "cell_type": "code",
   "execution_count": 10,
   "id": "9c43f93a",
   "metadata": {},
   "outputs": [
    {
     "name": "stdout",
     "output_type": "stream",
     "text": [
      "Enter norm : 120\n"
     ]
    },
    {
     "ename": "NameError",
     "evalue": "name 'run' is not defined",
     "output_type": "error",
     "traceback": [
      "\u001b[1;31m---------------------------------------------------------------------------\u001b[0m",
      "\u001b[1;31mNameError\u001b[0m                                 Traceback (most recent call last)",
      "Input \u001b[1;32mIn [10]\u001b[0m, in \u001b[0;36m<cell line: 16>\u001b[1;34m()\u001b[0m\n\u001b[0;32m     12\u001b[0m          \u001b[38;5;28mprint\u001b[39m(\u001b[38;5;124m'\u001b[39m\u001b[38;5;124mU r not eligible because 100 math required \u001b[39m\u001b[38;5;124m'\u001b[39m)\n\u001b[0;32m     14\u001b[0m nom\u001b[38;5;241m=\u001b[39m\u001b[38;5;28mint\u001b[39m(\u001b[38;5;28minput\u001b[39m(\u001b[38;5;124m'\u001b[39m\u001b[38;5;124mEnter norm : \u001b[39m\u001b[38;5;124m'\u001b[39m))\n\u001b[1;32m---> 16\u001b[0m sel(nom,\u001b[43mrun\u001b[49m,wicket)\n",
      "\u001b[1;31mNameError\u001b[0m: name 'run' is not defined"
     ]
    }
   ],
   "source": [
    "#19. Cricket Match Selection:\n",
    "\n",
    "def sel(nom,run,wicket):\n",
    "    if nom>=100:\n",
    "        run=int(input('Enter runs:'))\n",
    "        wicket=int(input(\"Enter Wickets\"))\n",
    "        if (run>=2500 or wicket>=100) or (run>=1500 and wicket>=70):\n",
    "            print(\"Selected\")\n",
    "        else:\n",
    "            print('Not selected because either 3200 run or 100 wicket required')\n",
    "    else:\n",
    "         print('U r not eligible because 100 math required ')\n",
    "\n",
    "nom=int(input('Enter nom : '))\n",
    "\n",
    "sel(nom,run,wicket)"
   ]
  },
  {
   "cell_type": "code",
   "execution_count": 11,
   "id": "8770074b",
   "metadata": {},
   "outputs": [
    {
     "name": "stdout",
     "output_type": "stream",
     "text": [
      "Enter 10th mark78\n",
      "Enter 12th mark90\n",
      "Enter btech mark76\n",
      "Not eligible\n"
     ]
    }
   ],
   "source": [
    "#20.Mark basis selection:\n",
    "\n",
    "tm=int(input('Enter 10th mark'))\n",
    "twm=int(input('Enter 12th mark'))\n",
    "btech=int(input('Enter btech mark'))\n",
    "\n",
    "def marks(tm,twm,btech):\n",
    "    if tm>80 and twm>70 and btech>50:\n",
    "        print('U are eligible')\n",
    "    else:\n",
    "        print(\"Not eligible\")\n",
    "marks(tm,twm,btech)    "
   ]
  },
  {
   "cell_type": "code",
   "execution_count": 12,
   "id": "dbf48fb0",
   "metadata": {},
   "outputs": [
    {
     "name": "stdout",
     "output_type": "stream",
     "text": [
      "Enter 10th mark96\n",
      "Enter 12th mark89\n",
      "Enter btech mark78\n",
      "U are eligible\n"
     ]
    }
   ],
   "source": [
    "# 21 . mARKS BASIS SELECTION:\n",
    "def marks(tm,twm,btech):\n",
    "    tm=int(input('Enter 10th mark'))\n",
    "    if tm>80:\n",
    "        twm=int(input('Enter 12th mark'))\n",
    "        if twm>70:\n",
    "            btech=int(input('Enter btech mark'))\n",
    "            if btech>60:\n",
    "                print(\"U are eligible\")\n",
    "            else:\n",
    "                print(\"Not eligible because of btech mark\")\n",
    "        else:\n",
    "            print(\"Not eligible because of 12th mark\")\n",
    "    else:\n",
    "        print(\"Not eligible because of 10th mark\")\n",
    "        \n",
    "marks(tm,twm,btech)        "
   ]
  },
  {
   "cell_type": "code",
   "execution_count": 15,
   "id": "2146b6e8",
   "metadata": {},
   "outputs": [
    {
     "name": "stdout",
     "output_type": "stream",
     "text": [
      "Ankit\n",
      "Ankit\n",
      "Ankit\n",
      "Ankit\n",
      "Ankit\n"
     ]
    }
   ],
   "source": [
    "#22.\n",
    "\n",
    "def pr(name):\n",
    "    i=1\n",
    "    while i<=5:\n",
    "        print(name)\n",
    "        i=i+1\n",
    "pr('Ankit')        \n",
    "        "
   ]
  },
  {
   "cell_type": "code",
   "execution_count": 17,
   "id": "9ef525ac",
   "metadata": {},
   "outputs": [
    {
     "name": "stdout",
     "output_type": "stream",
     "text": [
      "Surendra\n",
      "Surendra\n",
      "Surendra\n",
      "Surendra\n",
      "Surendra\n",
      "Surendra\n"
     ]
    }
   ],
   "source": [
    "# 23.\n",
    "def pr(name):\n",
    "    a=10\n",
    "    while a<=20:\n",
    "            print(name)\n",
    "            a=a+2\n",
    "pr('Surendra')            "
   ]
  },
  {
   "cell_type": "code",
   "execution_count": 5,
   "id": "c1c782d9",
   "metadata": {},
   "outputs": [
    {
     "name": "stdout",
     "output_type": "stream",
     "text": [
      "4\n",
      "16\n",
      "36\n",
      "64\n",
      "100\n"
     ]
    }
   ],
   "source": [
    "#24: to print 4 16 36 64 100\n",
    "def pr(m,n,k):\n",
    "    for i in range(m,n,k):\n",
    "        if i%2==0:\n",
    "            print(i*i)\n",
    "pr(1,11,1)            "
   ]
  },
  {
   "cell_type": "code",
   "execution_count": 6,
   "id": "88736afc",
   "metadata": {},
   "outputs": [
    {
     "name": "stdout",
     "output_type": "stream",
     "text": [
      "1\n",
      "4\n",
      "9\n",
      "16\n",
      "25\n"
     ]
    }
   ],
   "source": [
    "# 25: to print 1 4 9 16 25:\n",
    "\n",
    "def pr(m,n):\n",
    "    for i in range(m,n):\n",
    "        print(i*i)\n",
    "        \n",
    "pr(1,6)        "
   ]
  },
  {
   "cell_type": "code",
   "execution_count": 7,
   "id": "4068d535",
   "metadata": {},
   "outputs": [
    {
     "name": "stdout",
     "output_type": "stream",
     "text": [
      "560\n",
      "570\n",
      "580\n",
      "590\n",
      "600\n",
      "610\n",
      "620\n",
      "630\n",
      "640\n",
      "650\n",
      "660\n",
      "670\n",
      "680\n",
      "690\n",
      "700\n",
      "710\n",
      "720\n",
      "730\n",
      "740\n",
      "750\n",
      "760\n",
      "770\n",
      "780\n",
      "790\n",
      "800\n",
      "810\n",
      "820\n",
      "830\n",
      "840\n",
      "850\n",
      "860\n",
      "870\n",
      "880\n",
      "890\n",
      "900\n",
      "910\n",
      "920\n",
      "930\n",
      "940\n",
      "950\n",
      "960\n",
      "970\n",
      "980\n",
      "990\n"
     ]
    }
   ],
   "source": [
    "# 26. To print all the numbers divisible by 10 in between 555 to 999.\n",
    "\n",
    "def pr(m,n):\n",
    "    for i in range(m,n):\n",
    "        if i%10==0:\n",
    "            print(i)\n",
    "pr(555,999)            "
   ]
  },
  {
   "cell_type": "code",
   "execution_count": 9,
   "id": "55f560ea",
   "metadata": {},
   "outputs": [
    {
     "name": "stdout",
     "output_type": "stream",
     "text": [
      "Enter The Start Value:50\n",
      "Enter THE stop value: 100\n",
      "50\n",
      "55\n",
      "60\n",
      "65\n",
      "70\n",
      "75\n",
      "80\n",
      "85\n",
      "90\n",
      "95\n"
     ]
    }
   ],
   "source": [
    "#27: divisible by 5 or 10 as per user:\n",
    "\n",
    "m=int(input('Enter The Start Value:'))\n",
    "n=int(input('Enter THE stop value: '))\n",
    "def pr(m,n):\n",
    "    for i in range(m,n):\n",
    "        if i%5==0 or i%10==0:\n",
    "            print(i)\n",
    "pr(m,n)   "
   ]
  },
  {
   "cell_type": "code",
   "execution_count": 1,
   "id": "e9357a0b",
   "metadata": {},
   "outputs": [
    {
     "name": "stdout",
     "output_type": "stream",
     "text": [
      "Enter the number:20\n",
      ".\n",
      "2\n",
      ".\n",
      "4\n",
      ".\n",
      "6\n",
      ".\n",
      "8\n",
      ".\n",
      "10\n",
      ".\n",
      "12\n",
      ".\n",
      "14\n",
      ".\n",
      "16\n",
      ".\n",
      "18\n",
      ".\n",
      "20\n"
     ]
    }
   ],
   "source": [
    "#28: Pattern\n",
    "\n",
    "num=int(input(\"Enter the number:\"))\n",
    "def pr(num):\n",
    "    i=1\n",
    "    while i<=num:\n",
    "        if i%2==0:\n",
    "            print(i)\n",
    "        else:\n",
    "            print('.')\n",
    "        i=i+1    \n",
    "pr(num)            "
   ]
  },
  {
   "cell_type": "code",
   "execution_count": 3,
   "id": "105ff03a",
   "metadata": {},
   "outputs": [
    {
     "name": "stdout",
     "output_type": "stream",
     "text": [
      "Enter the number:20\n",
      "100\n",
      "Surendra\n",
      "300\n",
      "Surendra\n",
      "500\n",
      "Surendra\n",
      "700\n",
      "Surendra\n",
      "900\n",
      "Surendra\n",
      "1100\n",
      "Surendra\n",
      "1300\n",
      "Surendra\n",
      "1500\n",
      "Surendra\n",
      "1700\n",
      "Surendra\n",
      "1900\n",
      "Surendra\n"
     ]
    }
   ],
   "source": [
    "#29 Pattern:\n",
    "\n",
    "num=int(input(\"Enter the number:\"))\n",
    "def pr(num):\n",
    "    i=1\n",
    "    while i<=num:\n",
    "        if i%2==0:\n",
    "            print(\"Surendra\")\n",
    "        else:\n",
    "            print(i*100)\n",
    "        i=i+1    \n",
    "pr(num)   "
   ]
  },
  {
   "cell_type": "code",
   "execution_count": 4,
   "id": "975efc12",
   "metadata": {},
   "outputs": [
    {
     "name": "stdout",
     "output_type": "stream",
     "text": [
      "Enter the number:10\n",
      "1000\n",
      "2\n",
      "3000\n",
      "4\n",
      "5000\n",
      "6\n",
      "7000\n",
      "8\n",
      "9000\n",
      "10\n"
     ]
    }
   ],
   "source": [
    "#30. Pattern\n",
    "\n",
    "num=int(input(\"Enter the number:\"))\n",
    "def pr(num):\n",
    "    i=1\n",
    "    while i<=num:\n",
    "        if i%2==0:\n",
    "            print(i)\n",
    "        else:\n",
    "            print(i*1000)\n",
    "        i=i+1    \n",
    "pr(num)   "
   ]
  },
  {
   "cell_type": "code",
   "execution_count": null,
   "id": "5e8634de",
   "metadata": {},
   "outputs": [],
   "source": []
  },
  {
   "cell_type": "code",
   "execution_count": null,
   "id": "dd488f5b",
   "metadata": {},
   "outputs": [],
   "source": []
  },
  {
   "cell_type": "code",
   "execution_count": null,
   "id": "9f924782",
   "metadata": {},
   "outputs": [],
   "source": []
  },
  {
   "cell_type": "code",
   "execution_count": null,
   "id": "8370416e",
   "metadata": {},
   "outputs": [],
   "source": []
  },
  {
   "cell_type": "code",
   "execution_count": null,
   "id": "cd096e19",
   "metadata": {},
   "outputs": [],
   "source": []
  },
  {
   "cell_type": "code",
   "execution_count": null,
   "id": "4c0895cf",
   "metadata": {},
   "outputs": [],
   "source": []
  },
  {
   "cell_type": "code",
   "execution_count": null,
   "id": "a8d71085",
   "metadata": {},
   "outputs": [],
   "source": []
  },
  {
   "cell_type": "code",
   "execution_count": null,
   "id": "ea2e6518",
   "metadata": {},
   "outputs": [],
   "source": []
  },
  {
   "cell_type": "code",
   "execution_count": null,
   "id": "6972894b",
   "metadata": {},
   "outputs": [],
   "source": []
  },
  {
   "cell_type": "code",
   "execution_count": null,
   "id": "700c6fce",
   "metadata": {},
   "outputs": [],
   "source": []
  },
  {
   "cell_type": "code",
   "execution_count": null,
   "id": "cc1ea84a",
   "metadata": {},
   "outputs": [],
   "source": []
  },
  {
   "cell_type": "code",
   "execution_count": null,
   "id": "f5acd900",
   "metadata": {},
   "outputs": [],
   "source": []
  },
  {
   "cell_type": "code",
   "execution_count": null,
   "id": "d0c0ab3b",
   "metadata": {},
   "outputs": [],
   "source": []
  },
  {
   "cell_type": "code",
   "execution_count": null,
   "id": "33fe8108",
   "metadata": {},
   "outputs": [],
   "source": []
  },
  {
   "cell_type": "code",
   "execution_count": null,
   "id": "e15cc76d",
   "metadata": {},
   "outputs": [],
   "source": []
  },
  {
   "cell_type": "code",
   "execution_count": null,
   "id": "cdd5e96f",
   "metadata": {},
   "outputs": [],
   "source": []
  }
 ],
 "metadata": {
  "kernelspec": {
   "display_name": "Python 3 (ipykernel)",
   "language": "python",
   "name": "python3"
  },
  "language_info": {
   "codemirror_mode": {
    "name": "ipython",
    "version": 3
   },
   "file_extension": ".py",
   "mimetype": "text/x-python",
   "name": "python",
   "nbconvert_exporter": "python",
   "pygments_lexer": "ipython3",
   "version": "3.9.12"
  }
 },
 "nbformat": 4,
 "nbformat_minor": 5
}
