{
 "cells": [
  {
   "cell_type": "code",
   "execution_count": 4,
   "id": "85e86ee4",
   "metadata": {},
   "outputs": [
    {
     "name": "stdout",
     "output_type": "stream",
     "text": [
      "name is Priyanka\n",
      "age is 24\n",
      "sid is 1024\n"
     ]
    }
   ],
   "source": [
    "class Student:\n",
    "    def __init__(self,name,age,sid):\n",
    "        self.name=name\n",
    "        self.age=age\n",
    "        self.sid=sid\n",
    "    def printDetails(self):\n",
    "        print(f\"name is {self.name}\")\n",
    "        print(f\"age is {self.age}\")\n",
    "        print(f\"sid is {self.sid}\")\n",
    "\n",
    "s1=Student(\"Priyanka\",24,1024)\n",
    "s1.printDetails()"
   ]
  },
  {
   "cell_type": "code",
   "execution_count": 5,
   "id": "d0967c2f",
   "metadata": {},
   "outputs": [
    {
     "name": "stdout",
     "output_type": "stream",
     "text": [
      "name is Rahul\n",
      "age is 25\n",
      "sid is 2024\n"
     ]
    }
   ],
   "source": [
    "s2=Student(\"Rahul\",25,2024)\n",
    "s2.printDetails()"
   ]
  },
  {
   "cell_type": "code",
   "execution_count": 6,
   "id": "b6ff342a",
   "metadata": {},
   "outputs": [
    {
     "name": "stdout",
     "output_type": "stream",
     "text": [
      "name is Zini\n",
      "age is 32\n",
      "sid is 3024\n"
     ]
    }
   ],
   "source": [
    "s2=Student(\"Zini\",32,3024)\n",
    "s2.printDetails()"
   ]
  },
  {
   "cell_type": "code",
   "execution_count": null,
   "id": "c398736d",
   "metadata": {},
   "outputs": [],
   "source": [
    "# Student info: sid , name , roll"
   ]
  },
  {
   "cell_type": "code",
   "execution_count": 2,
   "id": "9de45799",
   "metadata": {},
   "outputs": [
    {
     "name": "stdout",
     "output_type": "stream",
     "text": [
      "sid is 1024\n",
      "name is Rahul\n",
      "roll is 23\n"
     ]
    }
   ],
   "source": [
    "class Student:\n",
    "    def collectdata(self,i,j,k):\n",
    "        self.sid=i\n",
    "        self.name=j\n",
    "        self.roll=k\n",
    "    def printdetails(self):\n",
    "        print(f'sid is {self.sid}')\n",
    "        print(f'name is {self.name}')\n",
    "        print(f'roll is {self.roll}')\n",
    "        \n",
    "#Object Creation\n",
    "s=Student()\n",
    "s.collectdata(1024,'Rahul', 23)\n",
    "s.printdetails()"
   ]
  },
  {
   "cell_type": "code",
   "execution_count": 3,
   "id": "2577e969",
   "metadata": {},
   "outputs": [
    {
     "ename": "TypeError",
     "evalue": "printDetails() takes 0 positional arguments but 1 was given",
     "output_type": "error",
     "traceback": [
      "\u001b[1;31m---------------------------------------------------------------------------\u001b[0m",
      "\u001b[1;31mTypeError\u001b[0m                                 Traceback (most recent call last)",
      "Input \u001b[1;32mIn [3]\u001b[0m, in \u001b[0;36m<cell line: 13>\u001b[1;34m()\u001b[0m\n\u001b[0;32m     10\u001b[0m s\u001b[38;5;241m=\u001b[39mStudent()\n\u001b[0;32m     11\u001b[0m s\u001b[38;5;241m.\u001b[39mCollectData(\u001b[38;5;241m1024\u001b[39m,\u001b[38;5;124m'\u001b[39m\u001b[38;5;124mrahul\u001b[39m\u001b[38;5;124m'\u001b[39m,\u001b[38;5;241m23\u001b[39m)\n\u001b[1;32m---> 13\u001b[0m \u001b[43ms\u001b[49m\u001b[38;5;241;43m.\u001b[39;49m\u001b[43mprintDetails\u001b[49m\u001b[43m(\u001b[49m\u001b[43m)\u001b[49m\n",
      "\u001b[1;31mTypeError\u001b[0m: printDetails() takes 0 positional arguments but 1 was given"
     ]
    }
   ],
   "source": [
    "class Student:\n",
    "    def CollectData(self,i,j,k):\n",
    "        self.sid=i\n",
    "        self.name=j\n",
    "        self.roll=k\n",
    "        \n",
    "    def printDetails():\n",
    "        print(self.name)\n",
    "\n",
    "s=Student()\n",
    "s.CollectData(1024,'rahul',23)\n",
    "\n",
    "s.printDetails()\n",
    "        "
   ]
  },
  {
   "cell_type": "code",
   "execution_count": 6,
   "id": "9c16b183",
   "metadata": {},
   "outputs": [
    {
     "name": "stdout",
     "output_type": "stream",
     "text": [
      "1024\n",
      "Rahul\n",
      "23\n",
      "1025\n",
      "Priyanka\n",
      "24\n",
      "1026\n",
      "Zini\n",
      "25\n"
     ]
    }
   ],
   "source": [
    "class Student():\n",
    "    def CollectData(self,i,j,k):\n",
    "        self.sid=i\n",
    "        self.name=j\n",
    "        self.roll=k\n",
    "\n",
    "s=Student()\n",
    "s.CollectData(1024,'Rahul',23)\n",
    "\n",
    "s1=Student()\n",
    "s1.CollectData(1025,'Priyanka',24)\n",
    "\n",
    "s2=Student()\n",
    "s2.CollectData(1026,'Zini',25)\n",
    "\n",
    "print(s.sid)\n",
    "print(s.name)\n",
    "print(s.roll)\n",
    "\n",
    "print(s1.sid)\n",
    "print(s1.name)\n",
    "print(s1.roll)\n",
    "\n",
    "print(s2.sid)\n",
    "print(s2.name)\n",
    "print(s2.roll)"
   ]
  },
  {
   "cell_type": "code",
   "execution_count": 7,
   "id": "e5924135",
   "metadata": {},
   "outputs": [],
   "source": [
    "#Create a class named as Area, inside that class create three method \n",
    "# Area of Triangle, Area of Rectangle , Area of Circle"
   ]
  },
  {
   "cell_type": "code",
   "execution_count": 12,
   "id": "981802e3",
   "metadata": {},
   "outputs": [
    {
     "name": "stdout",
     "output_type": "stream",
     "text": [
      "area of circle is 66.44239999999999\n"
     ]
    },
    {
     "ename": "NameError",
     "evalue": "name 'l' is not defined",
     "output_type": "error",
     "traceback": [
      "\u001b[1;31m---------------------------------------------------------------------------\u001b[0m",
      "\u001b[1;31mNameError\u001b[0m                                 Traceback (most recent call last)",
      "Input \u001b[1;32mIn [12]\u001b[0m, in \u001b[0;36m<cell line: 18>\u001b[1;34m()\u001b[0m\n\u001b[0;32m     16\u001b[0m a\u001b[38;5;241m=\u001b[39mArea()\n\u001b[0;32m     17\u001b[0m a\u001b[38;5;241m.\u001b[39marea_of_circle(\u001b[38;5;241m4.6\u001b[39m)\n\u001b[1;32m---> 18\u001b[0m \u001b[43ma\u001b[49m\u001b[38;5;241;43m.\u001b[39;49m\u001b[43marea_of_rectangle\u001b[49m\u001b[43m(\u001b[49m\u001b[38;5;241;43m1.6\u001b[39;49m\u001b[43m,\u001b[49m\u001b[38;5;241;43m7.7\u001b[39;49m\u001b[43m)\u001b[49m\n",
      "Input \u001b[1;32mIn [12]\u001b[0m, in \u001b[0;36mArea.area_of_rectangle\u001b[1;34m(self, i, j)\u001b[0m\n\u001b[0;32m     12\u001b[0m \u001b[38;5;28mself\u001b[39m\u001b[38;5;241m.\u001b[39mi\u001b[38;5;241m=\u001b[39mi\n\u001b[0;32m     13\u001b[0m \u001b[38;5;28mself\u001b[39m\u001b[38;5;241m.\u001b[39mj\u001b[38;5;241m=\u001b[39mj\n\u001b[1;32m---> 14\u001b[0m \u001b[38;5;28mprint\u001b[39m(\u001b[38;5;124mf\u001b[39m\u001b[38;5;124m'\u001b[39m\u001b[38;5;124marea of rectangle is \u001b[39m\u001b[38;5;132;01m{\u001b[39;00ml\u001b[38;5;241m*\u001b[39mb\u001b[38;5;132;01m}\u001b[39;00m\u001b[38;5;124m'\u001b[39m)\n",
      "\u001b[1;31mNameError\u001b[0m: name 'l' is not defined"
     ]
    }
   ],
   "source": [
    "class Area():\n",
    "    def area_of_triangle(self,b,h):\n",
    "        self.h=h\n",
    "        self.b=b\n",
    "        print(f'area of triangle is {0.5*self.h*self,b}')\n",
    "    \n",
    "    def area_of_circle(self,r):\n",
    "        self.r=r\n",
    "        print(f'area of circle is {3.14*r*r}')\n",
    "        \n",
    "    def area_of_rectangle(self,i,j):\n",
    "        self.i=i\n",
    "        self.j=j\n",
    "        print(f'area of rectangle is {l*b}')\n",
    "\n",
    "a=Area()\n",
    "\n",
    "a.area_of_triangle(2.3,2.6)\n",
    "a.area_of_circle(4.6)\n",
    "a.area_of_rectangle(1.6,7.7)\n"
   ]
  },
  {
   "cell_type": "code",
   "execution_count": null,
   "id": "67d17674",
   "metadata": {},
   "outputs": [],
   "source": []
  },
  {
   "cell_type": "code",
   "execution_count": null,
   "id": "ebf7fde7",
   "metadata": {},
   "outputs": [],
   "source": []
  },
  {
   "cell_type": "code",
   "execution_count": null,
   "id": "00402ceb",
   "metadata": {},
   "outputs": [],
   "source": []
  },
  {
   "cell_type": "code",
   "execution_count": null,
   "id": "5f113b1e",
   "metadata": {},
   "outputs": [],
   "source": []
  },
  {
   "cell_type": "code",
   "execution_count": null,
   "id": "425477a9",
   "metadata": {},
   "outputs": [],
   "source": []
  },
  {
   "cell_type": "code",
   "execution_count": null,
   "id": "6fb6af97",
   "metadata": {},
   "outputs": [],
   "source": []
  },
  {
   "cell_type": "code",
   "execution_count": null,
   "id": "e2228097",
   "metadata": {},
   "outputs": [],
   "source": []
  },
  {
   "cell_type": "code",
   "execution_count": null,
   "id": "2af6ecb6",
   "metadata": {},
   "outputs": [],
   "source": []
  },
  {
   "cell_type": "code",
   "execution_count": null,
   "id": "0a11b2e4",
   "metadata": {},
   "outputs": [],
   "source": []
  },
  {
   "cell_type": "code",
   "execution_count": null,
   "id": "80fd46b0",
   "metadata": {},
   "outputs": [],
   "source": []
  },
  {
   "cell_type": "code",
   "execution_count": null,
   "id": "bb06d4a0",
   "metadata": {},
   "outputs": [],
   "source": []
  },
  {
   "cell_type": "code",
   "execution_count": null,
   "id": "2c4b22c1",
   "metadata": {},
   "outputs": [],
   "source": []
  },
  {
   "cell_type": "code",
   "execution_count": null,
   "id": "901ca25c",
   "metadata": {},
   "outputs": [],
   "source": []
  },
  {
   "cell_type": "code",
   "execution_count": null,
   "id": "8697fedf",
   "metadata": {},
   "outputs": [],
   "source": []
  },
  {
   "cell_type": "code",
   "execution_count": null,
   "id": "7ec103a5",
   "metadata": {},
   "outputs": [],
   "source": []
  },
  {
   "cell_type": "code",
   "execution_count": null,
   "id": "5345f08a",
   "metadata": {},
   "outputs": [],
   "source": []
  }
 ],
 "metadata": {
  "kernelspec": {
   "display_name": "Python 3 (ipykernel)",
   "language": "python",
   "name": "python3"
  },
  "language_info": {
   "codemirror_mode": {
    "name": "ipython",
    "version": 3
   },
   "file_extension": ".py",
   "mimetype": "text/x-python",
   "name": "python",
   "nbconvert_exporter": "python",
   "pygments_lexer": "ipython3",
   "version": "3.9.12"
  }
 },
 "nbformat": 4,
 "nbformat_minor": 5
}
