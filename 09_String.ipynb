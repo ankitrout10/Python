{
 "cells": [
  {
   "cell_type": "code",
   "execution_count": 3,
   "id": "45df32c1",
   "metadata": {},
   "outputs": [
    {
     "name": "stdout",
     "output_type": "stream",
     "text": [
      "True\n",
      "False\n",
      "True\n",
      "False\n"
     ]
    }
   ],
   "source": [
    "s=\"hello python programming language\"\n",
    "print(s.startswith(\"hello\"))\n",
    "print(s.startswith(\"Hello\"))\n",
    "print(s.endswith(\"language\"))\n",
    "print(s.endswith(\"abc\"))"
   ]
  },
  {
   "cell_type": "code",
   "execution_count": 4,
   "id": "94812c22",
   "metadata": {},
   "outputs": [
    {
     "name": "stdout",
     "output_type": "stream",
     "text": [
      "False\n"
     ]
    }
   ],
   "source": [
    "s='hello python programming language'\n",
    "print(s.isalpha())\n",
    "#it is containing alphabets with space"
   ]
  },
  {
   "cell_type": "code",
   "execution_count": 5,
   "id": "9dea3169",
   "metadata": {},
   "outputs": [
    {
     "name": "stdout",
     "output_type": "stream",
     "text": [
      "True\n"
     ]
    }
   ],
   "source": [
    "s='hellopythonprogramminglanguage'\n",
    "print(s.isalpha())"
   ]
  },
  {
   "cell_type": "code",
   "execution_count": 6,
   "id": "af86b6f7",
   "metadata": {},
   "outputs": [
    {
     "name": "stdout",
     "output_type": "stream",
     "text": [
      "True\n"
     ]
    }
   ],
   "source": [
    "s=\"Hellopython\"\n",
    "print(s.isalpha())"
   ]
  },
  {
   "cell_type": "code",
   "execution_count": 7,
   "id": "c7aab720",
   "metadata": {},
   "outputs": [
    {
     "name": "stdout",
     "output_type": "stream",
     "text": [
      "False\n"
     ]
    }
   ],
   "source": [
    "s=\"1Hellopython\"\n",
    "print(s.isalpha())"
   ]
  },
  {
   "cell_type": "code",
   "execution_count": 8,
   "id": "a8c3e480",
   "metadata": {},
   "outputs": [
    {
     "name": "stdout",
     "output_type": "stream",
     "text": [
      "True\n"
     ]
    }
   ],
   "source": [
    "s=\"1Hellopython\"\n",
    "print(s.isalnum())"
   ]
  },
  {
   "cell_type": "code",
   "execution_count": 9,
   "id": "9cde2999",
   "metadata": {},
   "outputs": [
    {
     "name": "stdout",
     "output_type": "stream",
     "text": [
      "True\n"
     ]
    }
   ],
   "source": [
    "s=\"Hellopython\"\n",
    "print(s.isalnum())"
   ]
  },
  {
   "cell_type": "code",
   "execution_count": 10,
   "id": "f7782a87",
   "metadata": {},
   "outputs": [
    {
     "name": "stdout",
     "output_type": "stream",
     "text": [
      "True\n"
     ]
    }
   ],
   "source": [
    "s='1111'\n",
    "print(s.isalnum())"
   ]
  },
  {
   "cell_type": "code",
   "execution_count": 11,
   "id": "8747d2a6",
   "metadata": {},
   "outputs": [
    {
     "name": "stdout",
     "output_type": "stream",
     "text": [
      "False\n"
     ]
    }
   ],
   "source": [
    "s='1*2'\n",
    "print(s.isalnum())"
   ]
  },
  {
   "cell_type": "code",
   "execution_count": 12,
   "id": "6c6558ba",
   "metadata": {},
   "outputs": [
    {
     "name": "stdout",
     "output_type": "stream",
     "text": [
      "True\n"
     ]
    }
   ],
   "source": [
    "s='123'\n",
    "print(s.isdigit())"
   ]
  },
  {
   "cell_type": "code",
   "execution_count": 13,
   "id": "576079a8",
   "metadata": {},
   "outputs": [
    {
     "name": "stdout",
     "output_type": "stream",
     "text": [
      "False\n"
     ]
    }
   ],
   "source": [
    "s='123hello'\n",
    "print(s.isdigit())"
   ]
  },
  {
   "cell_type": "code",
   "execution_count": 14,
   "id": "d984a7bc",
   "metadata": {},
   "outputs": [
    {
     "name": "stdout",
     "output_type": "stream",
     "text": [
      "True\n"
     ]
    }
   ],
   "source": [
    "#islower():\n",
    "s='123hello'\n",
    "print(s.islower())"
   ]
  },
  {
   "cell_type": "code",
   "execution_count": 15,
   "id": "31e86a29",
   "metadata": {},
   "outputs": [
    {
     "name": "stdout",
     "output_type": "stream",
     "text": [
      "False\n"
     ]
    }
   ],
   "source": [
    "s='123hEllo'\n",
    "print(s.islower())"
   ]
  },
  {
   "cell_type": "code",
   "execution_count": 17,
   "id": "7f55258b",
   "metadata": {},
   "outputs": [
    {
     "name": "stdout",
     "output_type": "stream",
     "text": [
      "False\n"
     ]
    }
   ],
   "source": [
    "#isupper():\n",
    "s='123hello'\n",
    "print(s.isupper())"
   ]
  },
  {
   "cell_type": "code",
   "execution_count": 18,
   "id": "3c08dc04",
   "metadata": {},
   "outputs": [
    {
     "name": "stdout",
     "output_type": "stream",
     "text": [
      "True\n"
     ]
    }
   ],
   "source": [
    "s='ABC'\n",
    "print(s.isupper())"
   ]
  },
  {
   "cell_type": "code",
   "execution_count": 19,
   "id": "5fd49319",
   "metadata": {},
   "outputs": [
    {
     "name": "stdout",
     "output_type": "stream",
     "text": [
      "True\n"
     ]
    }
   ],
   "source": [
    "#istitle():\n",
    "s='Surendra'\n",
    "print(s.istitle())"
   ]
  },
  {
   "cell_type": "code",
   "execution_count": 20,
   "id": "3e7623e4",
   "metadata": {},
   "outputs": [
    {
     "name": "stdout",
     "output_type": "stream",
     "text": [
      "False\n"
     ]
    }
   ],
   "source": [
    "s='sURENDRA'\n",
    "print(s.istitle())"
   ]
  },
  {
   "cell_type": "code",
   "execution_count": 22,
   "id": "54a9b4f2",
   "metadata": {},
   "outputs": [
    {
     "name": "stdout",
     "output_type": "stream",
     "text": [
      "True\n"
     ]
    }
   ],
   "source": [
    "#isspace():\n",
    "s='  '\n",
    "print(s.isspace())"
   ]
  },
  {
   "cell_type": "code",
   "execution_count": 23,
   "id": "d32f9f6f",
   "metadata": {},
   "outputs": [
    {
     "name": "stdout",
     "output_type": "stream",
     "text": [
      "False\n"
     ]
    }
   ],
   "source": [
    "s=' . '\n",
    "print(s.isspace())"
   ]
  },
  {
   "cell_type": "markdown",
   "id": "a47984d9",
   "metadata": {},
   "source": [
    "# Change Case:"
   ]
  },
  {
   "cell_type": "code",
   "execution_count": 24,
   "id": "9196fbe1",
   "metadata": {},
   "outputs": [
    {
     "name": "stdout",
     "output_type": "stream",
     "text": [
      "HELLO PYTHON PROGRAMMING LANGUAGE\n",
      "Hello Python Programming Language\n"
     ]
    }
   ],
   "source": [
    "# 1.Upper():\n",
    "s='Hello Python Programming Language'\n",
    "print(s.upper())\n",
    "print(s)"
   ]
  },
  {
   "cell_type": "code",
   "execution_count": 26,
   "id": "66980578",
   "metadata": {},
   "outputs": [
    {
     "name": "stdout",
     "output_type": "stream",
     "text": [
      "hello python language\n",
      "HELLO PYTHON LANGUAGE\n",
      "2609690434176\n",
      "2609690435216\n"
     ]
    }
   ],
   "source": [
    "s='hello python language'\n",
    "s1=s.upper()\n",
    "print(s)\n",
    "print(s1)\n",
    "print(id(s))\n",
    "print(id(s1))"
   ]
  },
  {
   "cell_type": "code",
   "execution_count": 27,
   "id": "56889f5f",
   "metadata": {},
   "outputs": [
    {
     "name": "stdout",
     "output_type": "stream",
     "text": [
      "hello python language\n"
     ]
    }
   ],
   "source": [
    "#2.Lower\n",
    "s=\"Hello Python Language\"\n",
    "print(s.lower())"
   ]
  },
  {
   "cell_type": "code",
   "execution_count": 28,
   "id": "06971347",
   "metadata": {},
   "outputs": [
    {
     "name": "stdout",
     "output_type": "stream",
     "text": [
      "hELLO pYTHON lANGUAGE\n"
     ]
    }
   ],
   "source": [
    "#3.Swapcase():\n",
    "s=\"Hello Python Language\"\n",
    "print(s.swapcase())"
   ]
  },
  {
   "cell_type": "code",
   "execution_count": 29,
   "id": "ec35577b",
   "metadata": {},
   "outputs": [
    {
     "name": "stdout",
     "output_type": "stream",
     "text": [
      "Hello Python Language\n"
     ]
    }
   ],
   "source": [
    "s=\"Hello Python Language\"\n",
    "print(s.title())"
   ]
  },
  {
   "cell_type": "code",
   "execution_count": 32,
   "id": "d34e452a",
   "metadata": {},
   "outputs": [
    {
     "name": "stdout",
     "output_type": "stream",
     "text": [
      "Hello python language\n"
     ]
    }
   ],
   "source": [
    "s=\"Hello Python language\"\n",
    "print(s.capitalize())"
   ]
  },
  {
   "cell_type": "code",
   "execution_count": 33,
   "id": "5703bc15",
   "metadata": {},
   "outputs": [
    {
     "name": "stdout",
     "output_type": "stream",
     "text": [
      "21\n"
     ]
    }
   ],
   "source": [
    "# Find out the length and Count the Occurence:\n",
    "s=\"Hello Python Language\"\n",
    "print(len(s))"
   ]
  },
  {
   "cell_type": "code",
   "execution_count": 1,
   "id": "d5f120e3",
   "metadata": {},
   "outputs": [
    {
     "name": "stdout",
     "output_type": "stream",
     "text": [
      "2\n",
      "1\n",
      "1\n"
     ]
    }
   ],
   "source": [
    "s=\"Hello Python Language\"\n",
    "print(s.count('a'))\n",
    "print(s.count('a',18))\n",
    "print(s.count('a',16))"
   ]
  },
  {
   "cell_type": "code",
   "execution_count": 5,
   "id": "dccbc059",
   "metadata": {},
   "outputs": [
    {
     "name": "stdout",
     "output_type": "stream",
     "text": [
      "python is good programming\n",
      "python is bad programming\n"
     ]
    }
   ],
   "source": [
    "s=\"python is bad programming\"\n",
    "print(s.replace('bad','good'))\n",
    "print(s)"
   ]
  },
  {
   "cell_type": "code",
   "execution_count": 6,
   "id": "a0a6b5b4",
   "metadata": {},
   "outputs": [
    {
     "name": "stdout",
     "output_type": "stream",
     "text": [
      "['Surendra', 'Kumar', 'Panda']\n"
     ]
    }
   ],
   "source": [
    "#Splitting Of String:\n",
    "s='Surendra Kumar Panda'\n",
    "print(s.split())"
   ]
  },
  {
   "cell_type": "code",
   "execution_count": 7,
   "id": "20dc2890",
   "metadata": {},
   "outputs": [
    {
     "name": "stdout",
     "output_type": "stream",
     "text": [
      "['Surendr', ' Kum', 'r P', 'nd', '']\n"
     ]
    }
   ],
   "source": [
    "s='Surendra Kumar Panda'\n",
    "print(s.split('a'))"
   ]
  },
  {
   "cell_type": "code",
   "execution_count": 8,
   "id": "38a13623",
   "metadata": {},
   "outputs": [
    {
     "name": "stdout",
     "output_type": "stream",
     "text": [
      "['S', 'rendra K', 'mar Panda']\n"
     ]
    }
   ],
   "source": [
    "s='Surendra Kumar Panda'\n",
    "print(s.split('u'))"
   ]
  },
  {
   "cell_type": "code",
   "execution_count": 9,
   "id": "3eda2008",
   "metadata": {},
   "outputs": [
    {
     "name": "stdout",
     "output_type": "stream",
     "text": [
      "['S', 'rendra K', 'mar Panda', '']\n"
     ]
    }
   ],
   "source": [
    "s='Surendra Kumar Pandau'\n",
    "print(s.split('u'))"
   ]
  },
  {
   "cell_type": "code",
   "execution_count": 10,
   "id": "c7bba025",
   "metadata": {},
   "outputs": [
    {
     "name": "stdout",
     "output_type": "stream",
     "text": [
      "['1', '1', '2002']\n"
     ]
    }
   ],
   "source": [
    "dob='1-1-2002'\n",
    "print(dob.split('-'))"
   ]
  },
  {
   "cell_type": "code",
   "execution_count": 11,
   "id": "9177038b",
   "metadata": {},
   "outputs": [
    {
     "name": "stdout",
     "output_type": "stream",
     "text": [
      "['1-1-2002']\n"
     ]
    }
   ],
   "source": [
    "dob='1-1-2002'\n",
    "print(dob.split('*'))"
   ]
  },
  {
   "cell_type": "code",
   "execution_count": 12,
   "id": "a7549c25",
   "metadata": {},
   "outputs": [
    {
     "name": "stdout",
     "output_type": "stream",
     "text": [
      "surendra+priyanka+rahul+zini\n"
     ]
    }
   ],
   "source": [
    "#Join:\n",
    "l=['surendra','priyanka','rahul','zini']\n",
    "s='+'.join(l)\n",
    "print(s)"
   ]
  },
  {
   "cell_type": "code",
   "execution_count": 13,
   "id": "d8fed692",
   "metadata": {},
   "outputs": [
    {
     "name": "stdout",
     "output_type": "stream",
     "text": [
      "surendrapriyankarahulzini\n"
     ]
    }
   ],
   "source": [
    "l=['surendra','priyanka','rahul','zini']\n",
    "s=''.join(l)\n",
    "print(s)"
   ]
  },
  {
   "cell_type": "code",
   "execution_count": 14,
   "id": "9b42f250",
   "metadata": {},
   "outputs": [
    {
     "name": "stdout",
     "output_type": "stream",
     "text": [
      "surendra.priyanka.rahul.zini\n"
     ]
    }
   ],
   "source": [
    "l=['surendra','priyanka','rahul','zini']\n",
    "s='.'.join(l)\n",
    "print(s)"
   ]
  },
  {
   "cell_type": "code",
   "execution_count": 16,
   "id": "381e4aec",
   "metadata": {},
   "outputs": [
    {
     "name": "stdout",
     "output_type": "stream",
     "text": [
      "13\n",
      "Surendra\n",
      "8\n"
     ]
    }
   ],
   "source": [
    "# Removing Space From String:\n",
    "s='Surendra     '\n",
    "print(len(s))\n",
    "print(s.rstrip())\n",
    "print(len(s.rstrip()))"
   ]
  },
  {
   "cell_type": "code",
   "execution_count": 18,
   "id": "90f632da",
   "metadata": {},
   "outputs": [
    {
     "name": "stdout",
     "output_type": "stream",
     "text": [
      "20\n",
      "Surendra     \n",
      "13\n"
     ]
    }
   ],
   "source": [
    "s='       Surendra     '\n",
    "print(len(s))\n",
    "print(s.lstrip())\n",
    "print(len(s.lstrip()))"
   ]
  },
  {
   "cell_type": "code",
   "execution_count": 20,
   "id": "1e17a397",
   "metadata": {},
   "outputs": [
    {
     "name": "stdout",
     "output_type": "stream",
     "text": [
      "18\n",
      "Surendra\n",
      "8\n"
     ]
    }
   ],
   "source": [
    "s='     Surendra     '\n",
    "print(len(s))\n",
    "print(s.strip())\n",
    "print(len(s.strip()))"
   ]
  },
  {
   "cell_type": "code",
   "execution_count": 22,
   "id": "1ef33bb4",
   "metadata": {},
   "outputs": [
    {
     "name": "stdout",
     "output_type": "stream",
     "text": [
      "0000000surendra\n"
     ]
    }
   ],
   "source": [
    "#FillChar:\n",
    "#Zfill():\n",
    "s='surendra'\n",
    "print(s.zfill(15))"
   ]
  },
  {
   "cell_type": "code",
   "execution_count": 23,
   "id": "5941e250",
   "metadata": {},
   "outputs": [
    {
     "name": "stdout",
     "output_type": "stream",
     "text": [
      "000000000000000000000000000000000000000000surendra\n"
     ]
    }
   ],
   "source": [
    "s='surendra'\n",
    "print(s.zfill(50))"
   ]
  },
  {
   "cell_type": "code",
   "execution_count": 24,
   "id": "5a6e023d",
   "metadata": {},
   "outputs": [
    {
     "name": "stdout",
     "output_type": "stream",
     "text": [
      "surendra\n"
     ]
    }
   ],
   "source": [
    "s='surendra'\n",
    "print(s.zfill(5))"
   ]
  },
  {
   "cell_type": "code",
   "execution_count": 25,
   "id": "8c0dcbc4",
   "metadata": {},
   "outputs": [
    {
     "name": "stdout",
     "output_type": "stream",
     "text": [
      "0surendra\n"
     ]
    }
   ],
   "source": [
    "s='surendra'\n",
    "print(s.zfill(9))"
   ]
  },
  {
   "cell_type": "code",
   "execution_count": 27,
   "id": "ad0691d8",
   "metadata": {},
   "outputs": [
    {
     "name": "stdout",
     "output_type": "stream",
     "text": [
      "     hello\n"
     ]
    }
   ],
   "source": [
    "#rjust():\n",
    "s='hello'\n",
    "print(s.rjust(10))"
   ]
  },
  {
   "cell_type": "code",
   "execution_count": 29,
   "id": "8f168705",
   "metadata": {},
   "outputs": [
    {
     "name": "stdout",
     "output_type": "stream",
     "text": [
      "                                          surendra\n"
     ]
    }
   ],
   "source": [
    "s='surendra'\n",
    "print(s.rjust(50))"
   ]
  },
  {
   "cell_type": "code",
   "execution_count": 30,
   "id": "9b4e82dc",
   "metadata": {},
   "outputs": [
    {
     "name": "stdout",
     "output_type": "stream",
     "text": [
      "  surendra\n"
     ]
    }
   ],
   "source": [
    "s='surendra'\n",
    "print(s.rjust(10))"
   ]
  },
  {
   "cell_type": "code",
   "execution_count": 31,
   "id": "c7c56b0f",
   "metadata": {},
   "outputs": [
    {
     "name": "stdout",
     "output_type": "stream",
     "text": [
      "**surendra\n"
     ]
    }
   ],
   "source": [
    "s='surendra'\n",
    "print(s.rjust(10,'*'))"
   ]
  },
  {
   "cell_type": "code",
   "execution_count": 32,
   "id": "b0abe2f4",
   "metadata": {},
   "outputs": [
    {
     "name": "stdout",
     "output_type": "stream",
     "text": [
      "******************************************surendra\n"
     ]
    }
   ],
   "source": [
    "s='surendra'\n",
    "print(s.rjust(50,'*'))"
   ]
  },
  {
   "cell_type": "code",
   "execution_count": 33,
   "id": "f735faec",
   "metadata": {},
   "outputs": [
    {
     "name": "stdout",
     "output_type": "stream",
     "text": [
      "surendra******************************************\n"
     ]
    }
   ],
   "source": [
    "#ljust():\n",
    "s='surendra'\n",
    "print(s.ljust(50,'*'))"
   ]
  },
  {
   "cell_type": "code",
   "execution_count": 34,
   "id": "ca6adfa1",
   "metadata": {},
   "outputs": [
    {
     "name": "stdout",
     "output_type": "stream",
     "text": [
      "      surendra      \n"
     ]
    }
   ],
   "source": [
    "#center()\n",
    "s='surendra'\n",
    "print(s.center(20))"
   ]
  },
  {
   "cell_type": "code",
   "execution_count": 35,
   "id": "f474c093",
   "metadata": {},
   "outputs": [
    {
     "name": "stdout",
     "output_type": "stream",
     "text": [
      "*********************surendra*********************\n"
     ]
    }
   ],
   "source": [
    "s='surendra'\n",
    "print(s.center(50,'*'))"
   ]
  },
  {
   "cell_type": "code",
   "execution_count": 36,
   "id": "455b13ab",
   "metadata": {},
   "outputs": [
    {
     "name": "stdout",
     "output_type": "stream",
     "text": [
      "a\n"
     ]
    }
   ],
   "source": [
    "#Min:\n",
    "s='surendra'\n",
    "print(min(s))"
   ]
  },
  {
   "cell_type": "code",
   "execution_count": 37,
   "id": "43682cf9",
   "metadata": {},
   "outputs": [
    {
     "name": "stdout",
     "output_type": "stream",
     "text": [
      "u\n"
     ]
    }
   ],
   "source": [
    "#Max:\n",
    "s='surendra'\n",
    "print(max(s))"
   ]
  },
  {
   "cell_type": "code",
   "execution_count": 38,
   "id": "7663b7af",
   "metadata": {},
   "outputs": [
    {
     "name": "stdout",
     "output_type": "stream",
     "text": [
      "['a', 'd', 'e', 'n', 'r', 'r', 's', 'u']\n"
     ]
    }
   ],
   "source": [
    "# Sorted:\n",
    "s='surendra'\n",
    "print(sorted(s))"
   ]
  },
  {
   "cell_type": "code",
   "execution_count": 39,
   "id": "ea8c3623",
   "metadata": {},
   "outputs": [
    {
     "name": "stdout",
     "output_type": "stream",
     "text": [
      "['u', 's', 'r', 'r', 'n', 'e', 'd', 'a']\n"
     ]
    }
   ],
   "source": [
    "s='surendra'\n",
    "print(sorted(s,reverse=True))"
   ]
  },
  {
   "cell_type": "code",
   "execution_count": 40,
   "id": "0dae3d41",
   "metadata": {},
   "outputs": [
    {
     "name": "stdout",
     "output_type": "stream",
     "text": [
      "False\n"
     ]
    }
   ],
   "source": [
    "#is identifier:\n",
    "s='123abc'\n",
    "print(s.isidentifier())"
   ]
  },
  {
   "cell_type": "code",
   "execution_count": 41,
   "id": "f8332110",
   "metadata": {},
   "outputs": [
    {
     "name": "stdout",
     "output_type": "stream",
     "text": [
      "True\n"
     ]
    }
   ],
   "source": [
    "s='abc123'\n",
    "print(s.isidentifier())"
   ]
  },
  {
   "cell_type": "code",
   "execution_count": 42,
   "id": "fcfb7ecf",
   "metadata": {},
   "outputs": [
    {
     "name": "stdout",
     "output_type": "stream",
     "text": [
      "True\n"
     ]
    }
   ],
   "source": [
    "s='True'\n",
    "print(s.isidentifier())"
   ]
  },
  {
   "cell_type": "code",
   "execution_count": 43,
   "id": "34be8dee",
   "metadata": {},
   "outputs": [
    {
     "name": "stdout",
     "output_type": "stream",
     "text": [
      "True\n"
     ]
    }
   ],
   "source": [
    "s='aaa'\n",
    "print(s.isidentifier())"
   ]
  },
  {
   "cell_type": "code",
   "execution_count": 44,
   "id": "9ca03518",
   "metadata": {},
   "outputs": [
    {
     "name": "stdout",
     "output_type": "stream",
     "text": [
      "False\n"
     ]
    }
   ],
   "source": [
    "s='****aaaa'\n",
    "print(s.isidentifier())"
   ]
  },
  {
   "cell_type": "code",
   "execution_count": 46,
   "id": "d392aa01",
   "metadata": {},
   "outputs": [
    {
     "name": "stdout",
     "output_type": "stream",
     "text": [
      "(0, 's')\n",
      "(1, 'u')\n",
      "(2, 'r')\n",
      "(3, 'e')\n",
      "(4, 'n')\n",
      "(5, 'd')\n",
      "(6, 'r')\n",
      "(7, 'a')\n"
     ]
    }
   ],
   "source": [
    "#Enumerate():\n",
    "s='surendra'\n",
    "for i in enumerate(s):\n",
    "    print(i)"
   ]
  },
  {
   "cell_type": "code",
   "execution_count": 47,
   "id": "62a49853",
   "metadata": {},
   "outputs": [
    {
     "name": "stdout",
     "output_type": "stream",
     "text": [
      "0 s\n",
      "1 u\n",
      "2 r\n",
      "3 e\n",
      "4 n\n",
      "5 d\n",
      "6 r\n",
      "7 a\n"
     ]
    }
   ],
   "source": [
    "s='surendra'\n",
    "for i,j in enumerate(s):\n",
    "    print(i,j)"
   ]
  },
  {
   "cell_type": "code",
   "execution_count": null,
   "id": "13cf62b6",
   "metadata": {},
   "outputs": [],
   "source": []
  },
  {
   "cell_type": "code",
   "execution_count": null,
   "id": "7f2174e6",
   "metadata": {},
   "outputs": [],
   "source": []
  },
  {
   "cell_type": "code",
   "execution_count": null,
   "id": "31a3eb62",
   "metadata": {},
   "outputs": [],
   "source": []
  },
  {
   "cell_type": "code",
   "execution_count": null,
   "id": "c75e5228",
   "metadata": {},
   "outputs": [],
   "source": []
  }
 ],
 "metadata": {
  "kernelspec": {
   "display_name": "Python 3 (ipykernel)",
   "language": "python",
   "name": "python3"
  },
  "language_info": {
   "codemirror_mode": {
    "name": "ipython",
    "version": 3
   },
   "file_extension": ".py",
   "mimetype": "text/x-python",
   "name": "python",
   "nbconvert_exporter": "python",
   "pygments_lexer": "ipython3",
   "version": "3.9.12"
  }
 },
 "nbformat": 4,
 "nbformat_minor": 5
}
