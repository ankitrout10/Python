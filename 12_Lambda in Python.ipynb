{
 "cells": [
  {
   "cell_type": "code",
   "execution_count": 1,
   "id": "080d7d1b",
   "metadata": {},
   "outputs": [
    {
     "name": "stdout",
     "output_type": "stream",
     "text": [
      "30\n"
     ]
    }
   ],
   "source": [
    "# Lambda function also known as anonymous function : if we declare a function without anyname.\n",
    "def add(a,b):\n",
    "    print(a+b)\n",
    "add(10,20)    "
   ]
  },
  {
   "cell_type": "code",
   "execution_count": 3,
   "id": "d557f46b",
   "metadata": {},
   "outputs": [
    {
     "name": "stdout",
     "output_type": "stream",
     "text": [
      "30\n",
      "<class 'function'>\n"
     ]
    }
   ],
   "source": [
    "f = lambda a,b:a+b\n",
    "print(f(10,20))\n",
    "print(type(f))\n",
    "# However this is not the real use of lambda function."
   ]
  },
  {
   "cell_type": "code",
   "execution_count": 4,
   "id": "f388e967",
   "metadata": {},
   "outputs": [
    {
     "name": "stdout",
     "output_type": "stream",
     "text": [
      "13.8474\n"
     ]
    }
   ],
   "source": [
    "# Area of a Circle:\n",
    "f=lambda r:3.14*r*r\n",
    "print(f(2.1))"
   ]
  },
  {
   "cell_type": "code",
   "execution_count": 5,
   "id": "6607afd6",
   "metadata": {},
   "outputs": [
    {
     "name": "stdout",
     "output_type": "stream",
     "text": [
      "20\n"
     ]
    }
   ],
   "source": [
    "# Find out the Largest number in between two numbers without using Lambda.\n",
    "def findlarge(a,b):\n",
    "    if a>b:\n",
    "        print(a)\n",
    "    else:\n",
    "        print(b)\n",
    "findlarge(10,20)        "
   ]
  },
  {
   "cell_type": "code",
   "execution_count": 6,
   "id": "fcfc8238",
   "metadata": {},
   "outputs": [
    {
     "name": "stdout",
     "output_type": "stream",
     "text": [
      "10\n"
     ]
    }
   ],
   "source": [
    "# Using Lambda\n",
    "f=lambda a,b:a if a>b else b\n",
    "print(f(10,2))"
   ]
  },
  {
   "cell_type": "code",
   "execution_count": 7,
   "id": "b6f38442",
   "metadata": {},
   "outputs": [
    {
     "ename": "NameError",
     "evalue": "name 'b' is not defined",
     "output_type": "error",
     "traceback": [
      "\u001b[1;31m---------------------------------------------------------------------------\u001b[0m",
      "\u001b[1;31mNameError\u001b[0m                                 Traceback (most recent call last)",
      "Input \u001b[1;32mIn [7]\u001b[0m, in \u001b[0;36m<cell line: 2>\u001b[1;34m()\u001b[0m\n\u001b[0;32m      1\u001b[0m \u001b[38;5;66;03m# Lambda can't return multiple values.\u001b[39;00m\n\u001b[1;32m----> 2\u001b[0m f\u001b[38;5;241m=\u001b[39m\u001b[38;5;28;01mlambda\u001b[39;00m a,b:a,\u001b[43mb\u001b[49m\n\u001b[0;32m      3\u001b[0m \u001b[38;5;28mprint\u001b[39m(f(\u001b[38;5;241m10\u001b[39m,\u001b[38;5;241m20\u001b[39m))\n",
      "\u001b[1;31mNameError\u001b[0m: name 'b' is not defined"
     ]
    }
   ],
   "source": [
    "# Lambda can't return multiple values.\n",
    "f=lambda a,b:a,b\n",
    "print(f(10,20))  # NameError : name \"b\" is not defined"
   ]
  },
  {
   "cell_type": "code",
   "execution_count": 8,
   "id": "ca8d03ba",
   "metadata": {},
   "outputs": [
    {
     "name": "stdout",
     "output_type": "stream",
     "text": [
      "10\n"
     ]
    }
   ],
   "source": [
    "f=lambda a,b:a\n",
    "print(f(10,20))"
   ]
  },
  {
   "cell_type": "code",
   "execution_count": 9,
   "id": "2829f412",
   "metadata": {},
   "outputs": [
    {
     "name": "stdout",
     "output_type": "stream",
     "text": [
      "[10, 20, 30]\n"
     ]
    }
   ],
   "source": [
    "f=lambda a,b,c:[a,b,c]\n",
    "print(f(10,20,30))"
   ]
  },
  {
   "cell_type": "code",
   "execution_count": 10,
   "id": "c0f7f567",
   "metadata": {},
   "outputs": [
    {
     "name": "stdout",
     "output_type": "stream",
     "text": [
      "(10, 20, 30)\n"
     ]
    }
   ],
   "source": [
    "f=lambda a,b,c:(a,b,c)\n",
    "print(f(10,20,30))"
   ]
  },
  {
   "cell_type": "code",
   "execution_count": 11,
   "id": "6d3f1d7e",
   "metadata": {},
   "outputs": [
    {
     "name": "stdout",
     "output_type": "stream",
     "text": [
      "{10, 220, 30}\n"
     ]
    }
   ],
   "source": [
    "f=lambda a,b,c:{a,b,c}\n",
    "print(f(10,220,30))"
   ]
  },
  {
   "cell_type": "code",
   "execution_count": 12,
   "id": "70b18200",
   "metadata": {},
   "outputs": [
    {
     "name": "stdout",
     "output_type": "stream",
     "text": [
      "{'a': 10, 'b': 20, 'c': 30}\n"
     ]
    }
   ],
   "source": [
    "f=lambda a,b,c:{'a':a,'b':b,'c':c}\n",
    "print(f(10,20,30))"
   ]
  },
  {
   "cell_type": "code",
   "execution_count": 13,
   "id": "87d8fb57",
   "metadata": {},
   "outputs": [
    {
     "name": "stdout",
     "output_type": "stream",
     "text": [
      "20\n"
     ]
    }
   ],
   "source": [
    "# Find the greatest among two numbers functions using lambda in a line.\n",
    "print((lambda a,b:a if a>b else b)(10,20))"
   ]
  },
  {
   "cell_type": "code",
   "execution_count": 14,
   "id": "9b789b0f",
   "metadata": {},
   "outputs": [
    {
     "name": "stdout",
     "output_type": "stream",
     "text": [
      "60\n"
     ]
    }
   ],
   "source": [
    "print((lambda a,b,c:a+b+c)(10,20,30))"
   ]
  },
  {
   "cell_type": "code",
   "execution_count": 25,
   "id": "8a0d2111",
   "metadata": {},
   "outputs": [
    {
     "name": "stdout",
     "output_type": "stream",
     "text": [
      "4\n"
     ]
    }
   ],
   "source": [
    "x=lambda n:n*n\n",
    "print(x(2))"
   ]
  },
  {
   "cell_type": "code",
   "execution_count": 27,
   "id": "6b1f9ab9",
   "metadata": {},
   "outputs": [
    {
     "name": "stdout",
     "output_type": "stream",
     "text": [
      "I Love India\n"
     ]
    }
   ],
   "source": [
    "y=lambda:'I Love'+' India'\n",
    "print(y())"
   ]
  },
  {
   "cell_type": "markdown",
   "id": "2c5bd1fb",
   "metadata": {},
   "source": [
    "# Filter:"
   ]
  },
  {
   "cell_type": "code",
   "execution_count": null,
   "id": "fe8f09e4",
   "metadata": {},
   "outputs": [],
   "source": [
    "#Filter function is used to filter a value from a sequence.\n",
    "# It is a higher order function which means that it will take function as an argument.\n",
    "# The Syntax: filter(function,sequence)\n",
    "# If a function takes another function as an argument then it is knowm as higher order function."
   ]
  },
  {
   "cell_type": "code",
   "execution_count": 28,
   "id": "bb00c189",
   "metadata": {},
   "outputs": [
    {
     "name": "stdout",
     "output_type": "stream",
     "text": [
      "[10, 12, 16, 18]\n"
     ]
    }
   ],
   "source": [
    "# Without using function:\n",
    "def checkEven(num):\n",
    "    if num%2==0:\n",
    "        return True\n",
    "    else:\n",
    "        return False\n",
    "data=filter(checkEven,[10,15,12,16,18,11,13]) \n",
    "print(list(data))"
   ]
  },
  {
   "cell_type": "code",
   "execution_count": 29,
   "id": "59a75169",
   "metadata": {},
   "outputs": [
    {
     "name": "stdout",
     "output_type": "stream",
     "text": [
      "10\n",
      "12\n",
      "16\n",
      "18\n"
     ]
    }
   ],
   "source": [
    "def checkEven(num):\n",
    "    if num%2==0:\n",
    "        return True\n",
    "    else:\n",
    "        return False\n",
    "data=filter(checkEven,[10,15,12,16,18,11,13]) \n",
    "for i in data:\n",
    "    print(i)"
   ]
  },
  {
   "cell_type": "code",
   "execution_count": 16,
   "id": "42fb838e",
   "metadata": {},
   "outputs": [
    {
     "name": "stdout",
     "output_type": "stream",
     "text": [
      "[10, 12, 15, 18, 21, 27, 30]\n"
     ]
    }
   ],
   "source": [
    "# Find out all the numbers those who are divisible by 2 or 3.\n",
    "data=filter(lambda num:num%2==0 or num%3==0,[10,12,15,18,21,23,27,30,31,43])\n",
    "print(list(data))"
   ]
  },
  {
   "cell_type": "code",
   "execution_count": 19,
   "id": "b8d5293d",
   "metadata": {},
   "outputs": [
    {
     "name": "stdout",
     "output_type": "stream",
     "text": [
      "2\n",
      "5\n",
      "8\n",
      "12\n",
      "44\n",
      "26\n"
     ]
    }
   ],
   "source": [
    "# Find out all positive numbers.\n",
    "data=filter(lambda num:num>0,[2,-4,5,8,-10,-16,12,-8,44,26])\n",
    "for i in data:\n",
    "    print(i)"
   ]
  },
  {
   "cell_type": "code",
   "execution_count": 30,
   "id": "1c2e96ba",
   "metadata": {},
   "outputs": [
    {
     "name": "stdout",
     "output_type": "stream",
     "text": [
      "[15, 11, 13]\n"
     ]
    }
   ],
   "source": [
    "def checkOdd(num):\n",
    "    if num%2==0:\n",
    "        return False\n",
    "    else:\n",
    "        return True\n",
    "data=filter(checkOdd,[10,15,12,16,18,11,13])\n",
    "print(list(data))"
   ]
  },
  {
   "cell_type": "code",
   "execution_count": 33,
   "id": "fdfbb4be",
   "metadata": {},
   "outputs": [
    {
     "name": "stdout",
     "output_type": "stream",
     "text": [
      "[10, 12, 16, 18]\n"
     ]
    }
   ],
   "source": [
    "data=(filter(lambda x:x%2==0,[10,15,12,16,18,11,13]))\n",
    "print(list(data))      "
   ]
  },
  {
   "cell_type": "code",
   "execution_count": 34,
   "id": "3aa27f6e",
   "metadata": {},
   "outputs": [
    {
     "name": "stdout",
     "output_type": "stream",
     "text": [
      "[15, 11, 13]\n"
     ]
    }
   ],
   "source": [
    "data=(filter(lambda x:x%2!=0,[10,15,12,16,18,11,13]))\n",
    "print(list(data))"
   ]
  },
  {
   "cell_type": "code",
   "execution_count": 35,
   "id": "0dcec546",
   "metadata": {},
   "outputs": [
    {
     "name": "stdout",
     "output_type": "stream",
     "text": [
      "{1: 'Surendra', 3: 'Rahul'}\n"
     ]
    }
   ],
   "source": [
    "d={1:'Surendra',2:'Priyanka',3:'Rahul',4:'Zini'}\n",
    "data=filter(lambda i:i[0]%2!=0,d.items())\n",
    "print(dict(data))"
   ]
  },
  {
   "cell_type": "code",
   "execution_count": 36,
   "id": "ed181d14",
   "metadata": {},
   "outputs": [
    {
     "name": "stdout",
     "output_type": "stream",
     "text": [
      "{1: 'Surendra', 2: 'Priyanka', 3: 'Rahul', 4: 'Zini'}\n"
     ]
    }
   ],
   "source": [
    "d={1:'Surendra',2:'Priyanka',3:'Rahul',4:'Zini'}\n",
    "data=filter(lambda i:i,d.items())\n",
    "print(dict(data))"
   ]
  },
  {
   "cell_type": "code",
   "execution_count": 37,
   "id": "c3f82767",
   "metadata": {},
   "outputs": [
    {
     "ename": "TypeError",
     "evalue": "unsupported operand type(s) for %: 'tuple' and 'int'",
     "output_type": "error",
     "traceback": [
      "\u001b[1;31m---------------------------------------------------------------------------\u001b[0m",
      "\u001b[1;31mTypeError\u001b[0m                                 Traceback (most recent call last)",
      "Input \u001b[1;32mIn [37]\u001b[0m, in \u001b[0;36m<cell line: 3>\u001b[1;34m()\u001b[0m\n\u001b[0;32m      1\u001b[0m d\u001b[38;5;241m=\u001b[39m{\u001b[38;5;241m1\u001b[39m:\u001b[38;5;124m'\u001b[39m\u001b[38;5;124mSurendra\u001b[39m\u001b[38;5;124m'\u001b[39m,\u001b[38;5;241m2\u001b[39m:\u001b[38;5;124m'\u001b[39m\u001b[38;5;124mPriyanka\u001b[39m\u001b[38;5;124m'\u001b[39m,\u001b[38;5;241m3\u001b[39m:\u001b[38;5;124m'\u001b[39m\u001b[38;5;124mRahul\u001b[39m\u001b[38;5;124m'\u001b[39m,\u001b[38;5;241m4\u001b[39m:\u001b[38;5;124m'\u001b[39m\u001b[38;5;124mZini\u001b[39m\u001b[38;5;124m'\u001b[39m}\n\u001b[0;32m      2\u001b[0m data\u001b[38;5;241m=\u001b[39m\u001b[38;5;28mfilter\u001b[39m(\u001b[38;5;28;01mlambda\u001b[39;00m i:i\u001b[38;5;241m%\u001b[39m\u001b[38;5;241m2\u001b[39m\u001b[38;5;241m==\u001b[39m\u001b[38;5;241m0\u001b[39m,d\u001b[38;5;241m.\u001b[39mitems())\n\u001b[1;32m----> 3\u001b[0m \u001b[38;5;28mprint\u001b[39m(\u001b[38;5;28;43mdict\u001b[39;49m\u001b[43m(\u001b[49m\u001b[43mdata\u001b[49m\u001b[43m)\u001b[49m)\n",
      "Input \u001b[1;32mIn [37]\u001b[0m, in \u001b[0;36m<lambda>\u001b[1;34m(i)\u001b[0m\n\u001b[0;32m      1\u001b[0m d\u001b[38;5;241m=\u001b[39m{\u001b[38;5;241m1\u001b[39m:\u001b[38;5;124m'\u001b[39m\u001b[38;5;124mSurendra\u001b[39m\u001b[38;5;124m'\u001b[39m,\u001b[38;5;241m2\u001b[39m:\u001b[38;5;124m'\u001b[39m\u001b[38;5;124mPriyanka\u001b[39m\u001b[38;5;124m'\u001b[39m,\u001b[38;5;241m3\u001b[39m:\u001b[38;5;124m'\u001b[39m\u001b[38;5;124mRahul\u001b[39m\u001b[38;5;124m'\u001b[39m,\u001b[38;5;241m4\u001b[39m:\u001b[38;5;124m'\u001b[39m\u001b[38;5;124mZini\u001b[39m\u001b[38;5;124m'\u001b[39m}\n\u001b[1;32m----> 2\u001b[0m data\u001b[38;5;241m=\u001b[39m\u001b[38;5;28mfilter\u001b[39m(\u001b[38;5;28;01mlambda\u001b[39;00m i:\u001b[43mi\u001b[49m\u001b[38;5;241;43m%\u001b[39;49m\u001b[38;5;241;43m2\u001b[39;49m\u001b[38;5;241m==\u001b[39m\u001b[38;5;241m0\u001b[39m,d\u001b[38;5;241m.\u001b[39mitems())\n\u001b[0;32m      3\u001b[0m \u001b[38;5;28mprint\u001b[39m(\u001b[38;5;28mdict\u001b[39m(data))\n",
      "\u001b[1;31mTypeError\u001b[0m: unsupported operand type(s) for %: 'tuple' and 'int'"
     ]
    }
   ],
   "source": [
    "d={1:'Surendra',2:'Priyanka',3:'Rahul',4:'Zini'}\n",
    "data=filter(lambda i:i%2==0,d.items())\n",
    "print(dict(data))"
   ]
  },
  {
   "cell_type": "markdown",
   "id": "c731ae52",
   "metadata": {},
   "source": [
    "# Map():"
   ]
  },
  {
   "cell_type": "code",
   "execution_count": 1,
   "id": "f1f36476",
   "metadata": {},
   "outputs": [],
   "source": [
    "# If you have one or more sequence of data and if you want to perform operation on each and every data , then we can go for\n",
    "# map functiom.\n",
    "# Syntax: map(function,sequence)"
   ]
  },
  {
   "cell_type": "code",
   "execution_count": 2,
   "id": "e4ddfa80",
   "metadata": {},
   "outputs": [
    {
     "name": "stdout",
     "output_type": "stream",
     "text": [
      "[14, 24, 34, 44, 54]\n"
     ]
    }
   ],
   "source": [
    "# Add 4 to each and every element present in list without using lambda,create the body for add 4 function.\n",
    "def add4(x):\n",
    "    return x+4\n",
    "l=[10,20,30,40,50]\n",
    "data=list(map(add4,l))\n",
    "print(data)"
   ]
  },
  {
   "cell_type": "code",
   "execution_count": 3,
   "id": "4b0a8bac",
   "metadata": {},
   "outputs": [
    {
     "name": "stdout",
     "output_type": "stream",
     "text": [
      "[104, 204, 304, 404, 504]\n"
     ]
    }
   ],
   "source": [
    "# Using Functions:\n",
    "l=[100,200,300,400,500]\n",
    "data=list(map(lambda x:x+4,l))\n",
    "print(data)"
   ]
  },
  {
   "cell_type": "code",
   "execution_count": 5,
   "id": "7049c689",
   "metadata": {},
   "outputs": [
    {
     "name": "stdout",
     "output_type": "stream",
     "text": [
      "(21, 32, 43, 54, 65)\n"
     ]
    }
   ],
   "source": [
    "# Add the elements in both the list individually:\n",
    "l1=[10,20,30,40,50]\n",
    "l2=[11,12,13,14,15]\n",
    "data=tuple(map(lambda x,y:x+y,l1,l2))\n",
    "print(data)"
   ]
  },
  {
   "cell_type": "code",
   "execution_count": 7,
   "id": "03e7434b",
   "metadata": {},
   "outputs": [
    {
     "name": "stdout",
     "output_type": "stream",
     "text": [
      "[132, 144, 156, 168]\n"
     ]
    }
   ],
   "source": [
    "l1=[10,20,30,40,50]\n",
    "l2=[11,12,13,14,15]\n",
    "l3=[111,112,113,114]\n",
    "data=list(map(lambda x,y,z:x+y+z,l1,l2,l3))\n",
    "print(data)\n",
    "#Try to pass exact number of data i.e. length or size must be same."
   ]
  },
  {
   "cell_type": "code",
   "execution_count": 6,
   "id": "ee50ba9a",
   "metadata": {},
   "outputs": [
    {
     "name": "stdout",
     "output_type": "stream",
     "text": [
      "[1, 4, 9, 16, 25]\n"
     ]
    }
   ],
   "source": [
    "# Find out the square of each number present inside tuple.\n",
    "t=(1,2,3,4,5)\n",
    "data=list(map(lambda x:x*x,t))\n",
    "print(data)"
   ]
  },
  {
   "cell_type": "code",
   "execution_count": 10,
   "id": "efbdb281",
   "metadata": {},
   "outputs": [
    {
     "name": "stdout",
     "output_type": "stream",
     "text": [
      "[8, 8, 5, 4]\n",
      "<class 'list'>\n"
     ]
    }
   ],
   "source": [
    "# Find the length of each words present in a list.\n",
    "names=['Surendra','Priyanka','Rahul','Zini']\n",
    "data=list(map(lambda x:len(x),names))\n",
    "print(data)\n",
    "print(type(data))"
   ]
  },
  {
   "cell_type": "code",
   "execution_count": 11,
   "id": "5ec209a2",
   "metadata": {},
   "outputs": [
    {
     "name": "stdout",
     "output_type": "stream",
     "text": [
      "8\n",
      "8\n",
      "5\n",
      "4\n",
      "<class 'list'>\n"
     ]
    }
   ],
   "source": [
    "# Find the length of each words present in a list.\n",
    "names=['Surendra','Priyanka','Rahul','Zini']\n",
    "data=list(map(lambda x:len(x),names))\n",
    "for i in data:\n",
    "    print(i)\n",
    "print(type(data))    "
   ]
  },
  {
   "cell_type": "code",
   "execution_count": 13,
   "id": "800826cb",
   "metadata": {},
   "outputs": [
    {
     "name": "stdout",
     "output_type": "stream",
     "text": [
      "<map object at 0x000001A196637FA0>\n",
      "<class 'map'>\n"
     ]
    }
   ],
   "source": [
    "names=['Surendra','Priyanka','Rahul','zini']\n",
    "data=map(lambda x:len(x),names)\n",
    "print(data)\n",
    "print(type(data))"
   ]
  },
  {
   "cell_type": "code",
   "execution_count": 16,
   "id": "3f6f7186",
   "metadata": {},
   "outputs": [
    {
     "name": "stdout",
     "output_type": "stream",
     "text": [
      "[5, 8, 7, 2, 4, 4]\n"
     ]
    }
   ],
   "source": [
    "# Find out the length of each words present in a string.\n",
    "msg='Hello everyone Welcome to Code Dais'\n",
    "s=msg.split(' ')\n",
    "data=list(map(lambda x:len(x),s))\n",
    "print(data)\n"
   ]
  },
  {
   "cell_type": "code",
   "execution_count": 17,
   "id": "dbc6f656",
   "metadata": {},
   "outputs": [
    {
     "name": "stdout",
     "output_type": "stream",
     "text": [
      "[5, 8, 7, 2, 4, 4]\n"
     ]
    }
   ],
   "source": [
    "# Find the length of Every Word present in a string.\n",
    "str='Hello Everyone ! Welcome to Code Dais'\n",
    "str=msg.split(' ')\n",
    "data=list(map(lambda x:len(x),str))\n",
    "print(data)"
   ]
  },
  {
   "cell_type": "markdown",
   "id": "ae82f511",
   "metadata": {},
   "source": [
    "# Reduce:"
   ]
  },
  {
   "cell_type": "code",
   "execution_count": 1,
   "id": "79cf2c11",
   "metadata": {},
   "outputs": [],
   "source": [
    "# It is used to reduce a sequence of elements into a single element.\n",
    "# Reduce function is present inside the functools, so we hane to import it before using reduce function.\n",
    "# Syntax: reduce(function,sequence)"
   ]
  },
  {
   "cell_type": "code",
   "execution_count": 4,
   "id": "e943f0f5",
   "metadata": {},
   "outputs": [
    {
     "name": "stdout",
     "output_type": "stream",
     "text": [
      "15\n"
     ]
    }
   ],
   "source": [
    "#Find out the sum of all the elements present inside the list without using lambda.\n",
    "from functools import reduce\n",
    "def addall(x,y):\n",
    "        return x+y\n",
    "l=[1,2,3,4,5]\n",
    "data=reduce(addall,l)\n",
    "print(data)"
   ]
  },
  {
   "cell_type": "code",
   "execution_count": 5,
   "id": "c23ad211",
   "metadata": {},
   "outputs": [
    {
     "name": "stdout",
     "output_type": "stream",
     "text": [
      "150\n"
     ]
    }
   ],
   "source": [
    "# With using Lambda:\n",
    "from functools import reduce\n",
    "l=[10,20,30,40,50]\n",
    "data=reduce(lambda x,y:x+y,l)\n",
    "print(data)"
   ]
  },
  {
   "cell_type": "code",
   "execution_count": 6,
   "id": "216cb4f8",
   "metadata": {},
   "outputs": [
    {
     "name": "stdout",
     "output_type": "stream",
     "text": [
      "5050\n",
      "<class 'int'>\n"
     ]
    }
   ],
   "source": [
    "# Find out the sum of all the elements from 1 to 100.\n",
    "from functools import reduce\n",
    "data = reduce(lambda x,y:x+y,range(1,101))\n",
    "print(data)\n",
    "print(type(data))"
   ]
  },
  {
   "cell_type": "code",
   "execution_count": 7,
   "id": "352cc10b",
   "metadata": {},
   "outputs": [
    {
     "name": "stdout",
     "output_type": "stream",
     "text": [
      "120\n"
     ]
    }
   ],
   "source": [
    "# Product of all the elements using lambda.\n",
    "l1=[1,2,3,4,5]\n",
    "data=reduce(lambda x,y:x*y,l1)\n",
    "print(data)"
   ]
  },
  {
   "cell_type": "code",
   "execution_count": 9,
   "id": "23bc9899",
   "metadata": {},
   "outputs": [
    {
     "name": "stdout",
     "output_type": "stream",
     "text": [
      "10\n"
     ]
    }
   ],
   "source": [
    "# Working with Dictionary:\n",
    "from functools import reduce\n",
    "d={\n",
    "    1:'Surendra',\n",
    "    2:'Rahul',\n",
    "    3:'Priyanka',\n",
    "    4:'Zini'\n",
    "}\n",
    "data=reduce(lambda x,y:x+y,d.keys())\n",
    "print(data)"
   ]
  },
  {
   "cell_type": "code",
   "execution_count": 10,
   "id": "440b83ec",
   "metadata": {},
   "outputs": [
    {
     "name": "stdout",
     "output_type": "stream",
     "text": [
      "(1, 'Surendra', 2, 'Rahul', 3, 'Priyanka', 4, 'Zini')\n"
     ]
    }
   ],
   "source": [
    "from functools import reduce\n",
    "d={\n",
    "    1:'Surendra',\n",
    "    2:'Rahul',\n",
    "    3:'Priyanka',\n",
    "    4:'Zini'\n",
    "}\n",
    "data=reduce(lambda x,y:x+y,d.items())\n",
    "print(data)"
   ]
  },
  {
   "cell_type": "code",
   "execution_count": 12,
   "id": "45cdc425",
   "metadata": {},
   "outputs": [
    {
     "name": "stdout",
     "output_type": "stream",
     "text": [
      "SurendraRahulPriyankaZini\n"
     ]
    }
   ],
   "source": [
    "from functools import reduce\n",
    "d={\n",
    "    1:'Surendra',\n",
    "    2:'Rahul',\n",
    "    3:'Priyanka',\n",
    "    4:'Zini'\n",
    "}\n",
    "data=reduce(lambda x,y:x+y,d.values())\n",
    "print(data)"
   ]
  },
  {
   "cell_type": "code",
   "execution_count": 15,
   "id": "fd170394",
   "metadata": {},
   "outputs": [
    {
     "name": "stdout",
     "output_type": "stream",
     "text": [
      "helloSurendraPriyankaRahulZini\n",
      "<class 'str'>\n"
     ]
    }
   ],
   "source": [
    "names=['Surendra','Priyanka','Rahul','Zini']\n",
    "data=reduce(lambda x,y:x+y,names,'hello')\n",
    "print(data)\n",
    "print(type(data))"
   ]
  },
  {
   "cell_type": "markdown",
   "id": "69b8a35d",
   "metadata": {},
   "source": [
    "# Accumulate:"
   ]
  },
  {
   "cell_type": "code",
   "execution_count": 17,
   "id": "4b98e008",
   "metadata": {},
   "outputs": [
    {
     "name": "stdout",
     "output_type": "stream",
     "text": [
      "[1, 3, 6, 10, 15]\n",
      "15\n"
     ]
    }
   ],
   "source": [
    "# Syntax:accumulate(sequence,function)\n",
    "from itertools import accumulate\n",
    "l=[1,2,3,4,5]\n",
    "print(list(accumulate(l,lambda x,y:x+y)))\n",
    "print(reduce(lambda x,y:x+y,l))"
   ]
  },
  {
   "cell_type": "code",
   "execution_count": 19,
   "id": "4c662785",
   "metadata": {},
   "outputs": [
    {
     "name": "stdout",
     "output_type": "stream",
     "text": [
      "[1, 2, 6, 24, 120]\n",
      "120\n"
     ]
    }
   ],
   "source": [
    "from itertools import accumulate\n",
    "l=[1,2,3,4,5]\n",
    "print(list(accumulate(l,lambda x,y:x*y)))\n",
    "print(reduce(lambda x,y:x*y,l))"
   ]
  },
  {
   "cell_type": "code",
   "execution_count": null,
   "id": "0e493a03",
   "metadata": {},
   "outputs": [],
   "source": []
  },
  {
   "cell_type": "code",
   "execution_count": null,
   "id": "85cb040f",
   "metadata": {},
   "outputs": [],
   "source": []
  },
  {
   "cell_type": "code",
   "execution_count": null,
   "id": "b8d1aa34",
   "metadata": {},
   "outputs": [],
   "source": []
  },
  {
   "cell_type": "code",
   "execution_count": null,
   "id": "f56d0ef7",
   "metadata": {},
   "outputs": [],
   "source": []
  }
 ],
 "metadata": {
  "kernelspec": {
   "display_name": "Python 3 (ipykernel)",
   "language": "python",
   "name": "python3"
  },
  "language_info": {
   "codemirror_mode": {
    "name": "ipython",
    "version": 3
   },
   "file_extension": ".py",
   "mimetype": "text/x-python",
   "name": "python",
   "nbconvert_exporter": "python",
   "pygments_lexer": "ipython3",
   "version": "3.9.12"
  }
 },
 "nbformat": 4,
 "nbformat_minor": 5
}
