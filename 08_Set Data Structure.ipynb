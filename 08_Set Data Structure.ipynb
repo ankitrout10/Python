{
 "cells": [
  {
   "cell_type": "code",
   "execution_count": 1,
   "id": "a2dd36cb",
   "metadata": {},
   "outputs": [
    {
     "name": "stdout",
     "output_type": "stream",
     "text": [
      "{}\n",
      "<class 'dict'>\n"
     ]
    }
   ],
   "source": [
    "#1.Creation of empty set : \n",
    "s={} \n",
    "print(s) \n",
    "print(type(s))"
   ]
  },
  {
   "cell_type": "code",
   "execution_count": 2,
   "id": "057c9676",
   "metadata": {},
   "outputs": [
    {
     "name": "stdout",
     "output_type": "stream",
     "text": [
      "set()\n",
      "<class 'set'>\n"
     ]
    }
   ],
   "source": [
    "s=set() \n",
    "print(s) \n",
    "print(type(s))"
   ]
  },
  {
   "cell_type": "code",
   "execution_count": 3,
   "id": "7e4f6903",
   "metadata": {},
   "outputs": [
    {
     "name": "stdout",
     "output_type": "stream",
     "text": [
      "{1, 2, 3, 4, 5}\n",
      "<class 'set'>\n"
     ]
    }
   ],
   "source": [
    "#2.Creation of sets with multiple Elements:\n",
    "s={1,2,3,4,5} \n",
    "print(s) \n",
    "print(type(s)) "
   ]
  },
  {
   "cell_type": "code",
   "execution_count": 4,
   "id": "033efd7e",
   "metadata": {},
   "outputs": [
    {
     "name": "stdout",
     "output_type": "stream",
     "text": [
      "{1, 2, 3, 4, 5}\n",
      "<class 'set'>\n"
     ]
    }
   ],
   "source": [
    "#3.Creation of sets from tuples: \n",
    "l=(1,2,3,4,5) \n",
    "s=set(l) \n",
    "print(s) \n",
    "print(type(s))"
   ]
  },
  {
   "cell_type": "code",
   "execution_count": 5,
   "id": "42046690",
   "metadata": {},
   "outputs": [
    {
     "name": "stdout",
     "output_type": "stream",
     "text": [
      "{0, 1, 2, 3, 4, 5, 6, 7, 8, 9, 10, 11}\n",
      "<class 'set'>\n"
     ]
    }
   ],
   "source": [
    "#4.Creation of sets from range(): \n",
    "s=set(range(12)) \n",
    "print(s) \n",
    "print(type(s))"
   ]
  },
  {
   "cell_type": "code",
   "execution_count": 6,
   "id": "6a11c438",
   "metadata": {},
   "outputs": [
    {
     "name": "stdout",
     "output_type": "stream",
     "text": [
      "{'a', 'h', 'M', 'R', 'v', 'd'}\n",
      "<class 'set'>\n"
     ]
    }
   ],
   "source": [
    "s=set('RadhaMadhava') \n",
    "print(s) \n",
    "print(type(s))"
   ]
  },
  {
   "cell_type": "code",
   "execution_count": 1,
   "id": "5849351e",
   "metadata": {},
   "outputs": [
    {
     "name": "stdout",
     "output_type": "stream",
     "text": [
      "{'Madhava', 'Radha'}\n",
      "<class 'set'>\n"
     ]
    }
   ],
   "source": [
    "name='Radha Madhava'\n",
    "s=set(name.split()) \n",
    "print(s) \n",
    "print(type(s)) \n"
   ]
  },
  {
   "cell_type": "code",
   "execution_count": 2,
   "id": "761b1407",
   "metadata": {},
   "outputs": [
    {
     "name": "stdout",
     "output_type": "stream",
     "text": [
      "{'Surendra', 'Panda'}\n"
     ]
    }
   ],
   "source": [
    "name='Surendra Panda'\n",
    "s=set(name.split())\n",
    "print(s)"
   ]
  },
  {
   "cell_type": "code",
   "execution_count": 7,
   "id": "01915ada",
   "metadata": {},
   "outputs": [
    {
     "ename": "TypeError",
     "evalue": "'set' object is not subscriptable",
     "output_type": "error",
     "traceback": [
      "\u001b[1;31m---------------------------------------------------------------------------\u001b[0m",
      "\u001b[1;31mTypeError\u001b[0m                                 Traceback (most recent call last)",
      "Input \u001b[1;32mIn [7]\u001b[0m, in \u001b[0;36m<cell line: 2>\u001b[1;34m()\u001b[0m\n\u001b[0;32m      1\u001b[0m s\u001b[38;5;241m=\u001b[39m{\u001b[38;5;241m1\u001b[39m,\u001b[38;5;241m2\u001b[39m,\u001b[38;5;241m3\u001b[39m,\u001b[38;5;241m4\u001b[39m,\u001b[38;5;241m5\u001b[39m} \n\u001b[1;32m----> 2\u001b[0m \u001b[38;5;28mprint\u001b[39m(\u001b[43ms\u001b[49m\u001b[43m[\u001b[49m\u001b[38;5;241;43m2\u001b[39;49m\u001b[43m]\u001b[49m)\n",
      "\u001b[1;31mTypeError\u001b[0m: 'set' object is not subscriptable"
     ]
    }
   ],
   "source": [
    "s={1,2,3,4,5} \n",
    "print(s[2]) "
   ]
  },
  {
   "cell_type": "code",
   "execution_count": 8,
   "id": "54b2137a",
   "metadata": {},
   "outputs": [
    {
     "name": "stdout",
     "output_type": "stream",
     "text": [
      "True\n",
      "True\n"
     ]
    }
   ],
   "source": [
    "#Applying Membership operators in Sets: \n",
    "s={1,2,3,4,5} \n",
    "print(3 in s) \n",
    "print(7 not in s) "
   ]
  },
  {
   "cell_type": "markdown",
   "id": "f0c5d6a5",
   "metadata": {},
   "source": [
    "# Set Methods:"
   ]
  },
  {
   "cell_type": "code",
   "execution_count": 9,
   "id": "239cc7bf",
   "metadata": {},
   "outputs": [
    {
     "name": "stdout",
     "output_type": "stream",
     "text": [
      "{50, 20, 90, 40, 10, 30}\n"
     ]
    }
   ],
   "source": [
    "#1.add():\n",
    "s={10,20,30,40,50} \n",
    "s.add(90) \n",
    "print(s)"
   ]
  },
  {
   "cell_type": "code",
   "execution_count": 10,
   "id": "e9651f61",
   "metadata": {},
   "outputs": [
    {
     "name": "stdout",
     "output_type": "stream",
     "text": [
      "{1, 2, 3, 4, 5, 7, 8, 9, 10, 14, 15, 23, 30, 31, 32, 33, 34, 35, 36, 37, 38, 39}\n"
     ]
    }
   ],
   "source": [
    "#2.update():\n",
    "s={1,2,3,4,5} \n",
    "l={7,8,9,10} \n",
    "t={23,15,14,} \n",
    "s.update(l,t,range(30,40)) \n",
    "print(s)"
   ]
  },
  {
   "cell_type": "code",
   "execution_count": 11,
   "id": "33f28690",
   "metadata": {},
   "outputs": [
    {
     "name": "stdout",
     "output_type": "stream",
     "text": [
      "{50, 20, 40, 10}\n"
     ]
    }
   ],
   "source": [
    "#3.remove(): \n",
    "s={10,20,30,40,50} \n",
    "s.remove(30) \n",
    "print(s) \n"
   ]
  },
  {
   "cell_type": "code",
   "execution_count": 12,
   "id": "36522c7d",
   "metadata": {},
   "outputs": [
    {
     "name": "stdout",
     "output_type": "stream",
     "text": [
      "{50, 20, 40, 10}\n"
     ]
    }
   ],
   "source": [
    "#4.discard():\n",
    "s={10,20,30,40,50} \n",
    "s.discard(30) \n",
    "print(s)"
   ]
  },
  {
   "cell_type": "code",
   "execution_count": 14,
   "id": "9b5c558e",
   "metadata": {},
   "outputs": [
    {
     "name": "stdout",
     "output_type": "stream",
     "text": [
      "{20, 40, 10, 30}\n"
     ]
    }
   ],
   "source": [
    "#5.pop(): \n",
    "s={10,20,30,40,50}\n",
    "s.pop() \n",
    "print(s)"
   ]
  },
  {
   "cell_type": "code",
   "execution_count": 15,
   "id": "8908a2e8",
   "metadata": {},
   "outputs": [
    {
     "name": "stdout",
     "output_type": "stream",
     "text": [
      "{50, 20, 40, 10, 30}\n",
      "{50, 20, 40, 10, 30}\n",
      "1613694420800\n",
      "1613694421024\n",
      "{50, 20, 90, 40, 10, 30} {50, 20, 40, 10, 30}\n"
     ]
    }
   ],
   "source": [
    "#6.copy(): \n",
    "s1={10,20,30,40,50}\n",
    "s2=s1.copy() \n",
    "print(s1) \n",
    "print(s2) \n",
    "print(id(s1)) \n",
    "print(id(s2)) \n",
    "s1.add(90) \n",
    "print(s1,s2) "
   ]
  },
  {
   "cell_type": "code",
   "execution_count": 16,
   "id": "261cce2e",
   "metadata": {},
   "outputs": [
    {
     "name": "stdout",
     "output_type": "stream",
     "text": [
      "{50, 20, 40, 10, 30}\n",
      "{50, 20, 40, 10, 30}\n",
      "1613694421248\n",
      "1613694421248\n",
      "{50, 20, 90, 40, 10, 30} {50, 20, 90, 40, 10, 30}\n"
     ]
    }
   ],
   "source": [
    "# Deep Copy\n",
    "s1={10,20,30,40,50}\n",
    "s2=s1 \n",
    "print(s1) \n",
    "print(s2) \n",
    "print(id(s1)) \n",
    "print(id(s2)) \n",
    "s1.add(90) \n",
    "print(s1,s2)"
   ]
  },
  {
   "cell_type": "code",
   "execution_count": 18,
   "id": "653658ef",
   "metadata": {},
   "outputs": [
    {
     "name": "stdout",
     "output_type": "stream",
     "text": [
      "{50, 20, 40, 10, 30}\n",
      "set()\n"
     ]
    }
   ],
   "source": [
    "#7. clear():\n",
    "s={10,20,30,40,50} \n",
    "print(s) \n",
    "s.clear() \n",
    "print(s) \n"
   ]
  },
  {
   "cell_type": "code",
   "execution_count": 19,
   "id": "5500bd25",
   "metadata": {},
   "outputs": [
    {
     "name": "stdout",
     "output_type": "stream",
     "text": [
      "(0, 50)\n",
      "(1, 20)\n",
      "(2, 40)\n",
      "(3, 10)\n",
      "(4, 30)\n"
     ]
    }
   ],
   "source": [
    "#8. enumerate(): \n",
    "s={10,20,30,40,50} \n",
    "for i in enumerate(s):\n",
    "    print(i)\n",
    " "
   ]
  },
  {
   "cell_type": "code",
   "execution_count": 20,
   "id": "01688227",
   "metadata": {},
   "outputs": [
    {
     "name": "stdout",
     "output_type": "stream",
     "text": [
      "10\n",
      "50\n"
     ]
    }
   ],
   "source": [
    "#9.max() and min(): \n",
    "s={10,20,30,40,50} \n",
    "print(min(s)) \n",
    "print(max(s)) "
   ]
  },
  {
   "cell_type": "code",
   "execution_count": 21,
   "id": "1fe54886",
   "metadata": {},
   "outputs": [
    {
     "name": "stdout",
     "output_type": "stream",
     "text": [
      "150\n"
     ]
    }
   ],
   "source": [
    "#10.sum():\n",
    "s={10,20,30,40,50} \n",
    "print(sum(s)) "
   ]
  },
  {
   "cell_type": "code",
   "execution_count": 23,
   "id": "6fc91ca9",
   "metadata": {},
   "outputs": [
    {
     "name": "stdout",
     "output_type": "stream",
     "text": [
      "[10, 30, 60, 70, 85]\n",
      "[85, 70, 60, 30, 10]\n"
     ]
    }
   ],
   "source": [
    "#11.sorted(): \n",
    "s={10,70,30,85,60} \n",
    "print(sorted(s)) \n",
    "print(sorted(s,reverse=True))"
   ]
  },
  {
   "cell_type": "markdown",
   "id": "a1522dcc",
   "metadata": {},
   "source": [
    "# Set Methods used for Mathematical Operations: "
   ]
  },
  {
   "cell_type": "code",
   "execution_count": 24,
   "id": "f30de685",
   "metadata": {},
   "outputs": [
    {
     "name": "stdout",
     "output_type": "stream",
     "text": [
      "{100, 70, 40, 10, 80, 50, 20, 90, 60, 30}\n",
      "{100, 70, 40, 10, 80, 50, 20, 90, 60, 30}\n"
     ]
    }
   ],
   "source": [
    "#1.Union:\n",
    "a={10,20,30,40,50} \n",
    "b={60,70,80,90,100} \n",
    "print(a.union(b)) \n",
    "print(a|b) "
   ]
  },
  {
   "cell_type": "code",
   "execution_count": 25,
   "id": "0ffd86c4",
   "metadata": {},
   "outputs": [
    {
     "name": "stdout",
     "output_type": "stream",
     "text": [
      "{30}\n",
      "{30}\n"
     ]
    }
   ],
   "source": [
    "#2.Intersection: \n",
    "a={10,20,30,40,50} \n",
    "b={60,30,80,90,100} \n",
    "print(a.intersection(b)) \n",
    "print(a&b) "
   ]
  },
  {
   "cell_type": "code",
   "execution_count": 26,
   "id": "cf70917b",
   "metadata": {},
   "outputs": [
    {
     "name": "stdout",
     "output_type": "stream",
     "text": [
      "{40, 50, 10, 20}\n",
      "{40, 50, 10, 20}\n"
     ]
    }
   ],
   "source": [
    "#3.Difference:\n",
    "a={10,20,30,40,50} \n",
    "b={60,30,80,90,100} \n",
    "print(a.difference(b)) \n",
    "print(a-b) "
   ]
  },
  {
   "cell_type": "code",
   "execution_count": 27,
   "id": "8764f490",
   "metadata": {},
   "outputs": [
    {
     "name": "stdout",
     "output_type": "stream",
     "text": [
      "{10, 80, 20, 90, 100, 40, 50, 60}\n",
      "{10, 80, 20, 90, 100, 40, 50, 60}\n"
     ]
    }
   ],
   "source": [
    "#4.Symmetric Difference:\n",
    "a={10,20,30,40,50}\n",
    "b={60,30,80,90,100} \n",
    "print(a.symmetric_difference(b)) \n",
    "print(a^b) "
   ]
  },
  {
   "cell_type": "code",
   "execution_count": 28,
   "id": "b99052dc",
   "metadata": {},
   "outputs": [
    {
     "name": "stdout",
     "output_type": "stream",
     "text": [
      "True\n"
     ]
    }
   ],
   "source": [
    "#5.Issubset:\n",
    "a={10,20,30,40,50} \n",
    "b={10,40} \n",
    "print(b.issubset(a)) "
   ]
  },
  {
   "cell_type": "code",
   "execution_count": 29,
   "id": "f3559d95",
   "metadata": {},
   "outputs": [
    {
     "name": "stdout",
     "output_type": "stream",
     "text": [
      "True\n"
     ]
    }
   ],
   "source": [
    "a={10,20,30,40,50} \n",
    "b={10,40} \n",
    "print(a.issuperset(b)) #superset"
   ]
  },
  {
   "cell_type": "code",
   "execution_count": 30,
   "id": "ec2e336e",
   "metadata": {},
   "outputs": [
    {
     "name": "stdout",
     "output_type": "stream",
     "text": [
      "True\n"
     ]
    }
   ],
   "source": [
    "#6.Isdisjoint: \n",
    "a={10,20,30,40,50}\n",
    "b={60,70,80,90} \n",
    "print(a.isdisjoint(b)) \n"
   ]
  },
  {
   "cell_type": "markdown",
   "id": "a6cdb896",
   "metadata": {},
   "source": [
    "# Set Comprehension:"
   ]
  },
  {
   "cell_type": "code",
   "execution_count": 33,
   "id": "395b11be",
   "metadata": {},
   "outputs": [
    {
     "name": "stdout",
     "output_type": "stream",
     "text": [
      "{33, 43, 13, 53, 23}\n"
     ]
    }
   ],
   "source": [
    "#Create a set from List: \n",
    "l=[13,23,33,43,53]\n",
    "s=set() \n",
    "for i in l: \n",
    "    s.add(i) \n",
    "print(s) \n",
    " "
   ]
  },
  {
   "cell_type": "code",
   "execution_count": 34,
   "id": "0c1f79ab",
   "metadata": {},
   "outputs": [
    {
     "name": "stdout",
     "output_type": "stream",
     "text": [
      "{33, 43, 13, 53, 23}\n"
     ]
    }
   ],
   "source": [
    "#With Set Comprehension:\n",
    "l=[13,23,33,43,53] \n",
    "s={i for i in l} \n",
    "print(s)"
   ]
  },
  {
   "cell_type": "code",
   "execution_count": 35,
   "id": "bea82660",
   "metadata": {},
   "outputs": [
    {
     "name": "stdout",
     "output_type": "stream",
     "text": [
      "{66, 106, 46, 86, 26}\n"
     ]
    }
   ],
   "source": [
    "#Multiplication of the elements: \n",
    "l=[13,23,33,43,53] \n",
    "s={i*2 for i in l} \n",
    "print(s) "
   ]
  },
  {
   "cell_type": "code",
   "execution_count": 36,
   "id": "b3650b10",
   "metadata": {},
   "outputs": [
    {
     "name": "stdout",
     "output_type": "stream",
     "text": [
      "{100, 101, 102, 103, 104, 105, 106, 107, 108, 109, 110, 111, 112, 113, 114, 115, 116, 117, 118, 119}\n"
     ]
    }
   ],
   "source": [
    "#With Range: \n",
    "l=[13,23,33,43,53] \n",
    "s={i for i in range(100,120)} \n",
    "print(s) "
   ]
  },
  {
   "cell_type": "code",
   "execution_count": 37,
   "id": "587ac5de",
   "metadata": {},
   "outputs": [
    {
     "name": "stdout",
     "output_type": "stream",
     "text": [
      "{32, 36, 40, 20, 24, 28}\n"
     ]
    }
   ],
   "source": [
    "# Create a set by adding all the elements from 20 to 40 which are divisible by 4. \n",
    "s={i for i in range(20,41) if i%4==0} \n",
    "print(s) "
   ]
  },
  {
   "cell_type": "code",
   "execution_count": 38,
   "id": "c7f82cb8",
   "metadata": {},
   "outputs": [
    {
     "name": "stdout",
     "output_type": "stream",
     "text": [
      "{'K', 'G', 'S', 'R'}\n"
     ]
    }
   ],
   "source": [
    "#Create a set from the list names as “Names” and also print the first letters from each element.\n",
    "Names=['Govardhan','Shyam','Ram','Kishor'] \n",
    "s={(i[0]) for i in Names} \n",
    "print(s) \n"
   ]
  },
  {
   "cell_type": "code",
   "execution_count": 39,
   "id": "9928b5ed",
   "metadata": {},
   "outputs": [
    {
     "name": "stdout",
     "output_type": "stream",
     "text": [
      "{'Kishori', 'Ram', 'Govardhan', 'Shyam'}\n"
     ]
    }
   ],
   "source": [
    "#Create a set from a list “Names” and by adding all the elements except “Kishor” to be added as “Kishori”.\n",
    "Names=['Govardhan','Shyam','Ram','Kishor'] \n",
    "s={i if i!='Kishor' else 'Kishori' for i in Names} \n",
    "print(s)"
   ]
  },
  {
   "cell_type": "markdown",
   "id": "0c98165f",
   "metadata": {},
   "source": [
    "# #Frozenset"
   ]
  },
  {
   "cell_type": "code",
   "execution_count": 2,
   "id": "eb02e6db",
   "metadata": {},
   "outputs": [
    {
     "name": "stdout",
     "output_type": "stream",
     "text": [
      "frozenset({33, 53, 23, 43, 63})\n",
      "<class 'frozenset'>\n"
     ]
    }
   ],
   "source": [
    "s={23,33,43,53,63}\n",
    "fs=frozenset(s)\n",
    "print(fs)\n",
    "print(type(fs))"
   ]
  },
  {
   "cell_type": "code",
   "execution_count": 3,
   "id": "241aaed3",
   "metadata": {},
   "outputs": [
    {
     "name": "stdout",
     "output_type": "stream",
     "text": [
      "frozenset({1, 2, 3, 5, 7, 23})\n",
      "<class 'frozenset'>\n"
     ]
    }
   ],
   "source": [
    "# Creation of frozenset from list:\n",
    "l=[23,1,2,3,5,7]\n",
    "fs=frozenset(l)\n",
    "print(fs)\n",
    "print(type(fs))"
   ]
  },
  {
   "cell_type": "code",
   "execution_count": 4,
   "id": "39c2e7fd",
   "metadata": {},
   "outputs": [
    {
     "name": "stdout",
     "output_type": "stream",
     "text": [
      "frozenset({0, 1, 2, 3, 4, 5, 6, 7, 8, 9})\n"
     ]
    }
   ],
   "source": [
    "# Creation of fs using range:\n",
    "fs=frozenset(range(10))\n",
    "print(fs)"
   ]
  },
  {
   "cell_type": "code",
   "execution_count": 5,
   "id": "00e3c17c",
   "metadata": {},
   "outputs": [
    {
     "ename": "AttributeError",
     "evalue": "'frozenset' object has no attribute 'add'",
     "output_type": "error",
     "traceback": [
      "\u001b[1;31m---------------------------------------------------------------------------\u001b[0m",
      "\u001b[1;31mAttributeError\u001b[0m                            Traceback (most recent call last)",
      "Input \u001b[1;32mIn [5]\u001b[0m, in \u001b[0;36m<cell line: 2>\u001b[1;34m()\u001b[0m\n\u001b[0;32m      1\u001b[0m fs\u001b[38;5;241m=\u001b[39m\u001b[38;5;28mfrozenset\u001b[39m(\u001b[38;5;28mrange\u001b[39m(\u001b[38;5;241m10\u001b[39m))\n\u001b[1;32m----> 2\u001b[0m \u001b[43mfs\u001b[49m\u001b[38;5;241;43m.\u001b[39;49m\u001b[43madd\u001b[49m(\u001b[38;5;241m888\u001b[39m)\n\u001b[0;32m      3\u001b[0m \u001b[38;5;28mprint\u001b[39m(fs)\n",
      "\u001b[1;31mAttributeError\u001b[0m: 'frozenset' object has no attribute 'add'"
     ]
    }
   ],
   "source": [
    "fs=frozenset(range(10))\n",
    "fs.add(888) #Since frozen set is immutable in nature new elements cannot be added.\n",
    "print(fs)"
   ]
  },
  {
   "cell_type": "code",
   "execution_count": 6,
   "id": "ebc822b1",
   "metadata": {},
   "outputs": [
    {
     "ename": "AttributeError",
     "evalue": "'frozenset' object has no attribute 'remove'",
     "output_type": "error",
     "traceback": [
      "\u001b[1;31m---------------------------------------------------------------------------\u001b[0m",
      "\u001b[1;31mAttributeError\u001b[0m                            Traceback (most recent call last)",
      "Input \u001b[1;32mIn [6]\u001b[0m, in \u001b[0;36m<cell line: 2>\u001b[1;34m()\u001b[0m\n\u001b[0;32m      1\u001b[0m fs\u001b[38;5;241m=\u001b[39m\u001b[38;5;28mfrozenset\u001b[39m(\u001b[38;5;28mrange\u001b[39m(\u001b[38;5;241m10\u001b[39m))\n\u001b[1;32m----> 2\u001b[0m \u001b[43mfs\u001b[49m\u001b[38;5;241;43m.\u001b[39;49m\u001b[43mremove\u001b[49m(\u001b[38;5;241m2\u001b[39m) \u001b[38;5;66;03m#Since frozen set is immutable in nature elements present cannot be removed.\u001b[39;00m\n\u001b[0;32m      3\u001b[0m \u001b[38;5;28mprint\u001b[39m(fs)\n",
      "\u001b[1;31mAttributeError\u001b[0m: 'frozenset' object has no attribute 'remove'"
     ]
    }
   ],
   "source": [
    "fs=frozenset(range(10))\n",
    "fs.remove(2) #Since frozen set is immutable in nature elements present cannot be removed.\n",
    "print(fs)"
   ]
  },
  {
   "cell_type": "code",
   "execution_count": 7,
   "id": "b537611f",
   "metadata": {},
   "outputs": [
    {
     "name": "stdout",
     "output_type": "stream",
     "text": [
      "[23, 33, 43, 53, 63]\n"
     ]
    }
   ],
   "source": [
    "# Applying other normal functions which will not modify the frozenset.\n",
    "\n",
    "fs1=frozenset([23,33,43,53,63])\n",
    "fs2=frozenset([11,12,13,23,63])\n",
    "fs3=frozenset([23,43])\n",
    "\n",
    "fs4=fs1.copy()  #shallow copy:different memory location\n",
    "print(fs4)"
   ]
  },
  {
   "cell_type": "code",
   "execution_count": 8,
   "id": "148b3e35",
   "metadata": {},
   "outputs": [
    {
     "name": "stdout",
     "output_type": "stream",
     "text": [
      "[11, 12, 13, 23, 63]\n"
     ]
    }
   ],
   "source": [
    "fs5=fs2\n",
    "print(fs5) #deep copy:same memory location"
   ]
  },
  {
   "cell_type": "code",
   "execution_count": 19,
   "id": "919eb844",
   "metadata": {},
   "outputs": [
    {
     "name": "stdout",
     "output_type": "stream",
     "text": [
      "frozenset({33, 43, 11, 12, 13, 53, 23, 63})\n",
      "frozenset({33, 43, 11, 12, 13, 53, 23, 63})\n",
      "frozenset({33, 8, 43, 11, 12, 13, 53, 23, 888, 63})\n"
     ]
    }
   ],
   "source": [
    "fs1=frozenset([23,33,43,53,63])\n",
    "fs2=frozenset([11,12,13,23,63])\n",
    "fs3=frozenset([23,43])\n",
    "fs8=frozenset([8,888])\n",
    "\n",
    "print(fs1.union(fs2))\n",
    "print(fs1|fs2)\n",
    "\n",
    "print(fs1.union(fs2).union(fs8))"
   ]
  },
  {
   "cell_type": "code",
   "execution_count": 18,
   "id": "bf65b6b4",
   "metadata": {},
   "outputs": [
    {
     "name": "stdout",
     "output_type": "stream",
     "text": [
      "frozenset({63, 23})\n",
      "frozenset({63, 23})\n"
     ]
    }
   ],
   "source": [
    "print(fs1.intersection(fs2))\n",
    "print(fs1&fs2)\n"
   ]
  },
  {
   "cell_type": "code",
   "execution_count": 17,
   "id": "0fd3455a",
   "metadata": {},
   "outputs": [
    {
     "name": "stdout",
     "output_type": "stream",
     "text": [
      "frozenset({33, 43, 53})\n",
      "frozenset({33, 43, 53})\n"
     ]
    }
   ],
   "source": [
    "print(fs1.difference(fs2))\n",
    "print(fs1-fs2)\n"
   ]
  },
  {
   "cell_type": "code",
   "execution_count": 22,
   "id": "c985901d",
   "metadata": {},
   "outputs": [
    {
     "name": "stdout",
     "output_type": "stream",
     "text": [
      "frozenset({33, 53, 43, 11, 12, 13})\n",
      "frozenset({33, 53, 43, 11, 12, 13})\n"
     ]
    }
   ],
   "source": [
    "print(fs1.symmetric_difference(fs2))\n",
    "print(fs1^fs2)\n"
   ]
  },
  {
   "cell_type": "code",
   "execution_count": 23,
   "id": "abf14990",
   "metadata": {},
   "outputs": [
    {
     "name": "stdout",
     "output_type": "stream",
     "text": [
      "True\n"
     ]
    }
   ],
   "source": [
    "print(fs3.issubset(fs1))"
   ]
  },
  {
   "cell_type": "code",
   "execution_count": 24,
   "id": "43d22f5d",
   "metadata": {},
   "outputs": [
    {
     "name": "stdout",
     "output_type": "stream",
     "text": [
      "True\n"
     ]
    }
   ],
   "source": [
    "print(fs1.issuperset(fs3))"
   ]
  },
  {
   "cell_type": "code",
   "execution_count": 26,
   "id": "6ec87f43",
   "metadata": {},
   "outputs": [
    {
     "name": "stdout",
     "output_type": "stream",
     "text": [
      "True\n"
     ]
    }
   ],
   "source": [
    "print(fs3.isdisjoint(fs8))"
   ]
  },
  {
   "cell_type": "code",
   "execution_count": null,
   "id": "b5a70cc9",
   "metadata": {},
   "outputs": [],
   "source": []
  },
  {
   "cell_type": "code",
   "execution_count": null,
   "id": "ccc2cd0b",
   "metadata": {},
   "outputs": [],
   "source": []
  },
  {
   "cell_type": "code",
   "execution_count": null,
   "id": "545afbc3",
   "metadata": {},
   "outputs": [],
   "source": []
  },
  {
   "cell_type": "code",
   "execution_count": null,
   "id": "dd9672a8",
   "metadata": {},
   "outputs": [],
   "source": []
  },
  {
   "cell_type": "code",
   "execution_count": null,
   "id": "3e412d34",
   "metadata": {},
   "outputs": [],
   "source": []
  },
  {
   "cell_type": "code",
   "execution_count": null,
   "id": "5166812a",
   "metadata": {},
   "outputs": [],
   "source": []
  },
  {
   "cell_type": "code",
   "execution_count": null,
   "id": "1cc62b55",
   "metadata": {},
   "outputs": [],
   "source": []
  },
  {
   "cell_type": "code",
   "execution_count": null,
   "id": "938ee054",
   "metadata": {},
   "outputs": [],
   "source": []
  },
  {
   "cell_type": "code",
   "execution_count": null,
   "id": "9a0a7479",
   "metadata": {},
   "outputs": [],
   "source": []
  }
 ],
 "metadata": {
  "kernelspec": {
   "display_name": "Python 3 (ipykernel)",
   "language": "python",
   "name": "python3"
  },
  "language_info": {
   "codemirror_mode": {
    "name": "ipython",
    "version": 3
   },
   "file_extension": ".py",
   "mimetype": "text/x-python",
   "name": "python",
   "nbconvert_exporter": "python",
   "pygments_lexer": "ipython3",
   "version": "3.9.12"
  }
 },
 "nbformat": 4,
 "nbformat_minor": 5
}
