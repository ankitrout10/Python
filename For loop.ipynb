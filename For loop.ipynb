{
 "cells": [
  {
   "cell_type": "markdown",
   "id": "adedfe2e",
   "metadata": {},
   "source": [
    "# #For Loop"
   ]
  },
  {
   "cell_type": "code",
   "execution_count": 1,
   "id": "5d861766",
   "metadata": {},
   "outputs": [
    {
     "name": "stdout",
     "output_type": "stream",
     "text": [
      "Surendra\n",
      "Surendra\n",
      "Surendra\n",
      "Surendra\n",
      "Surendra\n",
      "Surendra\n",
      "Surendra\n",
      "Surendra\n",
      "Surendra\n",
      "Surendra\n"
     ]
    }
   ],
   "source": [
    "for i in range(10):\n",
    "    print('Surendra')"
   ]
  },
  {
   "cell_type": "code",
   "execution_count": 2,
   "id": "df79feb0",
   "metadata": {},
   "outputs": [
    {
     "name": "stdout",
     "output_type": "stream",
     "text": [
      "1\n",
      "2\n",
      "3\n",
      "4\n",
      "5\n"
     ]
    }
   ],
   "source": [
    "for i in range(1,6):\n",
    "    print(i)"
   ]
  },
  {
   "cell_type": "code",
   "execution_count": 3,
   "id": "c823e78a",
   "metadata": {},
   "outputs": [
    {
     "name": "stdout",
     "output_type": "stream",
     "text": [
      "100\n",
      "101\n",
      "102\n",
      "103\n",
      "104\n",
      "105\n",
      "106\n",
      "107\n",
      "108\n",
      "109\n",
      "110\n"
     ]
    }
   ],
   "source": [
    "#to print the number in between 100 to 110\n",
    "for i in range(100,111):\n",
    "    print(i)"
   ]
  },
  {
   "cell_type": "code",
   "execution_count": 8,
   "id": "2c7bed3a",
   "metadata": {},
   "outputs": [
    {
     "name": "stdout",
     "output_type": "stream",
     "text": [
      "100\n",
      "99\n",
      "98\n",
      "97\n",
      "96\n",
      "95\n",
      "94\n",
      "93\n",
      "92\n",
      "91\n",
      "90\n"
     ]
    }
   ],
   "source": [
    "# to print the numbers in between 100 to 90\n",
    "for i in range(100,89,-1):\n",
    "    print(i)"
   ]
  },
  {
   "cell_type": "code",
   "execution_count": 9,
   "id": "1b54a832",
   "metadata": {},
   "outputs": [
    {
     "name": "stdout",
     "output_type": "stream",
     "text": [
      "2\n",
      "3\n",
      "4\n",
      "5\n",
      "6\n",
      "7\n",
      "8\n"
     ]
    }
   ],
   "source": [
    " for i in range(2,9,1):\n",
    "        print(i)"
   ]
  },
  {
   "cell_type": "code",
   "execution_count": 1,
   "id": "f2919e18",
   "metadata": {},
   "outputs": [
    {
     "name": "stdout",
     "output_type": "stream",
     "text": [
      "200\n",
      "400\n",
      "600\n",
      "800\n",
      "1000\n"
     ]
    }
   ],
   "source": [
    "# to print 200 400 600 800 1000\n",
    "for i in range(200,1001,200):\n",
    "    print(i)"
   ]
  },
  {
   "cell_type": "code",
   "execution_count": 2,
   "id": "de6fdd24",
   "metadata": {},
   "outputs": [
    {
     "name": "stdout",
     "output_type": "stream",
     "text": [
      "10\n",
      "9\n",
      "8\n",
      "7\n",
      "6\n",
      "5\n",
      "4\n",
      "3\n",
      "2\n",
      "1\n"
     ]
    }
   ],
   "source": [
    "for i in range(10,0,-1):\n",
    "    print(i)"
   ]
  },
  {
   "cell_type": "code",
   "execution_count": 4,
   "id": "1f39c8b6",
   "metadata": {},
   "outputs": [
    {
     "name": "stdout",
     "output_type": "stream",
     "text": [
      "999\n",
      "777\n",
      "555\n",
      "333\n",
      "111\n"
     ]
    }
   ],
   "source": [
    "# to print 999 777 555 333 111\n",
    "for i in range(999,110,-222):\n",
    "    print(i)"
   ]
  },
  {
   "cell_type": "code",
   "execution_count": 5,
   "id": "aee8d474",
   "metadata": {},
   "outputs": [
    {
     "name": "stdout",
     "output_type": "stream",
     "text": [
      "100\n",
      "102\n",
      "104\n",
      "106\n",
      "108\n",
      "110\n",
      "112\n",
      "114\n",
      "116\n",
      "118\n",
      "120\n"
     ]
    }
   ],
   "source": [
    "# to print all even numbers from 100 to 120:\n",
    "for i in range(100,121,1):\n",
    "    if i%2==0:\n",
    "        print(i)"
   ]
  },
  {
   "cell_type": "code",
   "execution_count": 6,
   "id": "3d888008",
   "metadata": {},
   "outputs": [
    {
     "name": "stdout",
     "output_type": "stream",
     "text": [
      "100\n",
      "102\n",
      "104\n",
      "106\n",
      "108\n",
      "110\n",
      "112\n",
      "114\n",
      "116\n",
      "118\n",
      "120\n"
     ]
    }
   ],
   "source": [
    "# to print all even numbers from 100 to 120:\n",
    "for i in range(100,121,2):\n",
    "        print(i)"
   ]
  },
  {
   "cell_type": "code",
   "execution_count": 7,
   "id": "7bcfcd66",
   "metadata": {},
   "outputs": [
    {
     "name": "stdout",
     "output_type": "stream",
     "text": [
      "s\n",
      "u\n",
      "r\n",
      "e\n",
      "n\n",
      "d\n",
      "r\n",
      "a\n",
      " \n",
      "k\n",
      "u\n",
      "m\n",
      "a\n",
      "r\n",
      " \n",
      "p\n",
      "a\n",
      "n\n",
      "d\n",
      "a\n"
     ]
    }
   ],
   "source": [
    "name=\"surendra kumar panda\"\n",
    "for i in name:\n",
    "    print(i)"
   ]
  },
  {
   "cell_type": "code",
   "execution_count": 8,
   "id": "dcae87f3",
   "metadata": {},
   "outputs": [
    {
     "name": "stdout",
     "output_type": "stream",
     "text": [
      "8\n",
      "8\n",
      "8\n",
      "8\n",
      "8\n",
      "8\n"
     ]
    }
   ],
   "source": [
    "name=\"888888\"\n",
    "for i in name:\n",
    "    print(i)"
   ]
  },
  {
   "cell_type": "code",
   "execution_count": 10,
   "id": "bade2b5e",
   "metadata": {},
   "outputs": [
    {
     "name": "stdout",
     "output_type": "stream",
     "text": [
      "a n k i t "
     ]
    }
   ],
   "source": [
    "name=\"ankit\"\n",
    "for i in name:\n",
    "    print(i, end=\" \")"
   ]
  },
  {
   "cell_type": "code",
   "execution_count": 11,
   "id": "0dc1d63b",
   "metadata": {},
   "outputs": [
    {
     "name": "stdout",
     "output_type": "stream",
     "text": [
      "1*1=1\n",
      "3*3=9\n",
      "5*5=25\n"
     ]
    }
   ],
   "source": [
    "for i in range(1,6,2):\n",
    "    print(f'{i}*{i}={i*i}')"
   ]
  },
  {
   "cell_type": "code",
   "execution_count": 12,
   "id": "87cb58e7",
   "metadata": {},
   "outputs": [
    {
     "name": "stdout",
     "output_type": "stream",
     "text": [
      "Enter a number to print multiplication table: 2\n",
      "2 * 1 = 2\n",
      "2 * 2 = 4\n",
      "2 * 3 = 6\n",
      "2 * 4 = 8\n",
      "2 * 5 = 10\n",
      "2 * 6 = 12\n",
      "2 * 7 = 14\n",
      "2 * 8 = 16\n",
      "2 * 9 = 18\n",
      "2 * 10 = 20\n"
     ]
    }
   ],
   "source": [
    "#Multiplication Table of any number as per user input\n",
    "\n",
    "num=int(input('Enter a number to print multiplication table: '))\n",
    "for i in range(1,11):\n",
    "    print(f'{num} * {i} = {num*i}')"
   ]
  },
  {
   "cell_type": "code",
   "execution_count": 13,
   "id": "e163e900",
   "metadata": {},
   "outputs": [
    {
     "name": "stdout",
     "output_type": "stream",
     "text": [
      "*\n",
      "**\n",
      "***\n",
      "****\n",
      "*****\n"
     ]
    }
   ],
   "source": [
    "for i in range(1,6):\n",
    "    print('*'*i)"
   ]
  },
  {
   "cell_type": "code",
   "execution_count": 14,
   "id": "95c918f2",
   "metadata": {},
   "outputs": [
    {
     "name": "stdout",
     "output_type": "stream",
     "text": [
      "*****\n",
      "****\n",
      "***\n",
      "**\n",
      "*\n"
     ]
    }
   ],
   "source": [
    "for i in range(5,0,-1):\n",
    "    print('*'*i)"
   ]
  },
  {
   "cell_type": "code",
   "execution_count": 17,
   "id": "26c2aafa",
   "metadata": {},
   "outputs": [
    {
     "name": "stdout",
     "output_type": "stream",
     "text": [
      "*****\n",
      "*****\n",
      "*****\n",
      "*****\n",
      "*****\n"
     ]
    }
   ],
   "source": [
    "for i in range(1,6):\n",
    "    print('*'*5)"
   ]
  },
  {
   "cell_type": "code",
   "execution_count": 19,
   "id": "a5871196",
   "metadata": {},
   "outputs": [
    {
     "name": "stdout",
     "output_type": "stream",
     "text": [
      "-\n",
      "--\n",
      "***\n",
      "----\n",
      "-----\n"
     ]
    }
   ],
   "source": [
    "for i in range(1,6):\n",
    "    if i==3:\n",
    "        print(\"*\"*i)\n",
    "    else:\n",
    "        print(\"-\"*i)"
   ]
  },
  {
   "cell_type": "code",
   "execution_count": 23,
   "id": "de720e4f",
   "metadata": {},
   "outputs": [
    {
     "name": "stdout",
     "output_type": "stream",
     "text": [
      "1\n",
      "22\n",
      "333\n",
      "4444\n",
      "55555\n"
     ]
    }
   ],
   "source": [
    "for i in  range(1,6):\n",
    "    print(f'{i}'*i)"
   ]
  },
  {
   "cell_type": "code",
   "execution_count": 26,
   "id": "52d623ee",
   "metadata": {},
   "outputs": [
    {
     "name": "stdout",
     "output_type": "stream",
     "text": [
      "1 \n",
      "4 4 \n",
      "9 9 9 \n",
      "16 16 16 16 \n",
      "25 25 25 25 25 \n"
     ]
    }
   ],
   "source": [
    "for i in range(1,6):\n",
    "    print(f'{i*i} '*i)"
   ]
  },
  {
   "cell_type": "markdown",
   "id": "a040e40d",
   "metadata": {},
   "source": [
    "### Pattern Programing "
   ]
  },
  {
   "cell_type": "code",
   "execution_count": 30,
   "id": "ac098572",
   "metadata": {},
   "outputs": [
    {
     "name": "stdout",
     "output_type": "stream",
     "text": [
      "4\n",
      "16\n",
      "36\n",
      "64\n",
      "100\n"
     ]
    }
   ],
   "source": [
    "# 1. to print 4 16 36 64 100\n",
    "\n",
    "for i in range(1,11,1):\n",
    "    if i%2==0:\n",
    "        print(i*i)"
   ]
  },
  {
   "cell_type": "code",
   "execution_count": 29,
   "id": "3baa3855",
   "metadata": {},
   "outputs": [
    {
     "name": "stdout",
     "output_type": "stream",
     "text": [
      "4\n",
      "16\n",
      "36\n",
      "64\n",
      "100\n"
     ]
    }
   ],
   "source": [
    "for i in range(2,11,2):\n",
    "        print(i*i)"
   ]
  },
  {
   "cell_type": "code",
   "execution_count": 34,
   "id": "356c4587",
   "metadata": {},
   "outputs": [
    {
     "name": "stdout",
     "output_type": "stream",
     "text": [
      "1\n",
      "*\n",
      "3\n",
      "*\n",
      "5\n"
     ]
    }
   ],
   "source": [
    "#2. to print 1 * 3 * 5\n",
    "for i in range(1,6):\n",
    "    if i%2==0:\n",
    "        print('*')\n",
    "    else:\n",
    "        print(i)\n",
    "    "
   ]
  },
  {
   "cell_type": "code",
   "execution_count": 17,
   "id": "cd5cfc3c",
   "metadata": {},
   "outputs": [
    {
     "name": "stdout",
     "output_type": "stream",
     "text": [
      "*1\n",
      "**2\n",
      "***3\n",
      "****4\n",
      "*****5\n"
     ]
    }
   ],
   "source": [
    "#3. To print *1 **2 ***3 ****4 *****5\n",
    "for i in range(1,6):\n",
    "    print(f'{\"*\"*i}{i}')"
   ]
  },
  {
   "cell_type": "code",
   "execution_count": 54,
   "id": "0c80ffc8",
   "metadata": {},
   "outputs": [
    {
     "name": "stdout",
     "output_type": "stream",
     "text": [
      "1\n",
      "00\n",
      "111\n",
      "0000\n",
      "11111\n"
     ]
    }
   ],
   "source": [
    "#4. To print 1 00 111 0000 11111\n",
    "\n",
    "for i in range(1,6):\n",
    "    if i%2==0:\n",
    "        print(\"0\"*i)\n",
    "    else:\n",
    "        print('1'*i)"
   ]
  },
  {
   "cell_type": "code",
   "execution_count": 5,
   "id": "07aa8ca9",
   "metadata": {},
   "outputs": [
    {
     "name": "stdout",
     "output_type": "stream",
     "text": [
      "999\n",
      "HiHi\n",
      "777\n",
      "HiHi\n",
      "555\n",
      "HiHi\n"
     ]
    }
   ],
   "source": [
    "  \n",
    "#5 to print 999 HiHi 777 HiHi 555 HiHi \n",
    "\n",
    "for i in range(999,443,-111):\n",
    "    if i%2==0:\n",
    "        print('HiHi')\n",
    "    else:\n",
    "        print(i)"
   ]
  },
  {
   "cell_type": "code",
   "execution_count": 11,
   "id": "3052ad5b",
   "metadata": {},
   "outputs": [
    {
     "name": "stdout",
     "output_type": "stream",
     "text": [
      "1*1=1\n",
      "5*5=25\n",
      "9*9=81\n"
     ]
    }
   ],
   "source": [
    " #6 to print \n",
    "    # 1*1=1\n",
    "    # 5*5=25\n",
    "    # 9*9=81\n",
    "for i in range(1,10,4):\n",
    "    print(f'{i}*{i}={ i*i}')\n",
    "    "
   ]
  },
  {
   "cell_type": "code",
   "execution_count": 13,
   "id": "b25891ed",
   "metadata": {},
   "outputs": [
    {
     "name": "stdout",
     "output_type": "stream",
     "text": [
      "1 + 1 = 1\n",
      "2 + 2 = 2\n",
      "3 + 3 = 3\n",
      "4 + 4 = 4\n"
     ]
    }
   ],
   "source": [
    " #7 to print \n",
    "    # 1+1=1\n",
    "    # 2+2=2\n",
    "    # 3+3=3\n",
    "    # 4+4=4\n",
    "    \n",
    "for i in range(1,5):\n",
    "    print(f'{i} + {i} = {i}')"
   ]
  },
  {
   "cell_type": "code",
   "execution_count": 16,
   "id": "bab6307a",
   "metadata": {},
   "outputs": [
    {
     "name": "stdout",
     "output_type": "stream",
     "text": [
      "1+1=4\n",
      "2+2=9\n",
      "3+3=16\n",
      "4+4=25\n"
     ]
    }
   ],
   "source": [
    "#8 to print\n",
    "  # 1+1=4\n",
    "  # 2+2=9\n",
    "  # 3+3=16\n",
    "  # 4+4=25\n",
    "\n",
    "for i in range(1,5):\n",
    "    print(f'{i}+{i}={(i+1)*(i+1)}')"
   ]
  },
  {
   "cell_type": "code",
   "execution_count": 2,
   "id": "9555adab",
   "metadata": {},
   "outputs": [
    {
     "name": "stdout",
     "output_type": "stream",
     "text": [
      "6\n"
     ]
    }
   ],
   "source": [
    "#To print the sum of all natural numbers from 3 to 1 using while loop.\n",
    "i=3\n",
    "sum=0\n",
    "while i<4 and i>0:\n",
    "    sum=sum+i\n",
    "    i=i-1\n",
    "print(sum)\n",
    "     "
   ]
  },
  {
   "cell_type": "code",
   "execution_count": null,
   "id": "b4a7d64f",
   "metadata": {},
   "outputs": [],
   "source": []
  },
  {
   "cell_type": "code",
   "execution_count": null,
   "id": "201504e3",
   "metadata": {},
   "outputs": [],
   "source": []
  },
  {
   "cell_type": "code",
   "execution_count": null,
   "id": "ba6dde4e",
   "metadata": {},
   "outputs": [],
   "source": []
  },
  {
   "cell_type": "code",
   "execution_count": null,
   "id": "4b79560c",
   "metadata": {},
   "outputs": [],
   "source": []
  },
  {
   "cell_type": "code",
   "execution_count": null,
   "id": "f066ef8c",
   "metadata": {},
   "outputs": [],
   "source": []
  },
  {
   "cell_type": "code",
   "execution_count": null,
   "id": "83207ad0",
   "metadata": {},
   "outputs": [],
   "source": []
  }
 ],
 "metadata": {
  "kernelspec": {
   "display_name": "Python 3 (ipykernel)",
   "language": "python",
   "name": "python3"
  },
  "language_info": {
   "codemirror_mode": {
    "name": "ipython",
    "version": 3
   },
   "file_extension": ".py",
   "mimetype": "text/x-python",
   "name": "python",
   "nbconvert_exporter": "python",
   "pygments_lexer": "ipython3",
   "version": "3.9.12"
  }
 },
 "nbformat": 4,
 "nbformat_minor": 5
}
