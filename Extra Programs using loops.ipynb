{
 "cells": [
  {
   "cell_type": "code",
   "execution_count": 5,
   "id": "f2c0da63",
   "metadata": {},
   "outputs": [
    {
     "name": "stdout",
     "output_type": "stream",
     "text": [
      "24\n"
     ]
    }
   ],
   "source": [
    "#To print the factorial of a number:\n",
    "\n",
    "fact=1\n",
    "for i in range(1,5):\n",
    "    fact = fact*i\n",
    "print(fact)"
   ]
  },
  {
   "cell_type": "code",
   "execution_count": 7,
   "id": "a861bf78",
   "metadata": {},
   "outputs": [
    {
     "name": "stdout",
     "output_type": "stream",
     "text": [
      "15\n"
     ]
    }
   ],
   "source": [
    "#To print the sum of all natural numbers from 1 to 5.\n",
    "\n",
    "sum=0\n",
    "for i in range(1,6):\n",
    "    sum = sum+i\n",
    "print(sum)\n",
    "    "
   ]
  },
  {
   "cell_type": "code",
   "execution_count": 9,
   "id": "49e956bd",
   "metadata": {},
   "outputs": [
    {
     "name": "stdout",
     "output_type": "stream",
     "text": [
      "15\n"
     ]
    }
   ],
   "source": [
    "# To print the sum of 5+4+3+2+1\n",
    "\n",
    "sum=0\n",
    "for i in range(5,0,-1):\n",
    "    sum=sum+i\n",
    "print(sum)"
   ]
  },
  {
   "cell_type": "code",
   "execution_count": 12,
   "id": "dfe1b198",
   "metadata": {},
   "outputs": [
    {
     "name": "stdout",
     "output_type": "stream",
     "text": [
      "120\n"
     ]
    }
   ],
   "source": [
    "# to print the value of 5*4*3*2*1\n",
    "\n",
    "mul=1\n",
    "for i in range(5,0,-1):\n",
    "    mul=mul*i\n",
    "print(mul)\n",
    "\n"
   ]
  },
  {
   "cell_type": "code",
   "execution_count": 6,
   "id": "e8ef9054",
   "metadata": {},
   "outputs": [
    {
     "name": "stdout",
     "output_type": "stream",
     "text": [
      "6\n"
     ]
    }
   ],
   "source": [
    "#To print the sum of all natural numbers from 1 to 3 using while loop.\n",
    "\n",
    "i=1\n",
    "sum=0\n",
    "while i<=3:\n",
    "    sum=sum+i\n",
    "    i=i+1\n",
    "print(sum)"
   ]
  },
  {
   "cell_type": "code",
   "execution_count": null,
   "id": "f166f6c1",
   "metadata": {},
   "outputs": [],
   "source": [
    "i=1\n",
    "sum=0\n",
    "while i<=3:\n",
    "    sum=sum+i\n",
    "print(sum)\n",
    "i=i+1"
   ]
  },
  {
   "cell_type": "code",
   "execution_count": 2,
   "id": "6cb77de2",
   "metadata": {},
   "outputs": [
    {
     "name": "stdout",
     "output_type": "stream",
     "text": [
      "6\n"
     ]
    }
   ],
   "source": [
    "#To print the sum of all natural numbers from 3 to 1 using while loop.\n",
    "i=3\n",
    "sum=0\n",
    "while i<4 and i>0:\n",
    "    sum=sum+i\n",
    "    i=i-1\n",
    "print(sum)\n",
    "     "
   ]
  },
  {
   "cell_type": "code",
   "execution_count": 5,
   "id": "4cf5b290",
   "metadata": {},
   "outputs": [
    {
     "name": "stdout",
     "output_type": "stream",
     "text": [
      "6\n"
     ]
    }
   ],
   "source": [
    "i=3\n",
    "sum=0\n",
    "while i<4:\n",
    "    if i==0:\n",
    "        break\n",
    "    sum=sum+i\n",
    "    i=i-1\n",
    "print(sum)"
   ]
  },
  {
   "cell_type": "code",
   "execution_count": 8,
   "id": "b3bd082b",
   "metadata": {},
   "outputs": [
    {
     "name": "stdout",
     "output_type": "stream",
     "text": [
      "6\n"
     ]
    }
   ],
   "source": [
    "#To print the factorial of a number using while loop:\n",
    "\n",
    "i=1\n",
    "fact=1\n",
    "while i<=3:\n",
    "    fact=fact*i\n",
    "    i=i+1\n",
    "print(fact)"
   ]
  },
  {
   "cell_type": "code",
   "execution_count": 4,
   "id": "5df09c95",
   "metadata": {},
   "outputs": [
    {
     "name": "stdout",
     "output_type": "stream",
     "text": [
      "6\n"
     ]
    }
   ],
   "source": [
    "# To Print 3*2*1\n",
    "\n",
    "i=3\n",
    "mul=1\n",
    "while i<4:\n",
    "    if i==0:\n",
    "        break\n",
    "    mul=mul*i\n",
    "    i=i-1\n",
    "print(mul)"
   ]
  },
  {
   "cell_type": "code",
   "execution_count": 1,
   "id": "3b5f1621",
   "metadata": {},
   "outputs": [
    {
     "name": "stdout",
     "output_type": "stream",
     "text": [
      "Enter the value of m: 6\n",
      "Enter the value of n: 10\n",
      "40\n"
     ]
    }
   ],
   "source": [
    "#Sum of all natural numbers from m to n using for loop:\n",
    "\n",
    "m=int(input(\"Enter the value of m: \"))\n",
    "n=int(input(\"Enter the value of n: \"))\n",
    "sum=0\n",
    "for i in range(m,n+1,1):\n",
    "    sum=sum+i\n",
    "    i=i+1 \n",
    "print(sum)\n"
   ]
  },
  {
   "cell_type": "code",
   "execution_count": 6,
   "id": "7a10be4f",
   "metadata": {},
   "outputs": [
    {
     "name": "stdout",
     "output_type": "stream",
     "text": [
      "Enter the value of m: 1\n",
      "Enter the value of n: 3\n",
      "6\n"
     ]
    }
   ],
   "source": [
    "#Sum of all natural numbers from m to n using while loop:\n",
    "\n",
    "m=int(input(\"Enter the value of m: \"))\n",
    "n=int(input(\"Enter the value of n: \"))\n",
    "\n",
    "\n",
    "sum=0\n",
    "while m<=n:\n",
    "    sum=sum+m\n",
    "    m=m+1\n",
    "print(sum)"
   ]
  },
  {
   "cell_type": "code",
   "execution_count": 3,
   "id": "e22a5d9f",
   "metadata": {},
   "outputs": [
    {
     "name": "stdout",
     "output_type": "stream",
     "text": [
      "Enter the value of m: 1\n",
      "Enter the value of n: 5\n",
      "120\n"
     ]
    }
   ],
   "source": [
    "#To multiply all numbers from m to n using for loop.\n",
    "\n",
    "m=int(input(\"Enter the value of m: \"))\n",
    "n=int(input(\"Enter the value of n: \"))\n",
    "\n",
    "mul=1\n",
    "for i in range(m,n+1,1):\n",
    "    mul=mul*i\n",
    "    i=i+1 \n",
    "print(mul)\n"
   ]
  },
  {
   "cell_type": "code",
   "execution_count": 9,
   "id": "fb88d6da",
   "metadata": {},
   "outputs": [
    {
     "name": "stdout",
     "output_type": "stream",
     "text": [
      "Enter the value of m: 1\n",
      "Enter the value of n: 4\n",
      "24\n"
     ]
    }
   ],
   "source": [
    "#To multiply all numbers from m to n using while loop.\n",
    "\n",
    "m=int(input(\"Enter the value of m: \"))\n",
    "n=int(input(\"Enter the value of n: \"))\n",
    "\n",
    "\n",
    "mul=1\n",
    "while m<=n:\n",
    "    mul=mul*m\n",
    "    m=m+1\n",
    "print(mul)\n",
    "    "
   ]
  },
  {
   "cell_type": "code",
   "execution_count": 3,
   "id": "44d67efb",
   "metadata": {},
   "outputs": [
    {
     "name": "stdout",
     "output_type": "stream",
     "text": [
      "Enter the value of m: 1\n",
      "Enter the value of n: 5\n",
      "15\n",
      "3.0\n"
     ]
    }
   ],
   "source": [
    "#Sum and average of all natural numbers from m to n using for loop :\n",
    "\n",
    "m=int(input(\"Enter the value of m: \"))\n",
    "n=int(input(\"Enter the value of n: \"))\n",
    "sum=0\n",
    "avg=0\n",
    "for i in range(m,n+1,1):\n",
    "    sum=sum+i\n",
    "    i=i+1 \n",
    "avg=(sum)/(n-m+1)\n",
    "print(sum)\n",
    "print(avg)\n"
   ]
  },
  {
   "cell_type": "code",
   "execution_count": 2,
   "id": "8d43f734",
   "metadata": {},
   "outputs": [
    {
     "name": "stdout",
     "output_type": "stream",
     "text": [
      "Enter the value of m: 1\n",
      "Enter the value of n: 4\n"
     ]
    },
    {
     "ename": "ZeroDivisionError",
     "evalue": "division by zero",
     "output_type": "error",
     "traceback": [
      "\u001b[1;31m---------------------------------------------------------------------------\u001b[0m",
      "\u001b[1;31mZeroDivisionError\u001b[0m                         Traceback (most recent call last)",
      "Input \u001b[1;32mIn [2]\u001b[0m, in \u001b[0;36m<cell line: 11>\u001b[1;34m()\u001b[0m\n\u001b[0;32m      9\u001b[0m    \u001b[38;5;28msum\u001b[39m\u001b[38;5;241m=\u001b[39m\u001b[38;5;28msum\u001b[39m\u001b[38;5;241m+\u001b[39mm\n\u001b[0;32m     10\u001b[0m    m\u001b[38;5;241m=\u001b[39mm\u001b[38;5;241m+\u001b[39m\u001b[38;5;241m1\u001b[39m\n\u001b[1;32m---> 11\u001b[0m avg\u001b[38;5;241m=\u001b[39m{\u001b[43m(\u001b[49m\u001b[38;5;28;43msum\u001b[39;49m\u001b[43m)\u001b[49m\u001b[38;5;241;43m/\u001b[39;49m\u001b[43m(\u001b[49m\u001b[43mn\u001b[49m\u001b[38;5;241;43m-\u001b[39;49m\u001b[43mm\u001b[49m\u001b[38;5;241;43m+\u001b[39;49m\u001b[38;5;241;43m1\u001b[39;49m\u001b[43m)\u001b[49m}\n\u001b[0;32m     12\u001b[0m \u001b[38;5;28mprint\u001b[39m(\u001b[38;5;28msum\u001b[39m)\n\u001b[0;32m     13\u001b[0m \u001b[38;5;28mprint\u001b[39m(avg)\n",
      "\u001b[1;31mZeroDivisionError\u001b[0m: division by zero"
     ]
    }
   ],
   "source": [
    " #Sum and average of all natural numbers from m to n using while loop :\n",
    "\n",
    "m=int(input(\"Enter the value of m: \"))\n",
    "n=int(input(\"Enter the value of n: \"))\n",
    "\n",
    "sum=0\n",
    "avg=0\n",
    "while m<=n:\n",
    "    sum=sum+m\n",
    "    m=m+1\n",
    "avg={(sum)/(n-m+1)}\n",
    "print(sum)\n",
    "print(avg) "
   ]
  },
  {
   "cell_type": "code",
   "execution_count": 10,
   "id": "e38c5700",
   "metadata": {},
   "outputs": [
    {
     "name": "stdout",
     "output_type": "stream",
     "text": [
      "Enter the value of m: 1\n",
      "Enter the value of n: 4\n",
      "18\n"
     ]
    }
   ],
   "source": [
    "# Wap to find the sum of natural numbers from m to n, if odd multiply by 2 and if even add 2.\n",
    "m=int(input(\"Enter the value of m: \"))\n",
    "n=int(input(\"Enter the value of n: \"))\n",
    "sum=0\n",
    "for i in range(m,n+1,1):\n",
    "    if i%2==0:\n",
    "        sum=sum+(i+2)\n",
    "    else:\n",
    "        sum=sum+(i*2)\n",
    "        \n",
    "    i=i+1\n",
    "print(sum)\n",
    "    "
   ]
  },
  {
   "cell_type": "code",
   "execution_count": 1,
   "id": "10ec22df",
   "metadata": {},
   "outputs": [
    {
     "name": "stdout",
     "output_type": "stream",
     "text": [
      "[12, [22]]\n"
     ]
    }
   ],
   "source": [
    "l=[12]\n",
    "s=[22]\n",
    "l.append(s)\n",
    "print(l)"
   ]
  },
  {
   "cell_type": "code",
   "execution_count": null,
   "id": "c21bc13e",
   "metadata": {},
   "outputs": [],
   "source": []
  },
  {
   "cell_type": "code",
   "execution_count": null,
   "id": "bf465604",
   "metadata": {},
   "outputs": [],
   "source": []
  },
  {
   "cell_type": "code",
   "execution_count": null,
   "id": "57cf8aa8",
   "metadata": {},
   "outputs": [],
   "source": []
  },
  {
   "cell_type": "code",
   "execution_count": null,
   "id": "9411a91a",
   "metadata": {},
   "outputs": [],
   "source": []
  },
  {
   "cell_type": "code",
   "execution_count": null,
   "id": "fae79695",
   "metadata": {},
   "outputs": [],
   "source": []
  },
  {
   "cell_type": "code",
   "execution_count": null,
   "id": "424fbc2f",
   "metadata": {},
   "outputs": [],
   "source": []
  },
  {
   "cell_type": "code",
   "execution_count": null,
   "id": "5e13ca22",
   "metadata": {},
   "outputs": [],
   "source": []
  },
  {
   "cell_type": "code",
   "execution_count": null,
   "id": "3b0a4cd1",
   "metadata": {},
   "outputs": [],
   "source": []
  },
  {
   "cell_type": "code",
   "execution_count": null,
   "id": "8ddb88d8",
   "metadata": {},
   "outputs": [],
   "source": []
  },
  {
   "cell_type": "code",
   "execution_count": null,
   "id": "9c6c0b16",
   "metadata": {},
   "outputs": [],
   "source": []
  }
 ],
 "metadata": {
  "kernelspec": {
   "display_name": "Python 3 (ipykernel)",
   "language": "python",
   "name": "python3"
  },
  "language_info": {
   "codemirror_mode": {
    "name": "ipython",
    "version": 3
   },
   "file_extension": ".py",
   "mimetype": "text/x-python",
   "name": "python",
   "nbconvert_exporter": "python",
   "pygments_lexer": "ipython3",
   "version": "3.9.12"
  }
 },
 "nbformat": 4,
 "nbformat_minor": 5
}
