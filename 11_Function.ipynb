{
 "cells": [
  {
   "cell_type": "code",
   "execution_count": 2,
   "id": "f15145ba",
   "metadata": {},
   "outputs": [
    {
     "name": "stdout",
     "output_type": "stream",
     "text": [
      "addition is 12\n",
      "substraction is 8\n",
      "multipation is 20\n",
      "division is 5.0\n",
      "addition is 33\n",
      "substraction is 27\n",
      "multipation is 90\n",
      "division is 10.0\n",
      "addition is 47\n",
      "substraction is 37\n",
      "multipation is 210\n",
      "division is 8.4\n",
      "addition is 125\n",
      "substraction is 75\n",
      "multipation is 2500\n",
      "division is 4.0\n"
     ]
    }
   ],
   "source": [
    "a=10\n",
    "b=2\n",
    "add=a+b\n",
    "sub=a-b\n",
    "mul=a*b\n",
    "div=a/b\n",
    "print(f'addition is {add}')\n",
    "print(f'substraction is {sub}')\n",
    "print(f'multipation is {mul}')\n",
    "print(f'division is {div}')\n",
    "\n",
    "a=30\n",
    "\n",
    "\n",
    "\n",
    "b=3\n",
    "add=a+b\n",
    "sub=a-b\n",
    "mul=a*b\n",
    "div=a/b\n",
    "print(f'addition is {add}')\n",
    "print(f'substraction is {sub}')\n",
    "print(f'multipation is {mul}')\n",
    "print(f'division is {div}')\n",
    "\n",
    "a=42\n",
    "b=5\n",
    "add=a+b\n",
    "sub=a-b\n",
    "mul=a*b\n",
    "div=a/b\n",
    "print(f'addition is {add}')\n",
    "print(f'substraction is {sub}')\n",
    "print(f'multipation is {mul}')\n",
    "print(f'division is {div}')\n",
    "\n",
    "a=100\n",
    "b=25\n",
    "add=a+b\n",
    "sub=a-b\n",
    "mul=a*b\n",
    "div=a/b\n",
    "print(f'addition is {add}')\n",
    "print(f'substraction is {sub}')\n",
    "print(f'multipation is {mul}')\n",
    "print(f'division is {div}')"
   ]
  },
  {
   "cell_type": "code",
   "execution_count": 3,
   "id": "193a2648",
   "metadata": {},
   "outputs": [
    {
     "name": "stdout",
     "output_type": "stream",
     "text": [
      "addition is 12\n",
      "substraction is 8\n",
      "multipation is 20\n",
      "division is 5.0\n",
      "addition is 33\n",
      "substraction is 27\n",
      "multipation is 90\n",
      "division is 10.0\n",
      "addition is 50\n",
      "substraction is 40\n",
      "multipation is 225\n",
      "division is 9.0\n",
      "addition is 124\n",
      "substraction is 76\n",
      "multipation is 2400\n",
      "division is 4.166666666666667\n",
      "addition is 157\n",
      "substraction is 143\n",
      "multipation is 1050\n",
      "division is 21.428571428571427\n"
     ]
    }
   ],
   "source": [
    "def cal(a,b):\n",
    "    add=a+b\n",
    "    sub=a-b\n",
    "    mul=a*b\n",
    "    div=a/b\n",
    "    \n",
    "    print(f'addition is {add}')\n",
    "    print(f'substraction is {sub}')\n",
    "    print(f'multipation is {mul}')\n",
    "    print(f'division is {div}')\n",
    "\n",
    "cal(10,2)\n",
    "cal(30,3)\n",
    "cal(45,5)\n",
    "cal(100,24)\n",
    "cal(150,7)"
   ]
  },
  {
   "cell_type": "code",
   "execution_count": 4,
   "id": "3517c7ea",
   "metadata": {},
   "outputs": [
    {
     "name": "stdout",
     "output_type": "stream",
     "text": [
      "hello surendra good morning\n",
      "hello priyanka good morning\n",
      "hello rahul good morning\n",
      "hello zini good morning\n"
     ]
    }
   ],
   "source": [
    "# define a function which will wish you along with your name \n",
    "\n",
    "def wish(name):\n",
    "    '''this function is used to wish you along with uour name'''\n",
    "    print(f'hello {name} good morning')\n",
    "\n",
    "wish('surendra')\n",
    "wish('priyanka')\n",
    "wish('rahul')\n",
    "wish('zini')"
   ]
  },
  {
   "cell_type": "code",
   "execution_count": 5,
   "id": "866fa489",
   "metadata": {},
   "outputs": [
    {
     "name": "stdout",
     "output_type": "stream",
     "text": [
      "this function is used to wish you along with uour name\n"
     ]
    }
   ],
   "source": [
    "print(wish.__doc__)"
   ]
  },
  {
   "cell_type": "code",
   "execution_count": 3,
   "id": "8887370e",
   "metadata": {},
   "outputs": [],
   "source": [
    "# Function\n",
    "# Block of stats which perform specific task\n",
    "# Two Types:\n",
    "# 1. Build in (Created by python developers )  # 2.User defined (As per user requirement)"
   ]
  },
  {
   "cell_type": "code",
   "execution_count": 1,
   "id": "a8041f18",
   "metadata": {},
   "outputs": [
    {
     "name": "stdout",
     "output_type": "stream",
     "text": [
      "addition is 30\n",
      "addition is 75\n"
     ]
    }
   ],
   "source": [
    "# qn add two number using function\n",
    "def add(a,b):\n",
    "    '''this function will take 2 value and give you addition result'''\n",
    "    print(f'addition is {a+b}')\n",
    "    \n",
    "add(10,20)\n",
    "add(55,20)"
   ]
  },
  {
   "cell_type": "code",
   "execution_count": 2,
   "id": "ee9d8992",
   "metadata": {},
   "outputs": [
    {
     "name": "stdout",
     "output_type": "stream",
     "text": [
      "this function will take 2 value and give you addition result\n"
     ]
    }
   ],
   "source": [
    "print(add.__doc__)"
   ]
  },
  {
   "cell_type": "code",
   "execution_count": 8,
   "id": "3f76ce86",
   "metadata": {},
   "outputs": [
    {
     "ename": "TypeError",
     "evalue": "add() missing 1 required positional argument: 'b'",
     "output_type": "error",
     "traceback": [
      "\u001b[1;31m---------------------------------------------------------------------------\u001b[0m",
      "\u001b[1;31mTypeError\u001b[0m                                 Traceback (most recent call last)",
      "Input \u001b[1;32mIn [8]\u001b[0m, in \u001b[0;36m<cell line: 5>\u001b[1;34m()\u001b[0m\n\u001b[0;32m      2\u001b[0m     \u001b[38;5;124;03m'''this function will take 2 value and give you addition result'''\u001b[39;00m\n\u001b[0;32m      3\u001b[0m     \u001b[38;5;28mprint\u001b[39m(\u001b[38;5;124mf\u001b[39m\u001b[38;5;124m'\u001b[39m\u001b[38;5;124maddition is \u001b[39m\u001b[38;5;132;01m{\u001b[39;00ma\u001b[38;5;241m+\u001b[39mb\u001b[38;5;132;01m}\u001b[39;00m\u001b[38;5;124m'\u001b[39m)\n\u001b[1;32m----> 5\u001b[0m \u001b[43madd\u001b[49m\u001b[43m(\u001b[49m\u001b[38;5;241;43m10\u001b[39;49m\u001b[43m)\u001b[49m\n",
      "\u001b[1;31mTypeError\u001b[0m: add() missing 1 required positional argument: 'b'"
     ]
    }
   ],
   "source": [
    "def add(a,b):\n",
    "    '''this function will take 2 value and give you addition result'''\n",
    "    print(f'addition is {a+b}')\n",
    "\n",
    "add(10) #TypeError: add() missing 1 required positional argument: 'b'"
   ]
  },
  {
   "cell_type": "code",
   "execution_count": 10,
   "id": "9f72e752",
   "metadata": {},
   "outputs": [
    {
     "name": "stdout",
     "output_type": "stream",
     "text": [
      "number is even\n",
      "number is odd\n",
      "number is odd\n",
      "number is even\n"
     ]
    }
   ],
   "source": [
    "# define a function to check a number is even or odd\n",
    "\n",
    "def checkEvenOdd(num):\n",
    "    if num%2==0:\n",
    "        print('number is even')\n",
    "    else:\n",
    "        print('number is odd')\n",
    "        \n",
    "checkEvenOdd(10)\n",
    "checkEvenOdd(15)\n",
    "checkEvenOdd(23)\n",
    "checkEvenOdd(50)"
   ]
  },
  {
   "cell_type": "code",
   "execution_count": 1,
   "id": "f330802d",
   "metadata": {},
   "outputs": [
    {
     "name": "stdout",
     "output_type": "stream",
     "text": [
      "sry!! ur not eligible\n",
      "u r eligible \n",
      "sry!! ur not eligible\n",
      "u r eligible \n",
      "sry!! ur not eligible\n",
      "u r eligible \n"
     ]
    }
   ],
   "source": [
    "# define a function to check person is elible for donating blood or not\n",
    "\n",
    "def check(age,wgt):\n",
    "    if age>=18 and wgt>=40:\n",
    "         print('u r eligible ')\n",
    "    else:\n",
    "        print('sry!! ur not eligible')\n",
    "        \n",
    "check(15,63)\n",
    "check(41,62)\n",
    "check(15,65)\n",
    "check(56,62)\n",
    "check(12,75)\n",
    "check(41,62)"
   ]
  },
  {
   "cell_type": "code",
   "execution_count": 17,
   "id": "f56f93aa",
   "metadata": {},
   "outputs": [
    {
     "name": "stdout",
     "output_type": "stream",
     "text": [
      "Name : Priyanka Dash\n",
      "Total mark is 391\n",
      "avg mark is 65.16666666666667\n",
      "********************\n",
      "Name : Rahul Raj\n",
      "Total mark is 373\n",
      "avg mark is 62.166666666666664\n",
      "********************\n",
      "Name : Zini Paul\n",
      "Total mark is 464\n",
      "avg mark is 77.33333333333333\n",
      "********************\n"
     ]
    }
   ],
   "source": [
    "# define a function to find out total mark and avg mrk of student\n",
    "def findTotalAvg(name,p,c,m,b,i,o):\n",
    "    '''provide your name as first argumnet then follwed by 6 subject mark'''\n",
    "    totalmark=p+c+m+b+i+o\n",
    "    avgmark=(totalmark/6)\n",
    "    print(f'Name : {name}')\n",
    "    print(f'Total mark is {totalmark}')\n",
    "    print(f'avg mark is {avgmark}')\n",
    "    print('*'*20)\n",
    "    \n",
    "findTotalAvg('Priyanka Dash',60,78,89,27,63,74)\n",
    "findTotalAvg('Rahul Raj',42,78,89,27,63,74)\n",
    "findTotalAvg('Zini Paul',78,89,72,63,74,88)"
   ]
  },
  {
   "cell_type": "code",
   "execution_count": 14,
   "id": "b0054fd0",
   "metadata": {},
   "outputs": [
    {
     "name": "stdout",
     "output_type": "stream",
     "text": [
      "Name : Surendra Panda\n",
      "Total mark is 394\n",
      "avg mark is 65.66666666666667\n",
      "********************\n"
     ]
    }
   ],
   "source": [
    "findTotalAvg('Surendra Panda',45,65,75,45,75,89)"
   ]
  },
  {
   "cell_type": "code",
   "execution_count": 15,
   "id": "110da621",
   "metadata": {},
   "outputs": [
    {
     "name": "stdout",
     "output_type": "stream",
     "text": [
      "provide your name as first argumnet then follwed by 6 subject mark\n"
     ]
    }
   ],
   "source": [
    "print(findTotalAvg.__doc__)"
   ]
  },
  {
   "cell_type": "code",
   "execution_count": 16,
   "id": "88ebd6ee",
   "metadata": {},
   "outputs": [
    {
     "name": "stdout",
     "output_type": "stream",
     "text": [
      "Name : Scoot\n",
      "Total mark is 417\n",
      "avg mark is 69.5\n",
      "********************\n"
     ]
    }
   ],
   "source": [
    "findTotalAvg('Scoot',78,89,67,54,49,80)"
   ]
  },
  {
   "cell_type": "code",
   "execution_count": 18,
   "id": "e4499b0d",
   "metadata": {},
   "outputs": [
    {
     "name": "stdout",
     "output_type": "stream",
     "text": [
      "**********\n",
      "*********************************************\n",
      "***********************\n"
     ]
    }
   ],
   "source": [
    "# qn : define a function that will print * based on input \n",
    "\n",
    "def printStar(num):\n",
    "    print('*'*num)\n",
    "    \n",
    "printStar(10)\n",
    "printStar(45)\n",
    "printStar(23)"
   ]
  },
  {
   "cell_type": "code",
   "execution_count": 19,
   "id": "a1a9b746",
   "metadata": {},
   "outputs": [
    {
     "name": "stdout",
     "output_type": "stream",
     "text": [
      "10\n",
      "11\n",
      "12\n",
      "13\n",
      "14\n",
      "15\n",
      "16\n",
      "17\n",
      "18\n",
      "19\n",
      "20\n"
     ]
    }
   ],
   "source": [
    "# print m to n using function\n",
    "def printMtoN(m,n):\n",
    "    for i in range(m,n+1):\n",
    "        print(i)\n",
    "        \n",
    "printMtoN(10,20)"
   ]
  },
  {
   "cell_type": "code",
   "execution_count": 23,
   "id": "2a0acafa",
   "metadata": {},
   "outputs": [
    {
     "name": "stdout",
     "output_type": "stream",
     "text": [
      "12\n",
      "13\n",
      "14\n",
      "15\n",
      "16\n",
      "17\n",
      "18\n"
     ]
    }
   ],
   "source": [
    "# Using while Loop:\n",
    "\n",
    "def printMtoN(m,n):\n",
    "    while m<=n:\n",
    "        print(m)  \n",
    "        m=m+1\n",
    "        \n",
    "printMtoN(12,18)     "
   ]
  },
  {
   "cell_type": "code",
   "execution_count": 7,
   "id": "062d6af4",
   "metadata": {},
   "outputs": [
    {
     "name": "stdout",
     "output_type": "stream",
     "text": [
      "sum is 9\n",
      "sum is 15\n",
      "sum is 49\n"
     ]
    }
   ],
   "source": [
    "# define a function to find out sum of numbers in between m to n.\n",
    "\n",
    "def sumMtoN(m,n):\n",
    "    sum=0\n",
    "    for i in range(m,n+1):\n",
    "        sum=sum+i\n",
    "        i=i+1\n",
    "    print(f'sum is {sum}')\n",
    "\n",
    "sumMtoN(2,4)\n",
    "sumMtoN(1,5)\n",
    "sumMtoN(4,10)"
   ]
  },
  {
   "cell_type": "code",
   "execution_count": 20,
   "id": "f27e6dfc",
   "metadata": {},
   "outputs": [
    {
     "name": "stdout",
     "output_type": "stream",
     "text": [
      "10\n",
      "12\n",
      "14\n",
      "16\n",
      "18\n",
      "20\n",
      "16\n",
      "18\n",
      "20\n",
      "22\n",
      "24\n",
      "26\n",
      "28\n"
     ]
    }
   ],
   "source": [
    "#define a function to print all even number in between m to n.\n",
    "\n",
    "def evenMtoN(m,n):\n",
    "    for i in range(m,n+1):\n",
    "        if i%2==0:\n",
    "            print(i)\n",
    "evenMtoN(10,20)\n",
    "evenMtoN(15,29)"
   ]
  },
  {
   "cell_type": "code",
   "execution_count": 10,
   "id": "6f73c7ee",
   "metadata": {},
   "outputs": [
    {
     "name": "stdout",
     "output_type": "stream",
     "text": [
      "S\n",
      "u\n",
      "r\n",
      "e\n",
      "n\n",
      "d\n",
      "r\n",
      "a\n"
     ]
    }
   ],
   "source": [
    "name='Surendra'\n",
    "for i in name:\n",
    "    print(i)"
   ]
  },
  {
   "cell_type": "code",
   "execution_count": 3,
   "id": "3240919e",
   "metadata": {},
   "outputs": [
    {
     "name": "stdout",
     "output_type": "stream",
     "text": [
      "S\n",
      "u\n",
      "r\n",
      "e\n",
      "n\n",
      "d\n",
      "r\n",
      "a\n"
     ]
    }
   ],
   "source": [
    "# define a function collect a name from the user print like:\n",
    "\n",
    "def collect(name):\n",
    "    for i in name:\n",
    "        print(i)\n",
    "collect('Surendra')        "
   ]
  },
  {
   "cell_type": "code",
   "execution_count": 17,
   "id": "190eb1d8",
   "metadata": {},
   "outputs": [
    {
     "name": "stdout",
     "output_type": "stream",
     "text": [
      "area is 50.24\n",
      "area is 153.86\n"
     ]
    }
   ],
   "source": [
    "# define a function to find out area of circle :\n",
    "\n",
    "def area(pie,r):\n",
    "    area=3.14*r*r\n",
    "    print(f'area is {area}')\n",
    "    \n",
    "area(3.14,4)\n",
    "area(3.14,7)"
   ]
  },
  {
   "cell_type": "code",
   "execution_count": 6,
   "id": "6c716440",
   "metadata": {},
   "outputs": [
    {
     "name": "stdout",
     "output_type": "stream",
     "text": [
      "Enter start value: 4\n",
      "Enter stop value: 12\n",
      "Enter brea value8\n",
      "4\n",
      "5\n",
      "6\n",
      "7\n"
     ]
    }
   ],
   "source": [
    "# define a function to collect start and stop value from the user then stop print at the middle.\n",
    "\n",
    "i=int(input('Enter start value: '))\n",
    "j=int(input(\"Enter stop value: \"))\n",
    "k=int(input('Enter brea value'))\n",
    "\n",
    "def startstopbreak(i,j,k):\n",
    "    for i in range(i,j):\n",
    "        if i==k:\n",
    "            break\n",
    "        print(i)\n",
    "\n",
    "startstopbreak(i,j,k)\n",
    "            \n",
    "            "
   ]
  },
  {
   "cell_type": "code",
   "execution_count": 4,
   "id": "a2528f2b",
   "metadata": {},
   "outputs": [
    {
     "name": "stdout",
     "output_type": "stream",
     "text": [
      "Enter Your Name: Ankit\n",
      "A\n",
      "n\n",
      "k\n",
      "i\n",
      "t\n"
     ]
    }
   ],
   "source": [
    "# define a function collect a name from the user print like:\n",
    "\n",
    "def collect(name):\n",
    "    for i in name:\n",
    "        print(i)\n",
    "\n",
    "n=input('Enter Your Name: ')\n",
    "collect(n)"
   ]
  },
  {
   "cell_type": "markdown",
   "id": "78a04a1b",
   "metadata": {},
   "source": [
    "# #Does python support call by value , call by reference or call by object refernce:"
   ]
  },
  {
   "cell_type": "code",
   "execution_count": 7,
   "id": "0ebeee3f",
   "metadata": {},
   "outputs": [
    {
     "name": "stdout",
     "output_type": "stream",
     "text": [
      "10\n"
     ]
    }
   ],
   "source": [
    "def fun(a):\n",
    "    print(a)\n",
    "a=10\n",
    "fun(a)"
   ]
  },
  {
   "cell_type": "code",
   "execution_count": 8,
   "id": "812d145e",
   "metadata": {},
   "outputs": [
    {
     "name": "stdout",
     "output_type": "stream",
     "text": [
      "1957911882320\n",
      "1957911882320\n",
      "10\n",
      "1957911882640\n",
      "20\n",
      "1957911882320\n",
      "10\n"
     ]
    }
   ],
   "source": [
    "#Call by value:\n",
    "#if we make any changes on the called function , it will not reflect on the outside.\n",
    "\n",
    "def fun(a):\n",
    "    print(id(a))\n",
    "    print(a)\n",
    "    a=20\n",
    "    print(id(a))\n",
    "    print(a)\n",
    "    \n",
    "a=10\n",
    "print(id(a))\n",
    "fun(a)\n",
    "print(id(a))\n",
    "print(a)"
   ]
  },
  {
   "cell_type": "code",
   "execution_count": 9,
   "id": "07c4452a",
   "metadata": {},
   "outputs": [
    {
     "name": "stdout",
     "output_type": "stream",
     "text": [
      "Outside function- 23\n",
      "Inside function- 23\n",
      "1957911882736\n",
      "Inside the function after assigning new value to a- 100\n",
      "1957912073680\n",
      "Outside function- 23\n",
      "1957911882736\n"
     ]
    }
   ],
   "source": [
    "def fun(a):\n",
    "    print(\"Inside function-\",a)\n",
    "    print(id(a))\n",
    "    a=100\n",
    "    print(\"Inside the function after assigning new value to a-\",a)\n",
    "    print(id(a))\n",
    "\n",
    "a=23\n",
    "print(\"Outside function-\",a)\n",
    "fun(a)\n",
    "print('Outside function-',a)\n",
    "print(id(a))"
   ]
  },
  {
   "cell_type": "code",
   "execution_count": 1,
   "id": "6094eccc",
   "metadata": {},
   "outputs": [
    {
     "name": "stdout",
     "output_type": "stream",
     "text": [
      "1820738585792\n",
      "1820738585792\n",
      "[23, 33, 43, 53]\n",
      "1820738585792\n",
      "[23, 33, 43, 53, 63]\n",
      "1820738585792\n",
      "[23, 33, 43, 53, 63]\n"
     ]
    }
   ],
   "source": [
    "#Call By Reference:\n",
    "#If we make any changes on the called function then it will reflect outside.\n",
    "\n",
    "def fun(l):\n",
    "    print(id(l))\n",
    "    print(l)\n",
    "    l.append(63)\n",
    "    print(id(l))\n",
    "    print(l)\n",
    "    \n",
    "l=[23,33,43,53]\n",
    "print(id(l))\n",
    "fun(l)\n",
    "print(id(l))\n",
    "print(l)"
   ]
  },
  {
   "cell_type": "code",
   "execution_count": 2,
   "id": "282419be",
   "metadata": {},
   "outputs": [
    {
     "name": "stdout",
     "output_type": "stream",
     "text": [
      "1820738447136\n",
      "1820738447136\n",
      "(23, 33, 43, 53)\n",
      "1820738447136\n",
      "(23, 33, 43, 53)\n"
     ]
    }
   ],
   "source": [
    "#Pass Immutable Object:\n",
    "\n",
    "def fun(l):\n",
    "    print(id(l))\n",
    "    print(l)\n",
    "    del l\n",
    "    \n",
    "l=(23,33,43,53)\n",
    "print(id(l))\n",
    "fun(l)\n",
    "print(id(l))\n",
    "print(l)"
   ]
  },
  {
   "cell_type": "code",
   "execution_count": 3,
   "id": "4559a863",
   "metadata": {},
   "outputs": [
    {
     "name": "stdout",
     "output_type": "stream",
     "text": [
      "Outside function-  [23, 33, 43]\n",
      "Outside function-  1820738586688\n",
      "Inside function- [23, 33, 43]\n",
      "Inside function-  1820738586688\n",
      "Inside function-  [23, 33, 43, 1000]\n",
      "Inside function-  1820738586688\n",
      "Outside function-  [23, 33, 43, 1000]\n",
      "Outside function-  1820738586688\n"
     ]
    }
   ],
   "source": [
    "def fun(l):\n",
    "    print('Inside function-',l)\n",
    "    print('Inside function- ',id(l))\n",
    "    l.append(1000)\n",
    "    print('Inside function- ',l)\n",
    "    print('Inside function- ',id(l))\n",
    "    \n",
    "l=[23,33,43]\n",
    "print('Outside function- ',l)\n",
    "print('Outside function- ',id(l))\n",
    "fun(l)\n",
    "print('Outside function- ',l)\n",
    "print(\"Outside function- \",id(l))\n"
   ]
  },
  {
   "cell_type": "markdown",
   "id": "4ced83c8",
   "metadata": {},
   "source": [
    "# Return Statement"
   ]
  },
  {
   "cell_type": "code",
   "execution_count": 5,
   "id": "1c57a9ae",
   "metadata": {},
   "outputs": [
    {
     "name": "stdout",
     "output_type": "stream",
     "text": [
      "10\n"
     ]
    }
   ],
   "source": [
    "def fun(a):\n",
    "    print(a)\n",
    "fun(10)    "
   ]
  },
  {
   "cell_type": "code",
   "execution_count": 7,
   "id": "1360ad2b",
   "metadata": {},
   "outputs": [
    {
     "name": "stdout",
     "output_type": "stream",
     "text": [
      "10\n",
      "None\n"
     ]
    }
   ],
   "source": [
    "def fun(a):\n",
    "    print(a)  #Returning nothing so none\n",
    "    \n",
    "print(fun(10))    "
   ]
  },
  {
   "cell_type": "code",
   "execution_count": 8,
   "id": "111da93b",
   "metadata": {},
   "outputs": [
    {
     "name": "stdout",
     "output_type": "stream",
     "text": [
      "10\n",
      "10\n"
     ]
    }
   ],
   "source": [
    "def fun(a):\n",
    "    print(a)\n",
    "    return a\n",
    "\n",
    "print(fun(10))"
   ]
  },
  {
   "cell_type": "code",
   "execution_count": 9,
   "id": "db2eac16",
   "metadata": {},
   "outputs": [
    {
     "name": "stdout",
     "output_type": "stream",
     "text": [
      "10\n",
      "100\n"
     ]
    }
   ],
   "source": [
    "def fun(a):\n",
    "    print(a)\n",
    "    return a*a\n",
    "\n",
    "print(fun(10))"
   ]
  },
  {
   "cell_type": "code",
   "execution_count": 10,
   "id": "7db01ef6",
   "metadata": {},
   "outputs": [
    {
     "name": "stdout",
     "output_type": "stream",
     "text": [
      "10\n",
      "hello\n"
     ]
    }
   ],
   "source": [
    "def fun(a):\n",
    "    print(a)\n",
    "    return 'hello'\n",
    "\n",
    "print(fun(10))"
   ]
  },
  {
   "cell_type": "code",
   "execution_count": 11,
   "id": "10c9177e",
   "metadata": {},
   "outputs": [
    {
     "name": "stdout",
     "output_type": "stream",
     "text": [
      "10\n",
      "Successfully Executed\n"
     ]
    }
   ],
   "source": [
    "def fun(a):\n",
    "    print(a)\n",
    "    return 'Successfully Executed'\n",
    "\n",
    "print(fun(10))"
   ]
  },
  {
   "cell_type": "code",
   "execution_count": 12,
   "id": "627c7ad1",
   "metadata": {},
   "outputs": [
    {
     "name": "stdout",
     "output_type": "stream",
     "text": [
      "10\n",
      "None\n"
     ]
    }
   ],
   "source": [
    "def fun(a):\n",
    "    print(a)\n",
    "    return None\n",
    "print(fun(10))"
   ]
  },
  {
   "cell_type": "code",
   "execution_count": 13,
   "id": "0448bd14",
   "metadata": {},
   "outputs": [
    {
     "name": "stdout",
     "output_type": "stream",
     "text": [
      "12\n",
      "True\n"
     ]
    }
   ],
   "source": [
    "def fun(a):\n",
    "    print(a)\n",
    "    return True\n",
    "print(fun(12))"
   ]
  },
  {
   "cell_type": "code",
   "execution_count": 14,
   "id": "6b052bfb",
   "metadata": {},
   "outputs": [
    {
     "name": "stdout",
     "output_type": "stream",
     "text": [
      "60\n"
     ]
    }
   ],
   "source": [
    "# qn: define a fun which will take 3 int as a parameter and add all then return the result.\n",
    "\n",
    "def add(a,b,c):\n",
    "    result=a+b+c\n",
    "    return result\n",
    "print(add(10,20,30))"
   ]
  },
  {
   "cell_type": "code",
   "execution_count": 16,
   "id": "3b892c12",
   "metadata": {},
   "outputs": [
    {
     "name": "stdout",
     "output_type": "stream",
     "text": [
      "60\n"
     ]
    }
   ],
   "source": [
    "def add(a,b,c):\n",
    "    result=a+b+c\n",
    "    return result\n",
    "\n",
    "x=add(10,20,30)\n",
    "print(x)"
   ]
  },
  {
   "cell_type": "code",
   "execution_count": 19,
   "id": "3c2e7e0a",
   "metadata": {},
   "outputs": [
    {
     "name": "stdout",
     "output_type": "stream",
     "text": [
      "Surendra\n",
      "10\n"
     ]
    }
   ],
   "source": [
    "#Return statement is to be written at the end: Once return statement is passed then execution of the called function will stop.\n",
    "\n",
    "def fun():\n",
    "    print('Surendra')\n",
    "    return 10\n",
    "    print('Priyanka')\n",
    "\n",
    "print(fun())    "
   ]
  },
  {
   "cell_type": "code",
   "execution_count": 20,
   "id": "f4773020",
   "metadata": {},
   "outputs": [
    {
     "name": "stdout",
     "output_type": "stream",
     "text": [
      "Surendra\n",
      "Priyanka\n",
      "10\n"
     ]
    }
   ],
   "source": [
    "def fun():\n",
    "    print('Surendra')\n",
    "    print('Priyanka')\n",
    "    return 10\n",
    "print(fun())"
   ]
  },
  {
   "cell_type": "code",
   "execution_count": 21,
   "id": "f0b6ece8",
   "metadata": {},
   "outputs": [
    {
     "name": "stdout",
     "output_type": "stream",
     "text": [
      "(10, 20, 30)\n"
     ]
    }
   ],
   "source": [
    "# Function return multiple value:\n",
    "\n",
    "def fun(a,b,c):\n",
    "    return a,b,c\n",
    "print(fun(10,20,30))"
   ]
  },
  {
   "cell_type": "code",
   "execution_count": 23,
   "id": "906d6201",
   "metadata": {},
   "outputs": [
    {
     "name": "stdout",
     "output_type": "stream",
     "text": [
      "(10, 40, 90)\n",
      "<class 'tuple'>\n"
     ]
    }
   ],
   "source": [
    "def fun(a,b,c):\n",
    "    return a,b,c\n",
    "t=fun(10,40,90)\n",
    "print(t)\n",
    "print(type(t))"
   ]
  },
  {
   "cell_type": "code",
   "execution_count": 30,
   "id": "ee0799e2",
   "metadata": {},
   "outputs": [
    {
     "name": "stdout",
     "output_type": "stream",
     "text": [
      "[23, 33, 43, 53]\n",
      "23\n",
      "33\n",
      "43\n",
      "53\n"
     ]
    }
   ],
   "source": [
    "# Q1: Define a function which will return a list:\n",
    "\n",
    "def fun():\n",
    "    l=[23,33,43,53]\n",
    "    return l\n",
    "a=fun()\n",
    "print(a)\n",
    "for i in a:   #extra part\n",
    "    print(i)"
   ]
  },
  {
   "cell_type": "code",
   "execution_count": 4,
   "id": "af3c0133",
   "metadata": {
    "scrolled": true
   },
   "outputs": [
    {
     "name": "stdout",
     "output_type": "stream",
     "text": [
      "[12, 22, 32, 42, 52, 62]\n",
      "62\n"
     ]
    }
   ],
   "source": [
    "# Q2: Define a function which will take list as an input then return the largest number from the list.\n",
    "\n",
    "def fun():\n",
    "    l=[12,22,32,42,52,62]\n",
    "    print(l)  #extra\n",
    "    return max(l)\n",
    "    \n",
    "print(fun())\n"
   ]
  },
  {
   "cell_type": "code",
   "execution_count": 1,
   "id": "1de3b584",
   "metadata": {},
   "outputs": [
    {
     "name": "stdout",
     "output_type": "stream",
     "text": [
      "62\n"
     ]
    }
   ],
   "source": [
    "def fun():\n",
    "    l=[12,22,32,42,52,62]\n",
    "    max=l[0]\n",
    "    for i in l:\n",
    "        if i>max:\n",
    "            max=i\n",
    "    return i\n",
    "print(fun())"
   ]
  },
  {
   "cell_type": "code",
   "execution_count": 40,
   "id": "94a9884a",
   "metadata": {},
   "outputs": [
    {
     "name": "stdout",
     "output_type": "stream",
     "text": [
      "62\n"
     ]
    }
   ],
   "source": [
    "l=[12,22,32,42,52,62]\n",
    "max=l[0]\n",
    "for i in l:\n",
    "    if i>max:    # For self revision\n",
    "        max=i\n",
    "print(i)\n",
    "    \n"
   ]
  },
  {
   "cell_type": "code",
   "execution_count": 2,
   "id": "85bac2e6",
   "metadata": {},
   "outputs": [
    {
     "name": "stdout",
     "output_type": "stream",
     "text": [
      "Hi\n"
     ]
    }
   ],
   "source": [
    "# Q3: Define a function which will take list as an argument return maximum value from the list,\n",
    "# if the maximum value is greater than 100 then print hello or else print hi.\n",
    "\n",
    "def fun():\n",
    "    l=[12,22,32,42,52,62]\n",
    "    return max(l)\n",
    "\n",
    "    \n",
    "fun()\n",
    "if fun()>100:\n",
    "    print('Hello')\n",
    "else:\n",
    "    print('Hi')\n",
    "    "
   ]
  },
  {
   "cell_type": "code",
   "execution_count": 10,
   "id": "cb6d095b",
   "metadata": {},
   "outputs": [
    {
     "name": "stdout",
     "output_type": "stream",
     "text": [
      "112\n",
      "Hello\n"
     ]
    }
   ],
   "source": [
    "def fun():\n",
    "    l=[12,22,32,42,52,62,90,112]\n",
    "    return max(l)\n",
    "    \n",
    "print(fun())\n",
    "if fun()>100:\n",
    "    print('Hello')\n",
    "else:\n",
    "    print('Hi')\n",
    "    "
   ]
  },
  {
   "cell_type": "code",
   "execution_count": 52,
   "id": "0e7623aa",
   "metadata": {},
   "outputs": [
    {
     "name": "stdout",
     "output_type": "stream",
     "text": [
      "190\n"
     ]
    }
   ],
   "source": [
    "# Q4: Define a function which will take number as an argument , then check the number is even or odd \n",
    "# if the number is even then return that number if the number is odd then return the number*10.\n",
    "\n",
    "def fun(a):\n",
    "    if a%2==0:\n",
    "        return a\n",
    "    else:\n",
    "        return a*10\n",
    "a=19\n",
    "print(fun(a))"
   ]
  },
  {
   "cell_type": "code",
   "execution_count": 53,
   "id": "60a3d867",
   "metadata": {},
   "outputs": [
    {
     "name": "stdout",
     "output_type": "stream",
     "text": [
      "10\n"
     ]
    }
   ],
   "source": [
    "def fun(a):\n",
    "    if a%2==0:\n",
    "        return a\n",
    "    else:\n",
    "        return a*10\n",
    "a=10\n",
    "print(fun(a))"
   ]
  },
  {
   "cell_type": "code",
   "execution_count": 1,
   "id": "4be024d5",
   "metadata": {},
   "outputs": [],
   "source": [
    "# Q5: Define a function which will take your name as an input then , print in reverse order inside the function then \n",
    "# then return last three characters from the name;\n",
    "\n",
    " "
   ]
  },
  {
   "cell_type": "markdown",
   "id": "4a9eea44",
   "metadata": {},
   "source": [
    "# Types Of Actual Arguments:"
   ]
  },
  {
   "cell_type": "code",
   "execution_count": 3,
   "id": "ba79cc3f",
   "metadata": {},
   "outputs": [
    {
     "name": "stdout",
     "output_type": "stream",
     "text": [
      "47\n",
      "41\n",
      "37\n"
     ]
    }
   ],
   "source": [
    "# Positional Arguments:\n",
    "# At the time of calling we will pass these arguments in correct positional order.\n",
    "\n",
    "def cal(a,b,c):\n",
    "    print(a+b*c)\n",
    "cal(5,6,7)\n",
    "cal(6,5,7)\n",
    "cal(7,6,5)"
   ]
  },
  {
   "cell_type": "code",
   "execution_count": 2,
   "id": "64a62d5b",
   "metadata": {},
   "outputs": [
    {
     "ename": "TypeError",
     "evalue": "fun() missing 1 required positional argument: 'c'",
     "output_type": "error",
     "traceback": [
      "\u001b[1;31m---------------------------------------------------------------------------\u001b[0m",
      "\u001b[1;31mTypeError\u001b[0m                                 Traceback (most recent call last)",
      "Input \u001b[1;32mIn [2]\u001b[0m, in \u001b[0;36m<cell line: 3>\u001b[1;34m()\u001b[0m\n\u001b[0;32m      1\u001b[0m \u001b[38;5;28;01mdef\u001b[39;00m \u001b[38;5;21mfun\u001b[39m(a,b,c):\n\u001b[0;32m      2\u001b[0m     \u001b[38;5;28mprint\u001b[39m(a,b,c)\n\u001b[1;32m----> 3\u001b[0m \u001b[43mfun\u001b[49m\u001b[43m(\u001b[49m\u001b[38;5;241;43m10\u001b[39;49m\u001b[43m,\u001b[49m\u001b[38;5;241;43m20\u001b[39;49m\u001b[43m)\u001b[49m\n\u001b[0;32m      4\u001b[0m fun(\u001b[38;5;241m10\u001b[39m)\n\u001b[0;32m      5\u001b[0m fun([\u001b[38;5;241m10\u001b[39m,\u001b[38;5;241m20\u001b[39m,\u001b[38;5;241m30\u001b[39m])\n",
      "\u001b[1;31mTypeError\u001b[0m: fun() missing 1 required positional argument: 'c'"
     ]
    }
   ],
   "source": [
    "def fun(a,b,c):\n",
    "    print(a,b,c)\n",
    "fun(10,20)\n",
    "\n"
   ]
  },
  {
   "cell_type": "code",
   "execution_count": 4,
   "id": "d47eb558",
   "metadata": {},
   "outputs": [
    {
     "ename": "TypeError",
     "evalue": "fun() missing 2 required positional arguments: 'b' and 'c'",
     "output_type": "error",
     "traceback": [
      "\u001b[1;31m---------------------------------------------------------------------------\u001b[0m",
      "\u001b[1;31mTypeError\u001b[0m                                 Traceback (most recent call last)",
      "Input \u001b[1;32mIn [4]\u001b[0m, in \u001b[0;36m<cell line: 1>\u001b[1;34m()\u001b[0m\n\u001b[1;32m----> 1\u001b[0m \u001b[43mfun\u001b[49m\u001b[43m(\u001b[49m\u001b[38;5;241;43m10\u001b[39;49m\u001b[43m)\u001b[49m\n",
      "\u001b[1;31mTypeError\u001b[0m: fun() missing 2 required positional arguments: 'b' and 'c'"
     ]
    }
   ],
   "source": [
    "fun(10)"
   ]
  },
  {
   "cell_type": "code",
   "execution_count": 5,
   "id": "d80ca128",
   "metadata": {},
   "outputs": [
    {
     "ename": "TypeError",
     "evalue": "fun() missing 2 required positional arguments: 'b' and 'c'",
     "output_type": "error",
     "traceback": [
      "\u001b[1;31m---------------------------------------------------------------------------\u001b[0m",
      "\u001b[1;31mTypeError\u001b[0m                                 Traceback (most recent call last)",
      "Input \u001b[1;32mIn [5]\u001b[0m, in \u001b[0;36m<cell line: 1>\u001b[1;34m()\u001b[0m\n\u001b[1;32m----> 1\u001b[0m \u001b[43mfun\u001b[49m\u001b[43m(\u001b[49m\u001b[43m[\u001b[49m\u001b[38;5;241;43m10\u001b[39;49m\u001b[43m,\u001b[49m\u001b[38;5;241;43m20\u001b[39;49m\u001b[43m,\u001b[49m\u001b[38;5;241;43m30\u001b[39;49m\u001b[43m]\u001b[49m\u001b[43m)\u001b[49m\n",
      "\u001b[1;31mTypeError\u001b[0m: fun() missing 2 required positional arguments: 'b' and 'c'"
     ]
    }
   ],
   "source": [
    "fun([10,20,30])"
   ]
  },
  {
   "cell_type": "code",
   "execution_count": 7,
   "id": "95e92fdd",
   "metadata": {},
   "outputs": [
    {
     "name": "stdout",
     "output_type": "stream",
     "text": [
      "Hello Python!How are You?\n"
     ]
    },
    {
     "ename": "TypeError",
     "evalue": "fun() takes 0 positional arguments but 1 was given",
     "output_type": "error",
     "traceback": [
      "\u001b[1;31m---------------------------------------------------------------------------\u001b[0m",
      "\u001b[1;31mTypeError\u001b[0m                                 Traceback (most recent call last)",
      "Input \u001b[1;32mIn [7]\u001b[0m, in \u001b[0;36m<cell line: 4>\u001b[1;34m()\u001b[0m\n\u001b[0;32m      2\u001b[0m     \u001b[38;5;28mprint\u001b[39m(\u001b[38;5;124m\"\u001b[39m\u001b[38;5;124mHello Python!How are You?\u001b[39m\u001b[38;5;124m\"\u001b[39m)\n\u001b[0;32m      3\u001b[0m fun()\n\u001b[1;32m----> 4\u001b[0m \u001b[43mfun\u001b[49m\u001b[43m(\u001b[49m\u001b[38;5;241;43m10\u001b[39;49m\u001b[43m)\u001b[49m\n",
      "\u001b[1;31mTypeError\u001b[0m: fun() takes 0 positional arguments but 1 was given"
     ]
    }
   ],
   "source": [
    "def fun():\n",
    "    print(\"Hello Python!How are You?\")\n",
    "fun()\n",
    "fun(10)"
   ]
  },
  {
   "cell_type": "code",
   "execution_count": 8,
   "id": "e827527f",
   "metadata": {},
   "outputs": [
    {
     "ename": "TypeError",
     "evalue": "fun() takes 0 positional arguments but 2 were given",
     "output_type": "error",
     "traceback": [
      "\u001b[1;31m---------------------------------------------------------------------------\u001b[0m",
      "\u001b[1;31mTypeError\u001b[0m                                 Traceback (most recent call last)",
      "Input \u001b[1;32mIn [8]\u001b[0m, in \u001b[0;36m<cell line: 1>\u001b[1;34m()\u001b[0m\n\u001b[1;32m----> 1\u001b[0m \u001b[43mfun\u001b[49m\u001b[43m(\u001b[49m\u001b[38;5;241;43m10\u001b[39;49m\u001b[43m,\u001b[49m\u001b[38;5;241;43m20\u001b[39;49m\u001b[43m)\u001b[49m\n",
      "\u001b[1;31mTypeError\u001b[0m: fun() takes 0 positional arguments but 2 were given"
     ]
    }
   ],
   "source": [
    "fun(10,20)"
   ]
  },
  {
   "cell_type": "code",
   "execution_count": 12,
   "id": "92542764",
   "metadata": {},
   "outputs": [
    {
     "name": "stdout",
     "output_type": "stream",
     "text": [
      "70\n",
      "50\n"
     ]
    },
    {
     "ename": "TypeError",
     "evalue": "fun() missing 1 required positional argument: 'c'",
     "output_type": "error",
     "traceback": [
      "\u001b[1;31m---------------------------------------------------------------------------\u001b[0m",
      "\u001b[1;31mTypeError\u001b[0m                                 Traceback (most recent call last)",
      "Input \u001b[1;32mIn [12]\u001b[0m, in \u001b[0;36m<cell line: 6>\u001b[1;34m()\u001b[0m\n\u001b[0;32m      4\u001b[0m fun(\u001b[38;5;241m10\u001b[39m,\u001b[38;5;241m20\u001b[39m,\u001b[38;5;241m3\u001b[39m)\n\u001b[0;32m      5\u001b[0m fun(\u001b[38;5;241m20\u001b[39m,\u001b[38;5;241m10\u001b[39m,\u001b[38;5;241m3\u001b[39m)\n\u001b[1;32m----> 6\u001b[0m \u001b[43mfun\u001b[49m\u001b[43m(\u001b[49m\u001b[38;5;241;43m20\u001b[39;49m\u001b[43m,\u001b[49m\u001b[38;5;241;43m10\u001b[39;49m\u001b[43m)\u001b[49m\n",
      "\u001b[1;31mTypeError\u001b[0m: fun() missing 1 required positional argument: 'c'"
     ]
    }
   ],
   "source": [
    "def fun(a,b,c):\n",
    "    print(a+b*c)\n",
    "\n",
    "fun(10,20,3)\n",
    "fun(20,10,3)\n",
    "fun(20,10)"
   ]
  },
  {
   "cell_type": "code",
   "execution_count": 13,
   "id": "b9c4533c",
   "metadata": {},
   "outputs": [
    {
     "ename": "TypeError",
     "evalue": "fun() missing 2 required positional arguments: 'b' and 'c'",
     "output_type": "error",
     "traceback": [
      "\u001b[1;31m---------------------------------------------------------------------------\u001b[0m",
      "\u001b[1;31mTypeError\u001b[0m                                 Traceback (most recent call last)",
      "Input \u001b[1;32mIn [13]\u001b[0m, in \u001b[0;36m<cell line: 1>\u001b[1;34m()\u001b[0m\n\u001b[1;32m----> 1\u001b[0m \u001b[43mfun\u001b[49m\u001b[43m(\u001b[49m\u001b[38;5;241;43m20\u001b[39;49m\u001b[43m)\u001b[49m\n",
      "\u001b[1;31mTypeError\u001b[0m: fun() missing 2 required positional arguments: 'b' and 'c'"
     ]
    }
   ],
   "source": [
    "fun(20)"
   ]
  },
  {
   "cell_type": "code",
   "execution_count": 14,
   "id": "2fdf7be9",
   "metadata": {},
   "outputs": [
    {
     "name": "stdout",
     "output_type": "stream",
     "text": [
      "Hello Python\n"
     ]
    },
    {
     "ename": "TypeError",
     "evalue": "fun() takes 0 positional arguments but 1 was given",
     "output_type": "error",
     "traceback": [
      "\u001b[1;31m---------------------------------------------------------------------------\u001b[0m",
      "\u001b[1;31mTypeError\u001b[0m                                 Traceback (most recent call last)",
      "Input \u001b[1;32mIn [14]\u001b[0m, in \u001b[0;36m<cell line: 5>\u001b[1;34m()\u001b[0m\n\u001b[0;32m      2\u001b[0m     \u001b[38;5;28mprint\u001b[39m(\u001b[38;5;124m\"\u001b[39m\u001b[38;5;124mHello Python\u001b[39m\u001b[38;5;124m\"\u001b[39m)\n\u001b[0;32m      4\u001b[0m fun()\n\u001b[1;32m----> 5\u001b[0m \u001b[43mfun\u001b[49m\u001b[43m(\u001b[49m\u001b[38;5;241;43m10\u001b[39;49m\u001b[43m)\u001b[49m\n\u001b[0;32m      6\u001b[0m fun(\u001b[38;5;28;01mNone\u001b[39;00m)\n",
      "\u001b[1;31mTypeError\u001b[0m: fun() takes 0 positional arguments but 1 was given"
     ]
    }
   ],
   "source": [
    "def fun():\n",
    "    print(\"Hello Python\")\n",
    "    \n",
    "fun()\n",
    "fun(10)\n",
    "fun(None)"
   ]
  },
  {
   "cell_type": "code",
   "execution_count": 15,
   "id": "1ac7d6ac",
   "metadata": {},
   "outputs": [
    {
     "ename": "TypeError",
     "evalue": "fun() takes 0 positional arguments but 1 was given",
     "output_type": "error",
     "traceback": [
      "\u001b[1;31m---------------------------------------------------------------------------\u001b[0m",
      "\u001b[1;31mTypeError\u001b[0m                                 Traceback (most recent call last)",
      "Input \u001b[1;32mIn [15]\u001b[0m, in \u001b[0;36m<cell line: 1>\u001b[1;34m()\u001b[0m\n\u001b[1;32m----> 1\u001b[0m \u001b[43mfun\u001b[49m\u001b[43m(\u001b[49m\u001b[38;5;28;43;01mNone\u001b[39;49;00m\u001b[43m)\u001b[49m\n",
      "\u001b[1;31mTypeError\u001b[0m: fun() takes 0 positional arguments but 1 was given"
     ]
    }
   ],
   "source": [
    "fun(None)"
   ]
  },
  {
   "cell_type": "code",
   "execution_count": 16,
   "id": "27f81cb5",
   "metadata": {},
   "outputs": [
    {
     "ename": "TypeError",
     "evalue": "fun() takes 0 positional arguments but 1 was given",
     "output_type": "error",
     "traceback": [
      "\u001b[1;31m---------------------------------------------------------------------------\u001b[0m",
      "\u001b[1;31mTypeError\u001b[0m                                 Traceback (most recent call last)",
      "Input \u001b[1;32mIn [16]\u001b[0m, in \u001b[0;36m<cell line: 1>\u001b[1;34m()\u001b[0m\n\u001b[1;32m----> 1\u001b[0m \u001b[43mfun\u001b[49m\u001b[43m(\u001b[49m\u001b[43m(\u001b[49m\u001b[43m)\u001b[49m\u001b[43m)\u001b[49m\n",
      "\u001b[1;31mTypeError\u001b[0m: fun() takes 0 positional arguments but 1 was given"
     ]
    }
   ],
   "source": [
    "fun(())"
   ]
  },
  {
   "cell_type": "code",
   "execution_count": 12,
   "id": "8cb8ba26",
   "metadata": {},
   "outputs": [
    {
     "name": "stdout",
     "output_type": "stream",
     "text": [
      "18\n",
      "18\n",
      "18\n",
      "18\n"
     ]
    }
   ],
   "source": [
    "#2.Keyword Argument:\n",
    "# At the time of calling function we have to pass the arguments by using keyword(parameter name).\n",
    "\n",
    "def cal(a,b,c):\n",
    "    print(a+b+c)\n",
    "\n",
    "cal(5,6,7)\n",
    "cal(a=5,b=6,c=7)\n",
    "cal(a=5,b=7,c=6)\n",
    "cal(a=7,b=5,c=6)\n",
    "    "
   ]
  },
  {
   "cell_type": "code",
   "execution_count": 4,
   "id": "ca0cfa5d",
   "metadata": {},
   "outputs": [
    {
     "name": "stdout",
     "output_type": "stream",
     "text": [
      "18\n",
      "18\n"
     ]
    }
   ],
   "source": [
    "def cal(a,b,c):\n",
    "    print(a+b+c)\n",
    "cal(5,6,c=7)\n",
    "cal(6,b=5,c=7)\n"
   ]
  },
  {
   "cell_type": "code",
   "execution_count": 6,
   "id": "50780c95",
   "metadata": {},
   "outputs": [
    {
     "ename": "SyntaxError",
     "evalue": "positional argument follows keyword argument (2497584513.py, line 1)",
     "output_type": "error",
     "traceback": [
      "\u001b[1;36m  Input \u001b[1;32mIn [6]\u001b[1;36m\u001b[0m\n\u001b[1;33m    cal(a=7,5,6)\u001b[0m\n\u001b[1;37m               ^\u001b[0m\n\u001b[1;31mSyntaxError\u001b[0m\u001b[1;31m:\u001b[0m positional argument follows keyword argument\n"
     ]
    }
   ],
   "source": [
    "cal(a=7,5,6)\n"
   ]
  },
  {
   "cell_type": "code",
   "execution_count": 7,
   "id": "8c6b920c",
   "metadata": {},
   "outputs": [
    {
     "ename": "TypeError",
     "evalue": "cal() got multiple values for argument 'a'",
     "output_type": "error",
     "traceback": [
      "\u001b[1;31m---------------------------------------------------------------------------\u001b[0m",
      "\u001b[1;31mTypeError\u001b[0m                                 Traceback (most recent call last)",
      "Input \u001b[1;32mIn [7]\u001b[0m, in \u001b[0;36m<cell line: 1>\u001b[1;34m()\u001b[0m\n\u001b[1;32m----> 1\u001b[0m \u001b[43mcal\u001b[49m\u001b[43m(\u001b[49m\u001b[38;5;241;43m7\u001b[39;49m\u001b[43m,\u001b[49m\u001b[43ma\u001b[49m\u001b[38;5;241;43m=\u001b[39;49m\u001b[38;5;241;43m6\u001b[39;49m\u001b[43m,\u001b[49m\u001b[43mb\u001b[49m\u001b[38;5;241;43m=\u001b[39;49m\u001b[38;5;241;43m5\u001b[39;49m\u001b[43m)\u001b[49m\n",
      "\u001b[1;31mTypeError\u001b[0m: cal() got multiple values for argument 'a'"
     ]
    }
   ],
   "source": [
    "cal(7,a=6,b=5)"
   ]
  },
  {
   "cell_type": "code",
   "execution_count": 5,
   "id": "74f5a140",
   "metadata": {},
   "outputs": [
    {
     "name": "stdout",
     "output_type": "stream",
     "text": [
      "Hello Rahul your gf name is Zini\n",
      "Hello Rahul your gf name is You don't have any gf\n"
     ]
    }
   ],
   "source": [
    "# 3. Default Argument:\n",
    "# Also known as Optional Argument\n",
    "# At the time of fuction calling even if we don't pass argument,it considers the default value.\n",
    "\n",
    "def wishme(bf,gf=\"You don't have any gf\"):\n",
    "    print(f\"Hello {bf} your gf name is {gf}\")\n",
    "\n",
    "wishme(\"Rahul\",\"Zini\")  \n",
    "wishme(\"Rahul\")"
   ]
  },
  {
   "cell_type": "code",
   "execution_count": 3,
   "id": "f1286ff9",
   "metadata": {},
   "outputs": [
    {
     "name": "stdout",
     "output_type": "stream",
     "text": [
      "HI Rahul Zini\n",
      "HI Rahul You don't have any gf\n"
     ]
    }
   ],
   "source": [
    "def msg(bf=\"You don't have any bf\",gf=\"You don't have any gf\"):\n",
    "    print(f\"HI {bf} {gf}\")\n",
    "    \n",
    "msg(\"Rahul\",\"Zini\")\n",
    "msg(\"Rahul\")\n",
    "    "
   ]
  },
  {
   "cell_type": "code",
   "execution_count": 14,
   "id": "898b6313",
   "metadata": {},
   "outputs": [
    {
     "name": "stdout",
     "output_type": "stream",
     "text": [
      "Name is Rahul\n",
      "id is 1844\n",
      "Email is 454\n",
      "Marks is 990\n"
     ]
    }
   ],
   "source": [
    "def student(name,id,email,marks):\n",
    "    print(f'Name is',name)\n",
    "    print(f'id is',id)\n",
    "    print(f'Email is',email)\n",
    "    print(f'Marks is',marks)\n",
    "\n",
    "student(\"Rahul\",1844,454,990)    "
   ]
  },
  {
   "cell_type": "code",
   "execution_count": 15,
   "id": "8fdadb2d",
   "metadata": {},
   "outputs": [
    {
     "ename": "TypeError",
     "evalue": "student() missing 1 required positional argument: 'marks'",
     "output_type": "error",
     "traceback": [
      "\u001b[1;31m---------------------------------------------------------------------------\u001b[0m",
      "\u001b[1;31mTypeError\u001b[0m                                 Traceback (most recent call last)",
      "Input \u001b[1;32mIn [15]\u001b[0m, in \u001b[0;36m<cell line: 7>\u001b[1;34m()\u001b[0m\n\u001b[0;32m      4\u001b[0m     \u001b[38;5;28mprint\u001b[39m(\u001b[38;5;124mf\u001b[39m\u001b[38;5;124m'\u001b[39m\u001b[38;5;124mEmail is\u001b[39m\u001b[38;5;124m'\u001b[39m,email)\n\u001b[0;32m      5\u001b[0m     \u001b[38;5;28mprint\u001b[39m(\u001b[38;5;124mf\u001b[39m\u001b[38;5;124m'\u001b[39m\u001b[38;5;124mMarks is\u001b[39m\u001b[38;5;124m'\u001b[39m,marks)\n\u001b[1;32m----> 7\u001b[0m \u001b[43mstudent\u001b[49m\u001b[43m(\u001b[49m\u001b[38;5;124;43m\"\u001b[39;49m\u001b[38;5;124;43mRahul\u001b[39;49m\u001b[38;5;124;43m\"\u001b[39;49m\u001b[43m,\u001b[49m\u001b[38;5;241;43m1844\u001b[39;49m\u001b[43m,\u001b[49m\u001b[38;5;241;43m454\u001b[39;49m\u001b[43m)\u001b[49m\n",
      "\u001b[1;31mTypeError\u001b[0m: student() missing 1 required positional argument: 'marks'"
     ]
    }
   ],
   "source": [
    "def student(name,id,email,marks):\n",
    "    print(f'Name is',name)\n",
    "    print(f'id is',id)\n",
    "    print(f'Email is',email)\n",
    "    print(f'Marks is',marks)\n",
    "\n",
    "student(\"Rahul\",1844,454)    "
   ]
  },
  {
   "cell_type": "code",
   "execution_count": 16,
   "id": "4a3fdb7a",
   "metadata": {},
   "outputs": [
    {
     "name": "stdout",
     "output_type": "stream",
     "text": [
      "Name is Mbappe\n",
      "id is 90\n",
      "Marks is 844\n",
      "Email is no\n"
     ]
    }
   ],
   "source": [
    "def student(name,id,marks,email='no'):\n",
    "    print(f'Name is',name)\n",
    "    print(f'id is',id)\n",
    "    print(f'Marks is',marks)\n",
    "    print(f'Email is',email)\n",
    "student(\"Mbappe\",90,844)    \n",
    "    "
   ]
  },
  {
   "cell_type": "code",
   "execution_count": 17,
   "id": "2724a162",
   "metadata": {},
   "outputs": [
    {
     "ename": "SyntaxError",
     "evalue": "non-default argument follows default argument (2457340709.py, line 1)",
     "output_type": "error",
     "traceback": [
      "\u001b[1;36m  Input \u001b[1;32mIn [17]\u001b[1;36m\u001b[0m\n\u001b[1;33m    def student(name,id,email='no',marks,Address='no'):\u001b[0m\n\u001b[1;37m                                         ^\u001b[0m\n\u001b[1;31mSyntaxError\u001b[0m\u001b[1;31m:\u001b[0m non-default argument follows default argument\n"
     ]
    }
   ],
   "source": [
    "def student(name,id,email='no',marks,Address='no'):\n",
    "    print(f'Name is',name)\n",
    "    print(f'id is',id)\n",
    "    print(f'Email is',email)\n",
    "    print(f'Marks is',marks)\n",
    "    \n",
    "\n",
    "student(\"Rahul\",1844,\"mailme.rr@55.com\",990,Bhubaneswar)    "
   ]
  },
  {
   "cell_type": "code",
   "execution_count": 20,
   "id": "a3bfa5f5",
   "metadata": {},
   "outputs": [
    {
     "name": "stdout",
     "output_type": "stream",
     "text": [
      "Name is Rahul\n",
      "id is 1844\n",
      "Email is mailme.rr@55.com\n",
      "Marks is 990\n"
     ]
    }
   ],
   "source": [
    "def student(name,id,marks,email='no',Address='no'):\n",
    "    print(f'Name is',name)\n",
    "    print(f'id is',id)\n",
    "    print(f'Email is',email)\n",
    "    print(f'Marks is',marks)\n",
    "    \n",
    "\n",
    "student(\"Rahul\",1844,990,\"mailme.rr@55.com\",\"Bhubaneswar\")    "
   ]
  },
  {
   "cell_type": "code",
   "execution_count": 1,
   "id": "7951bc99",
   "metadata": {},
   "outputs": [
    {
     "name": "stdout",
     "output_type": "stream",
     "text": [
      "10 20\n",
      "10 20 30\n",
      "10 20 77 89 3 56 45 123 45\n"
     ]
    }
   ],
   "source": [
    "# 4. Variable length Argument:\n",
    "def fun(*a):\n",
    "    print(*a)\n",
    "fun(10,20)\n",
    "fun(10,20,30)\n",
    "fun(10,20,77,89,3,56,45,123,45)"
   ]
  },
  {
   "cell_type": "code",
   "execution_count": 2,
   "id": "7a5d018c",
   "metadata": {},
   "outputs": [
    {
     "name": "stdout",
     "output_type": "stream",
     "text": [
      "10 20 30 56 [88, 89, 78] (10, 20, 33, 41, 23, 11, 67) True False (10+20j)\n"
     ]
    }
   ],
   "source": [
    "def fun(*args):\n",
    "    print(*args)\n",
    "fun(10,20,30,56,[88,89,78],(10,20,33,41,23,11,67),True,False,10+20j)    "
   ]
  },
  {
   "cell_type": "code",
   "execution_count": 5,
   "id": "1e8a7a49",
   "metadata": {},
   "outputs": [
    {
     "name": "stdout",
     "output_type": "stream",
     "text": [
      "x is 40\n",
      "*args is  22\n"
     ]
    }
   ],
   "source": [
    "# Variable length keyword Argument+Positional Argument\n",
    "\n",
    "def fun(x,*args):\n",
    "    print(f'x is {x}')\n",
    "    print(f'*args is ',*args)\n",
    "fun(40,22)    "
   ]
  },
  {
   "cell_type": "code",
   "execution_count": 6,
   "id": "7406691e",
   "metadata": {},
   "outputs": [
    {
     "ename": "TypeError",
     "evalue": "fun() missing 1 required keyword-only argument: 'x'",
     "output_type": "error",
     "traceback": [
      "\u001b[1;31m---------------------------------------------------------------------------\u001b[0m",
      "\u001b[1;31mTypeError\u001b[0m                                 Traceback (most recent call last)",
      "Input \u001b[1;32mIn [6]\u001b[0m, in \u001b[0;36m<cell line: 4>\u001b[1;34m()\u001b[0m\n\u001b[0;32m      2\u001b[0m     \u001b[38;5;28mprint\u001b[39m(\u001b[38;5;124mf\u001b[39m\u001b[38;5;124m'\u001b[39m\u001b[38;5;124mx is \u001b[39m\u001b[38;5;132;01m{\u001b[39;00mx\u001b[38;5;132;01m}\u001b[39;00m\u001b[38;5;124m'\u001b[39m)\n\u001b[0;32m      3\u001b[0m     \u001b[38;5;28mprint\u001b[39m(\u001b[38;5;124mf\u001b[39m\u001b[38;5;124m'\u001b[39m\u001b[38;5;124m*args is \u001b[39m\u001b[38;5;124m'\u001b[39m,\u001b[38;5;241m*\u001b[39margs)\n\u001b[1;32m----> 4\u001b[0m \u001b[43mfun\u001b[49m\u001b[43m(\u001b[49m\u001b[38;5;241;43m40\u001b[39;49m\u001b[43m,\u001b[49m\u001b[38;5;241;43m22\u001b[39;49m\u001b[43m)\u001b[49m\n",
      "\u001b[1;31mTypeError\u001b[0m: fun() missing 1 required keyword-only argument: 'x'"
     ]
    }
   ],
   "source": [
    "def fun(*args,x):\n",
    "    print(f'x is {x}')\n",
    "    print(f'*args is ',*args)\n",
    "fun(40,22)    "
   ]
  },
  {
   "cell_type": "code",
   "execution_count": 7,
   "id": "0bbd46db",
   "metadata": {},
   "outputs": [
    {
     "name": "stdout",
     "output_type": "stream",
     "text": [
      "x is 22\n",
      "*args is  10 20 30 40\n"
     ]
    }
   ],
   "source": [
    "def fun(*args,x):\n",
    "    print(f'x is {x}')\n",
    "    print(f'*args is ',*args)\n",
    "fun(10,20,30,40,x=22)    \n",
    "\n",
    "#After variable length argument,if we want to pass other arguments,then we can pass by providing values as keyword argument."
   ]
  },
  {
   "cell_type": "code",
   "execution_count": 9,
   "id": "7acd888a",
   "metadata": {},
   "outputs": [
    {
     "name": "stdout",
     "output_type": "stream",
     "text": [
      "x is 90\n",
      "*a is 10 20 30 40 60\n"
     ]
    }
   ],
   "source": [
    "# Default Argument+Positional Argument\n",
    "def fun(*a,x=10):\n",
    "    print(\"x is\",x)\n",
    "    print(\"*a is\",*a)\n",
    "    \n",
    "fun(10,20,30,40,60, x=90)    "
   ]
  },
  {
   "cell_type": "code",
   "execution_count": 10,
   "id": "746f666b",
   "metadata": {},
   "outputs": [
    {
     "name": "stdout",
     "output_type": "stream",
     "text": [
      "x is 10\n",
      "*a is 10 20 30 40 60\n"
     ]
    }
   ],
   "source": [
    "def fun(*a,x=10):\n",
    "    print(\"x is\",x)\n",
    "    print(\"*a is\",*a)\n",
    "    \n",
    "fun(10,20,30,40,60)    "
   ]
  },
  {
   "cell_type": "code",
   "execution_count": 11,
   "id": "0eeb3571",
   "metadata": {},
   "outputs": [
    {
     "name": "stdout",
     "output_type": "stream",
     "text": [
      "x is: 80\n",
      "a is: 10 20 30 40\n"
     ]
    }
   ],
   "source": [
    "# Keyword Argument+:\n",
    "def fun(*a,x):\n",
    "    print('x is:',x)\n",
    "    print('a is:',*a)\n",
    "fun(10,20,30,40,x=80)    "
   ]
  },
  {
   "cell_type": "code",
   "execution_count": 12,
   "id": "f2dd9356",
   "metadata": {},
   "outputs": [
    {
     "name": "stdout",
     "output_type": "stream",
     "text": [
      "10\n",
      "20\n",
      "()\n",
      "110\n"
     ]
    }
   ],
   "source": [
    "# Keyword Argument+Positional Argument+Variable Length Argument:\n",
    "\n",
    "def fun(a,b,*n,x=110):\n",
    "    print(a)\n",
    "    print(b)\n",
    "    print(n)\n",
    "    print(x)\n",
    "fun(10,20)    "
   ]
  },
  {
   "cell_type": "code",
   "execution_count": 14,
   "id": "bf684c8a",
   "metadata": {},
   "outputs": [
    {
     "name": "stdout",
     "output_type": "stream",
     "text": [
      "()\n",
      "<class 'tuple'>\n",
      "(10, 20)\n",
      "<class 'tuple'>\n",
      "(10,)\n",
      "<class 'tuple'>\n",
      "(22, 44, 88)\n",
      "<class 'tuple'>\n",
      "('surendra', 'priyanka', 'rahul', 'zini')\n",
      "<class 'tuple'>\n"
     ]
    }
   ],
   "source": [
    "# Non-Keyword Variable Length Argument:\n",
    "def fun(*a):\n",
    "    print(a)\n",
    "    print(type(a))\n",
    "fun() \n",
    "fun(10,20)\n",
    "fun(10)\n",
    "fun(22,44,88)\n",
    "fun('surendra','priyanka','rahul','zini')"
   ]
  },
  {
   "cell_type": "code",
   "execution_count": 16,
   "id": "a7b3dd82",
   "metadata": {},
   "outputs": [
    {
     "name": "stdout",
     "output_type": "stream",
     "text": [
      "(10, 20)\n",
      "<class 'tuple'>\n"
     ]
    }
   ],
   "source": [
    "def fun(*a):\n",
    "    print(a)\n",
    "    print(type(a))\n",
    "fun(10,20)    "
   ]
  },
  {
   "cell_type": "code",
   "execution_count": 17,
   "id": "09dd6bdd",
   "metadata": {},
   "outputs": [
    {
     "name": "stdout",
     "output_type": "stream",
     "text": [
      "(10, 20)\n",
      "<class 'tuple'>\n"
     ]
    }
   ],
   "source": [
    "def fun(*args):\n",
    "    print(args)\n",
    "    print(type(args))\n",
    "fun(10,20)    "
   ]
  },
  {
   "cell_type": "code",
   "execution_count": 18,
   "id": "776ba07b",
   "metadata": {},
   "outputs": [
    {
     "name": "stdout",
     "output_type": "stream",
     "text": [
      "20\n",
      "40\n",
      "60\n",
      "80\n",
      "100\n"
     ]
    }
   ],
   "source": [
    "def fun(*args):\n",
    "    for i in args:\n",
    "        print(i*2)\n",
    "fun(10,20,30,40,50)        "
   ]
  },
  {
   "cell_type": "code",
   "execution_count": 20,
   "id": "46fdce96",
   "metadata": {},
   "outputs": [
    {
     "name": "stdout",
     "output_type": "stream",
     "text": [
      "20\n",
      "40\n",
      "60\n",
      "80\n",
      "100\n",
      "\n",
      "20\n",
      "40\n",
      "\n"
     ]
    }
   ],
   "source": [
    "def fun(*args):\n",
    "    for i in args:\n",
    "        print(i*2)\n",
    "    print('')\n",
    "fun(10,20,30,40,50)\n",
    "fun(10,20)"
   ]
  },
  {
   "cell_type": "code",
   "execution_count": 21,
   "id": "13af4d01",
   "metadata": {},
   "outputs": [
    {
     "name": "stdout",
     "output_type": "stream",
     "text": [
      "[11, 22, 33, 44, 11, 22, 33, 44, 11, 22, 33, 44, 11, 22, 33, 44, 11, 22, 33, 44]\n"
     ]
    }
   ],
   "source": [
    "def fun(*args):\n",
    "    for i in args:\n",
    "        print(i*5)\n",
    "fun([11,22,33,44])  "
   ]
  },
  {
   "cell_type": "code",
   "execution_count": 23,
   "id": "c1b6185d",
   "metadata": {},
   "outputs": [
    {
     "name": "stdout",
     "output_type": "stream",
     "text": [
      "121\n",
      "484\n",
      "1089\n",
      "1936\n"
     ]
    }
   ],
   "source": [
    "def fun(*args):\n",
    "    for i in args:\n",
    "        for j in i:\n",
    "            print(j*j)\n",
    "        \n",
    "fun([11,22,33,44])  "
   ]
  },
  {
   "cell_type": "code",
   "execution_count": 24,
   "id": "34486b4d",
   "metadata": {},
   "outputs": [
    {
     "name": "stdout",
     "output_type": "stream",
     "text": [
      "{'x': 10, 'y': 20}\n"
     ]
    }
   ],
   "source": [
    "# Variable length Keyword Argument:\n",
    "#Sometimes,as a programmer we’ll have to pass key and value as a pair at a time,then we can go for Variable length keyword argument.\n",
    "\n",
    "def fun(**a):\n",
    "    print(a) \n",
    "fun(x=10,y=20) "
   ]
  },
  {
   "cell_type": "code",
   "execution_count": 25,
   "id": "3d91538f",
   "metadata": {},
   "outputs": [
    {
     "name": "stdout",
     "output_type": "stream",
     "text": [
      "{'a': 10, 'b': 20, 'c': 30}\n",
      "99\n",
      "()\n"
     ]
    }
   ],
   "source": [
    "def fun(x,*z,**a): \n",
    "    print(a) \n",
    "    print(x) \n",
    "    print(z) \n",
    "fun(99,a=10,b=20,c=30) "
   ]
  },
  {
   "cell_type": "code",
   "execution_count": 27,
   "id": "9fb5c14a",
   "metadata": {},
   "outputs": [
    {
     "name": "stdout",
     "output_type": "stream",
     "text": [
      "<class 'dict'>\n",
      "{'name': 'surendra', 'addr': 'bbsr', 'qual': 'MTech'}\n"
     ]
    }
   ],
   "source": [
    "def fun(**a):\n",
    "    print(type(a))\n",
    "    print(a)\n",
    "\n",
    "fun(name='surendra',addr='bbsr',qual='MTech') "
   ]
  },
  {
   "cell_type": "code",
   "execution_count": 28,
   "id": "1b4cf684",
   "metadata": {},
   "outputs": [
    {
     "name": "stdout",
     "output_type": "stream",
     "text": [
      "<class 'dict'>\n",
      "{'name': 'surendra', 'addr': 'bbsr', 'qual': 'MTech'}\n"
     ]
    }
   ],
   "source": [
    "def fun(**kwargs):\n",
    "    print(type(kwargs))\n",
    "    print(kwargs)\n",
    "fun(name='surendra',addr='bbsr',qual='MTech')\n"
   ]
  },
  {
   "cell_type": "code",
   "execution_count": 1,
   "id": "589fc0e3",
   "metadata": {},
   "outputs": [
    {
     "name": "stdout",
     "output_type": "stream",
     "text": [
      "(10, 20, 30)\n",
      "{'name': 'Surendra', 'address': 'Hyderabad'}\n"
     ]
    }
   ],
   "source": [
    "# Mix:\n",
    "\n",
    "def fun(*args,**kargs):\n",
    "    print(args)\n",
    "    print(kargs)\n",
    "fun(10,20,30,name='Surendra',address='Hyderabad')    "
   ]
  },
  {
   "cell_type": "code",
   "execution_count": 2,
   "id": "2b312341",
   "metadata": {},
   "outputs": [
    {
     "ename": "SyntaxError",
     "evalue": "positional argument follows keyword argument (517810898.py, line 6)",
     "output_type": "error",
     "traceback": [
      "\u001b[1;36m  Input \u001b[1;32mIn [2]\u001b[1;36m\u001b[0m\n\u001b[1;33m    fun(10,20,30,name='Surendra',address='Hyderabad',10)\u001b[0m\n\u001b[1;37m                                                       ^\u001b[0m\n\u001b[1;31mSyntaxError\u001b[0m\u001b[1;31m:\u001b[0m positional argument follows keyword argument\n"
     ]
    }
   ],
   "source": [
    "# Mix:\n",
    "\n",
    "def fun(*args,**kargs):\n",
    "    print(args)\n",
    "    print(kargs)\n",
    "fun(10,20,30,name='Surendra',address='Hyderabad',10)    "
   ]
  },
  {
   "cell_type": "code",
   "execution_count": 3,
   "id": "e2a1c12e",
   "metadata": {},
   "outputs": [
    {
     "ename": "SyntaxError",
     "evalue": "positional argument follows keyword argument (4214242992.py, line 6)",
     "output_type": "error",
     "traceback": [
      "\u001b[1;36m  Input \u001b[1;32mIn [3]\u001b[1;36m\u001b[0m\n\u001b[1;33m    fun(name='Surendra',address='Hyderabad',10)\u001b[0m\n\u001b[1;37m                                              ^\u001b[0m\n\u001b[1;31mSyntaxError\u001b[0m\u001b[1;31m:\u001b[0m positional argument follows keyword argument\n"
     ]
    }
   ],
   "source": [
    "# Mix:\n",
    "\n",
    "def fun(*args,**kargs):\n",
    "    print(args)\n",
    "    print(kargs)\n",
    "fun(name='Surendra',address='Hyderabad',10)    "
   ]
  },
  {
   "cell_type": "code",
   "execution_count": 4,
   "id": "4c2266da",
   "metadata": {},
   "outputs": [
    {
     "name": "stdout",
     "output_type": "stream",
     "text": [
      "()\n",
      "{'name': 'Surendra', 'address': 'Hyderabad'}\n"
     ]
    }
   ],
   "source": [
    "# Mix:\n",
    "\n",
    "def fun(*args,**kargs):\n",
    "    print(args)\n",
    "    print(kargs)\n",
    "fun(name='Surendra',address='Hyderabad')    "
   ]
  },
  {
   "cell_type": "code",
   "execution_count": 5,
   "id": "dbb34fca",
   "metadata": {},
   "outputs": [
    {
     "name": "stdout",
     "output_type": "stream",
     "text": [
      "()\n",
      "{}\n"
     ]
    }
   ],
   "source": [
    "# Mix:\n",
    "\n",
    "def fun(*args,**kargs):\n",
    "    print(args)\n",
    "    print(kargs)\n",
    "fun()    "
   ]
  },
  {
   "cell_type": "code",
   "execution_count": 7,
   "id": "561698bb",
   "metadata": {},
   "outputs": [
    {
     "name": "stdout",
     "output_type": "stream",
     "text": [
      "10\n",
      "20\n",
      "39\n",
      "()\n",
      "{'name': 'surendra'}\n"
     ]
    }
   ],
   "source": [
    "# Mix all and print one in proper format:\n",
    "\n",
    "def fun(a,b,c=100,*args,**kargs):\n",
    "    print(a)\n",
    "    print(b)\n",
    "    print(c)\n",
    "    print(args)\n",
    "    print(kargs)\n",
    "fun(10,20,39,name='surendra')    "
   ]
  },
  {
   "cell_type": "code",
   "execution_count": 8,
   "id": "82873233",
   "metadata": {
    "scrolled": true
   },
   "outputs": [
    {
     "name": "stdout",
     "output_type": "stream",
     "text": [
      "12\n",
      "11\n",
      "88\n",
      "()\n",
      "{}\n"
     ]
    }
   ],
   "source": [
    "# Mix all and print one in proper format:\n",
    "\n",
    "def fun(a,b,c=100,*args,**kargs):\n",
    "    print(a)\n",
    "    print(b)\n",
    "    print(c)\n",
    "    print(args)\n",
    "    print(kargs)\n",
    "fun(12,11,88)    "
   ]
  },
  {
   "cell_type": "code",
   "execution_count": 6,
   "id": "fa50f7e5",
   "metadata": {},
   "outputs": [
    {
     "ename": "SyntaxError",
     "evalue": "positional argument follows keyword argument (239198102.py, line 9)",
     "output_type": "error",
     "traceback": [
      "\u001b[1;36m  Input \u001b[1;32mIn [6]\u001b[1;36m\u001b[0m\n\u001b[1;33m    fun(a=12,111)\u001b[0m\n\u001b[1;37m                ^\u001b[0m\n\u001b[1;31mSyntaxError\u001b[0m\u001b[1;31m:\u001b[0m positional argument follows keyword argument\n"
     ]
    }
   ],
   "source": [
    "# Mix all and print one in proper format:\n",
    "\n",
    "def fun(a,b,c=100,*args,**kargs):\n",
    "    print(a)\n",
    "    print(b)\n",
    "    print(c)\n",
    "    print(args)\n",
    "    print(kargs)\n",
    "fun(a=12,111)    "
   ]
  },
  {
   "cell_type": "code",
   "execution_count": 9,
   "id": "4170b648",
   "metadata": {},
   "outputs": [
    {
     "name": "stdout",
     "output_type": "stream",
     "text": [
      "111\n",
      "12\n",
      "100\n",
      "()\n",
      "{}\n"
     ]
    }
   ],
   "source": [
    "# Mix all and print one in proper format:\n",
    "\n",
    "def fun(a,b,c=100,*args,**kargs):\n",
    "    print(a)\n",
    "    print(b)\n",
    "    print(c)\n",
    "    print(args)\n",
    "    print(kargs)\n",
    "fun(b=12,a=111)    "
   ]
  },
  {
   "cell_type": "code",
   "execution_count": 10,
   "id": "01efd41a",
   "metadata": {},
   "outputs": [
    {
     "ename": "TypeError",
     "evalue": "fun() missing 1 required positional argument: 'b'",
     "output_type": "error",
     "traceback": [
      "\u001b[1;31m---------------------------------------------------------------------------\u001b[0m",
      "\u001b[1;31mTypeError\u001b[0m                                 Traceback (most recent call last)",
      "Input \u001b[1;32mIn [10]\u001b[0m, in \u001b[0;36m<cell line: 9>\u001b[1;34m()\u001b[0m\n\u001b[0;32m      7\u001b[0m     \u001b[38;5;28mprint\u001b[39m(args)\n\u001b[0;32m      8\u001b[0m     \u001b[38;5;28mprint\u001b[39m(kargs)\n\u001b[1;32m----> 9\u001b[0m \u001b[43mfun\u001b[49m\u001b[43m(\u001b[49m\u001b[43ma\u001b[49m\u001b[38;5;241;43m=\u001b[39;49m\u001b[38;5;241;43m90\u001b[39;49m\u001b[43m,\u001b[49m\u001b[43mc\u001b[49m\u001b[38;5;241;43m=\u001b[39;49m\u001b[38;5;241;43m88\u001b[39;49m\u001b[43m)\u001b[49m\n",
      "\u001b[1;31mTypeError\u001b[0m: fun() missing 1 required positional argument: 'b'"
     ]
    }
   ],
   "source": [
    "# Mix all and print one in proper format:\n",
    "\n",
    "def fun(a,b,c=100,*args,**kargs):\n",
    "    print(a)\n",
    "    print(b)\n",
    "    print(c)\n",
    "    print(args)\n",
    "    print(kargs)\n",
    "fun(a=90,c=88)    "
   ]
  },
  {
   "cell_type": "code",
   "execution_count": 11,
   "id": "6579a232",
   "metadata": {
    "scrolled": true
   },
   "outputs": [
    {
     "name": "stdout",
     "output_type": "stream",
     "text": [
      "12\n",
      "11\n",
      "22\n",
      "()\n",
      "{}\n"
     ]
    }
   ],
   "source": [
    "# Mix all and print one in proper format:\n",
    "\n",
    "def fun(a,b,c=100,*args,**kargs):\n",
    "    print(a)\n",
    "    print(b)\n",
    "    print(c)\n",
    "    print(args)\n",
    "    print(kargs)\n",
    "fun(a=12,b=11,c=22)    "
   ]
  },
  {
   "cell_type": "code",
   "execution_count": 12,
   "id": "26dd0c36",
   "metadata": {},
   "outputs": [
    {
     "name": "stdout",
     "output_type": "stream",
     "text": [
      "12\n",
      "11\n",
      "22\n",
      "()\n",
      "{'name': 'surendra'}\n"
     ]
    }
   ],
   "source": [
    "# Mix all and print one in proper format:\n",
    "\n",
    "def fun(a,b,c=100,*args,**kargs):\n",
    "    print(a)\n",
    "    print(b)\n",
    "    print(c)\n",
    "    print(args)\n",
    "    print(kargs)\n",
    "fun(name='surendra',a=12,b=11,c=22)  "
   ]
  },
  {
   "cell_type": "code",
   "execution_count": 13,
   "id": "ab33687c",
   "metadata": {},
   "outputs": [
    {
     "ename": "SyntaxError",
     "evalue": "positional argument follows keyword argument (742759982.py, line 9)",
     "output_type": "error",
     "traceback": [
      "\u001b[1;36m  Input \u001b[1;32mIn [13]\u001b[1;36m\u001b[0m\n\u001b[1;33m    fun(name='surendra',a=12,c=22,77)\u001b[0m\n\u001b[1;37m                                    ^\u001b[0m\n\u001b[1;31mSyntaxError\u001b[0m\u001b[1;31m:\u001b[0m positional argument follows keyword argument\n"
     ]
    }
   ],
   "source": [
    "# Mix all and print one in proper format:\n",
    "\n",
    "def fun(a,b,c=100,*args,**kargs):\n",
    "    print(a)\n",
    "    print(b)\n",
    "    print(c)\n",
    "    print(args)\n",
    "    print(kargs)\n",
    "fun(name='surendra',a=12,c=22,77)  "
   ]
  },
  {
   "cell_type": "code",
   "execution_count": 14,
   "id": "2cb052ff",
   "metadata": {},
   "outputs": [
    {
     "name": "stdout",
     "output_type": "stream",
     "text": [
      "12\n",
      "11\n",
      "100\n",
      "()\n",
      "{'name': 'surendra'}\n"
     ]
    }
   ],
   "source": [
    "# Mix all and print one in proper format:\n",
    "\n",
    "def fun(a,b,c=100,*args,**kargs):\n",
    "    print(a)\n",
    "    print(b)\n",
    "    print(c)\n",
    "    print(args)\n",
    "    print(kargs)\n",
    "fun(name='surendra',a=12,b=11)  "
   ]
  },
  {
   "cell_type": "code",
   "execution_count": 15,
   "id": "e13a61b3",
   "metadata": {},
   "outputs": [
    {
     "ename": "TypeError",
     "evalue": "fun() got multiple values for argument 'a'",
     "output_type": "error",
     "traceback": [
      "\u001b[1;31m---------------------------------------------------------------------------\u001b[0m",
      "\u001b[1;31mTypeError\u001b[0m                                 Traceback (most recent call last)",
      "Input \u001b[1;32mIn [15]\u001b[0m, in \u001b[0;36m<cell line: 9>\u001b[1;34m()\u001b[0m\n\u001b[0;32m      7\u001b[0m     \u001b[38;5;28mprint\u001b[39m(args)\n\u001b[0;32m      8\u001b[0m     \u001b[38;5;28mprint\u001b[39m(kargs)\n\u001b[1;32m----> 9\u001b[0m \u001b[43mfun\u001b[49m\u001b[43m(\u001b[49m\u001b[38;5;241;43m10\u001b[39;49m\u001b[43m,\u001b[49m\u001b[43mname\u001b[49m\u001b[38;5;241;43m=\u001b[39;49m\u001b[38;5;124;43m'\u001b[39;49m\u001b[38;5;124;43msurendra\u001b[39;49m\u001b[38;5;124;43m'\u001b[39;49m\u001b[43m,\u001b[49m\u001b[43ma\u001b[49m\u001b[38;5;241;43m=\u001b[39;49m\u001b[38;5;241;43m12\u001b[39;49m\u001b[43m,\u001b[49m\u001b[43mb\u001b[49m\u001b[38;5;241;43m=\u001b[39;49m\u001b[38;5;241;43m11\u001b[39;49m\u001b[43m,\u001b[49m\u001b[43mc\u001b[49m\u001b[38;5;241;43m=\u001b[39;49m\u001b[38;5;241;43m22\u001b[39;49m\u001b[43m)\u001b[49m\n",
      "\u001b[1;31mTypeError\u001b[0m: fun() got multiple values for argument 'a'"
     ]
    }
   ],
   "source": [
    "# Mix all and print one in proper format:\n",
    "\n",
    "def fun(a,b,c=100,*args,**kargs):\n",
    "    print(a)\n",
    "    print(b)\n",
    "    print(c)\n",
    "    print(args)\n",
    "    print(kargs)\n",
    "fun(10,name='surendra',a=12,b=11,c=22)  "
   ]
  },
  {
   "cell_type": "code",
   "execution_count": 16,
   "id": "7452048f",
   "metadata": {},
   "outputs": [
    {
     "name": "stdout",
     "output_type": "stream",
     "text": [
      "10\n",
      "11\n",
      "100\n",
      "()\n",
      "{'name': 'surendra'}\n"
     ]
    }
   ],
   "source": [
    "# Mix all and print one in proper format:\n",
    "\n",
    "def fun(a,b,c=100,*args,**kargs):\n",
    "    print(a)\n",
    "    print(b)\n",
    "    print(c)\n",
    "    print(args)\n",
    "    print(kargs)\n",
    "fun(10,name='surendra',b=11)  "
   ]
  },
  {
   "cell_type": "code",
   "execution_count": 17,
   "id": "830479fb",
   "metadata": {},
   "outputs": [
    {
     "name": "stdout",
     "output_type": "stream",
     "text": [
      "10\n",
      "20\n",
      "30\n",
      "(40, 50, 60, 70)\n",
      "{}\n"
     ]
    }
   ],
   "source": [
    "# Mix all and print one in proper format:\n",
    "\n",
    "def fun(a,b,c=100,*args,**kargs):\n",
    "    print(a)\n",
    "    print(b)\n",
    "    print(c)\n",
    "    print(args)\n",
    "    print(kargs)\n",
    "fun(10,20,30,40,50,60,70)  "
   ]
  },
  {
   "cell_type": "code",
   "execution_count": 18,
   "id": "00c4994c",
   "metadata": {},
   "outputs": [
    {
     "ename": "SyntaxError",
     "evalue": "positional argument follows keyword argument (2796374270.py, line 9)",
     "output_type": "error",
     "traceback": [
      "\u001b[1;36m  Input \u001b[1;32mIn [18]\u001b[1;36m\u001b[0m\n\u001b[1;33m    fun(10,20,30,40,50,name='surendra',60,70)\u001b[0m\n\u001b[1;37m                                            ^\u001b[0m\n\u001b[1;31mSyntaxError\u001b[0m\u001b[1;31m:\u001b[0m positional argument follows keyword argument\n"
     ]
    }
   ],
   "source": [
    "# Mix all and print one in proper format:\n",
    "\n",
    "def fun(a,b,c=100,*args,**kargs):\n",
    "    print(a)\n",
    "    print(b)\n",
    "    print(c)\n",
    "    print(args)\n",
    "    print(kargs)\n",
    "fun(10,20,30,40,50,name='surendra',60,70)  "
   ]
  },
  {
   "cell_type": "markdown",
   "id": "f397dad8",
   "metadata": {},
   "source": [
    "# Function Aliasing:"
   ]
  },
  {
   "cell_type": "code",
   "execution_count": null,
   "id": "41119791",
   "metadata": {},
   "outputs": [],
   "source": [
    "# Function Aliasing:\n",
    "# It means set another name to a function.\n",
    "# Suppose we have a function calculation () , and we can set another name like cal,cl,etc; This concept is called as Function Aliasing. "
   ]
  },
  {
   "cell_type": "code",
   "execution_count": 21,
   "id": "8024caa4",
   "metadata": {},
   "outputs": [
    {
     "name": "stdout",
     "output_type": "stream",
     "text": [
      "12\n",
      "8\n",
      "20\n",
      "5.0\n",
      "0\n",
      "After Aliasing\n",
      "60\n",
      "40\n",
      "500\n",
      "5.0\n",
      "0\n"
     ]
    }
   ],
   "source": [
    "def calculation(a,b):\n",
    "    print(a+b)\n",
    "    print(a-b)\n",
    "    print(a*b)\n",
    "    print(a/b)\n",
    "    print(a%b)\n",
    "calculation(10,2)  \n",
    "cal=calculation\n",
    "print(\"After Aliasing\")\n",
    "cal(50,10)"
   ]
  },
  {
   "cell_type": "code",
   "execution_count": 1,
   "id": "ba150ef8",
   "metadata": {},
   "outputs": [
    {
     "name": "stdout",
     "output_type": "stream",
     "text": [
      "12\n",
      "8\n",
      "20\n",
      "5.0\n",
      "0\n",
      "60\n",
      "40\n",
      "500\n",
      "5.0\n",
      "0\n"
     ]
    },
    {
     "ename": "NameError",
     "evalue": "name 'calculation' is not defined",
     "output_type": "error",
     "traceback": [
      "\u001b[1;31m---------------------------------------------------------------------------\u001b[0m",
      "\u001b[1;31mNameError\u001b[0m                                 Traceback (most recent call last)",
      "Input \u001b[1;32mIn [1]\u001b[0m, in \u001b[0;36m<cell line: 11>\u001b[1;34m()\u001b[0m\n\u001b[0;32m      9\u001b[0m \u001b[38;5;28;01mdel\u001b[39;00m calculation\n\u001b[0;32m     10\u001b[0m cal(\u001b[38;5;241m50\u001b[39m,\u001b[38;5;241m10\u001b[39m)\n\u001b[1;32m---> 11\u001b[0m \u001b[43mcalculation\u001b[49m(\u001b[38;5;241m100\u001b[39m,\u001b[38;5;241m3\u001b[39m)\n",
      "\u001b[1;31mNameError\u001b[0m: name 'calculation' is not defined"
     ]
    }
   ],
   "source": [
    "def calculation(a,b):\n",
    "    print(a+b)\n",
    "    print(a-b)\n",
    "    print(a*b)\n",
    "    print(a/b)\n",
    "    print(a%b)\n",
    "calculation(10,2)  \n",
    "cal=calculation\n",
    "del calculation\n",
    "cal(50,10)\n",
    "calculation(100,3)"
   ]
  },
  {
   "cell_type": "code",
   "execution_count": 23,
   "id": "21a2c0cc",
   "metadata": {},
   "outputs": [
    {
     "name": "stdout",
     "output_type": "stream",
     "text": [
      "12\n",
      "8\n",
      "20\n",
      "5.0\n",
      "0\n",
      "2114725455184\n",
      "2114725455184\n"
     ]
    }
   ],
   "source": [
    "def calculation(a,b):\n",
    "    print(a+b)\n",
    "    print(a-b)\n",
    "    print(a*b)\n",
    "    print(a/b)\n",
    "    print(a%b)\n",
    "calculation(10,2)  \n",
    "cal=calculation\n",
    "print(id(cal))\n",
    "print(id(calculation))\n"
   ]
  },
  {
   "cell_type": "code",
   "execution_count": 26,
   "id": "695c4170",
   "metadata": {},
   "outputs": [
    {
     "name": "stdout",
     "output_type": "stream",
     "text": [
      "2114725727824\n",
      "2114725727824\n",
      "2114725727824\n",
      "102\n",
      "98\n",
      "200\n",
      "50.0\n",
      "0\n"
     ]
    }
   ],
   "source": [
    "def calculation(a,b):\n",
    "    print(a+b)\n",
    "    print(a-b)\n",
    "    print(a*b)\n",
    "    print(a/b)\n",
    "    print(a%b)  \n",
    "cl=calculation\n",
    "cal=calculation\n",
    "print(id(calculation))\n",
    "print(id(cal))\n",
    "print(id(cl))\n",
    "cal(100,2)"
   ]
  },
  {
   "cell_type": "code",
   "execution_count": 27,
   "id": "5cc2e1ae",
   "metadata": {},
   "outputs": [
    {
     "name": "stdout",
     "output_type": "stream",
     "text": [
      "2114725170624\n",
      "2114725170624\n",
      "2114725170624\n",
      "2114725170624\n",
      "60\n",
      "40\n",
      "500\n",
      "5.0\n",
      "0\n"
     ]
    }
   ],
   "source": [
    "def calculation(a,b):\n",
    "    print(a+b)\n",
    "    print(a-b)\n",
    "    print(a*b)\n",
    "    print(a/b)\n",
    "    print(a%b)  \n",
    "cal=calculation\n",
    "cl=calculation\n",
    "c=cl\n",
    "print(id(calculation))\n",
    "print(id(cl))\n",
    "print(id(c))\n",
    "print(id(cal))\n",
    "cal(50,10)"
   ]
  },
  {
   "cell_type": "markdown",
   "id": "e4e583b4",
   "metadata": {},
   "source": [
    "# Nested Function:"
   ]
  },
  {
   "cell_type": "code",
   "execution_count": 28,
   "id": "330bffc7",
   "metadata": {},
   "outputs": [
    {
     "name": "stdout",
     "output_type": "stream",
     "text": [
      "I am outer fun\n"
     ]
    }
   ],
   "source": [
    "# Nested means inner.\n",
    "# if a function is declared inside another function then it is called as nested function.\n",
    "\n",
    "def outer_fun():\n",
    "    print('I am outer fun')\n",
    "    def inner_fun():\n",
    "        print(\"I am inner fun\")\n",
    "outer_fun()        \n",
    "        "
   ]
  },
  {
   "cell_type": "code",
   "execution_count": 29,
   "id": "f73e7a16",
   "metadata": {},
   "outputs": [
    {
     "name": "stdout",
     "output_type": "stream",
     "text": [
      "I am outer fun\n",
      "I am inner fun\n"
     ]
    }
   ],
   "source": [
    "def outer_fun():\n",
    "    print('I am outer fun')\n",
    "    def inner_fun():\n",
    "        print(\"I am inner fun\")\n",
    "    inner_fun()    \n",
    "outer_fun()      "
   ]
  },
  {
   "cell_type": "code",
   "execution_count": 30,
   "id": "20bb7050",
   "metadata": {},
   "outputs": [
    {
     "name": "stdout",
     "output_type": "stream",
     "text": [
      "I am outer fun\n"
     ]
    },
    {
     "ename": "NameError",
     "evalue": "name 'inner_fun' is not defined",
     "output_type": "error",
     "traceback": [
      "\u001b[1;31m---------------------------------------------------------------------------\u001b[0m",
      "\u001b[1;31mNameError\u001b[0m                                 Traceback (most recent call last)",
      "Input \u001b[1;32mIn [30]\u001b[0m, in \u001b[0;36m<cell line: 6>\u001b[1;34m()\u001b[0m\n\u001b[0;32m      4\u001b[0m         \u001b[38;5;28mprint\u001b[39m(\u001b[38;5;124m\"\u001b[39m\u001b[38;5;124mI am inner fun\u001b[39m\u001b[38;5;124m\"\u001b[39m)\n\u001b[0;32m      5\u001b[0m outer_fun()\n\u001b[1;32m----> 6\u001b[0m \u001b[43minner_fun\u001b[49m()\n",
      "\u001b[1;31mNameError\u001b[0m: name 'inner_fun' is not defined"
     ]
    }
   ],
   "source": [
    "def outer_fun():\n",
    "    print('I am outer fun')\n",
    "    def inner_fun():\n",
    "        print(\"I am inner fun\")\n",
    "outer_fun()\n",
    "inner_fun()#Name error\n",
    "\n",
    "# You can call inner_fun() only inside outer_fun();\n",
    "# It is not possible to call inner_fun outside outer_fun."
   ]
  },
  {
   "cell_type": "code",
   "execution_count": 33,
   "id": "3e20c721",
   "metadata": {},
   "outputs": [
    {
     "name": "stdout",
     "output_type": "stream",
     "text": [
      "I am outer fun\n",
      "I am inner fun\n",
      "I am inner fun\n",
      "I am inner fun\n"
     ]
    }
   ],
   "source": [
    "def outer_fun():\n",
    "    print('I am outer fun')\n",
    "    def inner_fun():\n",
    "        print(\"I am inner fun\")\n",
    "    inner_fun()\n",
    "    inner_fun()\n",
    "    inner_fun()\n",
    "outer_fun()      "
   ]
  },
  {
   "cell_type": "markdown",
   "id": "1eef3bef",
   "metadata": {},
   "source": [
    "# Function Returning Another Function:"
   ]
  },
  {
   "cell_type": "code",
   "execution_count": 1,
   "id": "d685e8ed",
   "metadata": {},
   "outputs": [
    {
     "name": "stdout",
     "output_type": "stream",
     "text": [
      "Hello Outer\n",
      ".............\n"
     ]
    },
    {
     "data": {
      "text/plain": [
       "<function __main__.outer.<locals>.inner()>"
      ]
     },
     "execution_count": 1,
     "metadata": {},
     "output_type": "execute_result"
    }
   ],
   "source": [
    "def outer():\n",
    "    print(\"Hello Outer\")\n",
    "    \n",
    "    def inner():\n",
    "        print(\"Hello Inner\")\n",
    "        \n",
    "    print(\".............\")\n",
    "    return inner\n",
    "outer()\n",
    " "
   ]
  },
  {
   "cell_type": "code",
   "execution_count": 3,
   "id": "996692be",
   "metadata": {},
   "outputs": [
    {
     "name": "stdout",
     "output_type": "stream",
     "text": [
      "Hello Outer\n",
      "............\n",
      "Hello Inner\n"
     ]
    }
   ],
   "source": [
    "def outer():\n",
    "    print(\"Hello Outer\")\n",
    "    \n",
    "    def inner():\n",
    "        print(\"Hello Inner\")\n",
    "    print('............') \n",
    "    return inner\n",
    "x=outer()     # By using this technique we can call inner function outside the outer function.\n",
    "x()            # returned inner stored in x."
   ]
  },
  {
   "cell_type": "code",
   "execution_count": 5,
   "id": "f152428e",
   "metadata": {},
   "outputs": [
    {
     "name": "stdout",
     "output_type": "stream",
     "text": [
      "Hello Outer\n",
      "............\n",
      "Hello Inner\n",
      "Hello Inner\n",
      "Hello Inner\n"
     ]
    }
   ],
   "source": [
    "def outer():\n",
    "    print(\"Hello Outer\")\n",
    "    \n",
    "    def inner():\n",
    "        print(\"Hello Inner\")\n",
    "    print('............') \n",
    "    return inner\n",
    "x=outer()\n",
    "x()\n",
    "x()\n",
    "x()\n",
    "\n",
    "#Conclusion: Inner function can be called inside the outer  function by inner() ; \n",
    "#for calling inner function outside it must be stored inside a variable;"
   ]
  },
  {
   "cell_type": "code",
   "execution_count": 1,
   "id": "eae6b4e9",
   "metadata": {},
   "outputs": [
    {
     "data": {
      "text/plain": [
       "<function __main__.x()>"
      ]
     },
     "execution_count": 1,
     "metadata": {},
     "output_type": "execute_result"
    }
   ],
   "source": [
    "def fun1(abc):\n",
    "    return abc\n",
    "def x():\n",
    "    print(\"Python.......\")\n",
    "fun1(x)    "
   ]
  },
  {
   "cell_type": "code",
   "execution_count": 2,
   "id": "d54ac6fb",
   "metadata": {},
   "outputs": [
    {
     "name": "stdout",
     "output_type": "stream",
     "text": [
      "Python........\n"
     ]
    }
   ],
   "source": [
    "def fun1(abc):\n",
    "    return abc\n",
    "def x():\n",
    "    print(\"Python........\")\n",
    "data=fun1(x)\n",
    "data()"
   ]
  },
  {
   "cell_type": "code",
   "execution_count": 5,
   "id": "fede8b5a",
   "metadata": {},
   "outputs": [
    {
     "name": "stdout",
     "output_type": "stream",
     "text": [
      "abc id is 1681063193472\n",
      "Data id is:  1681063193472\n",
      "x id is:  1681063193472\n",
      "Python......\n"
     ]
    }
   ],
   "source": [
    "def fun1(abc):\n",
    "    print(\"abc id is\",id(abc))\n",
    "    return abc\n",
    "\n",
    "def x():\n",
    "    print(\"x id is: \",id(x))\n",
    "    print(\"Python......\")\n",
    "    \n",
    "data=fun1(x)\n",
    "print(\"Data id is: \",id(data))\n",
    "data()\n",
    "    "
   ]
  },
  {
   "cell_type": "markdown",
   "id": "b9b1ec90",
   "metadata": {},
   "source": [
    "# Recursion"
   ]
  },
  {
   "cell_type": "code",
   "execution_count": null,
   "id": "ce69d273",
   "metadata": {},
   "outputs": [],
   "source": [
    "# Recursion:\n",
    "# if a function call itself then it is called as recursion.\n",
    "# Recursion must have base case i.e. termination condition and recursive steps.\n",
    "\n",
    "# Why will we solve recursion?\n",
    "# 1. To solve complex problem easily.\n",
    "# 2. To write less code/concise code.\n",
    "# 3. Recursion will increase the readability of the code.\n"
   ]
  },
  {
   "cell_type": "code",
   "execution_count": 6,
   "id": "19d259c3",
   "metadata": {},
   "outputs": [
    {
     "name": "stdout",
     "output_type": "stream",
     "text": [
      "1\n",
      "2\n",
      "3\n",
      "4\n",
      "5\n"
     ]
    }
   ],
   "source": [
    "# Print number from 1 to 5:\n",
    "for i in range(1,6):\n",
    "    print(i)"
   ]
  },
  {
   "cell_type": "code",
   "execution_count": 7,
   "id": "1b0aa47b",
   "metadata": {},
   "outputs": [
    {
     "name": "stdout",
     "output_type": "stream",
     "text": [
      "1\n",
      "2\n",
      "3\n",
      "4\n",
      "5\n"
     ]
    }
   ],
   "source": [
    "# Using Recursion:\n",
    "\n",
    "def fun(num):\n",
    "    if num==6:\n",
    "        return\n",
    "    else:\n",
    "        print(num)\n",
    "        fun(num+1)\n",
    "fun(1)        "
   ]
  },
  {
   "cell_type": "code",
   "execution_count": 10,
   "id": "d97cd0a8",
   "metadata": {},
   "outputs": [
    {
     "name": "stdout",
     "output_type": "stream",
     "text": [
      "1\n",
      "2\n",
      "3\n",
      "4\n",
      "5\n"
     ]
    }
   ],
   "source": [
    "# Print number from 1 to 5 using recursion .\n",
    "def fun(num):\n",
    "    if num==6:\n",
    "        return\n",
    "    else:\n",
    "        print(num)\n",
    "        fun(num+1)\n",
    "fun(1)        "
   ]
  },
  {
   "cell_type": "code",
   "execution_count": 11,
   "id": "255f8874",
   "metadata": {},
   "outputs": [
    {
     "name": "stdout",
     "output_type": "stream",
     "text": [
      "2\n",
      "1\n"
     ]
    }
   ],
   "source": [
    "def fun(num):\n",
    "    if num==3:\n",
    "        return\n",
    "    else:\n",
    "        fun(num+1)\n",
    "        print(num)\n",
    "fun(1)        "
   ]
  },
  {
   "cell_type": "markdown",
   "id": "d9f07057",
   "metadata": {},
   "source": [
    "# Star Pattern Programing using recursion:"
   ]
  },
  {
   "cell_type": "code",
   "execution_count": 8,
   "id": "ec061fa2",
   "metadata": {},
   "outputs": [
    {
     "name": "stdout",
     "output_type": "stream",
     "text": [
      "*\n",
      "**\n",
      "***\n",
      "****\n",
      "*****\n"
     ]
    }
   ],
   "source": [
    "def star(num):\n",
    "    print(\"*\"*num)\n",
    "    if num==5:\n",
    "        return\n",
    "    star(num+1)\n",
    "star(1)    "
   ]
  },
  {
   "cell_type": "code",
   "execution_count": 9,
   "id": "97d8f417",
   "metadata": {},
   "outputs": [
    {
     "name": "stdout",
     "output_type": "stream",
     "text": [
      "5\n",
      "4\n",
      "3\n",
      "2\n",
      "1\n"
     ]
    }
   ],
   "source": [
    "# 13/01/22:\n",
    "\n",
    "def fun(num):\n",
    "    if num==6:\n",
    "        return\n",
    "    else:\n",
    "        fun(num+1)\n",
    "        print(num)\n",
    "fun(1)       "
   ]
  },
  {
   "cell_type": "code",
   "execution_count": null,
   "id": "d1578241",
   "metadata": {},
   "outputs": [],
   "source": []
  },
  {
   "cell_type": "code",
   "execution_count": null,
   "id": "d076f67b",
   "metadata": {},
   "outputs": [],
   "source": []
  },
  {
   "cell_type": "code",
   "execution_count": 2,
   "id": "29e5df67",
   "metadata": {},
   "outputs": [
    {
     "name": "stdout",
     "output_type": "stream",
     "text": [
      "999\n",
      "888\n",
      "777\n",
      "666\n",
      "555\n"
     ]
    }
   ],
   "source": [
    "# 999 888 777 666 555 \n",
    "\n",
    "def fun(num):\n",
    "        if num==444:\n",
    "            return\n",
    "        else:\n",
    "            print(num)\n",
    "            fun(num-111)\n",
    "fun(999)            "
   ]
  },
  {
   "cell_type": "code",
   "execution_count": 4,
   "id": "a711ab95",
   "metadata": {},
   "outputs": [
    {
     "name": "stdout",
     "output_type": "stream",
     "text": [
      "0\n",
      "1\n",
      "0\n",
      "1\n",
      "0\n",
      "1\n"
     ]
    }
   ],
   "source": [
    "def fun(num):\n",
    "    if num > 5:\n",
    "        return\n",
    "    else:\n",
    "#         if num%2==0:\n",
    "            print(num%2)\n",
    "            fun(num+1)\n",
    "\n",
    "fun(0)        "
   ]
  },
  {
   "cell_type": "code",
   "execution_count": 15,
   "id": "7591f2e2",
   "metadata": {},
   "outputs": [
    {
     "name": "stdout",
     "output_type": "stream",
     "text": [
      "0\n",
      "1\n",
      "0\n",
      "1\n",
      "0\n",
      "1\n"
     ]
    }
   ],
   "source": [
    "for i in range(1,7):\n",
    "    if i%2==0:\n",
    "        print(\"1\")\n",
    "    else:\n",
    "        print(\"0\")"
   ]
  },
  {
   "cell_type": "code",
   "execution_count": 13,
   "id": "0fcb2d12",
   "metadata": {},
   "outputs": [
    {
     "name": "stdout",
     "output_type": "stream",
     "text": [
      "1\n",
      "2\n",
      "3\n",
      "Surendra\n",
      "4\n",
      "5\n",
      "6\n",
      "Rahul\n",
      "8\n",
      "9\n",
      "10\n"
     ]
    }
   ],
   "source": [
    "# 1\n",
    "# 2\n",
    "# 3\n",
    "# 4\n",
    "# surendra\n",
    "# 5\n",
    "# 6\n",
    "# 7\n",
    "# rahul\n",
    "# 8\n",
    "# 9\n",
    "# 10\n",
    "\n",
    "def fun(num):\n",
    "    if num==11:\n",
    "        return\n",
    "    if num==4:\n",
    "        print(\"Surendra\")\n",
    "    if num==7:\n",
    "        print(\"Rahul\")\n",
    "    else:\n",
    "        print(num)\n",
    "    fun(num+1)\n",
    "fun(1) "
   ]
  },
  {
   "cell_type": "code",
   "execution_count": 7,
   "id": "645cc959",
   "metadata": {},
   "outputs": [
    {
     "name": "stdout",
     "output_type": "stream",
     "text": [
      "1 * 1 = 1\n",
      "2 * 2 = 4\n",
      "3 * 3 = 9\n",
      "4 * 4 = 16\n"
     ]
    }
   ],
   "source": [
    "# 1 * 1 = 1\n",
    "# 2 * 2 = 4\n",
    "# 3 * 3 = 9\n",
    "# 4 * 4 = 16\n",
    "def fun(num):\n",
    "    if num==5:\n",
    "        return\n",
    "    else:\n",
    "        print(f'{num} * {num} = {num*num}')\n",
    "        fun(num+1)\n",
    "fun(1)        "
   ]
  },
  {
   "cell_type": "code",
   "execution_count": 12,
   "id": "64c466ee",
   "metadata": {},
   "outputs": [],
   "source": [
    "# 1 * 1 = 1\n",
    "# 2 * 2 = 4\n",
    "# 3 * 3 = 9\n",
    "# 4 * 4 = 16\n",
    "# 4 * 4 = 16\n",
    "# 3 * 3 = 9\n",
    "# 2 * 2 = 4\n",
    "# 1 * 1 = 1"
   ]
  },
  {
   "cell_type": "code",
   "execution_count": 17,
   "id": "24dddc48",
   "metadata": {},
   "outputs": [
    {
     "name": "stdout",
     "output_type": "stream",
     "text": [
      "5\n",
      "4\n",
      "3\n",
      "2\n",
      "1\n"
     ]
    }
   ],
   "source": [
    "\n",
    "def fun(num):\n",
    "    sum=0\n",
    "    if num==6:\n",
    "        return\n",
    "    else:\n",
    "        sum=sum+num\n",
    "        fun(num+1)\n",
    "    \n",
    "fun(1)        "
   ]
  },
  {
   "cell_type": "code",
   "execution_count": 2,
   "id": "605c9dc8",
   "metadata": {},
   "outputs": [
    {
     "name": "stdout",
     "output_type": "stream",
     "text": [
      "fun 1 2\n",
      "fun 2 200\n",
      "fun 1 6\n",
      "fun 2 400\n",
      "fun 1 10\n",
      "fun 2 600\n"
     ]
    }
   ],
   "source": [
    "def fun1(num):\n",
    "    if num<=6:\n",
    "        print(f'fun 1 {num*2}')\n",
    "        fun2(num+1)\n",
    "    return\n",
    "def fun2(num):\n",
    "    if num<=6:\n",
    "        print(f'fun 2 {num*100}')\n",
    "        fun1(num+1)\n",
    "    return\n",
    "fun1(1)"
   ]
  },
  {
   "cell_type": "code",
   "execution_count": 3,
   "id": "886c1a95",
   "metadata": {},
   "outputs": [
    {
     "name": "stdout",
     "output_type": "stream",
     "text": [
      "1\n",
      "2\n",
      "3\n",
      "4\n",
      "5\n"
     ]
    },
    {
     "ename": "TypeError",
     "evalue": "unsupported operand type(s) for +: 'int' and 'NoneType'",
     "output_type": "error",
     "traceback": [
      "\u001b[1;31m---------------------------------------------------------------------------\u001b[0m",
      "\u001b[1;31mTypeError\u001b[0m                                 Traceback (most recent call last)",
      "Input \u001b[1;32mIn [3]\u001b[0m, in \u001b[0;36m<cell line: 7>\u001b[1;34m()\u001b[0m\n\u001b[0;32m      5\u001b[0m         \u001b[38;5;28mprint\u001b[39m(num)\n\u001b[0;32m      6\u001b[0m         \u001b[38;5;28;01mreturn\u001b[39;00m \u001b[38;5;241m2\u001b[39m\u001b[38;5;241m+\u001b[39mfun(num\u001b[38;5;241m+\u001b[39m\u001b[38;5;241m1\u001b[39m)\n\u001b[1;32m----> 7\u001b[0m \u001b[43mfun\u001b[49m\u001b[43m(\u001b[49m\u001b[38;5;241;43m1\u001b[39;49m\u001b[43m)\u001b[49m\n",
      "Input \u001b[1;32mIn [3]\u001b[0m, in \u001b[0;36mfun\u001b[1;34m(num)\u001b[0m\n\u001b[0;32m      4\u001b[0m \u001b[38;5;28;01melse\u001b[39;00m:\n\u001b[0;32m      5\u001b[0m     \u001b[38;5;28mprint\u001b[39m(num)\n\u001b[1;32m----> 6\u001b[0m     \u001b[38;5;28;01mreturn\u001b[39;00m \u001b[38;5;241m2\u001b[39m\u001b[38;5;241m+\u001b[39m\u001b[43mfun\u001b[49m\u001b[43m(\u001b[49m\u001b[43mnum\u001b[49m\u001b[38;5;241;43m+\u001b[39;49m\u001b[38;5;241;43m1\u001b[39;49m\u001b[43m)\u001b[49m\n",
      "Input \u001b[1;32mIn [3]\u001b[0m, in \u001b[0;36mfun\u001b[1;34m(num)\u001b[0m\n\u001b[0;32m      4\u001b[0m \u001b[38;5;28;01melse\u001b[39;00m:\n\u001b[0;32m      5\u001b[0m     \u001b[38;5;28mprint\u001b[39m(num)\n\u001b[1;32m----> 6\u001b[0m     \u001b[38;5;28;01mreturn\u001b[39;00m \u001b[38;5;241m2\u001b[39m\u001b[38;5;241m+\u001b[39m\u001b[43mfun\u001b[49m\u001b[43m(\u001b[49m\u001b[43mnum\u001b[49m\u001b[38;5;241;43m+\u001b[39;49m\u001b[38;5;241;43m1\u001b[39;49m\u001b[43m)\u001b[49m\n",
      "    \u001b[1;31m[... skipping similar frames: fun at line 6 (2 times)]\u001b[0m\n",
      "Input \u001b[1;32mIn [3]\u001b[0m, in \u001b[0;36mfun\u001b[1;34m(num)\u001b[0m\n\u001b[0;32m      4\u001b[0m \u001b[38;5;28;01melse\u001b[39;00m:\n\u001b[0;32m      5\u001b[0m     \u001b[38;5;28mprint\u001b[39m(num)\n\u001b[1;32m----> 6\u001b[0m     \u001b[38;5;28;01mreturn\u001b[39;00m \u001b[38;5;241;43m2\u001b[39;49m\u001b[38;5;241;43m+\u001b[39;49m\u001b[43mfun\u001b[49m\u001b[43m(\u001b[49m\u001b[43mnum\u001b[49m\u001b[38;5;241;43m+\u001b[39;49m\u001b[38;5;241;43m1\u001b[39;49m\u001b[43m)\u001b[49m\n",
      "\u001b[1;31mTypeError\u001b[0m: unsupported operand type(s) for +: 'int' and 'NoneType'"
     ]
    }
   ],
   "source": [
    "def fun(num):\n",
    "    if num==6:\n",
    "        return\n",
    "    else:\n",
    "        print(num)\n",
    "        return 2+fun(num+1)\n",
    "fun(1)    "
   ]
  },
  {
   "cell_type": "markdown",
   "id": "61cc0b64",
   "metadata": {},
   "source": [
    "# Types Of Recursion:"
   ]
  },
  {
   "cell_type": "code",
   "execution_count": 4,
   "id": "e7902f59",
   "metadata": {},
   "outputs": [
    {
     "name": "stdout",
     "output_type": "stream",
     "text": [
      "1\n",
      "2\n",
      "3\n",
      "4\n",
      "5\n"
     ]
    }
   ],
   "source": [
    "# 1. Direct Recursion:\n",
    "# If a function calls the same function again, it is called as direct function.\n",
    "def fun(num):\n",
    "    if num==6:\n",
    "        return\n",
    "    else:\n",
    "        print(num)\n",
    "        fun(num+1)\n",
    "fun(1)        "
   ]
  },
  {
   "cell_type": "code",
   "execution_count": 5,
   "id": "4f4e5af1",
   "metadata": {},
   "outputs": [
    {
     "name": "stdout",
     "output_type": "stream",
     "text": [
      "fun1=2\n",
      "fun2=200\n",
      "fun1=6\n",
      "fun2=400\n",
      "fun1=10\n",
      "fun2=600\n"
     ]
    }
   ],
   "source": [
    "# 2.Indirect Recursion:\n",
    "# if we have two functions fun1 and fun2, and inside the body of fun1 we call fun2 and vice versa.\n",
    "# These two functions are indirectly recursive because they call each other.\n",
    "def fun1(num):\n",
    "    if num<=6:\n",
    "        print(f'fun1={num*2}')\n",
    "        fun2(num+1)\n",
    "        return\n",
    "def fun2(num):\n",
    "    if num<=6:\n",
    "        print(f\"fun2={num*100}\")\n",
    "        fun1(num+1)\n",
    "        return\n",
    "fun1(1)    "
   ]
  },
  {
   "cell_type": "code",
   "execution_count": 6,
   "id": "0150ee5d",
   "metadata": {},
   "outputs": [
    {
     "name": "stdout",
     "output_type": "stream",
     "text": [
      "1\n",
      "2\n",
      "3\n"
     ]
    }
   ],
   "source": [
    "# 3.Tail Recursion:\n",
    "# A function is said to be tail recursive if no operations are pending to be performed when the recursive function returns to its caller.\n",
    "# It is a recursive function in which the recursive call is the last statement that is executed by the functiion.\n",
    "# Note: Here there is no need to keep the activation record of the previous task.\n",
    "\n",
    "def fun(num):\n",
    "    if num==4:\n",
    "        return\n",
    "    else:\n",
    "        print(num)\n",
    "        fun(num+1)\n",
    "fun(1)        "
   ]
  },
  {
   "cell_type": "code",
   "execution_count": 8,
   "id": "6ae703f9",
   "metadata": {},
   "outputs": [
    {
     "name": "stdout",
     "output_type": "stream",
     "text": [
      "3\n",
      "2\n",
      "1\n"
     ]
    }
   ],
   "source": [
    "# 4.Non-Tail/Head Recursion:\n",
    "# A function is said to be non-tail recursive if some of the operations are pending to be performed when the recursive \n",
    "# function return to it's caller function.\n",
    "# After returning back from the call stavk there is some code left to be evaluated.\n",
    " \n",
    "#Note:\n",
    "# Here, there is a need to keep the activation record of the previous task.\n",
    "\n",
    "def fun(num):\n",
    "    if num==4:\n",
    "        return\n",
    "    else:\n",
    "        fun(num+1)\n",
    "        print(num)\n",
    "fun(1)        "
   ]
  },
  {
   "cell_type": "code",
   "execution_count": null,
   "id": "bb910b95",
   "metadata": {},
   "outputs": [],
   "source": []
  },
  {
   "cell_type": "code",
   "execution_count": null,
   "id": "9e3faf72",
   "metadata": {},
   "outputs": [],
   "source": []
  },
  {
   "cell_type": "code",
   "execution_count": null,
   "id": "bd532e01",
   "metadata": {},
   "outputs": [],
   "source": []
  },
  {
   "cell_type": "code",
   "execution_count": null,
   "id": "f426cfdb",
   "metadata": {},
   "outputs": [],
   "source": []
  },
  {
   "cell_type": "code",
   "execution_count": null,
   "id": "2a7f6a85",
   "metadata": {},
   "outputs": [],
   "source": []
  },
  {
   "cell_type": "code",
   "execution_count": null,
   "id": "7a09ac70",
   "metadata": {},
   "outputs": [],
   "source": []
  },
  {
   "cell_type": "code",
   "execution_count": null,
   "id": "4279d92d",
   "metadata": {},
   "outputs": [],
   "source": []
  },
  {
   "cell_type": "code",
   "execution_count": null,
   "id": "8413e909",
   "metadata": {},
   "outputs": [],
   "source": []
  },
  {
   "cell_type": "code",
   "execution_count": null,
   "id": "5cc7d504",
   "metadata": {},
   "outputs": [],
   "source": []
  },
  {
   "cell_type": "code",
   "execution_count": null,
   "id": "27123e90",
   "metadata": {},
   "outputs": [],
   "source": []
  },
  {
   "cell_type": "code",
   "execution_count": null,
   "id": "0517361b",
   "metadata": {},
   "outputs": [],
   "source": []
  },
  {
   "cell_type": "code",
   "execution_count": null,
   "id": "f371e26e",
   "metadata": {},
   "outputs": [],
   "source": []
  },
  {
   "cell_type": "code",
   "execution_count": null,
   "id": "720fc48c",
   "metadata": {},
   "outputs": [],
   "source": []
  },
  {
   "cell_type": "code",
   "execution_count": null,
   "id": "6539e160",
   "metadata": {},
   "outputs": [],
   "source": []
  },
  {
   "cell_type": "code",
   "execution_count": null,
   "id": "173562cf",
   "metadata": {},
   "outputs": [],
   "source": []
  },
  {
   "cell_type": "code",
   "execution_count": null,
   "id": "a94254c2",
   "metadata": {},
   "outputs": [],
   "source": []
  },
  {
   "cell_type": "code",
   "execution_count": null,
   "id": "9fa3393c",
   "metadata": {},
   "outputs": [],
   "source": []
  },
  {
   "cell_type": "code",
   "execution_count": null,
   "id": "40a6165e",
   "metadata": {},
   "outputs": [],
   "source": []
  },
  {
   "cell_type": "code",
   "execution_count": null,
   "id": "3ad8f206",
   "metadata": {},
   "outputs": [],
   "source": []
  },
  {
   "cell_type": "code",
   "execution_count": null,
   "id": "03a7dcdd",
   "metadata": {},
   "outputs": [],
   "source": []
  },
  {
   "cell_type": "code",
   "execution_count": null,
   "id": "1a5c62d5",
   "metadata": {},
   "outputs": [],
   "source": []
  },
  {
   "cell_type": "code",
   "execution_count": 1,
   "id": "8ee85ffb",
   "metadata": {},
   "outputs": [
    {
     "name": "stdout",
     "output_type": "stream",
     "text": [
      "[10, 12, 15, 18, 21, 27, 30]\n"
     ]
    }
   ],
   "source": [
    "data=filter(lambda num:num%2==0 or num%3==0,[10,12,15,18,21,23,27,30])\n",
    "print(list(data))"
   ]
  },
  {
   "cell_type": "code",
   "execution_count": 2,
   "id": "23d81473",
   "metadata": {},
   "outputs": [
    {
     "name": "stdout",
     "output_type": "stream",
     "text": [
      "2\n",
      "5\n",
      "14\n",
      "17\n"
     ]
    }
   ],
   "source": [
    "data=filter(lambda num:num>0,[2,-4,5,-8,-10,14,17,-19])\n",
    "for i in data:\n",
    "    print(i)"
   ]
  },
  {
   "cell_type": "code",
   "execution_count": null,
   "id": "f4ec51d9",
   "metadata": {},
   "outputs": [],
   "source": []
  },
  {
   "cell_type": "code",
   "execution_count": null,
   "id": "cd833bbb",
   "metadata": {},
   "outputs": [],
   "source": []
  },
  {
   "cell_type": "code",
   "execution_count": null,
   "id": "2a6bed5a",
   "metadata": {},
   "outputs": [],
   "source": []
  },
  {
   "cell_type": "code",
   "execution_count": null,
   "id": "28936b88",
   "metadata": {},
   "outputs": [],
   "source": []
  }
 ],
 "metadata": {
  "kernelspec": {
   "display_name": "Python 3 (ipykernel)",
   "language": "python",
   "name": "python3"
  },
  "language_info": {
   "codemirror_mode": {
    "name": "ipython",
    "version": 3
   },
   "file_extension": ".py",
   "mimetype": "text/x-python",
   "name": "python",
   "nbconvert_exporter": "python",
   "pygments_lexer": "ipython3",
   "version": "3.9.12"
  }
 },
 "nbformat": 4,
 "nbformat_minor": 5
}
