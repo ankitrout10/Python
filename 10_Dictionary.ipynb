{
 "cells": [
  {
   "cell_type": "code",
   "execution_count": 7,
   "id": "9003b250",
   "metadata": {},
   "outputs": [
    {
     "name": "stdout",
     "output_type": "stream",
     "text": [
      "{'name': 'surendra panda', 'email': 'surendra@gamil.com', 'mob': 9090102423, 'address': 'paradeep'}\n",
      "surendra panda\n"
     ]
    }
   ],
   "source": [
    "d={\n",
    "    'name':'surendra panda',\n",
    "    'email':'surendra@gamil.com',\n",
    "    'mob':9090102423,\n",
    "    'address':'paradeep'\n",
    "}\n",
    "print(d)\n",
    "print(d['name'])"
   ]
  },
  {
   "cell_type": "code",
   "execution_count": 8,
   "id": "f0a96381",
   "metadata": {},
   "outputs": [
    {
     "name": "stdout",
     "output_type": "stream",
     "text": [
      "{}\n",
      "<class 'dict'>\n"
     ]
    }
   ],
   "source": [
    "# 1.Creation of empty dictionary:\n",
    "d={}\n",
    "print(d)\n",
    "print(type(d))"
   ]
  },
  {
   "cell_type": "code",
   "execution_count": 1,
   "id": "bcd75c49",
   "metadata": {},
   "outputs": [
    {
     "name": "stdout",
     "output_type": "stream",
     "text": [
      "{}\n",
      "<class 'dict'>\n"
     ]
    }
   ],
   "source": [
    "# 2.Creation Of empty dictionary using dict():\n",
    "d = dict()\n",
    "print(d)\n",
    "print(type(d))\n"
   ]
  },
  {
   "cell_type": "code",
   "execution_count": 13,
   "id": "a67abb6a",
   "metadata": {},
   "outputs": [
    {
     "name": "stdout",
     "output_type": "stream",
     "text": [
      "{}\n",
      "{23: 'surendra', 24: 'priyanka', 25: 'rahul', 26: 'zini'}\n"
     ]
    }
   ],
   "source": [
    "# 3.Creation of empty dict and add items:\n",
    "d = {}\n",
    "print(d)\n",
    "\n",
    "d[23]='surendra'\n",
    "d[24]='priyanka'\n",
    "d[25]='rahul'\n",
    "d[26]='zini'\n",
    "print(d)"
   ]
  },
  {
   "cell_type": "code",
   "execution_count": 15,
   "id": "7062ce59",
   "metadata": {},
   "outputs": [
    {
     "name": "stdout",
     "output_type": "stream",
     "text": [
      "{23: 'surendra', 24: 'priyanka', 25: 'rahul', 26: 'zini'}\n"
     ]
    }
   ],
   "source": [
    "#4.Creation of dict directly:\n",
    "d = {23: 'surendra', 24: 'priyanka', 25: 'rahul', 26: 'zini'}\n",
    "print(d)"
   ]
  },
  {
   "cell_type": "code",
   "execution_count": 18,
   "id": "7f6a1077",
   "metadata": {},
   "outputs": [
    {
     "name": "stdout",
     "output_type": "stream",
     "text": [
      "surendra\n"
     ]
    },
    {
     "ename": "KeyError",
     "evalue": "28",
     "output_type": "error",
     "traceback": [
      "\u001b[1;31m---------------------------------------------------------------------------\u001b[0m",
      "\u001b[1;31mKeyError\u001b[0m                                  Traceback (most recent call last)",
      "Input \u001b[1;32mIn [18]\u001b[0m, in \u001b[0;36m<cell line: 6>\u001b[1;34m()\u001b[0m\n\u001b[0;32m      3\u001b[0m d \u001b[38;5;241m=\u001b[39m {\u001b[38;5;241m23\u001b[39m: \u001b[38;5;124m'\u001b[39m\u001b[38;5;124msurendra\u001b[39m\u001b[38;5;124m'\u001b[39m, \u001b[38;5;241m24\u001b[39m: \u001b[38;5;124m'\u001b[39m\u001b[38;5;124mpriyanka\u001b[39m\u001b[38;5;124m'\u001b[39m, \u001b[38;5;241m25\u001b[39m: \u001b[38;5;124m'\u001b[39m\u001b[38;5;124mrahul\u001b[39m\u001b[38;5;124m'\u001b[39m, \u001b[38;5;241m26\u001b[39m: \u001b[38;5;124m'\u001b[39m\u001b[38;5;124mzini\u001b[39m\u001b[38;5;124m'\u001b[39m}\n\u001b[0;32m      4\u001b[0m \u001b[38;5;28mprint\u001b[39m(d[\u001b[38;5;241m23\u001b[39m])\n\u001b[1;32m----> 6\u001b[0m \u001b[38;5;28mprint\u001b[39m(\u001b[43md\u001b[49m\u001b[43m[\u001b[49m\u001b[38;5;241;43m28\u001b[39;49m\u001b[43m]\u001b[49m)\n",
      "\u001b[1;31mKeyError\u001b[0m: 28"
     ]
    }
   ],
   "source": [
    "#Accessing the data:\n",
    "\n",
    "d = {23: 'surendra', 24: 'priyanka', 25: 'rahul', 26: 'zini'}\n",
    "print(d[23])\n",
    "\n",
    "print(d[28]) \n",
    " "
   ]
  },
  {
   "cell_type": "code",
   "execution_count": 19,
   "id": "b88f9823",
   "metadata": {},
   "outputs": [
    {
     "ename": "AttributeError",
     "evalue": "'dict' object has no attribute 'has_key'",
     "output_type": "error",
     "traceback": [
      "\u001b[1;31m---------------------------------------------------------------------------\u001b[0m",
      "\u001b[1;31mAttributeError\u001b[0m                            Traceback (most recent call last)",
      "Input \u001b[1;32mIn [19]\u001b[0m, in \u001b[0;36m<cell line: 6>\u001b[1;34m()\u001b[0m\n\u001b[0;32m      1\u001b[0m \u001b[38;5;66;03m# How to check a specified key exists or not?\u001b[39;00m\n\u001b[0;32m      2\u001b[0m \n\u001b[0;32m      3\u001b[0m \u001b[38;5;66;03m#by using has_key() method\u001b[39;00m\n\u001b[0;32m      5\u001b[0m d \u001b[38;5;241m=\u001b[39m {\u001b[38;5;241m23\u001b[39m: \u001b[38;5;124m'\u001b[39m\u001b[38;5;124msurendra\u001b[39m\u001b[38;5;124m'\u001b[39m, \u001b[38;5;241m24\u001b[39m: \u001b[38;5;124m'\u001b[39m\u001b[38;5;124mpriyanka\u001b[39m\u001b[38;5;124m'\u001b[39m, \u001b[38;5;241m25\u001b[39m: \u001b[38;5;124m'\u001b[39m\u001b[38;5;124mrahul\u001b[39m\u001b[38;5;124m'\u001b[39m, \u001b[38;5;241m26\u001b[39m: \u001b[38;5;124m'\u001b[39m\u001b[38;5;124mzini\u001b[39m\u001b[38;5;124m'\u001b[39m}\n\u001b[1;32m----> 6\u001b[0m \u001b[38;5;28mprint\u001b[39m(\u001b[43md\u001b[49m\u001b[38;5;241;43m.\u001b[39;49m\u001b[43mhas_key\u001b[49m(\u001b[38;5;241m23\u001b[39m))\n",
      "\u001b[1;31mAttributeError\u001b[0m: 'dict' object has no attribute 'has_key'"
     ]
    }
   ],
   "source": [
    "# How to check a specified key exists or not?\n",
    "\n",
    "#by using has_key() method\n",
    "\n",
    "d = {23: 'surendra', 24: 'priyanka', 25: 'rahul', 26: 'zini'}\n",
    "print(d.has_key(23))"
   ]
  },
  {
   "cell_type": "code",
   "execution_count": 20,
   "id": "e8766f6d",
   "metadata": {},
   "outputs": [
    {
     "name": "stdout",
     "output_type": "stream",
     "text": [
      "True\n"
     ]
    }
   ],
   "source": [
    "#Solution: Use in operator:\n",
    "\n",
    "d = {23: 'surendra', 24: 'priyanka', 25: 'rahul', 26: 'zini'}\n",
    "print(23 in d) "
   ]
  },
  {
   "cell_type": "code",
   "execution_count": 23,
   "id": "3235a93a",
   "metadata": {},
   "outputs": [
    {
     "ename": "SyntaxError",
     "evalue": "invalid non-printable character U+00A0 (3710549894.py, line 5)",
     "output_type": "error",
     "traceback": [
      "\u001b[1;36m  Input \u001b[1;32mIn [23]\u001b[1;36m\u001b[0m\n\u001b[1;33m    val = input('Enter the value : ')\u001b[0m\n\u001b[1;37m    ^\u001b[0m\n\u001b[1;31mSyntaxError\u001b[0m\u001b[1;31m:\u001b[0m invalid non-printable character U+00A0\n"
     ]
    }
   ],
   "source": [
    "#Create a dict. Dynamically by taking user input:\n",
    "d = {}\n",
    "while True:\n",
    "    key = input('Enter the key : ')\n",
    "    val = input('Enter the value : ')\n",
    "    d[key] = val\n",
    "    choice = input('Do you want to add more items [Y/N] :').lower()\n",
    "    if choice == 'n':\n",
    "        break\n",
    "print(d)\n"
   ]
  },
  {
   "cell_type": "code",
   "execution_count": null,
   "id": "6319685b",
   "metadata": {},
   "outputs": [],
   "source": []
  },
  {
   "cell_type": "code",
   "execution_count": null,
   "id": "d36cbfa0",
   "metadata": {},
   "outputs": [],
   "source": []
  },
  {
   "cell_type": "code",
   "execution_count": null,
   "id": "4f9571a9",
   "metadata": {},
   "outputs": [],
   "source": []
  },
  {
   "cell_type": "code",
   "execution_count": null,
   "id": "42a37db0",
   "metadata": {},
   "outputs": [],
   "source": []
  },
  {
   "cell_type": "code",
   "execution_count": null,
   "id": "1a9ec2ff",
   "metadata": {},
   "outputs": [],
   "source": []
  },
  {
   "cell_type": "code",
   "execution_count": null,
   "id": "459d9d6c",
   "metadata": {},
   "outputs": [],
   "source": []
  },
  {
   "cell_type": "code",
   "execution_count": null,
   "id": "9fba70a1",
   "metadata": {},
   "outputs": [],
   "source": []
  },
  {
   "cell_type": "code",
   "execution_count": null,
   "id": "a3b2479e",
   "metadata": {},
   "outputs": [],
   "source": []
  },
  {
   "cell_type": "code",
   "execution_count": null,
   "id": "4e250baf",
   "metadata": {},
   "outputs": [],
   "source": []
  },
  {
   "cell_type": "code",
   "execution_count": null,
   "id": "52c8b5e2",
   "metadata": {},
   "outputs": [],
   "source": []
  },
  {
   "cell_type": "code",
   "execution_count": null,
   "id": "852c79d4",
   "metadata": {},
   "outputs": [],
   "source": []
  },
  {
   "cell_type": "code",
   "execution_count": null,
   "id": "c1a8b285",
   "metadata": {},
   "outputs": [],
   "source": []
  },
  {
   "cell_type": "code",
   "execution_count": null,
   "id": "6d71e6e6",
   "metadata": {},
   "outputs": [],
   "source": []
  },
  {
   "cell_type": "code",
   "execution_count": null,
   "id": "029951ff",
   "metadata": {},
   "outputs": [],
   "source": []
  },
  {
   "cell_type": "code",
   "execution_count": null,
   "id": "d2d72500",
   "metadata": {},
   "outputs": [],
   "source": []
  },
  {
   "cell_type": "code",
   "execution_count": null,
   "id": "31b6774b",
   "metadata": {},
   "outputs": [],
   "source": []
  },
  {
   "cell_type": "code",
   "execution_count": null,
   "id": "5014ab67",
   "metadata": {},
   "outputs": [],
   "source": []
  },
  {
   "cell_type": "code",
   "execution_count": null,
   "id": "16e07ba1",
   "metadata": {},
   "outputs": [],
   "source": []
  },
  {
   "cell_type": "code",
   "execution_count": null,
   "id": "48b62a7d",
   "metadata": {},
   "outputs": [],
   "source": []
  },
  {
   "cell_type": "code",
   "execution_count": null,
   "id": "908205f3",
   "metadata": {},
   "outputs": [],
   "source": []
  },
  {
   "cell_type": "code",
   "execution_count": null,
   "id": "61a8ab0f",
   "metadata": {},
   "outputs": [],
   "source": []
  },
  {
   "cell_type": "code",
   "execution_count": null,
   "id": "67d089aa",
   "metadata": {},
   "outputs": [],
   "source": []
  },
  {
   "cell_type": "code",
   "execution_count": null,
   "id": "37fa0d17",
   "metadata": {},
   "outputs": [],
   "source": []
  },
  {
   "cell_type": "code",
   "execution_count": null,
   "id": "7f3efa5f",
   "metadata": {},
   "outputs": [],
   "source": []
  },
  {
   "cell_type": "code",
   "execution_count": null,
   "id": "56fa3266",
   "metadata": {},
   "outputs": [],
   "source": []
  },
  {
   "cell_type": "code",
   "execution_count": null,
   "id": "5e1fe42f",
   "metadata": {},
   "outputs": [],
   "source": []
  },
  {
   "cell_type": "code",
   "execution_count": null,
   "id": "c0875a85",
   "metadata": {},
   "outputs": [],
   "source": []
  },
  {
   "cell_type": "code",
   "execution_count": null,
   "id": "f825c4a0",
   "metadata": {},
   "outputs": [],
   "source": []
  },
  {
   "cell_type": "code",
   "execution_count": null,
   "id": "218f8b5c",
   "metadata": {},
   "outputs": [],
   "source": []
  },
  {
   "cell_type": "code",
   "execution_count": null,
   "id": "3d6eb431",
   "metadata": {},
   "outputs": [],
   "source": []
  },
  {
   "cell_type": "code",
   "execution_count": null,
   "id": "33265f99",
   "metadata": {},
   "outputs": [],
   "source": []
  },
  {
   "cell_type": "code",
   "execution_count": 1,
   "id": "df2df840",
   "metadata": {},
   "outputs": [
    {
     "name": "stdout",
     "output_type": "stream",
     "text": [
      "{'m': 2, 'a': 2}\n"
     ]
    }
   ],
   "source": [
    "# WAP to find the number of occurences of a character present in a string:\n",
    "s='mama'\n",
    "d={}\n",
    "for i in s:\n",
    "    d[i]=d.get(i,0)+1 #creating items and updation\n",
    "print(d)    "
   ]
  },
  {
   "cell_type": "code",
   "execution_count": 2,
   "id": "1bef7d58",
   "metadata": {},
   "outputs": [
    {
     "name": "stdout",
     "output_type": "stream",
     "text": [
      "{'m': 2, 'a': 2, 'i': 1, 'j': 1}\n"
     ]
    }
   ],
   "source": [
    "s='mamaij'\n",
    "d={}\n",
    "for i in s:\n",
    "    d[i]=d.get(i,0)+1 #creating items and updation\n",
    "print(d)    "
   ]
  },
  {
   "cell_type": "code",
   "execution_count": 2,
   "id": "c5e2d3c3",
   "metadata": {},
   "outputs": [
    {
     "name": "stdout",
     "output_type": "stream",
     "text": [
      "{'s': 2, ' ': 6, 'a': 2, 'b': 2, 'c': 2, '1': 3, '2': 2, '3': 2}\n",
      "s is present 2 times\n",
      "  is present 6 times\n",
      "a is present 2 times\n",
      "b is present 2 times\n",
      "c is present 2 times\n",
      "1 is present 3 times\n",
      "2 is present 2 times\n",
      "3 is present 2 times\n"
     ]
    }
   ],
   "source": [
    "s='ss aa bb cc 123 11 23'\n",
    "d={}\n",
    "for i in s:\n",
    "    d[i]=d.get(i,0)+1 #creating items and updation\n",
    "print(d)   \n",
    "for i,j in d.items():\n",
    "    print(f'{i} is present {j} times')"
   ]
  },
  {
   "cell_type": "code",
   "execution_count": null,
   "id": "362c7f4d",
   "metadata": {},
   "outputs": [
    {
     "name": "stdout",
     "output_type": "stream",
     "text": [
      "Enter Your Boyfriend name: Rahul\n",
      "Enter Your Girlfriend name: Zini\n",
      "Do you want to add more items[Y/N]: Y\n",
      "{'Rahul': 'Zini'}\n",
      "Enter Your Boyfriend name: Jack\n",
      "Enter Your Girlfriend name: Scoot\n",
      "Do you want to add more items[Y/N]: Y\n",
      "{'Rahul': 'Zini', 'Jack': 'Scoot'}\n",
      "Enter Your Boyfriend name: Ravi\n",
      "Enter Your Girlfriend name: Simran\n",
      "Do you want to add more items[Y/N]: N\n",
      "Enter Your Boyfriend name: back\n",
      "Enter Your Girlfriend name: hi\n",
      "Do you want to search more items[Y/N]: Y\n",
      "{'Rahul': 'Zini', 'Jack': 'Scoot', 'Ravi': 'Simran', 'back': 'hi'}\n"
     ]
    }
   ],
   "source": [
    "#WAP take boyfriend and girlfriend name as an input from the user and store them in dictionary.\n",
    "#Then enter Boyfriend name to know the Girlfriend name.\n",
    "\n",
    "d={}\n",
    "while True:\n",
    "    bf=input('Enter Your Boyfriend name: ')\n",
    "    gf=input('Enter Your Girlfriend name: ')\n",
    "    d[bf]=gf\n",
    "    choice = input('Do you want to add more items[Y/N]: ')\n",
    "    if choice =='N':\n",
    "        break\n",
    "while True:\n",
    "    bf=input('Enter Your Boyfriend name: ')\n",
    "    gf=input('Enter Your Girlfriend name: ')\n",
    "    d[bf]=gf\n",
    "    choice = input('Do you want to search more items[Y/N]: ')\n",
    "    if choice =='N':\n",
    "        break\n",
    "    print(d)\n",
    "        "
   ]
  },
  {
   "cell_type": "code",
   "execution_count": null,
   "id": "53bd39db",
   "metadata": {},
   "outputs": [],
   "source": []
  },
  {
   "cell_type": "code",
   "execution_count": null,
   "id": "9b3e2474",
   "metadata": {},
   "outputs": [],
   "source": []
  },
  {
   "cell_type": "code",
   "execution_count": null,
   "id": "3b7137de",
   "metadata": {},
   "outputs": [],
   "source": []
  },
  {
   "cell_type": "code",
   "execution_count": null,
   "id": "63c92ce0",
   "metadata": {},
   "outputs": [],
   "source": []
  },
  {
   "cell_type": "code",
   "execution_count": null,
   "id": "2735aaa3",
   "metadata": {},
   "outputs": [],
   "source": []
  },
  {
   "cell_type": "code",
   "execution_count": null,
   "id": "84a728b7",
   "metadata": {},
   "outputs": [],
   "source": []
  },
  {
   "cell_type": "code",
   "execution_count": null,
   "id": "f65938ce",
   "metadata": {},
   "outputs": [],
   "source": []
  },
  {
   "cell_type": "code",
   "execution_count": null,
   "id": "43d716de",
   "metadata": {},
   "outputs": [],
   "source": []
  },
  {
   "cell_type": "code",
   "execution_count": null,
   "id": "886f62b2",
   "metadata": {},
   "outputs": [],
   "source": []
  },
  {
   "cell_type": "code",
   "execution_count": null,
   "id": "941e97d3",
   "metadata": {},
   "outputs": [],
   "source": []
  },
  {
   "cell_type": "code",
   "execution_count": null,
   "id": "5fdc21ab",
   "metadata": {},
   "outputs": [],
   "source": []
  }
 ],
 "metadata": {
  "kernelspec": {
   "display_name": "Python 3 (ipykernel)",
   "language": "python",
   "name": "python3"
  },
  "language_info": {
   "codemirror_mode": {
    "name": "ipython",
    "version": 3
   },
   "file_extension": ".py",
   "mimetype": "text/x-python",
   "name": "python",
   "nbconvert_exporter": "python",
   "pygments_lexer": "ipython3",
   "version": "3.9.12"
  }
 },
 "nbformat": 4,
 "nbformat_minor": 5
}
