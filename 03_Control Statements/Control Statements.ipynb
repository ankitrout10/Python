{
 "cells": [
  {
   "cell_type": "markdown",
   "id": "fd6db438",
   "metadata": {},
   "source": [
    "# if\n",
    "#### it is used to check a condition\n",
    "#### it will check only true"
   ]
  },
  {
   "cell_type": "code",
   "execution_count": 1,
   "id": "f3de6683",
   "metadata": {},
   "outputs": [
    {
     "name": "stdout",
     "output_type": "stream",
     "text": [
      "num is greater than 5\n"
     ]
    }
   ],
   "source": [
    "num=10\n",
    "if num>5:\n",
    "    print(\"num is greater than 5\")"
   ]
  },
  {
   "cell_type": "code",
   "execution_count": 2,
   "id": "01da971e",
   "metadata": {},
   "outputs": [],
   "source": [
    "num=4\n",
    "if num>5:\n",
    "    print(\"num is greater than 5\")"
   ]
  },
  {
   "cell_type": "markdown",
   "id": "b5e9f076",
   "metadata": {},
   "source": [
    "num=int(input('enter a number'))\n",
    "if num.5:\n"
   ]
  },
  {
   "cell_type": "code",
   "execution_count": 4,
   "id": "2458c657",
   "metadata": {},
   "outputs": [
    {
     "name": "stdout",
     "output_type": "stream",
     "text": [
      "enter a number8\n",
      "num is greater than 5\n"
     ]
    }
   ],
   "source": [
    "num=int(input('enter a number'))\n",
    "if num>5:\n",
    "    print(\"num is greater than 5\")"
   ]
  },
  {
   "cell_type": "code",
   "execution_count": 6,
   "id": "b0219fda",
   "metadata": {},
   "outputs": [
    {
     "name": "stdout",
     "output_type": "stream",
     "text": [
      "enter a number:10\n",
      "num is greater than 5\n"
     ]
    }
   ],
   "source": [
    "num=int(input('enter a number:'))\n",
    "if num>5:\n",
    "    print(\"num is greater than 5\")"
   ]
  },
  {
   "cell_type": "markdown",
   "id": "70db2955",
   "metadata": {},
   "source": [
    "### IF-ELSE\n",
    "WE WILL CHECK CONDITION IN IF PART , IF THE CONDITION IS TRUE THEN IT WILL EXECUTE IF"
   ]
  },
  {
   "cell_type": "code",
   "execution_count": 8,
   "id": "f0eca588",
   "metadata": {},
   "outputs": [
    {
     "name": "stdout",
     "output_type": "stream",
     "text": [
      "enter a number:15\n",
      "Number is greater than 10\n"
     ]
    }
   ],
   "source": [
    "num=int(input('enter a number:'))\n",
    "if num>10:\n",
    "    print('Number is greater than 10')\n",
    "else:\n",
    "        print('Number is less than 10')"
   ]
  },
  {
   "cell_type": "markdown",
   "id": "6c25f423",
   "metadata": {},
   "source": []
  },
  {
   "cell_type": "code",
   "execution_count": 9,
   "id": "d705d03b",
   "metadata": {},
   "outputs": [
    {
     "name": "stdout",
     "output_type": "stream",
     "text": [
      "Enter a number:8\n",
      "Number is less than 10\n"
     ]
    }
   ],
   "source": [
    "num=int(input('Enter a number:'))\n",
    "if num>10:\n",
    "    print('Number is greater than 10')\n",
    "else:\n",
    "    print('Number is less than 10')\n",
    "    "
   ]
  },
  {
   "cell_type": "code",
   "execution_count": 10,
   "id": "9521955c",
   "metadata": {},
   "outputs": [
    {
     "name": "stdout",
     "output_type": "stream",
     "text": [
      "Enter a number:45\n",
      "Number is positive\n"
     ]
    }
   ],
   "source": [
    "#input a number and check that a number is positive or negative\n",
    "\n",
    "num=int(input('Enter a number:'))\n",
    "if num>0:\n",
    "    print('Number is positive')\n",
    "else:\n",
    "    print('Number is negative')"
   ]
  },
  {
   "cell_type": "code",
   "execution_count": 11,
   "id": "56a32a01",
   "metadata": {},
   "outputs": [
    {
     "name": "stdout",
     "output_type": "stream",
     "text": [
      "Enter a number:0\n",
      "Number is negative\n"
     ]
    }
   ],
   "source": [
    "#input a number and check that a number is positive or negative\n",
    "#problem with this code\n",
    "\n",
    "num=int(input('Enter a number:'))\n",
    "if num>0:\n",
    "    print('Number is positive')\n",
    "else:\n",
    "    print('Number is negative')\n",
    "    "
   ]
  },
  {
   "cell_type": "code",
   "execution_count": 12,
   "id": "769055e5",
   "metadata": {},
   "outputs": [
    {
     "name": "stdout",
     "output_type": "stream",
     "text": [
      "Enter a number:44\n",
      "Even Number\n"
     ]
    }
   ],
   "source": [
    "#input a number to check that number is even or odd\n",
    "num=int(input('Enter a number:'))\n",
    "if num%2==0:\n",
    "    print(\"Even Number\")\n",
    "else:\n",
    "    print(\"Odd Number\")\n",
    "    "
   ]
  },
  {
   "cell_type": "code",
   "execution_count": 14,
   "id": "9e382722",
   "metadata": {},
   "outputs": [
    {
     "name": "stdout",
     "output_type": "stream",
     "text": [
      "Enter Your Age:24\n",
      "U are eligible for donating blood\n"
     ]
    }
   ],
   "source": [
    "#check if u are eligible for donating blood or not.\n",
    "#cond:age should be grester than or equal to 18.\n",
    "age=int(input('Enter Your Age:'))\n",
    "if age>=18:\n",
    "    print('U are eligible for donating blood')\n",
    "else:\n",
    "    print('Sry!! U are not eligible')"
   ]
  },
  {
   "cell_type": "code",
   "execution_count": 15,
   "id": "40c8de94",
   "metadata": {},
   "outputs": [
    {
     "name": "stdout",
     "output_type": "stream",
     "text": [
      "Enter your age in years:14\n",
      "Enter your age in kg:48\n",
      "Sry!! u are not eligible\n"
     ]
    }
   ],
   "source": [
    "#check if u are eligible for donating blood or not\n",
    "#cond:age should be greater than or equal to 18 and wgt should be greater than or equal to 40.\n",
    "\n",
    "age=int(input('Enter your age in years:'))\n",
    "wgt=int(input('Enter your age in kg:'))\n",
    "if age>=18 and wgt>=40:\n",
    "    print(\"U are eligible for donating blood\")\n",
    "else:\n",
    "    print(\"Sry!! u are not eligible\")"
   ]
  },
  {
   "cell_type": "code",
   "execution_count": null,
   "id": "7370da54",
   "metadata": {},
   "outputs": [],
   "source": []
  },
  {
   "cell_type": "code",
   "execution_count": 1,
   "id": "8e1daf48",
   "metadata": {},
   "outputs": [
    {
     "name": "stdout",
     "output_type": "stream",
     "text": [
      "Enter the value of n:24\n",
      "Not Weired\n"
     ]
    }
   ],
   "source": [
    "n=int(input(\"Enter the value of n:\"))\n",
    "\n",
    "if n%2!=0:\n",
    "    print('Weird')\n",
    "\n",
    "if n%2==0 and 2<=n<=5:\n",
    "    print(\"Not Weired\")\n",
    "elif n%2==0 and 6<=n<=20:\n",
    "    print(\"Weired\")    \n",
    "elif n%2==0 and n>20:\n",
    "    print(\"Not Weired\")  "
   ]
  },
  {
   "cell_type": "code",
   "execution_count": 4,
   "id": "c6fbd2a3",
   "metadata": {},
   "outputs": [
    {
     "name": "stdout",
     "output_type": "stream",
     "text": [
      "Enter the value of n:4\n",
      "Not Weired\n"
     ]
    }
   ],
   "source": [
    "n=int(input(\"Enter the value of n:\"))\n",
    "\n",
    "if n%2!=0:\n",
    "    print('Weird')\n",
    "\n",
    "if n%2==0 and 2<=n<=5:\n",
    "    print(\"Not Weired\")\n",
    "elif n%2==0 and 6<=n<=20:\n",
    "    print(\"Weired\")    \n",
    "elif n%2==0 and n>20:\n",
    "    print(\"Not Weired\")  "
   ]
  },
  {
   "cell_type": "code",
   "execution_count": null,
   "id": "66dc80e5",
   "metadata": {},
   "outputs": [],
   "source": []
  },
  {
   "cell_type": "code",
   "execution_count": null,
   "id": "a8b529bc",
   "metadata": {},
   "outputs": [],
   "source": []
  },
  {
   "cell_type": "code",
   "execution_count": null,
   "id": "fe6e62db",
   "metadata": {},
   "outputs": [],
   "source": []
  }
 ],
 "metadata": {
  "kernelspec": {
   "display_name": "Python 3 (ipykernel)",
   "language": "python",
   "name": "python3"
  },
  "language_info": {
   "codemirror_mode": {
    "name": "ipython",
    "version": 3
   },
   "file_extension": ".py",
   "mimetype": "text/x-python",
   "name": "python",
   "nbconvert_exporter": "python",
   "pygments_lexer": "ipython3",
   "version": "3.9.12"
  }
 },
 "nbformat": 4,
 "nbformat_minor": 5
}
