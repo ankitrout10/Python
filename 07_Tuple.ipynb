{
 "cells": [
  {
   "cell_type": "markdown",
   "id": "ff1f655b",
   "metadata": {},
   "source": [
    "## Tuple Data Structure"
   ]
  },
  {
   "cell_type": "code",
   "execution_count": 1,
   "id": "537ac4bd",
   "metadata": {},
   "outputs": [
    {
     "name": "stdout",
     "output_type": "stream",
     "text": [
      "()\n",
      "<class 'tuple'>\n"
     ]
    }
   ],
   "source": [
    "#Creation of empty tuple:\n",
    "\n",
    "t=()\n",
    "print(t)\n",
    "print(type(t))"
   ]
  },
  {
   "cell_type": "code",
   "execution_count": 2,
   "id": "e12aaf79",
   "metadata": {},
   "outputs": [
    {
     "name": "stdout",
     "output_type": "stream",
     "text": [
      "23\n",
      "<class 'int'>\n"
     ]
    }
   ],
   "source": [
    "t=(23)\n",
    "print(t)\n",
    "print(type(t))"
   ]
  },
  {
   "cell_type": "code",
   "execution_count": 3,
   "id": "e6bff819",
   "metadata": {},
   "outputs": [
    {
     "name": "stdout",
     "output_type": "stream",
     "text": [
      "(23,)\n",
      "<class 'tuple'>\n"
     ]
    }
   ],
   "source": [
    "t=(23,)\n",
    "print(t)\n",
    "print(type(t))"
   ]
  },
  {
   "cell_type": "code",
   "execution_count": 1,
   "id": "2cdd55af",
   "metadata": {},
   "outputs": [
    {
     "name": "stdout",
     "output_type": "stream",
     "text": [
      "(23, 'surendra', 455.78, False)\n"
     ]
    }
   ],
   "source": [
    "# Creation of tuple with different data items\n",
    "t=(23,'surendra',455.78,False)\n",
    "print(t)"
   ]
  },
  {
   "cell_type": "code",
   "execution_count": 2,
   "id": "f53bb037",
   "metadata": {},
   "outputs": [
    {
     "name": "stdout",
     "output_type": "stream",
     "text": [
      "(10, 20, 30, 'surendra', 455, False)\n"
     ]
    }
   ],
   "source": [
    "# Creation of tuple without using ()\n",
    "t=10,20,30,'surendra',455,False\n",
    "print(t)"
   ]
  },
  {
   "cell_type": "code",
   "execution_count": 3,
   "id": "e23b9c01",
   "metadata": {},
   "outputs": [
    {
     "name": "stdout",
     "output_type": "stream",
     "text": [
      "(10, 20, 30, 40, 50)\n"
     ]
    }
   ],
   "source": [
    "# Creation of a Tuple from a list \n",
    "l=[10,20,30,40,50]\n",
    "t=tuple(l)\n",
    "print(t)"
   ]
  },
  {
   "cell_type": "code",
   "execution_count": 7,
   "id": "01bd77c4",
   "metadata": {},
   "outputs": [
    {
     "name": "stdout",
     "output_type": "stream",
     "text": [
      "23\n",
      "63\n"
     ]
    },
    {
     "ename": "IndexError",
     "evalue": "tuple index out of range",
     "output_type": "error",
     "traceback": [
      "\u001b[1;31m---------------------------------------------------------------------------\u001b[0m",
      "\u001b[1;31mIndexError\u001b[0m                                Traceback (most recent call last)",
      "Input \u001b[1;32mIn [7]\u001b[0m, in \u001b[0;36m<cell line: 7>\u001b[1;34m()\u001b[0m\n\u001b[0;32m      5\u001b[0m \u001b[38;5;28mprint\u001b[39m(t[\u001b[38;5;241m0\u001b[39m])\n\u001b[0;32m      6\u001b[0m \u001b[38;5;28mprint\u001b[39m(t[\u001b[38;5;241m4\u001b[39m])\n\u001b[1;32m----> 7\u001b[0m \u001b[38;5;28mprint\u001b[39m(\u001b[43mt\u001b[49m\u001b[43m[\u001b[49m\u001b[38;5;241;43m99\u001b[39;49m\u001b[43m]\u001b[49m)\n",
      "\u001b[1;31mIndexError\u001b[0m: tuple index out of range"
     ]
    }
   ],
   "source": [
    "# Accessing elements in a tuple();\n",
    "#1.Accessing by index:\n",
    "\n",
    "t=(23,33,43,53,63)\n",
    "print(t[0])\n",
    "print(t[4])\n",
    "print(t[99]) #tuple index out of range"
   ]
  },
  {
   "cell_type": "code",
   "execution_count": 10,
   "id": "85067fb3",
   "metadata": {},
   "outputs": [
    {
     "name": "stdout",
     "output_type": "stream",
     "text": [
      "(23, 33, 43, 53, 63)\n",
      "(23, 33)\n",
      "(23, 43, 63)\n"
     ]
    }
   ],
   "source": [
    "#2.Acessing by slice order:\n",
    "t=(23,33,43,53,63)\n",
    "print(t[::])\n",
    "print(t[:2])\n",
    "print(t[::2])"
   ]
  },
  {
   "cell_type": "code",
   "execution_count": 11,
   "id": "80bf2d26",
   "metadata": {},
   "outputs": [
    {
     "ename": "TypeError",
     "evalue": "'tuple' object does not support item assignment",
     "output_type": "error",
     "traceback": [
      "\u001b[1;31m---------------------------------------------------------------------------\u001b[0m",
      "\u001b[1;31mTypeError\u001b[0m                                 Traceback (most recent call last)",
      "Input \u001b[1;32mIn [11]\u001b[0m, in \u001b[0;36m<cell line: 4>\u001b[1;34m()\u001b[0m\n\u001b[0;32m      1\u001b[0m \u001b[38;5;66;03m# Tuple is immutable:\u001b[39;00m\n\u001b[0;32m      3\u001b[0m t\u001b[38;5;241m=\u001b[39m(\u001b[38;5;241m23\u001b[39m,\u001b[38;5;241m33\u001b[39m,\u001b[38;5;241m43\u001b[39m,\u001b[38;5;241m53\u001b[39m,\u001b[38;5;241m63\u001b[39m)\n\u001b[1;32m----> 4\u001b[0m t[\u001b[38;5;241m2\u001b[39m]\u001b[38;5;241m=\u001b[39m\u001b[38;5;241m789\u001b[39m\n",
      "\u001b[1;31mTypeError\u001b[0m: 'tuple' object does not support item assignment"
     ]
    }
   ],
   "source": [
    "# Tuple is immutable:\n",
    "\n",
    "t=(23,33,43,53,63)\n",
    "t[2]=789"
   ]
  },
  {
   "cell_type": "code",
   "execution_count": 12,
   "id": "9374987c",
   "metadata": {},
   "outputs": [
    {
     "name": "stdout",
     "output_type": "stream",
     "text": [
      "(23, 33, 43, 53, 63, 24, 34, 44, 54, 64, 25, 35, 45, 55, 65)\n"
     ]
    }
   ],
   "source": [
    "# 1. Concatenation Operation:\n",
    "\n",
    "t=(23,33,43,53,63)\n",
    "l=(24,34,44,54,64)\n",
    "s=(25,35,45,55,65)\n",
    "p=t+l+s\n",
    "print(p)"
   ]
  },
  {
   "cell_type": "code",
   "execution_count": 9,
   "id": "c81a3c1d",
   "metadata": {},
   "outputs": [
    {
     "name": "stdout",
     "output_type": "stream",
     "text": [
      "(23, 33, 43, 53, 63, 23, 33, 43, 53, 63, 23, 33, 43, 53, 63)\n"
     ]
    }
   ],
   "source": [
    "# 2.Repeatition Operator:\n",
    "t=(23,33,43,53,63)\n",
    "l=t*3\n",
    "print(l)"
   ]
  },
  {
   "cell_type": "code",
   "execution_count": 10,
   "id": "0a310b13",
   "metadata": {},
   "outputs": [
    {
     "name": "stdout",
     "output_type": "stream",
     "text": [
      "23\n",
      "33\n",
      "43\n",
      "53\n",
      "63\n"
     ]
    }
   ],
   "source": [
    "# Traversing Using For loop:\n",
    "t=(23,33,43,53,63)\n",
    "for i in t:\n",
    "    print(i)"
   ]
  },
  {
   "cell_type": "code",
   "execution_count": 12,
   "id": "a7b92656",
   "metadata": {},
   "outputs": [
    {
     "name": "stdout",
     "output_type": "stream",
     "text": [
      "23\n",
      "33\n",
      "43\n",
      "53\n",
      "63\n"
     ]
    }
   ],
   "source": [
    "# Traversing using While loop:\n",
    "t=(23,33,43,53,63)\n",
    "i=0\n",
    "while i<len(t):\n",
    "    print(t[i])\n",
    "    i=i+1"
   ]
  },
  {
   "cell_type": "code",
   "execution_count": 13,
   "id": "9f844352",
   "metadata": {},
   "outputs": [
    {
     "name": "stdout",
     "output_type": "stream",
     "text": [
      "4\n",
      "1\n"
     ]
    }
   ],
   "source": [
    "#Index()\n",
    "\n",
    "t=(23,33,43,53,63)\n",
    "print(t.index(63))\n",
    "print(t.index(33))"
   ]
  },
  {
   "cell_type": "code",
   "execution_count": 14,
   "id": "70725a1f",
   "metadata": {},
   "outputs": [
    {
     "name": "stdout",
     "output_type": "stream",
     "text": [
      "2\n"
     ]
    }
   ],
   "source": [
    "#Count()\n",
    "\n",
    "t=(23,33,43,53,63,33)\n",
    "print(t.count(33))"
   ]
  },
  {
   "cell_type": "code",
   "execution_count": 15,
   "id": "9b0273f9",
   "metadata": {},
   "outputs": [
    {
     "name": "stdout",
     "output_type": "stream",
     "text": [
      "5\n"
     ]
    }
   ],
   "source": [
    "# Len()\n",
    "t=(23,33,43,53,63)\n",
    "print(len(t))"
   ]
  },
  {
   "cell_type": "code",
   "execution_count": 16,
   "id": "d6607246",
   "metadata": {},
   "outputs": [
    {
     "name": "stdout",
     "output_type": "stream",
     "text": [
      "23\n"
     ]
    }
   ],
   "source": [
    "# Min()\n",
    "t=(23,33,43,53,63)\n",
    "print(min(t))"
   ]
  },
  {
   "cell_type": "code",
   "execution_count": 17,
   "id": "afdff322",
   "metadata": {},
   "outputs": [
    {
     "name": "stdout",
     "output_type": "stream",
     "text": [
      "63\n"
     ]
    }
   ],
   "source": [
    "# Max()\n",
    "t=(23,33,43,53,63)\n",
    "print(max(t))"
   ]
  },
  {
   "cell_type": "code",
   "execution_count": 18,
   "id": "ac81cfa7",
   "metadata": {},
   "outputs": [
    {
     "name": "stdout",
     "output_type": "stream",
     "text": [
      "[23, 33, 43, 53, 63]\n",
      "(23, 33, 43, 53, 63)\n"
     ]
    }
   ],
   "source": [
    "# Sorted()\n",
    "a=(23,33,43,53,63)\n",
    "b=sorted(a)\n",
    "print(b)\n",
    "print(tuple(b))"
   ]
  },
  {
   "cell_type": "code",
   "execution_count": 19,
   "id": "a3a4b8af",
   "metadata": {},
   "outputs": [
    {
     "name": "stdout",
     "output_type": "stream",
     "text": [
      "[63, 53, 43, 33, 23]\n"
     ]
    }
   ],
   "source": [
    "# Sort in Descending order:\n",
    "a=(23,33,43,53,63)\n",
    "b=sorted(a,reverse=True)\n",
    "print(b)"
   ]
  },
  {
   "cell_type": "code",
   "execution_count": 20,
   "id": "4fb96a33",
   "metadata": {},
   "outputs": [
    {
     "name": "stdout",
     "output_type": "stream",
     "text": [
      "(10, 20, 90, 70, 40, 60)\n"
     ]
    }
   ],
   "source": [
    "# Tuple Packing :\n",
    "a=10\n",
    "b=20\n",
    "c=90\n",
    "d=70\n",
    "e=40\n",
    "f=60\n",
    "t=a,b,c,d,e,f\n",
    "print(t)"
   ]
  },
  {
   "cell_type": "code",
   "execution_count": 5,
   "id": "d441d6c9",
   "metadata": {},
   "outputs": [
    {
     "name": "stdout",
     "output_type": "stream",
     "text": [
      "10 20 90 70\n"
     ]
    }
   ],
   "source": [
    "# Tuple Unpacking:\n",
    "t=(10,20,90,70)\n",
    "a,b,c,d=t \n",
    "print(a,b,c,d) \n"
   ]
  },
  {
   "cell_type": "code",
   "execution_count": 21,
   "id": "d851f579",
   "metadata": {},
   "outputs": [
    {
     "ename": "SyntaxError",
     "evalue": "'return' outside function (221887477.py, line 4)",
     "output_type": "error",
     "traceback": [
      "\u001b[1;36m  Input \u001b[1;32mIn [21]\u001b[1;36m\u001b[0m\n\u001b[1;33m    return(l[0],l[3],l[4])\u001b[0m\n\u001b[1;37m    ^\u001b[0m\n\u001b[1;31mSyntaxError\u001b[0m\u001b[1;31m:\u001b[0m 'return' outside function\n"
     ]
    }
   ],
   "source": [
    "# Tuple for returning multiple values:\n",
    "\n",
    "l=[10,20,30,40,50,60]\n",
    "return(l[0],l[3],l[4])\n",
    "t=fun()\n",
    "print(t)\n",
    "print(type(t))"
   ]
  },
  {
   "cell_type": "code",
   "execution_count": 22,
   "id": "ae5ffb9b",
   "metadata": {},
   "outputs": [
    {
     "name": "stdout",
     "output_type": "stream",
     "text": [
      "('Raghuvaran', 'Shyam', 14.7)\n",
      "Shyam\n",
      "45.7\n",
      "('Raghuvaran', 'Shyam', 14.7)\n",
      "('Govind', 'Navkishor', 45.7)\n"
     ]
    }
   ],
   "source": [
    "# Nested Tuple:\n",
    "t=(('Raghuvaran','Shyam',14.7),('Govind','Navkishor',45.7))\n",
    "print(t[0])\n",
    "print(t[0][1])\n",
    "print(t[1][2])\n",
    "for i in t:\n",
    "    print(i)"
   ]
  },
  {
   "cell_type": "code",
   "execution_count": 34,
   "id": "c843bca4",
   "metadata": {
    "scrolled": false
   },
   "outputs": [
    {
     "name": "stdout",
     "output_type": "stream",
     "text": [
      "Raghuvaran\n",
      "Shyam\n",
      "14.7\n",
      "(('Raghuvaran', 'Shyam', 14.7), ('Govind', 'Navkishor', 45.7))\n",
      "Govind\n",
      "Navkishor\n",
      "45.7\n",
      "(('Raghuvaran', 'Shyam', 14.7), ('Govind', 'Navkishor', 45.7))\n"
     ]
    }
   ],
   "source": [
    "#Task:\n",
    "\n",
    "t=(('Raghuvaran','Shyam',14.7),('Govind','Navkishor',45.7))\n",
    "for i in t:\n",
    "    for j in i:\n",
    "        print(j)\n",
    "    "
   ]
  },
  {
   "cell_type": "code",
   "execution_count": 1,
   "id": "bae46435",
   "metadata": {},
   "outputs": [
    {
     "name": "stdout",
     "output_type": "stream",
     "text": [
      "Raghuvaran\n",
      "Shyam\n",
      "14.7\n",
      "  \n",
      "Govind\n",
      "Navkishor\n",
      "45.7\n",
      "  \n"
     ]
    }
   ],
   "source": [
    "\n",
    "t=(('Raghuvaran','Shyam',14.7),('Govind','Navkishor',45.7))\n",
    "for i in t:\n",
    "    for j in i:\n",
    "        print(j)\n",
    "    print('')"
   ]
  },
  {
   "cell_type": "code",
   "execution_count": 1,
   "id": "002ee5ee",
   "metadata": {},
   "outputs": [
    {
     "name": "stdout",
     "output_type": "stream",
     "text": [
      "23\n",
      "surendra\n",
      "79.8\n",
      "\n",
      "23\n",
      "priyanka\n",
      "78.7\n",
      "\n"
     ]
    }
   ],
   "source": [
    "# Task:\n",
    "t=((23,'surendra',79.8), (23,'priyanka',78.7))\n",
    "for i in t:\n",
    "    for j in i:\n",
    "        print(j)\n",
    "    print('')    "
   ]
  },
  {
   "cell_type": "code",
   "execution_count": null,
   "id": "32c7fcfa",
   "metadata": {},
   "outputs": [],
   "source": []
  },
  {
   "cell_type": "code",
   "execution_count": null,
   "id": "dbe677aa",
   "metadata": {},
   "outputs": [],
   "source": []
  },
  {
   "cell_type": "code",
   "execution_count": null,
   "id": "3a819186",
   "metadata": {},
   "outputs": [],
   "source": []
  },
  {
   "cell_type": "code",
   "execution_count": null,
   "id": "3ded94b8",
   "metadata": {},
   "outputs": [],
   "source": []
  },
  {
   "cell_type": "code",
   "execution_count": null,
   "id": "48d63197",
   "metadata": {},
   "outputs": [],
   "source": []
  },
  {
   "cell_type": "code",
   "execution_count": null,
   "id": "897d44ae",
   "metadata": {},
   "outputs": [],
   "source": [
    "\n"
   ]
  },
  {
   "cell_type": "code",
   "execution_count": null,
   "id": "28322990",
   "metadata": {},
   "outputs": [],
   "source": []
  },
  {
   "cell_type": "code",
   "execution_count": null,
   "id": "e239e49d",
   "metadata": {},
   "outputs": [],
   "source": []
  },
  {
   "cell_type": "code",
   "execution_count": null,
   "id": "65edc312",
   "metadata": {},
   "outputs": [],
   "source": []
  },
  {
   "cell_type": "code",
   "execution_count": null,
   "id": "f65bc86b",
   "metadata": {},
   "outputs": [],
   "source": []
  },
  {
   "cell_type": "code",
   "execution_count": null,
   "id": "c30570ea",
   "metadata": {},
   "outputs": [],
   "source": []
  },
  {
   "cell_type": "code",
   "execution_count": null,
   "id": "8d1251da",
   "metadata": {},
   "outputs": [],
   "source": []
  },
  {
   "cell_type": "code",
   "execution_count": null,
   "id": "524dc1d5",
   "metadata": {},
   "outputs": [],
   "source": []
  },
  {
   "cell_type": "code",
   "execution_count": null,
   "id": "23abd07a",
   "metadata": {},
   "outputs": [],
   "source": []
  },
  {
   "cell_type": "code",
   "execution_count": null,
   "id": "72ab188c",
   "metadata": {},
   "outputs": [],
   "source": []
  },
  {
   "cell_type": "code",
   "execution_count": null,
   "id": "f8757f35",
   "metadata": {},
   "outputs": [],
   "source": []
  },
  {
   "cell_type": "code",
   "execution_count": null,
   "id": "2fb36eea",
   "metadata": {},
   "outputs": [],
   "source": []
  },
  {
   "cell_type": "code",
   "execution_count": null,
   "id": "4767c957",
   "metadata": {},
   "outputs": [],
   "source": []
  },
  {
   "cell_type": "code",
   "execution_count": null,
   "id": "4b4b93b8",
   "metadata": {},
   "outputs": [],
   "source": []
  },
  {
   "cell_type": "code",
   "execution_count": null,
   "id": "c7a2e49e",
   "metadata": {},
   "outputs": [],
   "source": []
  },
  {
   "cell_type": "code",
   "execution_count": null,
   "id": "92139c25",
   "metadata": {},
   "outputs": [],
   "source": []
  },
  {
   "cell_type": "code",
   "execution_count": null,
   "id": "b870822a",
   "metadata": {},
   "outputs": [],
   "source": []
  }
 ],
 "metadata": {
  "kernelspec": {
   "display_name": "Python 3 (ipykernel)",
   "language": "python",
   "name": "python3"
  },
  "language_info": {
   "codemirror_mode": {
    "name": "ipython",
    "version": 3
   },
   "file_extension": ".py",
   "mimetype": "text/x-python",
   "name": "python",
   "nbconvert_exporter": "python",
   "pygments_lexer": "ipython3",
   "version": "3.9.12"
  }
 },
 "nbformat": 4,
 "nbformat_minor": 5
}
